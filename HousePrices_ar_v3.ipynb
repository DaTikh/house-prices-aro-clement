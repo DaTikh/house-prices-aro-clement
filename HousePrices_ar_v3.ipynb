{
 "cells": [
  {
   "cell_type": "markdown",
   "metadata": {
    "toc": true
   },
   "source": [
    "<h1>Table of Contents<span class=\"tocSkip\"></span></h1>\n",
    "<div class=\"toc\"><ul class=\"toc-item\"><li><span><a href=\"#The-datasets\" data-toc-modified-id=\"The-datasets-1\"><span class=\"toc-item-num\">1&nbsp;&nbsp;</span>The datasets</a></span><ul class=\"toc-item\"><li><span><a href=\"#Train-full\" data-toc-modified-id=\"Train-full-1.1\"><span class=\"toc-item-num\">1.1&nbsp;&nbsp;</span>Train full</a></span><ul class=\"toc-item\"><li><span><a href=\"#Train-full-report-:-import-from-pandas_profiling\" data-toc-modified-id=\"Train-full-report-:-import-from-pandas_profiling-1.1.1\"><span class=\"toc-item-num\">1.1.1&nbsp;&nbsp;</span>Train full report : import from pandas_profiling</a></span></li></ul></li><li><span><a href=\"#Test\" data-toc-modified-id=\"Test-1.2\"><span class=\"toc-item-num\">1.2&nbsp;&nbsp;</span>Test</a></span><ul class=\"toc-item\"><li><span><a href=\"#Test-report-:-import-from-pandas_profiling\" data-toc-modified-id=\"Test-report-:-import-from-pandas_profiling-1.2.1\"><span class=\"toc-item-num\">1.2.1&nbsp;&nbsp;</span>Test report : import from pandas_profiling</a></span></li></ul></li></ul></li><li><span><a href=\"#Dataset-adjusted-:-v3\" data-toc-modified-id=\"Dataset-adjusted-:-v3-2\"><span class=\"toc-item-num\">2&nbsp;&nbsp;</span>Dataset adjusted : v3</a></span><ul class=\"toc-item\"><li><span><a href=\"#Train-full-v3\" data-toc-modified-id=\"Train-full-v3-2.1\"><span class=\"toc-item-num\">2.1&nbsp;&nbsp;</span>Train full v3</a></span></li><li><span><a href=\"#Outliers\" data-toc-modified-id=\"Outliers-2.2\"><span class=\"toc-item-num\">2.2&nbsp;&nbsp;</span>Outliers</a></span></li><li><span><a href=\"#Transformation-log\" data-toc-modified-id=\"Transformation-log-2.3\"><span class=\"toc-item-num\">2.3&nbsp;&nbsp;</span>Transformation log</a></span></li><li><span><a href=\"#Filling-missing-values\" data-toc-modified-id=\"Filling-missing-values-2.4\"><span class=\"toc-item-num\">2.4&nbsp;&nbsp;</span>Filling missing values</a></span></li><li><span><a href=\"#Categorical-values\" data-toc-modified-id=\"Categorical-values-2.5\"><span class=\"toc-item-num\">2.5&nbsp;&nbsp;</span>Categorical values</a></span></li><li><span><a href=\"#Recap\" data-toc-modified-id=\"Recap-2.6\"><span class=\"toc-item-num\">2.6&nbsp;&nbsp;</span>Recap</a></span></li><li><span><a href=\"#Checking-data-for-learning\" data-toc-modified-id=\"Checking-data-for-learning-2.7\"><span class=\"toc-item-num\">2.7&nbsp;&nbsp;</span>Checking data for learning</a></span></li></ul></li><li><span><a href=\"#Dataset-for-learning\" data-toc-modified-id=\"Dataset-for-learning-3\"><span class=\"toc-item-num\">3&nbsp;&nbsp;</span>Dataset for learning</a></span><ul class=\"toc-item\"><li><span><a href=\"#Train-full-&amp;-Test\" data-toc-modified-id=\"Train-full-&amp;-Test-3.1\"><span class=\"toc-item-num\">3.1&nbsp;&nbsp;</span>Train full &amp; Test</a></span></li><li><span><a href=\"#Train-full-splitted\" data-toc-modified-id=\"Train-full-splitted-3.2\"><span class=\"toc-item-num\">3.2&nbsp;&nbsp;</span>Train full splitted</a></span></li></ul></li><li><span><a href=\"#XGBoost-standard\" data-toc-modified-id=\"XGBoost-standard-4\"><span class=\"toc-item-num\">4&nbsp;&nbsp;</span>XGBoost standard</a></span><ul class=\"toc-item\"><li><span><a href=\"#Learning\" data-toc-modified-id=\"Learning-4.1\"><span class=\"toc-item-num\">4.1&nbsp;&nbsp;</span>Learning</a></span></li><li><span><a href=\"#Submission-to-Kaggle\" data-toc-modified-id=\"Submission-to-Kaggle-4.2\"><span class=\"toc-item-num\">4.2&nbsp;&nbsp;</span>Submission to Kaggle</a></span></li></ul></li><li><span><a href=\"#XGBoost-Optimized\" data-toc-modified-id=\"XGBoost-Optimized-5\"><span class=\"toc-item-num\">5&nbsp;&nbsp;</span>XGBoost Optimized</a></span><ul class=\"toc-item\"><li><span><a href=\"#learning\" data-toc-modified-id=\"learning-5.1\"><span class=\"toc-item-num\">5.1&nbsp;&nbsp;</span>learning</a></span></li><li><span><a href=\"#Submission-to-Kaggle\" data-toc-modified-id=\"Submission-to-Kaggle-5.2\"><span class=\"toc-item-num\">5.2&nbsp;&nbsp;</span>Submission to Kaggle</a></span></li></ul></li><li><span><a href=\"#XGBoost-Optimized-:-Dataset-Standardized,-GridSearch-with-Cv-In-Pipeline\" data-toc-modified-id=\"XGBoost-Optimized-:-Dataset-Standardized,-GridSearch-with-Cv-In-Pipeline-6\"><span class=\"toc-item-num\">6&nbsp;&nbsp;</span>XGBoost Optimized : Dataset Standardized, GridSearch with Cv In Pipeline</a></span><ul class=\"toc-item\"><li><span><a href=\"#Dataset\" data-toc-modified-id=\"Dataset-6.1\"><span class=\"toc-item-num\">6.1&nbsp;&nbsp;</span>Dataset</a></span></li><li><span><a href=\"#Model-optimized\" data-toc-modified-id=\"Model-optimized-6.2\"><span class=\"toc-item-num\">6.2&nbsp;&nbsp;</span>Model optimized</a></span></li><li><span><a href=\"#Submission-to-Kaggle\" data-toc-modified-id=\"Submission-to-Kaggle-6.3\"><span class=\"toc-item-num\">6.3&nbsp;&nbsp;</span>Submission to Kaggle</a></span></li><li><span><a href=\"#Save-model\" data-toc-modified-id=\"Save-model-6.4\"><span class=\"toc-item-num\">6.4&nbsp;&nbsp;</span>Save model</a></span></li></ul></li><li><span><a href=\"#XGBoost-Optimized-:-Isolation-forest\" data-toc-modified-id=\"XGBoost-Optimized-:-Isolation-forest-7\"><span class=\"toc-item-num\">7&nbsp;&nbsp;</span>XGBoost Optimized : Isolation forest</a></span><ul class=\"toc-item\"><li><span><a href=\"#Dataset\" data-toc-modified-id=\"Dataset-7.1\"><span class=\"toc-item-num\">7.1&nbsp;&nbsp;</span>Dataset</a></span></li><li><span><a href=\"#Isolation-forest-method\" data-toc-modified-id=\"Isolation-forest-method-7.2\"><span class=\"toc-item-num\">7.2&nbsp;&nbsp;</span>Isolation forest method</a></span></li><li><span><a href=\"#Model-optimized\" data-toc-modified-id=\"Model-optimized-7.3\"><span class=\"toc-item-num\">7.3&nbsp;&nbsp;</span>Model optimized</a></span></li><li><span><a href=\"#Submission-to-Kaggle\" data-toc-modified-id=\"Submission-to-Kaggle-7.4\"><span class=\"toc-item-num\">7.4&nbsp;&nbsp;</span>Submission to Kaggle</a></span></li></ul></li><li><span><a href=\"#XGBoost-Optimized-combined-with-Lasso-model\" data-toc-modified-id=\"XGBoost-Optimized-combined-with-Lasso-model-8\"><span class=\"toc-item-num\">8&nbsp;&nbsp;</span>XGBoost Optimized combined with Lasso model</a></span><ul class=\"toc-item\"><li><span><a href=\"#Dataset\" data-toc-modified-id=\"Dataset-8.1\"><span class=\"toc-item-num\">8.1&nbsp;&nbsp;</span>Dataset</a></span></li><li><span><a href=\"#Model-Optimized\" data-toc-modified-id=\"Model-Optimized-8.2\"><span class=\"toc-item-num\">8.2&nbsp;&nbsp;</span>Model Optimized</a></span></li><li><span><a href=\"#Submission-to-Kaggle\" data-toc-modified-id=\"Submission-to-Kaggle-8.3\"><span class=\"toc-item-num\">8.3&nbsp;&nbsp;</span>Submission to Kaggle</a></span></li></ul></li><li><span><a href=\"#XGBoost-with-a-PCA\" data-toc-modified-id=\"XGBoost-with-a-PCA-9\"><span class=\"toc-item-num\">9&nbsp;&nbsp;</span>XGBoost with a PCA</a></span><ul class=\"toc-item\"><li><span><a href=\"#Learning\" data-toc-modified-id=\"Learning-9.1\"><span class=\"toc-item-num\">9.1&nbsp;&nbsp;</span>Learning</a></span></li><li><span><a href=\"#Submission-on-Kaggle\" data-toc-modified-id=\"Submission-on-Kaggle-9.2\"><span class=\"toc-item-num\">9.2&nbsp;&nbsp;</span>Submission on Kaggle</a></span></li></ul></li><li><span><a href=\"#KERAS\" data-toc-modified-id=\"KERAS-10\"><span class=\"toc-item-num\">10&nbsp;&nbsp;</span>KERAS</a></span><ul class=\"toc-item\"><li><span><a href=\"#Learning\" data-toc-modified-id=\"Learning-10.1\"><span class=\"toc-item-num\">10.1&nbsp;&nbsp;</span>Learning</a></span><ul class=\"toc-item\"><li><span><a href=\"#Test-NN-with-no-hidden-layers\" data-toc-modified-id=\"Test-NN-with-no-hidden-layers-10.1.1\"><span class=\"toc-item-num\">10.1.1&nbsp;&nbsp;</span>Test NN with no hidden layers</a></span></li><li><span><a href=\"#Test-NN-with-several-Hidden-Layers\" data-toc-modified-id=\"Test-NN-with-several-Hidden-Layers-10.1.2\"><span class=\"toc-item-num\">10.1.2&nbsp;&nbsp;</span>Test NN with several Hidden Layers</a></span></li></ul></li><li><span><a href=\"#Hyperparameter-Tuning\" data-toc-modified-id=\"Hyperparameter-Tuning-10.2\"><span class=\"toc-item-num\">10.2&nbsp;&nbsp;</span>Hyperparameter Tuning</a></span></li><li><span><a href=\"#Submission-to-Kaggle\" data-toc-modified-id=\"Submission-to-Kaggle-10.3\"><span class=\"toc-item-num\">10.3&nbsp;&nbsp;</span>Submission to Kaggle</a></span></li></ul></li><li><span><a href=\"#Lasso-model-as-a-reference\" data-toc-modified-id=\"Lasso-model-as-a-reference-11\"><span class=\"toc-item-num\">11&nbsp;&nbsp;</span>Lasso model as a reference</a></span></li></ul></div>"
   ]
  },
  {
   "cell_type": "code",
   "execution_count": 1,
   "metadata": {
    "ExecuteTime": {
     "end_time": "2019-12-09T23:42:33.987113Z",
     "start_time": "2019-12-09T23:42:33.534071Z"
    }
   },
   "outputs": [],
   "source": [
    "import numpy as np\n",
    "import pandas as pd\n",
    "from pandas import read_csv\n",
    "\n",
    "import matplotlib.pyplot as plt"
   ]
  },
  {
   "cell_type": "code",
   "execution_count": 2,
   "metadata": {},
   "outputs": [],
   "source": [
    "from numpy import random as np_random\n",
    "np_random.seed(42)"
   ]
  },
  {
   "cell_type": "markdown",
   "metadata": {},
   "source": [
    "#  The datasets"
   ]
  },
  {
   "cell_type": "markdown",
   "metadata": {},
   "source": [
    "## Train full"
   ]
  },
  {
   "cell_type": "code",
   "execution_count": 3,
   "metadata": {
    "ExecuteTime": {
     "end_time": "2019-12-09T23:42:34.044136Z",
     "start_time": "2019-12-09T23:42:33.989540Z"
    }
   },
   "outputs": [],
   "source": [
    "data = read_csv('data/train.csv')"
   ]
  },
  {
   "cell_type": "code",
   "execution_count": 4,
   "metadata": {
    "ExecuteTime": {
     "end_time": "2019-12-09T23:42:34.071741Z",
     "start_time": "2019-12-09T23:42:34.046843Z"
    }
   },
   "outputs": [
    {
     "name": "stdout",
     "output_type": "stream",
     "text": [
      "<class 'pandas.core.frame.DataFrame'>\n",
      "RangeIndex: 1460 entries, 0 to 1459\n",
      "Data columns (total 81 columns):\n",
      "Id               1460 non-null int64\n",
      "MSSubClass       1460 non-null int64\n",
      "MSZoning         1460 non-null object\n",
      "LotFrontage      1201 non-null float64\n",
      "LotArea          1460 non-null int64\n",
      "Street           1460 non-null object\n",
      "Alley            91 non-null object\n",
      "LotShape         1460 non-null object\n",
      "LandContour      1460 non-null object\n",
      "Utilities        1460 non-null object\n",
      "LotConfig        1460 non-null object\n",
      "LandSlope        1460 non-null object\n",
      "Neighborhood     1460 non-null object\n",
      "Condition1       1460 non-null object\n",
      "Condition2       1460 non-null object\n",
      "BldgType         1460 non-null object\n",
      "HouseStyle       1460 non-null object\n",
      "OverallQual      1460 non-null int64\n",
      "OverallCond      1460 non-null int64\n",
      "YearBuilt        1460 non-null int64\n",
      "YearRemodAdd     1460 non-null int64\n",
      "RoofStyle        1460 non-null object\n",
      "RoofMatl         1460 non-null object\n",
      "Exterior1st      1460 non-null object\n",
      "Exterior2nd      1460 non-null object\n",
      "MasVnrType       1452 non-null object\n",
      "MasVnrArea       1452 non-null float64\n",
      "ExterQual        1460 non-null object\n",
      "ExterCond        1460 non-null object\n",
      "Foundation       1460 non-null object\n",
      "BsmtQual         1423 non-null object\n",
      "BsmtCond         1423 non-null object\n",
      "BsmtExposure     1422 non-null object\n",
      "BsmtFinType1     1423 non-null object\n",
      "BsmtFinSF1       1460 non-null int64\n",
      "BsmtFinType2     1422 non-null object\n",
      "BsmtFinSF2       1460 non-null int64\n",
      "BsmtUnfSF        1460 non-null int64\n",
      "TotalBsmtSF      1460 non-null int64\n",
      "Heating          1460 non-null object\n",
      "HeatingQC        1460 non-null object\n",
      "CentralAir       1460 non-null object\n",
      "Electrical       1459 non-null object\n",
      "1stFlrSF         1460 non-null int64\n",
      "2ndFlrSF         1460 non-null int64\n",
      "LowQualFinSF     1460 non-null int64\n",
      "GrLivArea        1460 non-null int64\n",
      "BsmtFullBath     1460 non-null int64\n",
      "BsmtHalfBath     1460 non-null int64\n",
      "FullBath         1460 non-null int64\n",
      "HalfBath         1460 non-null int64\n",
      "BedroomAbvGr     1460 non-null int64\n",
      "KitchenAbvGr     1460 non-null int64\n",
      "KitchenQual      1460 non-null object\n",
      "TotRmsAbvGrd     1460 non-null int64\n",
      "Functional       1460 non-null object\n",
      "Fireplaces       1460 non-null int64\n",
      "FireplaceQu      770 non-null object\n",
      "GarageType       1379 non-null object\n",
      "GarageYrBlt      1379 non-null float64\n",
      "GarageFinish     1379 non-null object\n",
      "GarageCars       1460 non-null int64\n",
      "GarageArea       1460 non-null int64\n",
      "GarageQual       1379 non-null object\n",
      "GarageCond       1379 non-null object\n",
      "PavedDrive       1460 non-null object\n",
      "WoodDeckSF       1460 non-null int64\n",
      "OpenPorchSF      1460 non-null int64\n",
      "EnclosedPorch    1460 non-null int64\n",
      "3SsnPorch        1460 non-null int64\n",
      "ScreenPorch      1460 non-null int64\n",
      "PoolArea         1460 non-null int64\n",
      "PoolQC           7 non-null object\n",
      "Fence            281 non-null object\n",
      "MiscFeature      54 non-null object\n",
      "MiscVal          1460 non-null int64\n",
      "MoSold           1460 non-null int64\n",
      "YrSold           1460 non-null int64\n",
      "SaleType         1460 non-null object\n",
      "SaleCondition    1460 non-null object\n",
      "SalePrice        1460 non-null int64\n",
      "dtypes: float64(3), int64(35), object(43)\n",
      "memory usage: 924.0+ KB\n"
     ]
    }
   ],
   "source": [
    "df_train_full = data.copy()\n",
    "df_train_full.info()"
   ]
  },
  {
   "cell_type": "markdown",
   "metadata": {},
   "source": [
    "### Train full report : import from pandas_profiling"
   ]
  },
  {
   "cell_type": "code",
   "execution_count": 5,
   "metadata": {
    "ExecuteTime": {
     "end_time": "2019-12-09T23:42:34.076216Z",
     "start_time": "2019-12-09T23:42:34.073932Z"
    }
   },
   "outputs": [],
   "source": [
    "#import pandas_profiling\n",
    "# To diplay report in a html file\n",
    "# To run once and then read the output file when you want\n",
    "#ReportFullTrain = df_train_full.profile_report(title='Train full Profiling Report')\n",
    "#ReportFullTrain.to_file(output_file=\"HP-train-full-Report.html\")"
   ]
  },
  {
   "cell_type": "markdown",
   "metadata": {},
   "source": [
    "## Test"
   ]
  },
  {
   "cell_type": "code",
   "execution_count": 6,
   "metadata": {
    "ExecuteTime": {
     "end_time": "2019-12-09T23:42:34.158832Z",
     "start_time": "2019-12-09T23:42:34.079438Z"
    }
   },
   "outputs": [
    {
     "name": "stdout",
     "output_type": "stream",
     "text": [
      "<class 'pandas.core.frame.DataFrame'>\n",
      "RangeIndex: 1459 entries, 0 to 1458\n",
      "Data columns (total 80 columns):\n",
      "Id               1459 non-null int64\n",
      "MSSubClass       1459 non-null int64\n",
      "MSZoning         1455 non-null object\n",
      "LotFrontage      1232 non-null float64\n",
      "LotArea          1459 non-null int64\n",
      "Street           1459 non-null object\n",
      "Alley            107 non-null object\n",
      "LotShape         1459 non-null object\n",
      "LandContour      1459 non-null object\n",
      "Utilities        1457 non-null object\n",
      "LotConfig        1459 non-null object\n",
      "LandSlope        1459 non-null object\n",
      "Neighborhood     1459 non-null object\n",
      "Condition1       1459 non-null object\n",
      "Condition2       1459 non-null object\n",
      "BldgType         1459 non-null object\n",
      "HouseStyle       1459 non-null object\n",
      "OverallQual      1459 non-null int64\n",
      "OverallCond      1459 non-null int64\n",
      "YearBuilt        1459 non-null int64\n",
      "YearRemodAdd     1459 non-null int64\n",
      "RoofStyle        1459 non-null object\n",
      "RoofMatl         1459 non-null object\n",
      "Exterior1st      1458 non-null object\n",
      "Exterior2nd      1458 non-null object\n",
      "MasVnrType       1443 non-null object\n",
      "MasVnrArea       1444 non-null float64\n",
      "ExterQual        1459 non-null object\n",
      "ExterCond        1459 non-null object\n",
      "Foundation       1459 non-null object\n",
      "BsmtQual         1415 non-null object\n",
      "BsmtCond         1414 non-null object\n",
      "BsmtExposure     1415 non-null object\n",
      "BsmtFinType1     1417 non-null object\n",
      "BsmtFinSF1       1458 non-null float64\n",
      "BsmtFinType2     1417 non-null object\n",
      "BsmtFinSF2       1458 non-null float64\n",
      "BsmtUnfSF        1458 non-null float64\n",
      "TotalBsmtSF      1458 non-null float64\n",
      "Heating          1459 non-null object\n",
      "HeatingQC        1459 non-null object\n",
      "CentralAir       1459 non-null object\n",
      "Electrical       1459 non-null object\n",
      "1stFlrSF         1459 non-null int64\n",
      "2ndFlrSF         1459 non-null int64\n",
      "LowQualFinSF     1459 non-null int64\n",
      "GrLivArea        1459 non-null int64\n",
      "BsmtFullBath     1457 non-null float64\n",
      "BsmtHalfBath     1457 non-null float64\n",
      "FullBath         1459 non-null int64\n",
      "HalfBath         1459 non-null int64\n",
      "BedroomAbvGr     1459 non-null int64\n",
      "KitchenAbvGr     1459 non-null int64\n",
      "KitchenQual      1458 non-null object\n",
      "TotRmsAbvGrd     1459 non-null int64\n",
      "Functional       1457 non-null object\n",
      "Fireplaces       1459 non-null int64\n",
      "FireplaceQu      729 non-null object\n",
      "GarageType       1383 non-null object\n",
      "GarageYrBlt      1381 non-null float64\n",
      "GarageFinish     1381 non-null object\n",
      "GarageCars       1458 non-null float64\n",
      "GarageArea       1458 non-null float64\n",
      "GarageQual       1381 non-null object\n",
      "GarageCond       1381 non-null object\n",
      "PavedDrive       1459 non-null object\n",
      "WoodDeckSF       1459 non-null int64\n",
      "OpenPorchSF      1459 non-null int64\n",
      "EnclosedPorch    1459 non-null int64\n",
      "3SsnPorch        1459 non-null int64\n",
      "ScreenPorch      1459 non-null int64\n",
      "PoolArea         1459 non-null int64\n",
      "PoolQC           3 non-null object\n",
      "Fence            290 non-null object\n",
      "MiscFeature      51 non-null object\n",
      "MiscVal          1459 non-null int64\n",
      "MoSold           1459 non-null int64\n",
      "YrSold           1459 non-null int64\n",
      "SaleType         1458 non-null object\n",
      "SaleCondition    1459 non-null object\n",
      "dtypes: float64(11), int64(26), object(43)\n",
      "memory usage: 912.0+ KB\n"
     ]
    }
   ],
   "source": [
    "data = read_csv('data/test.csv')\n",
    "df_test = data.copy()\n",
    "df_test.info()"
   ]
  },
  {
   "cell_type": "markdown",
   "metadata": {},
   "source": [
    "### Test report : import from pandas_profiling"
   ]
  },
  {
   "cell_type": "code",
   "execution_count": 7,
   "metadata": {
    "ExecuteTime": {
     "end_time": "2019-12-09T23:42:34.163367Z",
     "start_time": "2019-12-09T23:42:34.160911Z"
    }
   },
   "outputs": [],
   "source": [
    "#import pandas_profiling\n",
    "# To diplay report in a html file\n",
    "# To run once and then read the output file when you want\n",
    "#ReportTest = df_test.profile_report(title='Test Profiling Report')\n",
    "#ReportTest.to_file(output_file=\"HP-Test-Report.html\")"
   ]
  },
  {
   "cell_type": "markdown",
   "metadata": {},
   "source": [
    "# Dataset adjusted : v3"
   ]
  },
  {
   "cell_type": "markdown",
   "metadata": {},
   "source": [
    "## Train full v3"
   ]
  },
  {
   "cell_type": "code",
   "execution_count": 8,
   "metadata": {},
   "outputs": [],
   "source": [
    "X_train_full =df_train_full.copy()"
   ]
  },
  {
   "cell_type": "code",
   "execution_count": 9,
   "metadata": {},
   "outputs": [],
   "source": [
    "X_train_numeric=X_train_full.select_dtypes(include=[np.number]) #selecting the data asociate with the numerical variables\n",
    "X_train_categorical=X_train_full.select_dtypes(exclude=[np.number]) #selecting the data asociate with the categorical variables"
   ]
  },
  {
   "cell_type": "code",
   "execution_count": 10,
   "metadata": {},
   "outputs": [
    {
     "data": {
      "text/plain": [
       "<matplotlib.axes._subplots.AxesSubplot at 0x109d574d0>"
      ]
     },
     "execution_count": 10,
     "metadata": {},
     "output_type": "execute_result"
    },
    {
     "data": {
      "image/png": "[encoded data removed]",
      "text/plain": [
       "<Figure size 432x288 with 1 Axes>"
      ]
     },
     "metadata": {
      "needs_background": "light"
     },
     "output_type": "display_data"
    }
   ],
   "source": [
    "y_train_v3 = X_train_full['SalePrice'].copy()\n",
    "y_train_v3.hist()"
   ]
  },
  {
   "cell_type": "code",
   "execution_count": 11,
   "metadata": {},
   "outputs": [],
   "source": [
    "X_train_v3 = X_train_full.drop(['Id','SalePrice'], axis =1)"
   ]
  },
  {
   "cell_type": "code",
   "execution_count": 12,
   "metadata": {},
   "outputs": [
    {
     "name": "stdout",
     "output_type": "stream",
     "text": [
      "Index(['MSSubClass', 'MSZoning', 'LotFrontage', 'LotArea', 'Street', 'Alley',\n",
      "       'LotShape', 'LandContour', 'Utilities', 'LotConfig', 'LandSlope',\n",
      "       'Neighborhood', 'Condition1', 'Condition2', 'BldgType', 'HouseStyle',\n",
      "       'OverallQual', 'OverallCond', 'YearBuilt', 'YearRemodAdd', 'RoofStyle',\n",
      "       'RoofMatl', 'Exterior1st', 'Exterior2nd', 'MasVnrType', 'MasVnrArea',\n",
      "       'ExterQual', 'ExterCond', 'Foundation', 'BsmtQual', 'BsmtCond',\n",
      "       'BsmtExposure', 'BsmtFinType1', 'BsmtFinSF1', 'BsmtFinType2',\n",
      "       'BsmtFinSF2', 'BsmtUnfSF', 'TotalBsmtSF', 'Heating', 'HeatingQC',\n",
      "       'CentralAir', 'Electrical', '1stFlrSF', '2ndFlrSF', 'LowQualFinSF',\n",
      "       'GrLivArea', 'BsmtFullBath', 'BsmtHalfBath', 'FullBath', 'HalfBath',\n",
      "       'BedroomAbvGr', 'KitchenAbvGr', 'KitchenQual', 'TotRmsAbvGrd',\n",
      "       'Functional', 'Fireplaces', 'FireplaceQu', 'GarageType', 'GarageYrBlt',\n",
      "       'GarageFinish', 'GarageCars', 'GarageArea', 'GarageQual', 'GarageCond',\n",
      "       'PavedDrive', 'WoodDeckSF', 'OpenPorchSF', 'EnclosedPorch', '3SsnPorch',\n",
      "       'ScreenPorch', 'PoolArea', 'PoolQC', 'Fence', 'MiscFeature', 'MiscVal',\n",
      "       'MoSold', 'YrSold', 'SaleType', 'SaleCondition'],\n",
      "      dtype='object')\n"
     ]
    }
   ],
   "source": [
    "X_train_v3_num = X_train_v3.select_dtypes(include=[np.number])\n",
    "num_columns=X_train_v3.columns\n",
    "print(num_columns)"
   ]
  },
  {
   "cell_type": "code",
   "execution_count": 13,
   "metadata": {},
   "outputs": [],
   "source": [
    "# high skewness\n",
    "def select_skew_index(df):\n",
    "    numeric = df.select_dtypes(include=[np.number])\n",
    "    num_columns = numeric.columns\n",
    "    skew_features = df[num_columns].skew(axis = 0, skipna = True)\n",
    "    high_skewness = skew_features[skew_features > 0.5]\n",
    "    skew_index = high_skewness.index\n",
    "    return skew_index"
   ]
  },
  {
   "cell_type": "code",
   "execution_count": 14,
   "metadata": {},
   "outputs": [],
   "source": [
    "skew_index = select_skew_index(X_train_v3)"
   ]
  },
  {
   "cell_type": "code",
   "execution_count": 15,
   "metadata": {
    "scrolled": true
   },
   "outputs": [
    {
     "data": {
      "text/plain": [
       "array([[<matplotlib.axes._subplots.AxesSubplot object at 0x11d7ef310>,\n",
       "        <matplotlib.axes._subplots.AxesSubplot object at 0x11d896890>,\n",
       "        <matplotlib.axes._subplots.AxesSubplot object at 0x11da0cbd0>,\n",
       "        <matplotlib.axes._subplots.AxesSubplot object at 0x11da63890>,\n",
       "        <matplotlib.axes._subplots.AxesSubplot object at 0x11dbfbc10>],\n",
       "       [<matplotlib.axes._subplots.AxesSubplot object at 0x11db8d8d0>,\n",
       "        <matplotlib.axes._subplots.AxesSubplot object at 0x11db22d50>,\n",
       "        <matplotlib.axes._subplots.AxesSubplot object at 0x11dab3910>,\n",
       "        <matplotlib.axes._subplots.AxesSubplot object at 0x11dabd490>,\n",
       "        <matplotlib.axes._subplots.AxesSubplot object at 0x11dc4ce10>],\n",
       "       [<matplotlib.axes._subplots.AxesSubplot object at 0x11dcc4c90>,\n",
       "        <matplotlib.axes._subplots.AxesSubplot object at 0x11dcf7950>,\n",
       "        <matplotlib.axes._subplots.AxesSubplot object at 0x11dd34cd0>,\n",
       "        <matplotlib.axes._subplots.AxesSubplot object at 0x11dd6b990>,\n",
       "        <matplotlib.axes._subplots.AxesSubplot object at 0x11dda9d10>],\n",
       "       [<matplotlib.axes._subplots.AxesSubplot object at 0x11dde19d0>,\n",
       "        <matplotlib.axes._subplots.AxesSubplot object at 0x11de1fd50>,\n",
       "        <matplotlib.axes._subplots.AxesSubplot object at 0x11de58a10>,\n",
       "        <matplotlib.axes._subplots.AxesSubplot object at 0x11de95d90>,\n",
       "        <matplotlib.axes._subplots.AxesSubplot object at 0x11decda50>],\n",
       "       [<matplotlib.axes._subplots.AxesSubplot object at 0x11df0cdd0>,\n",
       "        <matplotlib.axes._subplots.AxesSubplot object at 0x11df42a90>,\n",
       "        <matplotlib.axes._subplots.AxesSubplot object at 0x11df80e10>,\n",
       "        <matplotlib.axes._subplots.AxesSubplot object at 0x11dfb8ad0>,\n",
       "        <matplotlib.axes._subplots.AxesSubplot object at 0x11dff5e50>],\n",
       "       [<matplotlib.axes._subplots.AxesSubplot object at 0x11e02db10>,\n",
       "        <matplotlib.axes._subplots.AxesSubplot object at 0x11e06ce90>,\n",
       "        <matplotlib.axes._subplots.AxesSubplot object at 0x11e0a1b50>,\n",
       "        <matplotlib.axes._subplots.AxesSubplot object at 0x11e0deed0>,\n",
       "        <matplotlib.axes._subplots.AxesSubplot object at 0x11e116b90>]],\n",
       "      dtype=object)"
      ]
     },
     "execution_count": 15,
     "metadata": {},
     "output_type": "execute_result"
    },
    {
     "data": {
      "image/png": "[encoded data removed]",
      "text/plain": [
       "<Figure size 1080x1080 with 30 Axes>"
      ]
     },
     "metadata": {
      "needs_background": "light"
     },
     "output_type": "display_data"
    }
   ],
   "source": [
    "X_train_v3[skew_index].hist(figsize=(15,15))"
   ]
  },
  {
   "cell_type": "code",
   "execution_count": 16,
   "metadata": {},
   "outputs": [
    {
     "data": {
      "text/plain": [
       "LotFrontage       17.452867\n",
       "LotArea          203.243271\n",
       "MasVnrArea        10.082417\n",
       "BsmtFinSF1        11.118236\n",
       "BsmtFinSF2        20.113338\n",
       "TotalBsmtSF       13.250483\n",
       "1stFlrSF           5.745841\n",
       "LowQualFinSF      83.234817\n",
       "GrLivArea          4.895121\n",
       "BsmtHalfBath      16.396642\n",
       "KitchenAbvGr      21.532404\n",
       "OpenPorchSF        8.490336\n",
       "EnclosedPorch     10.430766\n",
       "3SsnPorch        123.662379\n",
       "ScreenPorch       18.439068\n",
       "PoolArea         223.268499\n",
       "MiscVal          701.003342\n",
       "dtype: float64"
      ]
     },
     "execution_count": 16,
     "metadata": {},
     "output_type": "execute_result"
    }
   ],
   "source": [
    "#Kutosis\n",
    "kurt_features = X_train_v3[num_columns].kurtosis(axis = 0, skipna = True)\n",
    "high_kurt = kurt_features[kurt_features > 3]\n",
    "kurt_index = high_kurt.index\n",
    "high_kurt"
   ]
  },
  {
   "cell_type": "markdown",
   "metadata": {},
   "source": [
    "## Outliers"
   ]
  },
  {
   "cell_type": "code",
   "execution_count": 17,
   "metadata": {},
   "outputs": [
    {
     "data": {
      "image/png": "[encoded data removed]",
      "text/plain": [
       "<Figure size 1080x1440 with 17 Axes>"
      ]
     },
     "metadata": {
      "needs_background": "light"
     },
     "output_type": "display_data"
    }
   ],
   "source": [
    "#outliers\n",
    "fig=plt.figure(figsize=(15,20))\n",
    "for i in range(1,18):\n",
    "    ax=fig.add_subplot(6,3,i)\n",
    "    ax.scatter(x = X_train_v3[kurt_index[i-1]], y=y_train_v3)\n",
    "    ax.set_xlabel(kurt_index[i-1])"
   ]
  },
  {
   "cell_type": "code",
   "execution_count": 18,
   "metadata": {},
   "outputs": [
    {
     "data": {
      "text/plain": [
       "Int64Index([1298], dtype='int64')"
      ]
     },
     "execution_count": 18,
     "metadata": {},
     "output_type": "execute_result"
    }
   ],
   "source": [
    "X_train_v3[X_train_v3['BsmtFinSF1']>5000].index"
   ]
  },
  {
   "cell_type": "code",
   "execution_count": 19,
   "metadata": {},
   "outputs": [
    {
     "data": {
      "text/plain": [
       "Int64Index([1298], dtype='int64')"
      ]
     },
     "execution_count": 19,
     "metadata": {},
     "output_type": "execute_result"
    }
   ],
   "source": [
    "X_train_v3[X_train_v3['TotalBsmtSF']>6000].index"
   ]
  },
  {
   "cell_type": "code",
   "execution_count": 20,
   "metadata": {},
   "outputs": [
    {
     "data": {
      "text/plain": [
       "Int64Index([1298], dtype='int64')"
      ]
     },
     "execution_count": 20,
     "metadata": {},
     "output_type": "execute_result"
    }
   ],
   "source": [
    "X_train_v3[X_train_v3['GrLivArea']>5000].index"
   ]
  },
  {
   "cell_type": "code",
   "execution_count": 21,
   "metadata": {},
   "outputs": [
    {
     "data": {
      "text/plain": [
       "Int64Index([934, 1298], dtype='int64')"
      ]
     },
     "execution_count": 21,
     "metadata": {},
     "output_type": "execute_result"
    }
   ],
   "source": [
    "X_train_v3[X_train_v3['LotFrontage']>300].index"
   ]
  },
  {
   "cell_type": "code",
   "execution_count": 22,
   "metadata": {},
   "outputs": [
    {
     "data": {
      "text/plain": [
       "Int64Index([346, 705, 1230], dtype='int64')"
      ]
     },
     "execution_count": 22,
     "metadata": {},
     "output_type": "execute_result"
    }
   ],
   "source": [
    "X_train_v3[X_train_v3['MiscVal']>3000].index"
   ]
  },
  {
   "cell_type": "code",
   "execution_count": 23,
   "metadata": {},
   "outputs": [
    {
     "data": {
      "text/plain": [
       "(1460, 79)"
      ]
     },
     "execution_count": 23,
     "metadata": {},
     "output_type": "execute_result"
    }
   ],
   "source": [
    "X_train_v3.shape"
   ]
  },
  {
   "cell_type": "code",
   "execution_count": 24,
   "metadata": {},
   "outputs": [],
   "source": [
    "x_train_v3=X_train_v3.drop(X_train_v3.index[1298])\n",
    "y_train_v3=y_train_v3.drop(y_train_v3.index[1298])"
   ]
  },
  {
   "cell_type": "code",
   "execution_count": 25,
   "metadata": {},
   "outputs": [
    {
     "data": {
      "text/plain": [
       "(1459, 79)"
      ]
     },
     "execution_count": 25,
     "metadata": {},
     "output_type": "execute_result"
    }
   ],
   "source": [
    "x_train_v3.shape"
   ]
  },
  {
   "cell_type": "markdown",
   "metadata": {},
   "source": [
    "## Transformation log"
   ]
  },
  {
   "cell_type": "code",
   "execution_count": 26,
   "metadata": {},
   "outputs": [
    {
     "data": {
      "text/plain": [
       "(<matplotlib.axes._subplots.AxesSubplot at 0x11f90da10>,\n",
       " <matplotlib.axes._subplots.AxesSubplot at 0x11f90da10>)"
      ]
     },
     "execution_count": 26,
     "metadata": {},
     "output_type": "execute_result"
    },
    {
     "data": {
      "image/png": "[encoded data removed]",
      "text/plain": [
       "<Figure size 432x288 with 2 Axes>"
      ]
     },
     "metadata": {
      "needs_background": "light"
     },
     "output_type": "display_data"
    }
   ],
   "source": [
    "y_train_v3_log =np.log1p(y_train_v3)\n",
    "plt.subplot(1,2,1), y_train_v3.hist()\n",
    "plt.subplot(1,2,2), y_train_v3_log.hist()"
   ]
  },
  {
   "cell_type": "code",
   "execution_count": 27,
   "metadata": {},
   "outputs": [],
   "source": [
    "def correct_skew(df,skew_index):\n",
    "    for i in skew_index:\n",
    "        df[i] = np.log1p(df[i])"
   ]
  },
  {
   "cell_type": "code",
   "execution_count": 28,
   "metadata": {},
   "outputs": [],
   "source": [
    "correct_skew(X_train_v3,skew_index)"
   ]
  },
  {
   "cell_type": "code",
   "execution_count": 29,
   "metadata": {},
   "outputs": [
    {
     "data": {
      "text/plain": [
       "array([[<matplotlib.axes._subplots.AxesSubplot object at 0x11eb37750>,\n",
       "        <matplotlib.axes._subplots.AxesSubplot object at 0x11fb29f90>,\n",
       "        <matplotlib.axes._subplots.AxesSubplot object at 0x11fbfcd50>,\n",
       "        <matplotlib.axes._subplots.AxesSubplot object at 0x11fc365d0>,\n",
       "        <matplotlib.axes._subplots.AxesSubplot object at 0x11fc6d8d0>],\n",
       "       [<matplotlib.axes._subplots.AxesSubplot object at 0x11fca6bd0>,\n",
       "        <matplotlib.axes._subplots.AxesSubplot object at 0x11fcdcf90>,\n",
       "        <matplotlib.axes._subplots.AxesSubplot object at 0x11fd1f850>,\n",
       "        <matplotlib.axes._subplots.AxesSubplot object at 0x11fd293d0>,\n",
       "        <matplotlib.axes._subplots.AxesSubplot object at 0x11fd5cd50>],\n",
       "       [<matplotlib.axes._subplots.AxesSubplot object at 0x11fdd1c10>,\n",
       "        <matplotlib.axes._subplots.AxesSubplot object at 0x11fe068d0>,\n",
       "        <matplotlib.axes._subplots.AxesSubplot object at 0x11fe45c50>,\n",
       "        <matplotlib.axes._subplots.AxesSubplot object at 0x11fe7e910>,\n",
       "        <matplotlib.axes._subplots.AxesSubplot object at 0x11febcc90>],\n",
       "       [<matplotlib.axes._subplots.AxesSubplot object at 0x11fef3950>,\n",
       "        <matplotlib.axes._subplots.AxesSubplot object at 0x11ff30cd0>,\n",
       "        <matplotlib.axes._subplots.AxesSubplot object at 0x11ff5e510>,\n",
       "        <matplotlib.axes._subplots.AxesSubplot object at 0x11ff90d10>,\n",
       "        <matplotlib.axes._subplots.AxesSubplot object at 0x11ffcb550>],\n",
       "       [<matplotlib.axes._subplots.AxesSubplot object at 0x11ffffd50>,\n",
       "        <matplotlib.axes._subplots.AxesSubplot object at 0x12003c590>,\n",
       "        <matplotlib.axes._subplots.AxesSubplot object at 0x12006ed90>,\n",
       "        <matplotlib.axes._subplots.AxesSubplot object at 0x1200b05d0>,\n",
       "        <matplotlib.axes._subplots.AxesSubplot object at 0x1200e2dd0>],\n",
       "       [<matplotlib.axes._subplots.AxesSubplot object at 0x120124610>,\n",
       "        <matplotlib.axes._subplots.AxesSubplot object at 0x120159e10>,\n",
       "        <matplotlib.axes._subplots.AxesSubplot object at 0x12019a650>,\n",
       "        <matplotlib.axes._subplots.AxesSubplot object at 0x1201cde50>,\n",
       "        <matplotlib.axes._subplots.AxesSubplot object at 0x120210690>]],\n",
       "      dtype=object)"
      ]
     },
     "execution_count": 29,
     "metadata": {},
     "output_type": "execute_result"
    },
    {
     "data": {
      "image/png": "[encoded data removed]",
      "text/plain": [
       "<Figure size 1080x1080 with 30 Axes>"
      ]
     },
     "metadata": {
      "needs_background": "light"
     },
     "output_type": "display_data"
    }
   ],
   "source": [
    "X_train_v3[skew_index].hist(figsize=(15,15))"
   ]
  },
  {
   "cell_type": "markdown",
   "metadata": {},
   "source": [
    "## Filling missing values"
   ]
  },
  {
   "cell_type": "code",
   "execution_count": 30,
   "metadata": {},
   "outputs": [
    {
     "data": {
      "text/plain": [
       "PoolQC          1453\n",
       "MiscFeature     1406\n",
       "Alley           1369\n",
       "Fence           1179\n",
       "FireplaceQu      690\n",
       "LotFrontage      259\n",
       "GarageCond        81\n",
       "GarageType        81\n",
       "GarageYrBlt       81\n",
       "GarageFinish      81\n",
       "GarageQual        81\n",
       "BsmtExposure      38\n",
       "BsmtFinType2      38\n",
       "BsmtFinType1      37\n",
       "BsmtCond          37\n",
       "BsmtQual          37\n",
       "MasVnrArea         8\n",
       "MasVnrType         8\n",
       "Electrical         1\n",
       "LotConfig          0\n",
       "LandSlope          0\n",
       "MSZoning           0\n",
       "Foundation         0\n",
       "ExterCond          0\n",
       "ExterQual          0\n",
       "dtype: int64"
      ]
     },
     "execution_count": 30,
     "metadata": {},
     "output_type": "execute_result"
    }
   ],
   "source": [
    "X_train_v3.isnull().sum().sort_values(ascending=False)[0:25]"
   ]
  },
  {
   "cell_type": "code",
   "execution_count": 31,
   "metadata": {},
   "outputs": [],
   "source": [
    "def fill_miss(df):\n",
    "    Nvalues=['FireplaceQu','GarageFinish','BsmtCond','Alley','BsmtExposure','GarageCond','PoolQC','BsmtQual',\n",
    "             'MiscFeature','MasVnrType','BsmtFinType1','GarageType','Fence','GarageQual','BsmtFinType2']\n",
    "    GarBsmt=['GarageYrBlt','GarageCars','GarageArea','BsmtFinSF1','BsmtFinSF2','BsmtUnfSF','TotalBsmtSF',\n",
    "'BsmtFullBath','BsmtHalfBath']\n",
    "    df_cat=df.select_dtypes(exclude=[np.number])\n",
    "    stats_df=df_cat.describe() \n",
    "    for i in df.columns:\n",
    "        if(i in Nvalues):\n",
    "            df[i].replace(np.nan,\"None\", inplace=True )\n",
    "        elif(i in GarBsmt):\n",
    "            df[i].replace(np.nan,0, inplace=True )\n",
    "        \n",
    "    for i in df_cat.columns:\n",
    "        top = stats_df[i].iloc[2]\n",
    "        if(df[i].isnull().sum()!=0):\n",
    "            df[i].replace(np.nan,top, inplace=True )\n",
    "            \n",
    "    df.interpolate(inplace=True)"
   ]
  },
  {
   "cell_type": "code",
   "execution_count": 32,
   "metadata": {},
   "outputs": [
    {
     "data": {
      "text/plain": [
       "MSSubClass       0\n",
       "MSZoning         0\n",
       "LotFrontage      0\n",
       "LotArea          0\n",
       "Street           0\n",
       "                ..\n",
       "MiscVal          0\n",
       "MoSold           0\n",
       "YrSold           0\n",
       "SaleType         0\n",
       "SaleCondition    0\n",
       "Length: 79, dtype: int64"
      ]
     },
     "execution_count": 32,
     "metadata": {},
     "output_type": "execute_result"
    }
   ],
   "source": [
    "fill_miss(X_train_v3)\n",
    "X_train_v3.isnull().sum()"
   ]
  },
  {
   "cell_type": "markdown",
   "metadata": {},
   "source": [
    "## Categorical values"
   ]
  },
  {
   "cell_type": "code",
   "execution_count": 33,
   "metadata": {},
   "outputs": [],
   "source": [
    "def uniq_cat(df):\n",
    "    categoric=df.select_dtypes(exclude=[np.number])\n",
    "    cat_col=categoric.columns\n",
    "    high_val=[]\n",
    "    for i in cat_col:\n",
    "        for j in range(df[i].unique().shape[0]):\n",
    "            if ((df[i].value_counts()[j])/1459 > 0.99):\n",
    "                 high_val.append(i) \n",
    "    return high_val"
   ]
  },
  {
   "cell_type": "code",
   "execution_count": 34,
   "metadata": {},
   "outputs": [
    {
     "data": {
      "text/plain": [
       "['Street', 'Utilities', 'Condition2', 'PoolQC']"
      ]
     },
     "execution_count": 34,
     "metadata": {},
     "output_type": "execute_result"
    }
   ],
   "source": [
    "uniq_cat(X_train_v3)"
   ]
  },
  {
   "cell_type": "code",
   "execution_count": 35,
   "metadata": {},
   "outputs": [],
   "source": [
    "X_train_v3 = X_train_v3.drop(['Utilities', 'Street', 'PoolQC',], axis=1)"
   ]
  },
  {
   "cell_type": "code",
   "execution_count": 36,
   "metadata": {},
   "outputs": [],
   "source": [
    "def filling_ordinal(df):\n",
    "    feat=['ExterQual','ExterCond','BsmtQual','BsmtCond','KitchenQual','HeatingQC','KitchenQual'\n",
    "          ,'HeatingQC','GarageQual','GarageCond']\n",
    "    for x in feat:  \n",
    "        df[x][df[x] == 'Ex'] = 5\n",
    "        df[x][df[x] == 'Gd'] = 4\n",
    "        df[x][df[x] == 'TA'] = 3\n",
    "        df[x][df[x] == 'Fa'] = 2\n",
    "        df[x][df[x] == 'Po'] = 1\n",
    "        df[x][df[x] == 'None'] = 0\n",
    "        \n",
    "    df['LandSlope'][df['LandSlope'] == 'Sev'] = 3\n",
    "    df['LandSlope'][df['LandSlope'] == 'Mod'] = 2\n",
    "    df['LandSlope'][df['LandSlope'] == 'Gtl'] = 1\n",
    "    \n",
    "    df['BsmtExposure'][df['BsmtExposure'] == 'Gd'] = 4\n",
    "    df['BsmtExposure'][df['BsmtExposure'] == 'Av'] = 3\n",
    "    df['BsmtExposure'][df['BsmtExposure'] == 'Mn'] = 2\n",
    "    df['BsmtExposure'][df['BsmtExposure'] == 'No'] = 1\n",
    "    df['BsmtExposure'][df['BsmtExposure'] == 'None'] = 0\n",
    "    \n",
    "    feat1=['BsmtFinType1','BsmtFinType2']\n",
    "    \n",
    "    for x in feat1:\n",
    "        df[x][df[x] == 'GLQ'] = 6\n",
    "        df[x][df[x] == 'ALQ'] = 5\n",
    "        df[x][df[x] == 'BLQ'] = 4\n",
    "        df[x][df[x] == 'Rec'] = 3\n",
    "        df[x][df[x] == 'LwQ'] = 2\n",
    "        df[x][df[x] == 'Unf'] = 1\n",
    "        df[x][df[x] == 'None'] = 0\n",
    "        \n",
    "    df['CentralAir'][df['CentralAir'] == 'Y'] = 1\n",
    "    df['CentralAir'][df['CentralAir'] == 'N'] = 0\n",
    "    "
   ]
  },
  {
   "cell_type": "code",
   "execution_count": 37,
   "metadata": {},
   "outputs": [
    {
     "name": "stderr",
     "output_type": "stream",
     "text": [
      "/Users/Aro/opt/anaconda3/envs/HousePrices/lib/python3.7/site-packages/ipykernel_launcher.py:5: SettingWithCopyWarning: \n",
      "A value is trying to be set on a copy of a slice from a DataFrame\n",
      "\n",
      "See the caveats in the documentation: http://pandas.pydata.org/pandas-docs/stable/user_guide/indexing.html#returning-a-view-versus-a-copy\n",
      "  \"\"\"\n",
      "/Users/Aro/opt/anaconda3/envs/HousePrices/lib/python3.7/site-packages/ipykernel_launcher.py:6: SettingWithCopyWarning: \n",
      "A value is trying to be set on a copy of a slice from a DataFrame\n",
      "\n",
      "See the caveats in the documentation: http://pandas.pydata.org/pandas-docs/stable/user_guide/indexing.html#returning-a-view-versus-a-copy\n",
      "  \n",
      "/Users/Aro/opt/anaconda3/envs/HousePrices/lib/python3.7/site-packages/ipykernel_launcher.py:7: SettingWithCopyWarning: \n",
      "A value is trying to be set on a copy of a slice from a DataFrame\n",
      "\n",
      "See the caveats in the documentation: http://pandas.pydata.org/pandas-docs/stable/user_guide/indexing.html#returning-a-view-versus-a-copy\n",
      "  import sys\n",
      "/Users/Aro/opt/anaconda3/envs/HousePrices/lib/python3.7/site-packages/ipykernel_launcher.py:8: SettingWithCopyWarning: \n",
      "A value is trying to be set on a copy of a slice from a DataFrame\n",
      "\n",
      "See the caveats in the documentation: http://pandas.pydata.org/pandas-docs/stable/user_guide/indexing.html#returning-a-view-versus-a-copy\n",
      "  \n",
      "/Users/Aro/opt/anaconda3/envs/HousePrices/lib/python3.7/site-packages/ipykernel_launcher.py:9: SettingWithCopyWarning: \n",
      "A value is trying to be set on a copy of a slice from a DataFrame\n",
      "\n",
      "See the caveats in the documentation: http://pandas.pydata.org/pandas-docs/stable/user_guide/indexing.html#returning-a-view-versus-a-copy\n",
      "  if __name__ == '__main__':\n",
      "/Users/Aro/opt/anaconda3/envs/HousePrices/lib/python3.7/site-packages/ipykernel_launcher.py:10: SettingWithCopyWarning: \n",
      "A value is trying to be set on a copy of a slice from a DataFrame\n",
      "\n",
      "See the caveats in the documentation: http://pandas.pydata.org/pandas-docs/stable/user_guide/indexing.html#returning-a-view-versus-a-copy\n",
      "  # Remove the CWD from sys.path while we load stuff.\n",
      "/Users/Aro/opt/anaconda3/envs/HousePrices/lib/python3.7/site-packages/ipykernel_launcher.py:12: SettingWithCopyWarning: \n",
      "A value is trying to be set on a copy of a slice from a DataFrame\n",
      "\n",
      "See the caveats in the documentation: http://pandas.pydata.org/pandas-docs/stable/user_guide/indexing.html#returning-a-view-versus-a-copy\n",
      "  if sys.path[0] == '':\n",
      "/Users/Aro/opt/anaconda3/envs/HousePrices/lib/python3.7/site-packages/ipykernel_launcher.py:13: SettingWithCopyWarning: \n",
      "A value is trying to be set on a copy of a slice from a DataFrame\n",
      "\n",
      "See the caveats in the documentation: http://pandas.pydata.org/pandas-docs/stable/user_guide/indexing.html#returning-a-view-versus-a-copy\n",
      "  del sys.path[0]\n",
      "/Users/Aro/opt/anaconda3/envs/HousePrices/lib/python3.7/site-packages/ipykernel_launcher.py:14: SettingWithCopyWarning: \n",
      "A value is trying to be set on a copy of a slice from a DataFrame\n",
      "\n",
      "See the caveats in the documentation: http://pandas.pydata.org/pandas-docs/stable/user_guide/indexing.html#returning-a-view-versus-a-copy\n",
      "  \n",
      "/Users/Aro/opt/anaconda3/envs/HousePrices/lib/python3.7/site-packages/ipykernel_launcher.py:16: SettingWithCopyWarning: \n",
      "A value is trying to be set on a copy of a slice from a DataFrame\n",
      "\n",
      "See the caveats in the documentation: http://pandas.pydata.org/pandas-docs/stable/user_guide/indexing.html#returning-a-view-versus-a-copy\n",
      "  app.launch_new_instance()\n",
      "/Users/Aro/opt/anaconda3/envs/HousePrices/lib/python3.7/site-packages/ipykernel_launcher.py:17: SettingWithCopyWarning: \n",
      "A value is trying to be set on a copy of a slice from a DataFrame\n",
      "\n",
      "See the caveats in the documentation: http://pandas.pydata.org/pandas-docs/stable/user_guide/indexing.html#returning-a-view-versus-a-copy\n",
      "/Users/Aro/opt/anaconda3/envs/HousePrices/lib/python3.7/site-packages/ipykernel_launcher.py:18: SettingWithCopyWarning: \n",
      "A value is trying to be set on a copy of a slice from a DataFrame\n",
      "\n",
      "See the caveats in the documentation: http://pandas.pydata.org/pandas-docs/stable/user_guide/indexing.html#returning-a-view-versus-a-copy\n",
      "/Users/Aro/opt/anaconda3/envs/HousePrices/lib/python3.7/site-packages/ipykernel_launcher.py:19: SettingWithCopyWarning: \n",
      "A value is trying to be set on a copy of a slice from a DataFrame\n",
      "\n",
      "See the caveats in the documentation: http://pandas.pydata.org/pandas-docs/stable/user_guide/indexing.html#returning-a-view-versus-a-copy\n",
      "/Users/Aro/opt/anaconda3/envs/HousePrices/lib/python3.7/site-packages/ipykernel_launcher.py:20: SettingWithCopyWarning: \n",
      "A value is trying to be set on a copy of a slice from a DataFrame\n",
      "\n",
      "See the caveats in the documentation: http://pandas.pydata.org/pandas-docs/stable/user_guide/indexing.html#returning-a-view-versus-a-copy\n",
      "/Users/Aro/opt/anaconda3/envs/HousePrices/lib/python3.7/site-packages/ipykernel_launcher.py:25: SettingWithCopyWarning: \n",
      "A value is trying to be set on a copy of a slice from a DataFrame\n",
      "\n",
      "See the caveats in the documentation: http://pandas.pydata.org/pandas-docs/stable/user_guide/indexing.html#returning-a-view-versus-a-copy\n",
      "/Users/Aro/opt/anaconda3/envs/HousePrices/lib/python3.7/site-packages/ipykernel_launcher.py:26: SettingWithCopyWarning: \n",
      "A value is trying to be set on a copy of a slice from a DataFrame\n",
      "\n",
      "See the caveats in the documentation: http://pandas.pydata.org/pandas-docs/stable/user_guide/indexing.html#returning-a-view-versus-a-copy\n",
      "/Users/Aro/opt/anaconda3/envs/HousePrices/lib/python3.7/site-packages/ipykernel_launcher.py:27: SettingWithCopyWarning: \n",
      "A value is trying to be set on a copy of a slice from a DataFrame\n",
      "\n",
      "See the caveats in the documentation: http://pandas.pydata.org/pandas-docs/stable/user_guide/indexing.html#returning-a-view-versus-a-copy\n",
      "/Users/Aro/opt/anaconda3/envs/HousePrices/lib/python3.7/site-packages/ipykernel_launcher.py:28: SettingWithCopyWarning: \n",
      "A value is trying to be set on a copy of a slice from a DataFrame\n",
      "\n",
      "See the caveats in the documentation: http://pandas.pydata.org/pandas-docs/stable/user_guide/indexing.html#returning-a-view-versus-a-copy\n",
      "/Users/Aro/opt/anaconda3/envs/HousePrices/lib/python3.7/site-packages/ipykernel_launcher.py:29: SettingWithCopyWarning: \n",
      "A value is trying to be set on a copy of a slice from a DataFrame\n",
      "\n",
      "See the caveats in the documentation: http://pandas.pydata.org/pandas-docs/stable/user_guide/indexing.html#returning-a-view-versus-a-copy\n",
      "/Users/Aro/opt/anaconda3/envs/HousePrices/lib/python3.7/site-packages/ipykernel_launcher.py:30: SettingWithCopyWarning: \n",
      "A value is trying to be set on a copy of a slice from a DataFrame\n",
      "\n",
      "See the caveats in the documentation: http://pandas.pydata.org/pandas-docs/stable/user_guide/indexing.html#returning-a-view-versus-a-copy\n",
      "/Users/Aro/opt/anaconda3/envs/HousePrices/lib/python3.7/site-packages/ipykernel_launcher.py:31: SettingWithCopyWarning: \n",
      "A value is trying to be set on a copy of a slice from a DataFrame\n",
      "\n",
      "See the caveats in the documentation: http://pandas.pydata.org/pandas-docs/stable/user_guide/indexing.html#returning-a-view-versus-a-copy\n",
      "/Users/Aro/opt/anaconda3/envs/HousePrices/lib/python3.7/site-packages/ipykernel_launcher.py:33: SettingWithCopyWarning: \n",
      "A value is trying to be set on a copy of a slice from a DataFrame\n",
      "\n",
      "See the caveats in the documentation: http://pandas.pydata.org/pandas-docs/stable/user_guide/indexing.html#returning-a-view-versus-a-copy\n",
      "/Users/Aro/opt/anaconda3/envs/HousePrices/lib/python3.7/site-packages/ipykernel_launcher.py:34: SettingWithCopyWarning: \n",
      "A value is trying to be set on a copy of a slice from a DataFrame\n",
      "\n",
      "See the caveats in the documentation: http://pandas.pydata.org/pandas-docs/stable/user_guide/indexing.html#returning-a-view-versus-a-copy\n"
     ]
    }
   ],
   "source": [
    "filling_ordinal(X_train_v3)"
   ]
  },
  {
   "cell_type": "code",
   "execution_count": 38,
   "metadata": {},
   "outputs": [],
   "source": [
    "def feat_ing(X):\n",
    "    X['TotalBath']=X['BsmtFullBath']+ (1/2)*X['BsmtHalfBath']+X['FullBath']+ (1/2)*X['HalfBath']\n",
    "    X['TotalSF']=X['TotalBsmtSF']+X['1stFlrSF']+X['2ndFlrSF']"
   ]
  },
  {
   "cell_type": "code",
   "execution_count": 39,
   "metadata": {},
   "outputs": [],
   "source": [
    "feat_ing(X_train_v3)"
   ]
  },
  {
   "cell_type": "code",
   "execution_count": 40,
   "metadata": {},
   "outputs": [],
   "source": [
    "X=pd.get_dummies(X_train_v3)"
   ]
  },
  {
   "cell_type": "markdown",
   "metadata": {},
   "source": [
    "## Recap"
   ]
  },
  {
   "cell_type": "code",
   "execution_count": 41,
   "metadata": {},
   "outputs": [],
   "source": [
    "def clean(rtrain,rtest):\n",
    "    y=rtrain['SalePrice']\n",
    "    testId=rtest['Id']\n",
    "    rtrain.drop(['Id','SalePrice'],axis=1,inplace=True)\n",
    "    rtest.drop(['Id'],axis=1,inplace=True)\n",
    "    \n",
    "    # selecting the indexes of the skew features\n",
    "    skew_index=select_skew_index(rtrain)\n",
    "    \n",
    "    # Eliminate the outier\n",
    "    rtrain=rtrain.drop(rtrain.index[1298])\n",
    "    y=y.drop(rtrain.index[1298])\n",
    "    \n",
    "    # Drop the columns in the test data with all values equal to na\n",
    "    rtest=rtest.dropna(axis=1,how='all')\n",
    "    \n",
    "    # preparing features and target values\n",
    "    y=np.log1p(y)\n",
    "\n",
    "    #Correct the skewness\n",
    "    #correct_skew(rtrain,skew_index)\n",
    "    #correct_skew(rtest,skew_index)\n",
    "    \n",
    "    #Filling missing values\n",
    "    fill_miss(rtrain)\n",
    "    fill_miss(rtest)\n",
    "        \n",
    "    # Correcting categorical values that are ordinal\n",
    "    filling_ordinal(rtrain)\n",
    "    filling_ordinal(rtest)\n",
    "    \n",
    "    #Feature ingeneering\n",
    "    feat_ing(rtrain)\n",
    "    feat_ing(rtest)\n",
    "    \n",
    "    #One hot encoding\n",
    "    rtrain=pd.get_dummies(rtrain)\n",
    "    rtest=pd.get_dummies(rtest)\n",
    "    \n",
    "    # Update the training set\n",
    "    rtrain=rtrain[rtest.columns]\n",
    "    \n",
    "    \n",
    "    return(rtrain,rtest,y,testId)"
   ]
  },
  {
   "cell_type": "code",
   "execution_count": 42,
   "metadata": {},
   "outputs": [
    {
     "name": "stderr",
     "output_type": "stream",
     "text": [
      "/Users/Aro/opt/anaconda3/envs/HousePrices/lib/python3.7/site-packages/ipykernel_launcher.py:5: SettingWithCopyWarning: \n",
      "A value is trying to be set on a copy of a slice from a DataFrame\n",
      "\n",
      "See the caveats in the documentation: http://pandas.pydata.org/pandas-docs/stable/user_guide/indexing.html#returning-a-view-versus-a-copy\n",
      "  \"\"\"\n",
      "/Users/Aro/opt/anaconda3/envs/HousePrices/lib/python3.7/site-packages/ipykernel_launcher.py:6: SettingWithCopyWarning: \n",
      "A value is trying to be set on a copy of a slice from a DataFrame\n",
      "\n",
      "See the caveats in the documentation: http://pandas.pydata.org/pandas-docs/stable/user_guide/indexing.html#returning-a-view-versus-a-copy\n",
      "  \n",
      "/Users/Aro/opt/anaconda3/envs/HousePrices/lib/python3.7/site-packages/ipykernel_launcher.py:7: SettingWithCopyWarning: \n",
      "A value is trying to be set on a copy of a slice from a DataFrame\n",
      "\n",
      "See the caveats in the documentation: http://pandas.pydata.org/pandas-docs/stable/user_guide/indexing.html#returning-a-view-versus-a-copy\n",
      "  import sys\n",
      "/Users/Aro/opt/anaconda3/envs/HousePrices/lib/python3.7/site-packages/ipykernel_launcher.py:8: SettingWithCopyWarning: \n",
      "A value is trying to be set on a copy of a slice from a DataFrame\n",
      "\n",
      "See the caveats in the documentation: http://pandas.pydata.org/pandas-docs/stable/user_guide/indexing.html#returning-a-view-versus-a-copy\n",
      "  \n",
      "/Users/Aro/opt/anaconda3/envs/HousePrices/lib/python3.7/site-packages/ipykernel_launcher.py:9: SettingWithCopyWarning: \n",
      "A value is trying to be set on a copy of a slice from a DataFrame\n",
      "\n",
      "See the caveats in the documentation: http://pandas.pydata.org/pandas-docs/stable/user_guide/indexing.html#returning-a-view-versus-a-copy\n",
      "  if __name__ == '__main__':\n",
      "/Users/Aro/opt/anaconda3/envs/HousePrices/lib/python3.7/site-packages/ipykernel_launcher.py:10: SettingWithCopyWarning: \n",
      "A value is trying to be set on a copy of a slice from a DataFrame\n",
      "\n",
      "See the caveats in the documentation: http://pandas.pydata.org/pandas-docs/stable/user_guide/indexing.html#returning-a-view-versus-a-copy\n",
      "  # Remove the CWD from sys.path while we load stuff.\n",
      "/Users/Aro/opt/anaconda3/envs/HousePrices/lib/python3.7/site-packages/ipykernel_launcher.py:12: SettingWithCopyWarning: \n",
      "A value is trying to be set on a copy of a slice from a DataFrame\n",
      "\n",
      "See the caveats in the documentation: http://pandas.pydata.org/pandas-docs/stable/user_guide/indexing.html#returning-a-view-versus-a-copy\n",
      "  if sys.path[0] == '':\n",
      "/Users/Aro/opt/anaconda3/envs/HousePrices/lib/python3.7/site-packages/ipykernel_launcher.py:13: SettingWithCopyWarning: \n",
      "A value is trying to be set on a copy of a slice from a DataFrame\n",
      "\n",
      "See the caveats in the documentation: http://pandas.pydata.org/pandas-docs/stable/user_guide/indexing.html#returning-a-view-versus-a-copy\n",
      "  del sys.path[0]\n",
      "/Users/Aro/opt/anaconda3/envs/HousePrices/lib/python3.7/site-packages/ipykernel_launcher.py:14: SettingWithCopyWarning: \n",
      "A value is trying to be set on a copy of a slice from a DataFrame\n",
      "\n",
      "See the caveats in the documentation: http://pandas.pydata.org/pandas-docs/stable/user_guide/indexing.html#returning-a-view-versus-a-copy\n",
      "  \n",
      "/Users/Aro/opt/anaconda3/envs/HousePrices/lib/python3.7/site-packages/ipykernel_launcher.py:16: SettingWithCopyWarning: \n",
      "A value is trying to be set on a copy of a slice from a DataFrame\n",
      "\n",
      "See the caveats in the documentation: http://pandas.pydata.org/pandas-docs/stable/user_guide/indexing.html#returning-a-view-versus-a-copy\n",
      "  app.launch_new_instance()\n",
      "/Users/Aro/opt/anaconda3/envs/HousePrices/lib/python3.7/site-packages/ipykernel_launcher.py:17: SettingWithCopyWarning: \n",
      "A value is trying to be set on a copy of a slice from a DataFrame\n",
      "\n",
      "See the caveats in the documentation: http://pandas.pydata.org/pandas-docs/stable/user_guide/indexing.html#returning-a-view-versus-a-copy\n",
      "/Users/Aro/opt/anaconda3/envs/HousePrices/lib/python3.7/site-packages/ipykernel_launcher.py:18: SettingWithCopyWarning: \n",
      "A value is trying to be set on a copy of a slice from a DataFrame\n",
      "\n",
      "See the caveats in the documentation: http://pandas.pydata.org/pandas-docs/stable/user_guide/indexing.html#returning-a-view-versus-a-copy\n",
      "/Users/Aro/opt/anaconda3/envs/HousePrices/lib/python3.7/site-packages/ipykernel_launcher.py:19: SettingWithCopyWarning: \n",
      "A value is trying to be set on a copy of a slice from a DataFrame\n",
      "\n",
      "See the caveats in the documentation: http://pandas.pydata.org/pandas-docs/stable/user_guide/indexing.html#returning-a-view-versus-a-copy\n",
      "/Users/Aro/opt/anaconda3/envs/HousePrices/lib/python3.7/site-packages/ipykernel_launcher.py:20: SettingWithCopyWarning: \n",
      "A value is trying to be set on a copy of a slice from a DataFrame\n",
      "\n",
      "See the caveats in the documentation: http://pandas.pydata.org/pandas-docs/stable/user_guide/indexing.html#returning-a-view-versus-a-copy\n",
      "/Users/Aro/opt/anaconda3/envs/HousePrices/lib/python3.7/site-packages/ipykernel_launcher.py:25: SettingWithCopyWarning: \n",
      "A value is trying to be set on a copy of a slice from a DataFrame\n",
      "\n",
      "See the caveats in the documentation: http://pandas.pydata.org/pandas-docs/stable/user_guide/indexing.html#returning-a-view-versus-a-copy\n",
      "/Users/Aro/opt/anaconda3/envs/HousePrices/lib/python3.7/site-packages/ipykernel_launcher.py:26: SettingWithCopyWarning: \n",
      "A value is trying to be set on a copy of a slice from a DataFrame\n",
      "\n",
      "See the caveats in the documentation: http://pandas.pydata.org/pandas-docs/stable/user_guide/indexing.html#returning-a-view-versus-a-copy\n",
      "/Users/Aro/opt/anaconda3/envs/HousePrices/lib/python3.7/site-packages/ipykernel_launcher.py:27: SettingWithCopyWarning: \n",
      "A value is trying to be set on a copy of a slice from a DataFrame\n",
      "\n",
      "See the caveats in the documentation: http://pandas.pydata.org/pandas-docs/stable/user_guide/indexing.html#returning-a-view-versus-a-copy\n",
      "/Users/Aro/opt/anaconda3/envs/HousePrices/lib/python3.7/site-packages/ipykernel_launcher.py:28: SettingWithCopyWarning: \n",
      "A value is trying to be set on a copy of a slice from a DataFrame\n",
      "\n",
      "See the caveats in the documentation: http://pandas.pydata.org/pandas-docs/stable/user_guide/indexing.html#returning-a-view-versus-a-copy\n",
      "/Users/Aro/opt/anaconda3/envs/HousePrices/lib/python3.7/site-packages/ipykernel_launcher.py:29: SettingWithCopyWarning: \n",
      "A value is trying to be set on a copy of a slice from a DataFrame\n",
      "\n",
      "See the caveats in the documentation: http://pandas.pydata.org/pandas-docs/stable/user_guide/indexing.html#returning-a-view-versus-a-copy\n",
      "/Users/Aro/opt/anaconda3/envs/HousePrices/lib/python3.7/site-packages/ipykernel_launcher.py:30: SettingWithCopyWarning: \n",
      "A value is trying to be set on a copy of a slice from a DataFrame\n",
      "\n",
      "See the caveats in the documentation: http://pandas.pydata.org/pandas-docs/stable/user_guide/indexing.html#returning-a-view-versus-a-copy\n",
      "/Users/Aro/opt/anaconda3/envs/HousePrices/lib/python3.7/site-packages/ipykernel_launcher.py:31: SettingWithCopyWarning: \n",
      "A value is trying to be set on a copy of a slice from a DataFrame\n",
      "\n",
      "See the caveats in the documentation: http://pandas.pydata.org/pandas-docs/stable/user_guide/indexing.html#returning-a-view-versus-a-copy\n",
      "/Users/Aro/opt/anaconda3/envs/HousePrices/lib/python3.7/site-packages/ipykernel_launcher.py:33: SettingWithCopyWarning: \n",
      "A value is trying to be set on a copy of a slice from a DataFrame\n",
      "\n",
      "See the caveats in the documentation: http://pandas.pydata.org/pandas-docs/stable/user_guide/indexing.html#returning-a-view-versus-a-copy\n",
      "/Users/Aro/opt/anaconda3/envs/HousePrices/lib/python3.7/site-packages/ipykernel_launcher.py:34: SettingWithCopyWarning: \n",
      "A value is trying to be set on a copy of a slice from a DataFrame\n",
      "\n",
      "See the caveats in the documentation: http://pandas.pydata.org/pandas-docs/stable/user_guide/indexing.html#returning-a-view-versus-a-copy\n"
     ]
    }
   ],
   "source": [
    "X_train_v3,X_test_v3,y_train_v3,X_test_Id=clean(df_train_full,df_test)"
   ]
  },
  {
   "cell_type": "markdown",
   "metadata": {},
   "source": [
    "## Checking data for learning"
   ]
  },
  {
   "cell_type": "code",
   "execution_count": 43,
   "metadata": {
    "ExecuteTime": {
     "end_time": "2019-12-09T23:42:35.396485Z",
     "start_time": "2019-12-09T23:42:35.386290Z"
    }
   },
   "outputs": [
    {
     "name": "stdout",
     "output_type": "stream",
     "text": [
      "**Train full**\n",
      "(1459, 286)\n",
      "(1459,)\n",
      "\n",
      "**Test**\n",
      "(1459, 286)\n",
      "(1459,)\n"
     ]
    }
   ],
   "source": [
    "# Train Full\n",
    "print('**Train full**')\n",
    "print(X_train_v3.shape)\n",
    "print(y_train_v3.shape)\n",
    "print()\n",
    "\n",
    "# Test\n",
    "print('**Test**')\n",
    "print(X_test_v3.shape)\n",
    "print(X_test_Id.shape)\n"
   ]
  },
  {
   "cell_type": "markdown",
   "metadata": {},
   "source": [
    "# Dataset for learning"
   ]
  },
  {
   "cell_type": "markdown",
   "metadata": {},
   "source": [
    "## Train full & Test"
   ]
  },
  {
   "cell_type": "code",
   "execution_count": 44,
   "metadata": {},
   "outputs": [
    {
     "name": "stdout",
     "output_type": "stream",
     "text": [
      "Train full\n",
      "(1459, 286)\n",
      "(1459, 1)\n",
      "Test\n",
      "(1459, 286)\n",
      "Test Id\n",
      "(1459, 1)\n"
     ]
    }
   ],
   "source": [
    "X_train_full_v3 = X_train_v3.copy()\n",
    "\n",
    "y_train_full_v3 = y_train_v3.copy()\n",
    "y_train_full_v3 = pd.DataFrame(y_train_full_v3)\n",
    "\n",
    "X_test_id_v3 = X_test_Id.copy()\n",
    "X_test_id_v3 = pd.DataFrame(X_test_id_v3)\n",
    "X_test_v3 = X_test_v3.copy()\n",
    "\n",
    "\n",
    "print('Train full')\n",
    "print(X_train_full_v3.shape)\n",
    "print(y_train_full_v3.shape)\n",
    "print('Test')\n",
    "print (X_test_v3.shape)\n",
    "print('Test Id')\n",
    "print (X_test_id_v3.shape)"
   ]
  },
  {
   "cell_type": "markdown",
   "metadata": {},
   "source": [
    "## Train full splitted"
   ]
  },
  {
   "cell_type": "code",
   "execution_count": 45,
   "metadata": {},
   "outputs": [
    {
     "name": "stdout",
     "output_type": "stream",
     "text": [
      "train\n",
      "(1167, 286)\n",
      "(1167, 1)\n",
      "val\n",
      "(292, 286)\n",
      "(292, 1)\n"
     ]
    }
   ],
   "source": [
    "from sklearn.model_selection import train_test_split\n",
    "\n",
    "#Split\n",
    "val_size = 0.2\n",
    "X_train_full_for_split = X_train_full_v3.copy()\n",
    "y_train_full_for_split = y_train_full_v3.copy()\n",
    "X_train_v3, X_val_v3, y_train_v3, y_val_v3 = train_test_split(X_train_full_for_split, y_train_full_for_split, test_size = val_size)\n",
    "\n",
    "\n",
    "print('train')\n",
    "print(X_train_v3.shape)\n",
    "print(y_train_v3.shape)\n",
    "print('val')\n",
    "print (X_val_v3.shape)\n",
    "print (y_val_v3.shape)"
   ]
  },
  {
   "cell_type": "markdown",
   "metadata": {},
   "source": [
    "# XGBoost standard"
   ]
  },
  {
   "cell_type": "markdown",
   "metadata": {},
   "source": [
    "[more on XGBoost paramerts](https://www.analyticsvidhya.com/blog/2016/03/complete-guide-parameter-tuning-xgboost-with-codes-python/)  \n",
    "XGBoost default parameters :  \n",
    "xgbReg_model = xgb.XGBRegressor(base_score=0.5, \n",
    "                                booster='gbtree', \n",
    "                                colsample_bylevel=1,\n",
    "                                colsample_bynode=1, \n",
    "                                colsample_bytree=1, \n",
    "                                gamma=0,\n",
    "                                importance_type='gain', \n",
    "                                learning_rate=0.1, \n",
    "                                max_delta_step=0,\n",
    "                                max_depth=3, \n",
    "                                min_child_weight=1, \n",
    "                                missing=None, \n",
    "                                n_estimators=100,\n",
    "                                n_jobs=1, \n",
    "                                nthread=None, \n",
    "                                objective='reg:linear', \n",
    "                                random_state=0,\n",
    "                                reg_alpha=0, \n",
    "                                reg_lambda=1, \n",
    "                                scale_pos_weight=1, \n",
    "                                seed=None,\n",
    "                                silent=None, \n",
    "                                subsample=1, \n",
    "                                verbosity=1))\n",
    "\n",
    "\n"
   ]
  },
  {
   "cell_type": "markdown",
   "metadata": {},
   "source": [
    "## Learning"
   ]
  },
  {
   "cell_type": "code",
   "execution_count": null,
   "metadata": {},
   "outputs": [],
   "source": [
    "X_train = X_train_v3.copy()\n",
    "y_train = y_train_v3.copy()\n",
    "\n",
    "X_val = X_val_v3.copy()\n",
    "y_val = y_val_v3.copy()"
   ]
  },
  {
   "cell_type": "code",
   "execution_count": null,
   "metadata": {
    "ExecuteTime": {
     "end_time": "2019-12-09T15:35:31.701708Z",
     "start_time": "2019-12-09T15:35:31.541310Z"
    }
   },
   "outputs": [],
   "source": [
    "import xgboost as xgb\n",
    "\n",
    "\n",
    "xgbReg_model = xgb.XGBRegressor()\n",
    "xgbReg_model.fit(X_train,y_train) \n",
    "\n",
    "y_train_pred = xgbReg_model.predict(X_train)\n",
    "y_val_pred = xgbReg_model.predict(X_val)\n",
    "\n",
    "import numpy as np\n",
    "from sklearn import metrics\n",
    "print()\n",
    "print('XGBOOST')\n",
    "print ('Results on train')\n",
    "print('RMSLE : ', np.sqrt(metrics.mean_squared_log_error(y_train, y_train_pred)))\n",
    "print('MAE : ', metrics.mean_absolute_error(np.exp(y_train), np.exp(y_train_pred)))\n",
    "print()\n",
    "\n",
    "print ('Results on val')\n",
    "print('RMSLE : ', np.sqrt(metrics.mean_squared_log_error(y_val, y_val_pred)))\n",
    "print('MAE : ', metrics.mean_absolute_error(np.exp(y_val), np.exp(y_val_pred)))\n",
    "print()"
   ]
  },
  {
   "cell_type": "markdown",
   "metadata": {},
   "source": [
    "## Submission to Kaggle"
   ]
  },
  {
   "cell_type": "code",
   "execution_count": null,
   "metadata": {
    "ExecuteTime": {
     "end_time": "2019-12-09T15:35:31.706009Z",
     "start_time": "2019-12-09T15:35:29.549Z"
    }
   },
   "outputs": [],
   "source": [
    "X_train = X_train_full_v3.copy()\n",
    "y_train = y_train_full_v3.copy()\n",
    "\n",
    "X_test_id = X_test_id_v3.copy()\n",
    "X_test_id = pd.DataFrame(X_test_id)\n",
    "X_test = X_test_v3.copy()\n",
    "\n",
    "print(X_train.shape)\n",
    "print(y_train.shape)\n",
    "print (X_test.shape)"
   ]
  },
  {
   "cell_type": "code",
   "execution_count": null,
   "metadata": {
    "ExecuteTime": {
     "end_time": "2019-12-09T15:35:31.707484Z",
     "start_time": "2019-12-09T15:35:29.553Z"
    }
   },
   "outputs": [],
   "source": [
    "import xgboost as xgb\n",
    "\n",
    "y_train = pd.DataFrame(y_train)    \n",
    "X_train = pd.DataFrame(X_train)\n",
    "\n",
    "\n",
    "xgbReg_model = xgb.XGBRegressor()\n",
    "xgbReg_model.fit(X_train,y_train) \n",
    "\n",
    "y_predict = xgbReg_model.predict(X_train)\n",
    "\n",
    "import numpy as np\n",
    "from sklearn import metrics\n",
    "print()\n",
    "print()\n",
    "print('XGBOOST')\n",
    "print ('Results on full')\n",
    "print('RMSLE : ', np.sqrt(metrics.mean_squared_log_error(y_train, y_predict)))\n",
    "print('MAE : ', metrics.mean_absolute_error(y_train, y_predict))\n",
    "print()\n",
    "\n",
    "y_predict_test = xgbReg_model.predict(X_test)"
   ]
  },
  {
   "cell_type": "code",
   "execution_count": null,
   "metadata": {
    "ExecuteTime": {
     "end_time": "2019-12-09T15:35:31.709185Z",
     "start_time": "2019-12-09T15:35:29.557Z"
    }
   },
   "outputs": [],
   "source": [
    "X_test_id = pd.DataFrame(X_test_id)\n",
    "y_predict_test = pd.DataFrame(y_predict_test)\n",
    "y_predict_test = np.exp(y_predict_test)\n",
    "df_sub = X_test_id.join(y_predict_test)\n",
    "df_sub.shape"
   ]
  },
  {
   "cell_type": "code",
   "execution_count": null,
   "metadata": {
    "ExecuteTime": {
     "end_time": "2019-12-09T15:35:31.711700Z",
     "start_time": "2019-12-09T15:35:29.562Z"
    }
   },
   "outputs": [],
   "source": [
    "col_names_subm = df_sub.columns.values\n",
    "col_names_subm[1] = 'SalePrice'\n",
    "df_sub.columns = col_names_subm\n",
    "df_sub.head(5)"
   ]
  },
  {
   "cell_type": "code",
   "execution_count": null,
   "metadata": {
    "ExecuteTime": {
     "end_time": "2019-12-09T15:35:31.713372Z",
     "start_time": "2019-12-09T15:35:29.565Z"
    }
   },
   "outputs": [],
   "source": [
    "df_sub.to_csv('hp_allv3-bis_xgb.csv', index=False)\n",
    "import kaggle\n",
    "submission_file = \"hp_allv3-bis_xgb.csv\"\n",
    "kaggle.api.competition_submit(submission_file, \"all_v3-bis_xgb\", \"house-prices-advanced-regression-techniques\")"
   ]
  },
  {
   "cell_type": "code",
   "execution_count": null,
   "metadata": {},
   "outputs": [],
   "source": [
    "from IPython.display import Image\n",
    "Image(\"All-V3-XGBoost.PNG\")"
   ]
  },
  {
   "cell_type": "markdown",
   "metadata": {},
   "source": [
    "# XGBoost Optimized"
   ]
  },
  {
   "cell_type": "markdown",
   "metadata": {},
   "source": [
    "## learning"
   ]
  },
  {
   "cell_type": "code",
   "execution_count": null,
   "metadata": {
    "ExecuteTime": {
     "end_time": "2019-12-09T15:35:31.714637Z",
     "start_time": "2019-12-09T15:35:29.570Z"
    }
   },
   "outputs": [],
   "source": [
    "X_train = X_train_v3.copy()\n",
    "y_train = y_train_v3.copy()\n",
    "\n",
    "X_val = X_val_v3.copy()\n",
    "y_val = y_val_v3.copy()"
   ]
  },
  {
   "cell_type": "code",
   "execution_count": null,
   "metadata": {
    "ExecuteTime": {
     "end_time": "2019-12-09T15:35:31.716019Z",
     "start_time": "2019-12-09T15:35:29.574Z"
    }
   },
   "outputs": [],
   "source": [
    "import xgboost as xgb\n",
    "\n",
    "\n",
    "from sklearn.model_selection import GridSearchCV\n",
    "param_grid = [{'n_estimators': [200,500,800,1000],\n",
    "               'max_depth': [5,8,10],\n",
    "               'learning_rate':[0.1,0.3,0.6],\n",
    "              }]\n",
    "my_learn = xgb.XGBRegressor()\n",
    "grid_search = GridSearchCV(my_learn,param_grid, cv=5, scoring ='neg_mean_squared_error', return_train_score=True)\n",
    "\n",
    "grid_search.fit(X_train,y_train)\n"
   ]
  },
  {
   "cell_type": "code",
   "execution_count": null,
   "metadata": {
    "ExecuteTime": {
     "end_time": "2019-12-09T15:35:31.717361Z",
     "start_time": "2019-12-09T15:35:29.578Z"
    }
   },
   "outputs": [],
   "source": [
    "grid_search.best_params_"
   ]
  },
  {
   "cell_type": "code",
   "execution_count": null,
   "metadata": {
    "ExecuteTime": {
     "end_time": "2019-12-09T15:35:31.719452Z",
     "start_time": "2019-12-09T15:35:29.584Z"
    }
   },
   "outputs": [],
   "source": [
    "import numpy as np\n",
    "from sklearn import metrics\n",
    "print()\n",
    "print('XGBOOST')\n",
    "print ('Results on train')\n",
    "y_predict = grid_search.predict(X_train)\n",
    "print('RMSLE : ', np.sqrt(metrics.mean_squared_log_error(y_train, y_predict)))\n",
    "print('MAE : ', metrics.mean_absolute_error(y_train, y_predict))\n",
    "print()\n",
    "\n",
    "\n",
    "print ('Results on val')\n",
    "y_predict_val = grid_search.predict(X_val)\n",
    "print('RMSLE : ', np.sqrt(metrics.mean_squared_log_error(y_val, y_predict_val)))\n",
    "print('MAE : ', metrics.mean_absolute_error(y_val, y_predict_val))\n"
   ]
  },
  {
   "cell_type": "markdown",
   "metadata": {},
   "source": [
    "## Submission to Kaggle"
   ]
  },
  {
   "cell_type": "code",
   "execution_count": null,
   "metadata": {
    "ExecuteTime": {
     "end_time": "2019-12-09T15:35:31.721438Z",
     "start_time": "2019-12-09T15:35:29.588Z"
    }
   },
   "outputs": [],
   "source": [
    "X_train = X_train_full_v3.copy()\n",
    "y_train = y_train_full_v3.copy()\n",
    "\n",
    "X_test_id = X_test_id_v3.copy()\n",
    "X_test_id = pd.DataFrame(X_test_id)\n",
    "X_test = X_test_v3.copy()\n",
    "\n",
    "print(X_train.shape)\n",
    "print(y_train.shape)\n",
    "print (X_test.shape)\n"
   ]
  },
  {
   "cell_type": "code",
   "execution_count": null,
   "metadata": {
    "ExecuteTime": {
     "end_time": "2019-12-09T15:35:31.723037Z",
     "start_time": "2019-12-09T15:35:29.592Z"
    }
   },
   "outputs": [],
   "source": [
    "import xgboost as xgb\n",
    "\n",
    "from sklearn.model_selection import GridSearchCV\n",
    "param_grid = [{'n_estimators': [200],\n",
    "               'max_depth': [5],\n",
    "               'learning_rate':[0.1],\n",
    "              }]\n",
    "my_learn = xgb.XGBRegressor()\n",
    "grid_search = GridSearchCV(my_learn,param_grid, cv=5, scoring ='neg_mean_squared_error', return_train_score=True)\n",
    "\n",
    "grid_search.fit(X_train,y_train)\n",
    "\n",
    "\n",
    "y_predict = grid_search.predict(X_train)\n",
    "\n",
    "import numpy as np\n",
    "from sklearn import metrics\n",
    "print()\n",
    "print('XGBOOST')\n",
    "print ('Results on full')\n",
    "print('RMSLE : ', np.sqrt(metrics.mean_squared_log_error(y_train, y_predict)))\n",
    "print('MAE : ', metrics.mean_absolute_error(y_train, y_predict))\n",
    "print()\n",
    "\n",
    "\n",
    "\n",
    "\n"
   ]
  },
  {
   "cell_type": "code",
   "execution_count": null,
   "metadata": {
    "ExecuteTime": {
     "end_time": "2019-12-09T15:35:31.724412Z",
     "start_time": "2019-12-09T15:35:29.595Z"
    }
   },
   "outputs": [],
   "source": [
    "y_predict_test = grid_search.predict(X_test)"
   ]
  },
  {
   "cell_type": "code",
   "execution_count": null,
   "metadata": {
    "ExecuteTime": {
     "end_time": "2019-12-09T15:35:31.725966Z",
     "start_time": "2019-12-09T15:35:29.598Z"
    }
   },
   "outputs": [],
   "source": [
    "X_test_id = pd.DataFrame(X_test_id)\n",
    "y_predict_test = pd.DataFrame(y_predict_test)\n",
    "y_predict_test = np.exp(y_predict_test)\n",
    "df_sub = X_test_id.join(y_predict_test)\n",
    "print(df_sub.shape)\n",
    "col_names_subm = df_sub.columns.values\n",
    "col_names_subm[1] = 'SalePrice'\n",
    "df_sub.columns = col_names_subm\n",
    "df_sub.head(5)"
   ]
  },
  {
   "cell_type": "code",
   "execution_count": null,
   "metadata": {
    "ExecuteTime": {
     "end_time": "2019-12-09T15:35:31.727637Z",
     "start_time": "2019-12-09T15:35:29.604Z"
    }
   },
   "outputs": [],
   "source": [
    "df_sub.to_csv('hp_allv3_xgb_opti.csv', index=False)\n",
    "import kaggle\n",
    "submission_file = \"hp_allv3_xgb_opti.csv\"\n",
    "kaggle.api.competition_submit(submission_file, \"all_v3_xgb_Opti\", \"house-prices-advanced-regression-techniques\")"
   ]
  },
  {
   "cell_type": "code",
   "execution_count": null,
   "metadata": {},
   "outputs": [],
   "source": [
    "from IPython.display import Image\n",
    "Image(\"All-V3-XGBoost-Opti.PNG\")"
   ]
  },
  {
   "cell_type": "markdown",
   "metadata": {},
   "source": [
    "# XGBoost Optimized : Dataset Standardized, GridSearch with Cv In Pipeline"
   ]
  },
  {
   "cell_type": "markdown",
   "metadata": {},
   "source": [
    "## Dataset"
   ]
  },
  {
   "cell_type": "code",
   "execution_count": null,
   "metadata": {},
   "outputs": [],
   "source": [
    "X_train = X_train_full_v3.copy()\n",
    "y_train = y_train_full_v3.copy()\n",
    "\n",
    "X_test_id = X_test_id_v3.copy()\n",
    "X_test_id = pd.DataFrame(X_test_id)\n",
    "X_test = X_test_v3.copy()"
   ]
  },
  {
   "cell_type": "markdown",
   "metadata": {},
   "source": [
    "##  Model optimized"
   ]
  },
  {
   "cell_type": "code",
   "execution_count": null,
   "metadata": {},
   "outputs": [],
   "source": [
    "#CV optimisation\n",
    "from sklearn.model_selection import ShuffleSplit\n",
    "cv = ShuffleSplit(n_splits=5, test_size=0.2, random_state=42)\n",
    "\n",
    "#Pipeline\n",
    "from sklearn.pipeline import Pipeline\n",
    "from sklearn.preprocessing import StandardScaler\n",
    "from sklearn.model_selection import GridSearchCV\n",
    "import xgboost as xgb\n",
    "\n",
    "pipe = Pipeline([('scalar', StandardScaler()),\n",
    "                 ('XGBoost', xgb.XGBRegressor())])\n",
    "\n",
    "param_grid = {'XGBoost__n_estimators': [500],\n",
    "              'XGBoost__max_depth': [5],\n",
    "              'XGBoost__learning_rate':[0.1],\n",
    "              'XGBoost__min_child_weight' : [ 5],\n",
    "              'XGBoost__gamma'            : [0.0],\n",
    "              'XGBoost__colsample_bytree' : [0.5] \n",
    "#              'XGBoost__reg_alpha':[1.1],\n",
    "#              'XGBoost__reg_lambda':[0.8],\n",
    "#              'XGBoost__subsample': [0.4],\n",
    "#              'XGBoost__eta':[0.1]\n",
    "              }\n",
    "\n",
    "grid_search = GridSearchCV(pipe, param_grid, cv=cv, scoring = 'neg_mean_squared_error').fit(X_train, y_train)"
   ]
  },
  {
   "cell_type": "code",
   "execution_count": null,
   "metadata": {},
   "outputs": [],
   "source": [
    "grid_search.best_params_"
   ]
  },
  {
   "cell_type": "code",
   "execution_count": null,
   "metadata": {},
   "outputs": [],
   "source": [
    "y_predict = grid_search.predict(X_train)"
   ]
  },
  {
   "cell_type": "code",
   "execution_count": null,
   "metadata": {},
   "outputs": [],
   "source": [
    "import numpy as np\n",
    "from sklearn import metrics\n",
    "print()\n",
    "print('XGBOOST')\n",
    "print ('Results on train full')\n",
    "print('RMSLE : ', np.sqrt(metrics.mean_squared_log_error(y_train, y_predict)))\n",
    "print('MAE : ', metrics.mean_absolute_error(np.exp(y_train), np.exp(y_predict)))\n",
    "print()\n"
   ]
  },
  {
   "cell_type": "markdown",
   "metadata": {},
   "source": [
    "## Submission to Kaggle"
   ]
  },
  {
   "cell_type": "code",
   "execution_count": null,
   "metadata": {},
   "outputs": [],
   "source": [
    "y_predict_test = grid_search.predict(X_test)"
   ]
  },
  {
   "cell_type": "code",
   "execution_count": null,
   "metadata": {},
   "outputs": [],
   "source": [
    "X_test_id = pd.DataFrame(X_test_id)\n",
    "y_predict_test = pd.DataFrame(y_predict_test)\n",
    "y_predict_test = np.exp(y_predict_test)\n",
    "df_sub = X_test_id.join(y_predict_test)\n",
    "print(df_sub.shape)\n",
    "col_names_subm = df_sub.columns.values\n",
    "col_names_subm[1] = 'SalePrice'\n",
    "df_sub.columns = col_names_subm\n",
    "df_sub.head(5)"
   ]
  },
  {
   "cell_type": "code",
   "execution_count": null,
   "metadata": {},
   "outputs": [],
   "source": [
    "df_sub.to_csv('hp_allv3_xgbOpti_cvOpti.csv', index=False)"
   ]
  },
  {
   "cell_type": "code",
   "execution_count": null,
   "metadata": {},
   "outputs": [],
   "source": [
    "import kaggle\n",
    "submission_file = \"hp_allv3_xgbOpti_cvOpti.csv\"\n",
    "kaggle.api.competition_submit(submission_file, \"hp_allv3_xgb_opti_cvOptib\", \"house-prices-advanced-regression-techniques\")"
   ]
  },
  {
   "cell_type": "code",
   "execution_count": 46,
   "metadata": {},
   "outputs": [
    {
     "data": {
      "image/png": "[encoded data removed]",
      "text/plain": [
       "<IPython.core.display.Image object>"
      ]
     },
     "execution_count": 46,
     "metadata": {},
     "output_type": "execute_result"
    }
   ],
   "source": [
    "from IPython.display import Image\n",
    "Image(\"All-V3-XGBoost-pipe.PNG\")"
   ]
  },
  {
   "cell_type": "markdown",
   "metadata": {},
   "source": [
    "This best score \"0.12216\" is obtain from theses parameters :  \n",
    "    {'XGBoost__colsample_bytree': 0.5,  \n",
    "    'XGBoost__gamma': 0.0,  \n",
    "    'XGBoost__learning_rate': 0.1,  \n",
    "    'XGBoost__max_depth': 5,  \n",
    "    'XGBoost__min_child_weight': 5,  \n",
    "    'XGBoost__n_estimators': 500}\n",
    "and the model is saved by pickle"
   ]
  },
  {
   "cell_type": "markdown",
   "metadata": {},
   "source": [
    "## Save model"
   ]
  },
  {
   "cell_type": "code",
   "execution_count": null,
   "metadata": {},
   "outputs": [],
   "source": [
    "# save the model to disk\n",
    "import pickle\n",
    "filename = 'Model-XGBoostOpti-pipe.sav'\n",
    "pickle.dump(grid_search, open(filename, 'wb'))\n",
    "# load the model from disk\n",
    "#loaded_model = pickle.load(open(filename, 'rb'))\n",
    "#result = loaded_model.score(X_test, Y_test)\n",
    "#print(result)"
   ]
  },
  {
   "cell_type": "markdown",
   "metadata": {},
   "source": [
    "# XGBoost Optimized : Isolation forest "
   ]
  },
  {
   "cell_type": "markdown",
   "metadata": {},
   "source": [
    "## Dataset"
   ]
  },
  {
   "cell_type": "code",
   "execution_count": null,
   "metadata": {},
   "outputs": [],
   "source": [
    "X_train = X_train_full_v3.copy()\n",
    "y_train = y_train_full_v3.copy()\n",
    "\n",
    "X_test_id = X_test_id_v3.copy()\n",
    "X_test_id = pd.DataFrame(X_test_id)\n",
    "X_test = X_test_v3.copy()"
   ]
  },
  {
   "cell_type": "markdown",
   "metadata": {},
   "source": [
    "## Isolation forest method"
   ]
  },
  {
   "cell_type": "code",
   "execution_count": null,
   "metadata": {},
   "outputs": [],
   "source": [
    "#Run isolation forest before launching the model\n",
    "from sklearn.ensemble import IsolationForest\n",
    "import pandas as pd\n",
    "\n",
    "\n",
    "def outlier_prediction(x_train, y_train):\n",
    "        x_train = pd.DataFrame(x_train)\n",
    "        y_train = pd.DataFrame(y_train)\n",
    "        # The prediction returns 1 if sample point is inlier. If outlier prediction returns -1\n",
    "        rng = np.random.RandomState(42)\n",
    "        clf_all_features = IsolationForest(max_samples=100, random_state=rng)\n",
    "        clf_all_features.fit(x_train)\n",
    "\n",
    "        # Predict if a particular sample is an outlier using all features for higher dimensional data set.\n",
    "        y_pred_train = clf_all_features.predict(x_train)\n",
    "        y_pred_train = pd.DataFrame(y_pred_train)\n",
    "        \n",
    "        # Exclude suggested outlier samples for improvement of prediction power/score\n",
    "        #outlier_map_out_train = np.array(map(lambda x: x == 1, y_pred_train))\n",
    "        x_train_modified = x_train.join(y_pred_train)\n",
    "        y_train_modified = y_train.join(y_pred_train) \n",
    "        x_train_modified = x_train_modified[x_train_modified[0] == 1 ]\n",
    "        y_train_modified = y_train_modified[y_train_modified[0] == 1 ]\n",
    "        x_train_modified = x_train_modified.drop([0], axis =1)\n",
    "        y_train_modified = y_train_modified.drop([0], axis =1)\n",
    "        return x_train_modified, y_train_modified \n",
    "    \n",
    "X_train_byIf, y_train_byIf = outlier_prediction(X_train, y_train)\n",
    "\n",
    "print(X_train.shape)\n",
    "print(X_train_byIf.shape)\n",
    "print(y_train.shape)\n",
    "print(y_train_byIf.shape)\n"
   ]
  },
  {
   "cell_type": "code",
   "execution_count": null,
   "metadata": {},
   "outputs": [],
   "source": [
    "X_train = X_train_byIf.copy()\n",
    "y_train = y_train_byIf.copy()"
   ]
  },
  {
   "cell_type": "markdown",
   "metadata": {},
   "source": [
    "## Model optimized"
   ]
  },
  {
   "cell_type": "code",
   "execution_count": null,
   "metadata": {},
   "outputs": [],
   "source": [
    "#CV optimisation\n",
    "from sklearn.model_selection import ShuffleSplit\n",
    "cv = ShuffleSplit(n_splits=5, test_size=0.2, random_state=42)\n",
    "\n",
    "#Pipeline\n",
    "from sklearn.pipeline import Pipeline\n",
    "from sklearn.preprocessing import StandardScaler\n",
    "from sklearn.model_selection import GridSearchCV\n",
    "import xgboost as xgb\n",
    "\n",
    "pipe = Pipeline([('scalar', StandardScaler()),\n",
    "                 ('XGBoost', xgb.XGBRegressor())])\n",
    "\n",
    "param_grid = {'XGBoost__n_estimators': [300],\n",
    "              'XGBoost__max_depth': [3],\n",
    "              'XGBoost__learning_rate':[0.1],\n",
    "              'XGBoost__min_child_weight' : [3],\n",
    "              'XGBoost__gamma'            : [0.0],\n",
    "              'XGBoost__colsample_bytree' : [0.5], \n",
    "              'XGBoost__eta':[0.1]\n",
    "#              'XGBoost__reg_alpha':[1.1],\n",
    "#              'XGBoost__reg_lambda':[1],\n",
    "#              'XGBoost__subsample': [0.6],\n",
    "              }\n",
    "\n",
    "grid_search = GridSearchCV(pipe, param_grid, cv=cv, scoring = 'neg_mean_squared_error').fit(X_train, y_train)"
   ]
  },
  {
   "cell_type": "code",
   "execution_count": null,
   "metadata": {},
   "outputs": [],
   "source": [
    "grid_search.best_params_"
   ]
  },
  {
   "cell_type": "code",
   "execution_count": null,
   "metadata": {},
   "outputs": [],
   "source": [
    "y_predict = grid_search.predict(X_train)"
   ]
  },
  {
   "cell_type": "code",
   "execution_count": null,
   "metadata": {},
   "outputs": [],
   "source": [
    "import numpy as np\n",
    "from sklearn import metrics\n",
    "print()\n",
    "print('XGBOOST')\n",
    "print ('Results on train full')\n",
    "print('RMSLE : ', np.sqrt(metrics.mean_squared_log_error(y_train, y_predict)))\n",
    "print('MAE : ', metrics.mean_absolute_error(np.exp(y_train), np.exp(y_predict)))\n",
    "print()\n"
   ]
  },
  {
   "cell_type": "markdown",
   "metadata": {},
   "source": [
    "## Submission to Kaggle"
   ]
  },
  {
   "cell_type": "code",
   "execution_count": null,
   "metadata": {},
   "outputs": [],
   "source": [
    "y_predict_test = grid_search.predict(X_test)"
   ]
  },
  {
   "cell_type": "code",
   "execution_count": null,
   "metadata": {},
   "outputs": [],
   "source": [
    "X_test_id = pd.DataFrame(X_test_id)\n",
    "y_predict_test = pd.DataFrame(y_predict_test)\n",
    "y_predict_test = np.exp(y_predict_test)\n",
    "df_sub = X_test_id.join(y_predict_test)\n",
    "print(df_sub.shape)\n",
    "col_names_subm = df_sub.columns.values\n",
    "col_names_subm[1] = 'SalePrice'\n",
    "df_sub.columns = col_names_subm\n",
    "df_sub.head(5)"
   ]
  },
  {
   "cell_type": "code",
   "execution_count": null,
   "metadata": {},
   "outputs": [],
   "source": [
    "df_sub.to_csv('hp_allv3_xgbOpti_if.csv', index=False)"
   ]
  },
  {
   "cell_type": "code",
   "execution_count": null,
   "metadata": {},
   "outputs": [],
   "source": [
    "import kaggle\n",
    "submission_file = \"hp_allv3_xgbOpti_if.csv\"\n",
    "kaggle.api.competition_submit(submission_file, \"hp_allv3_xgb_opti_cvOpt_if\", \"house-prices-advanced-regression-techniques\")"
   ]
  },
  {
   "cell_type": "markdown",
   "metadata": {},
   "source": [
    "# XGBoost Optimized combined with Lasso model "
   ]
  },
  {
   "cell_type": "markdown",
   "metadata": {},
   "source": [
    "## Dataset"
   ]
  },
  {
   "cell_type": "code",
   "execution_count": 49,
   "metadata": {},
   "outputs": [],
   "source": [
    "X_train = X_train_full_v3.copy()\n",
    "y_train = y_train_full_v3.copy()\n",
    "\n",
    "X_test_id = X_test_id_v3.copy()\n",
    "X_test_id = pd.DataFrame(X_test_id)\n",
    "X_test = X_test_v3.copy()"
   ]
  },
  {
   "cell_type": "markdown",
   "metadata": {},
   "source": [
    "## Model Optimized"
   ]
  },
  {
   "cell_type": "code",
   "execution_count": 50,
   "metadata": {},
   "outputs": [
    {
     "name": "stdout",
     "output_type": "stream",
     "text": [
      "[12:23:22] WARNING: src/objective/regression_obj.cu:152: reg:linear is now deprecated in favor of reg:squarederror.\n",
      "[12:24:16] WARNING: src/objective/regression_obj.cu:152: reg:linear is now deprecated in favor of reg:squarederror.\n",
      "[12:25:11] WARNING: src/objective/regression_obj.cu:152: reg:linear is now deprecated in favor of reg:squarederror.\n",
      "[12:26:04] WARNING: src/objective/regression_obj.cu:152: reg:linear is now deprecated in favor of reg:squarederror.\n",
      "[12:26:56] WARNING: src/objective/regression_obj.cu:152: reg:linear is now deprecated in favor of reg:squarederror.\n",
      "[12:27:51] WARNING: src/objective/regression_obj.cu:152: reg:linear is now deprecated in favor of reg:squarederror.\n"
     ]
    }
   ],
   "source": [
    "#XGboost Regressor\n",
    "\n",
    "#Pipeline\n",
    "from sklearn.pipeline import Pipeline\n",
    "from sklearn.preprocessing import StandardScaler\n",
    "from sklearn.model_selection import GridSearchCV\n",
    "import xgboost as xgb\n",
    "\n",
    "pipe = Pipeline([('scalar', StandardScaler()),\n",
    "                 ('XGBoost', xgb.XGBRegressor())])\n",
    "\n",
    "param_grid = {'XGBoost__n_estimators': [5000],\n",
    "              'XGBoost__max_depth': [4],\n",
    "              'XGBoost__learning_rate':[0.1],\n",
    "              'XGBoost__min_child_weight' : [3],\n",
    "              'XGBoost__gamma'            : [0.0],\n",
    "              'XGBoost__colsample_bytree' : [0.5], \n",
    "                 }\n",
    "\n",
    "grid_search = GridSearchCV(pipe, param_grid, cv=5, scoring = 'neg_mean_squared_error').fit(X_train, y_train)\n",
    "y_predict_test_xgBoost = grid_search.predict(X_test)"
   ]
  },
  {
   "cell_type": "code",
   "execution_count": 53,
   "metadata": {},
   "outputs": [
    {
     "name": "stderr",
     "output_type": "stream",
     "text": [
      "/Users/Aro/opt/anaconda3/envs/HousePrices/lib/python3.7/site-packages/sklearn/linear_model/coordinate_descent.py:475: ConvergenceWarning: Objective did not converge. You might want to increase the number of iterations. Duality gap: 0.05159771987646522, tolerance: 0.021832644216397017\n",
      "  positive)\n",
      "/Users/Aro/opt/anaconda3/envs/HousePrices/lib/python3.7/site-packages/sklearn/linear_model/coordinate_descent.py:475: ConvergenceWarning: Objective did not converge. You might want to increase the number of iterations. Duality gap: 0.06950948070256757, tolerance: 0.021832644216397017\n",
      "  positive)\n",
      "/Users/Aro/opt/anaconda3/envs/HousePrices/lib/python3.7/site-packages/sklearn/linear_model/coordinate_descent.py:475: ConvergenceWarning: Objective did not converge. You might want to increase the number of iterations. Duality gap: 0.08335311506734655, tolerance: 0.021832644216397017\n",
      "  positive)\n",
      "/Users/Aro/opt/anaconda3/envs/HousePrices/lib/python3.7/site-packages/sklearn/linear_model/coordinate_descent.py:475: ConvergenceWarning: Objective did not converge. You might want to increase the number of iterations. Duality gap: 0.02794447925256094, tolerance: 0.021886524231130015\n",
      "  positive)\n",
      "/Users/Aro/opt/anaconda3/envs/HousePrices/lib/python3.7/site-packages/sklearn/linear_model/coordinate_descent.py:475: ConvergenceWarning: Objective did not converge. You might want to increase the number of iterations. Duality gap: 0.14016833195363532, tolerance: 0.02213886596040375\n",
      "  positive)\n",
      "/Users/Aro/opt/anaconda3/envs/HousePrices/lib/python3.7/site-packages/sklearn/linear_model/coordinate_descent.py:475: ConvergenceWarning: Objective did not converge. You might want to increase the number of iterations. Duality gap: 0.027913646381058754, tolerance: 0.021886524231130015\n",
      "  positive)\n",
      "/Users/Aro/opt/anaconda3/envs/HousePrices/lib/python3.7/site-packages/sklearn/linear_model/coordinate_descent.py:475: ConvergenceWarning: Objective did not converge. You might want to increase the number of iterations. Duality gap: 0.02468630414544748, tolerance: 0.02146201297370042\n",
      "  positive)\n",
      "/Users/Aro/opt/anaconda3/envs/HousePrices/lib/python3.7/site-packages/sklearn/linear_model/coordinate_descent.py:475: ConvergenceWarning: Objective did not converge. You might want to increase the number of iterations. Duality gap: 0.024905089902429012, tolerance: 0.021470654341151654\n",
      "  positive)\n",
      "/Users/Aro/opt/anaconda3/envs/HousePrices/lib/python3.7/site-packages/sklearn/linear_model/coordinate_descent.py:475: ConvergenceWarning: Objective did not converge. You might want to increase the number of iterations. Duality gap: 0.0269538277612007, tolerance: 0.021355450561639663\n",
      "  positive)\n",
      "/Users/Aro/opt/anaconda3/envs/HousePrices/lib/python3.7/site-packages/sklearn/linear_model/coordinate_descent.py:475: ConvergenceWarning: Objective did not converge. You might want to increase the number of iterations. Duality gap: 0.14422017905176787, tolerance: 0.02213886596040375\n",
      "  positive)\n",
      "/Users/Aro/opt/anaconda3/envs/HousePrices/lib/python3.7/site-packages/sklearn/linear_model/coordinate_descent.py:475: ConvergenceWarning: Objective did not converge. You might want to increase the number of iterations. Duality gap: 0.024859520966497684, tolerance: 0.021772933356862933\n",
      "  positive)\n",
      "/Users/Aro/opt/anaconda3/envs/HousePrices/lib/python3.7/site-packages/sklearn/linear_model/coordinate_descent.py:475: ConvergenceWarning: Objective did not converge. You might want to increase the number of iterations. Duality gap: 0.03363987880343089, tolerance: 0.021718571393192408\n",
      "  positive)\n",
      "/Users/Aro/opt/anaconda3/envs/HousePrices/lib/python3.7/site-packages/sklearn/linear_model/coordinate_descent.py:475: ConvergenceWarning: Objective did not converge. You might want to increase the number of iterations. Duality gap: 0.03418424013841914, tolerance: 0.021846307484055017\n",
      "  positive)\n",
      "/Users/Aro/opt/anaconda3/envs/HousePrices/lib/python3.7/site-packages/sklearn/linear_model/coordinate_descent.py:475: ConvergenceWarning: Objective did not converge. You might want to increase the number of iterations. Duality gap: 0.17309930628770687, tolerance: 0.021886524231130015\n",
      "  positive)\n",
      "/Users/Aro/opt/anaconda3/envs/HousePrices/lib/python3.7/site-packages/sklearn/linear_model/coordinate_descent.py:475: ConvergenceWarning: Objective did not converge. You might want to increase the number of iterations. Duality gap: 0.03680780493811753, tolerance: 0.02146201297370042\n",
      "  positive)\n",
      "/Users/Aro/opt/anaconda3/envs/HousePrices/lib/python3.7/site-packages/sklearn/linear_model/coordinate_descent.py:475: ConvergenceWarning: Objective did not converge. You might want to increase the number of iterations. Duality gap: 0.03175693079949227, tolerance: 0.021573984842693968\n",
      "  positive)\n",
      "/Users/Aro/opt/anaconda3/envs/HousePrices/lib/python3.7/site-packages/sklearn/linear_model/coordinate_descent.py:475: ConvergenceWarning: Objective did not converge. You might want to increase the number of iterations. Duality gap: 0.03925927785912364, tolerance: 0.021470654341151654\n",
      "  positive)\n",
      "/Users/Aro/opt/anaconda3/envs/HousePrices/lib/python3.7/site-packages/sklearn/linear_model/coordinate_descent.py:475: ConvergenceWarning: Objective did not converge. You might want to increase the number of iterations. Duality gap: 0.032884282293903055, tolerance: 0.02149891405421904\n",
      "  positive)\n",
      "/Users/Aro/opt/anaconda3/envs/HousePrices/lib/python3.7/site-packages/sklearn/linear_model/coordinate_descent.py:475: ConvergenceWarning: Objective did not converge. You might want to increase the number of iterations. Duality gap: 0.03979693669875317, tolerance: 0.021355450561639663\n",
      "  positive)\n",
      "/Users/Aro/opt/anaconda3/envs/HousePrices/lib/python3.7/site-packages/sklearn/linear_model/coordinate_descent.py:475: ConvergenceWarning: Objective did not converge. You might want to increase the number of iterations. Duality gap: 0.16964218270677733, tolerance: 0.02213886596040375\n",
      "  positive)\n",
      "/Users/Aro/opt/anaconda3/envs/HousePrices/lib/python3.7/site-packages/sklearn/linear_model/coordinate_descent.py:475: ConvergenceWarning: Objective did not converge. You might want to increase the number of iterations. Duality gap: 0.03721711866978694, tolerance: 0.021772933356862933\n",
      "  positive)\n",
      "/Users/Aro/opt/anaconda3/envs/HousePrices/lib/python3.7/site-packages/sklearn/linear_model/coordinate_descent.py:475: ConvergenceWarning: Objective did not converge. You might want to increase the number of iterations. Duality gap: 0.03539319458329615, tolerance: 0.021627904479280074\n",
      "  positive)\n",
      "/Users/Aro/opt/anaconda3/envs/HousePrices/lib/python3.7/site-packages/sklearn/linear_model/coordinate_descent.py:475: ConvergenceWarning: Objective did not converge. You might want to increase the number of iterations. Duality gap: 0.03167549227630673, tolerance: 0.022175660912790548\n",
      "  positive)\n",
      "/Users/Aro/opt/anaconda3/envs/HousePrices/lib/python3.7/site-packages/sklearn/linear_model/coordinate_descent.py:475: ConvergenceWarning: Objective did not converge. You might want to increase the number of iterations. Duality gap: 0.0339314138737663, tolerance: 0.021832644216397017\n",
      "  positive)\n",
      "/Users/Aro/opt/anaconda3/envs/HousePrices/lib/python3.7/site-packages/sklearn/linear_model/coordinate_descent.py:475: ConvergenceWarning: Objective did not converge. You might want to increase the number of iterations. Duality gap: 0.032684208022235595, tolerance: 0.02169386978950379\n",
      "  positive)\n",
      "/Users/Aro/opt/anaconda3/envs/HousePrices/lib/python3.7/site-packages/sklearn/linear_model/coordinate_descent.py:475: ConvergenceWarning: Objective did not converge. You might want to increase the number of iterations. Duality gap: 0.03279892801221962, tolerance: 0.021842258838774144\n",
      "  positive)\n",
      "/Users/Aro/opt/anaconda3/envs/HousePrices/lib/python3.7/site-packages/sklearn/linear_model/coordinate_descent.py:475: ConvergenceWarning: Objective did not converge. You might want to increase the number of iterations. Duality gap: 0.031195287436148078, tolerance: 0.021718571393192408\n",
      "  positive)\n",
      "/Users/Aro/opt/anaconda3/envs/HousePrices/lib/python3.7/site-packages/sklearn/linear_model/coordinate_descent.py:475: ConvergenceWarning: Objective did not converge. You might want to increase the number of iterations. Duality gap: 0.027705611109972494, tolerance: 0.021886524231130015\n",
      "  positive)\n"
     ]
    },
    {
     "name": "stderr",
     "output_type": "stream",
     "text": [
      "/Users/Aro/opt/anaconda3/envs/HousePrices/lib/python3.7/site-packages/sklearn/linear_model/coordinate_descent.py:475: ConvergenceWarning: Objective did not converge. You might want to increase the number of iterations. Duality gap: 0.02317106695604565, tolerance: 0.02146201297370042\n",
      "  positive)\n",
      "/Users/Aro/opt/anaconda3/envs/HousePrices/lib/python3.7/site-packages/sklearn/linear_model/coordinate_descent.py:475: ConvergenceWarning: Objective did not converge. You might want to increase the number of iterations. Duality gap: 0.03245809279820833, tolerance: 0.021573984842693968\n",
      "  positive)\n",
      "/Users/Aro/opt/anaconda3/envs/HousePrices/lib/python3.7/site-packages/sklearn/linear_model/coordinate_descent.py:475: ConvergenceWarning: Objective did not converge. You might want to increase the number of iterations. Duality gap: 0.026597497507033552, tolerance: 0.02149891405421904\n",
      "  positive)\n",
      "/Users/Aro/opt/anaconda3/envs/HousePrices/lib/python3.7/site-packages/sklearn/linear_model/coordinate_descent.py:475: ConvergenceWarning: Objective did not converge. You might want to increase the number of iterations. Duality gap: 0.050869575013216206, tolerance: 0.021355450561639663\n",
      "  positive)\n",
      "/Users/Aro/opt/anaconda3/envs/HousePrices/lib/python3.7/site-packages/sklearn/linear_model/coordinate_descent.py:475: ConvergenceWarning: Objective did not converge. You might want to increase the number of iterations. Duality gap: 0.034391840571487364, tolerance: 0.02213886596040375\n",
      "  positive)\n",
      "/Users/Aro/opt/anaconda3/envs/HousePrices/lib/python3.7/site-packages/sklearn/linear_model/coordinate_descent.py:475: ConvergenceWarning: Objective did not converge. You might want to increase the number of iterations. Duality gap: 0.023819435263490618, tolerance: 0.021772933356862933\n",
      "  positive)\n",
      "/Users/Aro/opt/anaconda3/envs/HousePrices/lib/python3.7/site-packages/sklearn/linear_model/coordinate_descent.py:475: ConvergenceWarning: Objective did not converge. You might want to increase the number of iterations. Duality gap: 0.029060461074791988, tolerance: 0.022175660912790548\n",
      "  positive)\n",
      "/Users/Aro/opt/anaconda3/envs/HousePrices/lib/python3.7/site-packages/sklearn/linear_model/coordinate_descent.py:475: ConvergenceWarning: Objective did not converge. You might want to increase the number of iterations. Duality gap: 0.027703959123314803, tolerance: 0.021832644216397017\n",
      "  positive)\n",
      "/Users/Aro/opt/anaconda3/envs/HousePrices/lib/python3.7/site-packages/sklearn/linear_model/coordinate_descent.py:475: ConvergenceWarning: Objective did not converge. You might want to increase the number of iterations. Duality gap: 0.029365713630042478, tolerance: 0.02169386978950379\n",
      "  positive)\n",
      "/Users/Aro/opt/anaconda3/envs/HousePrices/lib/python3.7/site-packages/sklearn/linear_model/coordinate_descent.py:475: ConvergenceWarning: Objective did not converge. You might want to increase the number of iterations. Duality gap: 0.03033892358590151, tolerance: 0.021842258838774144\n",
      "  positive)\n"
     ]
    },
    {
     "name": "stdout",
     "output_type": "stream",
     "text": [
      "The best value of Alpha is:  {'alpha': 0.0009} neg_mean_squared_error -0.015100653673886506\n"
     ]
    }
   ],
   "source": [
    "# Lasso Regression\n",
    "from sklearn.linear_model import Lasso\n",
    "from sklearn.model_selection import GridSearchCV\n",
    "parameters= {'alpha':[0.0001,0.0002,0.0003,0.0004,0.0009,0.001,0.002,0.003,0.01,0.1,1,10,100]}\n",
    "\n",
    "lasso=Lasso()\n",
    "lasso_reg=GridSearchCV(lasso, param_grid=parameters, scoring='neg_mean_squared_error', cv=15)\n",
    "lasso_reg.fit(X_train,y_train)\n",
    "print('The best value of Alpha is: ',lasso_reg.best_params_,'neg_mean_squared_error',lasso_reg.best_score_)\n",
    "y_predict_test_lasso = lasso_reg.predict(X_test)"
   ]
  },
  {
   "cell_type": "code",
   "execution_count": 54,
   "metadata": {},
   "outputs": [],
   "source": [
    "y_predict_test = (y_predict_test_lasso + y_predict_test_xgBoost) / 2"
   ]
  },
  {
   "cell_type": "markdown",
   "metadata": {},
   "source": [
    "## Submission to Kaggle"
   ]
  },
  {
   "cell_type": "code",
   "execution_count": 55,
   "metadata": {},
   "outputs": [
    {
     "name": "stdout",
     "output_type": "stream",
     "text": [
      "(1459, 2)\n"
     ]
    },
    {
     "data": {
      "text/html": [
       "<div>\n",
       "<style scoped>\n",
       "    .dataframe tbody tr th:only-of-type {\n",
       "        vertical-align: middle;\n",
       "    }\n",
       "\n",
       "    .dataframe tbody tr th {\n",
       "        vertical-align: top;\n",
       "    }\n",
       "\n",
       "    .dataframe thead th {\n",
       "        text-align: right;\n",
       "    }\n",
       "</style>\n",
       "<table border=\"1\" class=\"dataframe\">\n",
       "  <thead>\n",
       "    <tr style=\"text-align: right;\">\n",
       "      <th></th>\n",
       "      <th>Id</th>\n",
       "      <th>SalePrice</th>\n",
       "    </tr>\n",
       "  </thead>\n",
       "  <tbody>\n",
       "    <tr>\n",
       "      <th>0</th>\n",
       "      <td>1461</td>\n",
       "      <td>125502.418149</td>\n",
       "    </tr>\n",
       "    <tr>\n",
       "      <th>1</th>\n",
       "      <td>1462</td>\n",
       "      <td>150858.700537</td>\n",
       "    </tr>\n",
       "    <tr>\n",
       "      <th>2</th>\n",
       "      <td>1463</td>\n",
       "      <td>187989.997321</td>\n",
       "    </tr>\n",
       "    <tr>\n",
       "      <th>3</th>\n",
       "      <td>1464</td>\n",
       "      <td>203417.256174</td>\n",
       "    </tr>\n",
       "    <tr>\n",
       "      <th>4</th>\n",
       "      <td>1465</td>\n",
       "      <td>184087.178626</td>\n",
       "    </tr>\n",
       "  </tbody>\n",
       "</table>\n",
       "</div>"
      ],
      "text/plain": [
       "     Id      SalePrice\n",
       "0  1461  125502.418149\n",
       "1  1462  150858.700537\n",
       "2  1463  187989.997321\n",
       "3  1464  203417.256174\n",
       "4  1465  184087.178626"
      ]
     },
     "execution_count": 55,
     "metadata": {},
     "output_type": "execute_result"
    }
   ],
   "source": [
    "X_test_id = pd.DataFrame(X_test_id)\n",
    "y_predict_test = pd.DataFrame(y_predict_test)\n",
    "y_predict_test = np.exp(y_predict_test)\n",
    "df_sub = X_test_id.join(y_predict_test)\n",
    "print(df_sub.shape)\n",
    "col_names_subm = df_sub.columns.values\n",
    "col_names_subm[1] = 'SalePrice'\n",
    "df_sub.columns = col_names_subm\n",
    "df_sub.head(5)"
   ]
  },
  {
   "cell_type": "code",
   "execution_count": 56,
   "metadata": {},
   "outputs": [],
   "source": [
    "df_sub.to_csv('hp_allv3_XgBoostLassoOpti2.csv', index=False)"
   ]
  },
  {
   "cell_type": "code",
   "execution_count": null,
   "metadata": {},
   "outputs": [],
   "source": [
    "import kaggle\n",
    "submission_file = \"hp_allv3_XgBoostLassoOpti2.csv\"\n",
    "kaggle.api.competition_submit(submission_file, \"all_v3-XgBoostLassoOpti2\", \"house-prices-advanced-regression-techniques\")\n"
   ]
  },
  {
   "cell_type": "code",
   "execution_count": 57,
   "metadata": {},
   "outputs": [
    {
     "data": {
      "image/png": "[encoded data removed]",
      "text/plain": [
       "<IPython.core.display.Image object>"
      ]
     },
     "execution_count": 57,
     "metadata": {},
     "output_type": "execute_result"
    }
   ],
   "source": [
    "from IPython.display import Image\n",
    "Image(\"All-V3-XGBoostLasso.PNG\")"
   ]
  },
  {
   "cell_type": "markdown",
   "metadata": {},
   "source": [
    "# XGBoost with a PCA"
   ]
  },
  {
   "cell_type": "markdown",
   "metadata": {},
   "source": [
    "## Learning"
   ]
  },
  {
   "cell_type": "code",
   "execution_count": null,
   "metadata": {
    "ExecuteTime": {
     "end_time": "2019-12-04T07:54:48.592991Z",
     "start_time": "2019-12-04T07:54:48.584594Z"
    }
   },
   "outputs": [],
   "source": [
    "X_train = X_train_v3.copy()\n",
    "y_train = y_train_v3.copy()\n",
    "X_val = X_val_v3.copy()\n",
    "y_val = y_val_v3.copy()\n",
    "\n",
    "print(X_train.shape)\n",
    "print(y_train.shape)\n",
    "print(X_val.shape)\n",
    "print(y_val.shape)"
   ]
  },
  {
   "cell_type": "code",
   "execution_count": null,
   "metadata": {
    "ExecuteTime": {
     "end_time": "2019-12-04T07:59:40.538982Z",
     "start_time": "2019-12-04T07:59:40.456159Z"
    }
   },
   "outputs": [],
   "source": [
    "#Instantiate model -full\n",
    "from sklearn.decomposition import PCA\n",
    "pca_model = PCA()\n",
    "#inputs = X_train_pca.iloc[:,1:]\n",
    "\n",
    "pca_model.fit(X_train)\n",
    "\n",
    "cumsum = np.cumsum(pca_model.explained_variance_ratio_)\n",
    "nb_dim95 = np.argmax(cumsum >= 0.95) + 1\n",
    "print(\"Dimension number\", X_train.shape[1]-1)\n",
    "print(\"PC1, contribution of variance :\", pca_model.explained_variance_ratio_[0])\n",
    "print(\"PC2, contribution of variance :\", pca_model.explained_variance_ratio_[1])\n",
    "print(\"PC3, contribution of variance :\", pca_model.explained_variance_ratio_[2])\n",
    "print(\"Dimension number, explaining 95% of variance :\", nb_dim95)\n"
   ]
  },
  {
   "cell_type": "code",
   "execution_count": null,
   "metadata": {
    "ExecuteTime": {
     "end_time": "2019-12-04T07:59:46.304378Z",
     "start_time": "2019-12-04T07:59:43.173146Z"
    }
   },
   "outputs": [],
   "source": [
    "plt.plot(np.cumsum(pca_model.explained_variance_ratio_))\n",
    "plt.xlabel('number of components')\n",
    "plt.ylabel('cumulative explained variance');"
   ]
  },
  {
   "cell_type": "code",
   "execution_count": null,
   "metadata": {},
   "outputs": [],
   "source": [
    "nb_dim95 = 100"
   ]
  },
  {
   "cell_type": "code",
   "execution_count": null,
   "metadata": {
    "ExecuteTime": {
     "end_time": "2019-12-04T07:59:52.401879Z",
     "start_time": "2019-12-04T07:59:52.354319Z"
    }
   },
   "outputs": [],
   "source": [
    "pca_dims = PCA(n_components=nb_dim95)\n",
    "X_train_pca = pca_dims.fit_transform(X_train)\n",
    "X_val_pca = pca_dims.fit_transform(X_val)"
   ]
  },
  {
   "cell_type": "code",
   "execution_count": null,
   "metadata": {
    "ExecuteTime": {
     "end_time": "2019-12-04T07:59:56.737415Z",
     "start_time": "2019-12-04T07:59:56.647393Z"
    }
   },
   "outputs": [],
   "source": [
    "#model\n",
    "import xgboost as xgb\n",
    "model_pca = xgb.XGBRegressor()\n",
    "model_pca.fit(X_train_pca,y_train)"
   ]
  },
  {
   "cell_type": "code",
   "execution_count": null,
   "metadata": {
    "ExecuteTime": {
     "end_time": "2019-12-04T08:00:03.551647Z",
     "start_time": "2019-12-04T08:00:03.526310Z"
    }
   },
   "outputs": [],
   "source": [
    "#Evaluation on train\n",
    "import numpy as np\n",
    "from sklearn import metrics\n",
    "\n",
    "y_train_pca_pred = model_pca.predict(X_train_pca)\n",
    "y_val_pca_pred = model_pca.predict(X_val_pca)\n",
    "\n",
    "print ('Results on train')\n",
    "print('RMSLE : ', np.sqrt(metrics.mean_squared_log_error(y_train, y_train_pca_pred)))\n",
    "print('MAE : ', metrics.mean_absolute_error(np.exp(y_train), np.exp(y_train_pca_pred)))\n",
    "print()\n",
    "\n",
    "print ('Results on val')\n",
    "print('RMSLE : ', np.sqrt(metrics.mean_squared_log_error(y_val, y_val_pca_pred)))\n",
    "print('MAE : ', metrics.mean_absolute_error(np.exp(y_val), np.exp(y_val_pca_pred)))\n",
    "print()"
   ]
  },
  {
   "cell_type": "markdown",
   "metadata": {},
   "source": [
    "## Submission on Kaggle"
   ]
  },
  {
   "cell_type": "code",
   "execution_count": null,
   "metadata": {},
   "outputs": [],
   "source": [
    "X_train = X_train_full_v3.copy()\n",
    "y_train = y_train_full_v3.copy()\n",
    "\n",
    "X_test_id = X_test_id_v3.copy()\n",
    "X_test_id = pd.DataFrame(X_test_id)\n",
    "X_test = X_test_v3.copy()\n",
    "\n",
    "print(X_train.shape)\n",
    "print(y_train.shape)\n",
    "print (X_test.shape)"
   ]
  },
  {
   "cell_type": "code",
   "execution_count": null,
   "metadata": {},
   "outputs": [],
   "source": [
    "nb_dim95 = 100"
   ]
  },
  {
   "cell_type": "code",
   "execution_count": null,
   "metadata": {},
   "outputs": [],
   "source": [
    "pca_dims = PCA(n_components=nb_dim95)\n",
    "X_train_pca = pca_dims.fit_transform(X_train)\n",
    "X_test_pca = pca_dims.fit_transform(X_test)"
   ]
  },
  {
   "cell_type": "code",
   "execution_count": null,
   "metadata": {},
   "outputs": [],
   "source": [
    "#model\n",
    "import xgboost as xgb\n",
    "model_pca = xgb.XGBRegressor()\n",
    "model_pca.fit(X_train_pca,y_train)"
   ]
  },
  {
   "cell_type": "code",
   "execution_count": null,
   "metadata": {},
   "outputs": [],
   "source": [
    "y_train_pca_pred = model_pca.predict(X_train_pca)\n",
    "y_test_pca_pred = model_pca.predict(X_test_pca)\n",
    "\n",
    "print ('Results on train')\n",
    "print('RMSLE : ', np.sqrt(metrics.mean_squared_log_error(y_train, y_train_pca_pred)))\n",
    "print('MAE : ', metrics.mean_absolute_error(np.exp(y_train), np.exp(y_train_pca_pred)))"
   ]
  },
  {
   "cell_type": "code",
   "execution_count": null,
   "metadata": {},
   "outputs": [],
   "source": [
    "X_test_id = pd.DataFrame(X_test_id)\n",
    "y_test_pca_pred = pd.DataFrame(y_test_pca_pred)\n",
    "y_test_pca_pred = np.exp(y_test_pca_pred)\n",
    "df_sub = X_test_id.join(y_test_pca_pred)\n",
    "print(df_sub.shape)\n",
    "col_names_subm = df_sub.columns.values\n",
    "col_names_subm[1] = 'SalePrice'\n",
    "df_sub.columns = col_names_subm\n",
    "df_sub.head(5)"
   ]
  },
  {
   "cell_type": "code",
   "execution_count": null,
   "metadata": {},
   "outputs": [],
   "source": [
    "df_sub.to_csv('hp_allv3-pca_xgb.csv', index=False)\n",
    "import kaggle\n",
    "submission_file = \"hp_allv3-pca_xgb.csv\"\n",
    "kaggle.api.competition_submit(submission_file, \"all_v3-pca_xgb\", \"house-prices-advanced-regression-techniques\")"
   ]
  },
  {
   "cell_type": "code",
   "execution_count": null,
   "metadata": {},
   "outputs": [],
   "source": [
    "from IPython.display import Image\n",
    "Image(\"All-V3-PCA100-XGBoost.PNG\")"
   ]
  },
  {
   "cell_type": "markdown",
   "metadata": {},
   "source": [
    "# KERAS"
   ]
  },
  {
   "cell_type": "markdown",
   "metadata": {},
   "source": [
    "Read more on [Keras](https://keras.io/models/sequential/) "
   ]
  },
  {
   "cell_type": "markdown",
   "metadata": {},
   "source": [
    "## Learning"
   ]
  },
  {
   "cell_type": "markdown",
   "metadata": {},
   "source": [
    "### Test NN with no hidden layers"
   ]
  },
  {
   "cell_type": "code",
   "execution_count": null,
   "metadata": {},
   "outputs": [],
   "source": [
    "X_train = X_train_v3.copy()\n",
    "y_train = y_train_v3.copy()\n",
    "\n",
    "X_val = X_val_v3.copy()\n",
    "y_val = y_val_v3.copy()"
   ]
  },
  {
   "cell_type": "code",
   "execution_count": null,
   "metadata": {
    "ExecuteTime": {
     "end_time": "2019-12-10T06:56:30.730300Z",
     "start_time": "2019-12-10T06:56:26.153643Z"
    },
    "cell_style": "center"
   },
   "outputs": [],
   "source": [
    "import numpy as np\n",
    "import keras\n",
    "from tensorflow.keras.models import Sequential\n",
    "from tensorflow.keras.layers import Input\n",
    "from tensorflow.keras.layers import Dense\n",
    "from keras import regularizers\n",
    "\n",
    "#to generate the same number every time you need to pass the same seed value every time\n",
    "#Make results reproducible -> fix seed of TensorFlow's random number generator\n",
    "keras.backend.clear_session()\n",
    "from numpy import random as np_random\n",
    "np_random.seed(42)\n",
    "from tensorflow import random as tf_random\n",
    "tf_random.set_seed(42)\n",
    "\n",
    "\n",
    "from sklearn.preprocessing import StandardScaler\n",
    "scaler = StandardScaler()\n",
    "X_train_transf = scaler.fit_transform(X_train)\n",
    "y_train_log = y_train.copy()\n",
    "y_train_log_transf = scaler.fit_transform(y_train_log)\n",
    "\n",
    "X_val_transf = scaler.fit_transform(X_val)\n",
    "y_val_log = y_val.copy()\n",
    "y_val_log_transf = scaler.fit_transform(y_val_log)\n",
    "\n",
    "\n",
    "model = Sequential([\n",
    "                    Input(shape=X_train.shape[1:]),\n",
    "                    Dense(1)\n",
    "                  ])\n",
    "model.add(Dense(1))\n",
    "\n",
    "from tensorflow.keras.optimizers import SGD\n",
    "loss ='mean_squared_logarithmic_error'\n",
    "LEARNING_RATE = 0.01\n",
    "model.compile(loss=loss, optimizer=SGD(lr=LEARNING_RATE))\n",
    "history = model.fit(X_train_transf, \n",
    "                    y_train_log_transf, \n",
    "                    validation_data=(X_val_transf, y_val_log_transf), \n",
    "                    epochs=200, \n",
    "                    batch_size=X_train.shape[0], \n",
    "                    verbose=0)\n",
    "\n",
    "\n",
    "import pandas as pd\n",
    "import numpy as np\n",
    "\n",
    "pd.DataFrame(history.history).plot(figsize=(8, 5))\n",
    "plt.grid(True)\n",
    "plt.title('Model performance throughout training')\n",
    "plt.ylim(0,0.5)\n",
    "plt.ylabel('Loss')\n",
    "plt.xlabel('epoch')\n",
    "plt.show()\n",
    "\n",
    "print('Loss metrics on the model')\n",
    "meanValLoss = np.mean(np.sqrt(history.history['val_loss']))\n",
    "minValLoss = np.min(np.sqrt(history.history['val_loss']))\n",
    "print('Mean on Val loss',meanValLoss )\n",
    "print('Min on Val loss',minValLoss )\n",
    "print()\n",
    "\n",
    "from sklearn.preprocessing import StandardScaler\n",
    "from sklearn import metrics\n",
    "\n",
    "print('Performance on train')\n",
    "y_train_predict_log_transf = model.predict(X_train_transf)\n",
    "scaler = StandardScaler()\n",
    "y_train_log_transf_xxx = scaler.fit_transform(y_train)\n",
    "y_train_predict_log  = scaler.inverse_transform(y_train_predict_log_transf)\n",
    "y_train_predict  = y_train_predict_log.copy()\n",
    "print('RMSLE on Train set: ', np.sqrt(metrics.mean_squared_log_error(y_train, y_train_predict)))\n",
    "print('MAE on Train set: ', metrics.mean_absolute_error(np.exp(y_train), np.exp(y_train_predict)))\n",
    "\n",
    "\n",
    "print('Performance on val')\n",
    "y_val_predict_log_transf = model.predict(X_val_transf)\n",
    "scaler = StandardScaler()\n",
    "y_val_log_transf_xxx = scaler.fit_transform(y_val)\n",
    "y_val_predict_log  = scaler.inverse_transform(y_val_predict_log_transf)\n",
    "y_val_predict  = y_val_predict_log.copy()\n",
    "print('RMSLE on val set: ', np.sqrt(metrics.mean_squared_log_error(y_val, y_val_predict)))\n",
    "print('MAE on val set: ', metrics.mean_absolute_error(np.exp(y_val), np.exp(y_val_predict)))\n",
    "\n"
   ]
  },
  {
   "cell_type": "code",
   "execution_count": null,
   "metadata": {},
   "outputs": [],
   "source": [
    "keras.utils.plot_model(model, \"my_model.png\", show_shapes=True)"
   ]
  },
  {
   "cell_type": "markdown",
   "metadata": {
    "cell_style": "center"
   },
   "source": [
    "### Test NN with several Hidden Layers"
   ]
  },
  {
   "cell_type": "code",
   "execution_count": null,
   "metadata": {},
   "outputs": [],
   "source": [
    "X_train = X_train_v3.copy()\n",
    "y_train = y_train_v3.copy()\n",
    "\n",
    "X_val = X_val_v3.copy()\n",
    "y_val = y_val_v3.copy()"
   ]
  },
  {
   "cell_type": "code",
   "execution_count": null,
   "metadata": {
    "ExecuteTime": {
     "end_time": "2019-12-10T07:01:52.541482Z",
     "start_time": "2019-12-10T07:01:44.427288Z"
    }
   },
   "outputs": [],
   "source": [
    "\n",
    "import numpy as np\n",
    "import keras\n",
    "from tensorflow.keras.models import Sequential\n",
    "from tensorflow.keras.layers import Input\n",
    "from tensorflow.keras.layers import Dense\n",
    "from keras import regularizers\n",
    "\n",
    "#to generate the same number every time you need to pass the same seed value every time\n",
    "#Make results reproducible -> fix seed of TensorFlow's random number generator\n",
    "keras.backend.clear_session()\n",
    "from numpy import random as np_random\n",
    "np_random.seed(42)\n",
    "from tensorflow import random as tf_random\n",
    "tf_random.set_seed(42)\n",
    "\n",
    "\n",
    "from sklearn.preprocessing import StandardScaler\n",
    "\n",
    "scaler = StandardScaler()\n",
    "X_train_transf = scaler.fit_transform(X_train)\n",
    "y_train_log = y_train.copy()\n",
    "y_train_log_transf = scaler.fit_transform(y_train_log)\n",
    "\n",
    "X_val_transf = scaler.fit_transform(X_val)\n",
    "y_val_log = y_val.copy()\n",
    "y_val_log_transf = scaler.fit_transform(y_val_log)\n",
    "\n",
    "\n",
    "n_input = X_train.shape[1]\n",
    "model = Sequential([\n",
    "    Input(shape=n_input),\n",
    "    Dense(n_input, activation='relu'),\n",
    "#    Dense(n_input*2, activation='relu'),\n",
    "#    Dense(n_input*2, activation='relu'),\n",
    "#    Dense(n_input, activation='relu'),\n",
    "#   Dense(n_input/2, activation='relu'),  \n",
    "    Dense(1)\n",
    "])\n",
    "\n",
    "from tensorflow.keras.optimizers import SGD\n",
    "loss ='mean_squared_logarithmic_error'\n",
    "LEARNING_RATE = 0.01\n",
    "model.compile(loss=loss, optimizer=SGD(lr=LEARNING_RATE))\n",
    "history = model.fit(X_train_transf, \n",
    "                    y_train_log_transf, \n",
    "                    validation_data=(X_val_transf, y_val_log_transf), \n",
    "                    epochs=200, \n",
    "                    batch_size=X_train.shape[0], \n",
    "                    verbose=0)\n",
    "\n",
    "\n",
    "import pandas as pd\n",
    "import numpy as np\n",
    "\n",
    "pd.DataFrame(history.history).plot(figsize=(8, 5))\n",
    "plt.grid(True)\n",
    "plt.title('Model performance throughout training')\n",
    "plt.ylim(0,0.5)\n",
    "plt.ylabel('Loss')\n",
    "plt.xlabel('epoch')\n",
    "plt.show()\n",
    "\n",
    "print('Loss metrics on the model')\n",
    "meanValLoss = np.mean(np.sqrt(history.history['val_loss']))\n",
    "minValLoss = np.min(np.sqrt(history.history['val_loss']))\n",
    "print('Mean on Val loss',meanValLoss )\n",
    "print('Min on Val loss',minValLoss )\n",
    "print()\n",
    "\n",
    "from sklearn.preprocessing import StandardScaler\n",
    "from sklearn import metrics\n",
    "\n",
    "print('Performance on train')\n",
    "y_train_predict_log_transf = model.predict(X_train_transf)\n",
    "scaler = StandardScaler()\n",
    "y_train_log_transf_xxx = scaler.fit_transform(y_train)\n",
    "y_train_predict_log  = scaler.inverse_transform(y_train_predict_log_transf)\n",
    "y_train_predict  = y_train_predict_log.copy()\n",
    "print('RMSLE on Train set: ', np.sqrt(metrics.mean_squared_log_error(np.exp(y_train), np.exp(y_train_predict))))\n",
    "print('MAE on Train set: ', metrics.mean_absolute_error(np.exp(y_train), np.exp(y_train_predict)))\n",
    "\n",
    "\n",
    "print('Performance on val')\n",
    "y_val_predict_log_transf = model.predict(X_val_transf)\n",
    "scaler = StandardScaler()\n",
    "y_val_log_transf_xxx = scaler.fit_transform(y_val)\n",
    "y_val_predict_log  = scaler.inverse_transform(y_val_predict_log_transf)\n",
    "y_val_predict  = y_val_predict_log.copy()\n",
    "print('RMSLE on val set: ', np.sqrt(metrics.mean_squared_log_error(np.exp(y_val), np.exp(y_val_predict))))\n",
    "print('MAE on val set: ', metrics.mean_absolute_error(np.exp(y_val), np.exp(y_val_predict)))\n",
    "\n"
   ]
  },
  {
   "cell_type": "markdown",
   "metadata": {},
   "source": [
    "## Hyperparameter Tuning"
   ]
  },
  {
   "cell_type": "code",
   "execution_count": null,
   "metadata": {},
   "outputs": [],
   "source": [
    "X_train = X_train_v3.copy()\n",
    "y_train = y_train_v3.copy()\n",
    "\n",
    "X_val = X_val_v3.copy()\n",
    "y_val = y_val_v3.copy()\n",
    "\n",
    "print(X_train.shape)"
   ]
  },
  {
   "cell_type": "code",
   "execution_count": null,
   "metadata": {},
   "outputs": [],
   "source": [
    "from sklearn.preprocessing import StandardScaler\n",
    "scaler = StandardScaler()\n",
    "X_train_transf = scaler.fit_transform(X_train)\n",
    "y_train_log = y_train.copy()\n",
    "y_train_log_transf = scaler.fit_transform(y_train_log)\n",
    "\n",
    "X_val_transf = scaler.fit_transform(X_val)\n",
    "y_val_log = y_val.copy()\n",
    "y_val_log_transf = scaler.fit_transform(y_val_log)"
   ]
  },
  {
   "cell_type": "code",
   "execution_count": null,
   "metadata": {},
   "outputs": [],
   "source": [
    "# Hyperparameter Tuning\n",
    "import keras\n",
    "keras.backend.clear_session()\n",
    "from numpy import random as np_random\n",
    "np_random.seed(42)\n",
    "from tensorflow import random as tf_random\n",
    "tf_random.set_seed(42)\n",
    "\n",
    "def build_model(n_hidden=1, n_neurons=30, learning_rate=3e-3, input_shape= [X_train.shape[1]]):\n",
    "    model = keras.models.Sequential()\n",
    "    model.add(keras.layers.InputLayer(input_shape=input_shape))\n",
    "    for layer in range(n_hidden):\n",
    "        model.add(keras.layers.Dense(n_neurons, activation=\"relu\"))\n",
    "    model.add(keras.layers.Dense(1))\n",
    "    optimizer = keras.optimizers.SGD(lr=learning_rate)\n",
    "    model.compile(loss=\"mse\", optimizer=optimizer)\n",
    "    return model"
   ]
  },
  {
   "cell_type": "code",
   "execution_count": null,
   "metadata": {},
   "outputs": [],
   "source": [
    "keras_reg = keras.wrappers.scikit_learn.KerasRegressor(build_model)"
   ]
  },
  {
   "cell_type": "code",
   "execution_count": null,
   "metadata": {},
   "outputs": [],
   "source": [
    "keras_reg.fit(X_train_transf, y_train_log_transf, \n",
    "              epochs=100, \n",
    "              validation_data=(X_val_transf, y_val_log_transf),\n",
    "              callbacks=[keras.callbacks.EarlyStopping(patience=10)])"
   ]
  },
  {
   "cell_type": "code",
   "execution_count": null,
   "metadata": {},
   "outputs": [],
   "source": [
    "mse_test = keras_reg.score(X_val_transf, y_val_log_transf)"
   ]
  },
  {
   "cell_type": "code",
   "execution_count": null,
   "metadata": {},
   "outputs": [],
   "source": [
    "from scipy.stats import reciprocal\n",
    "from sklearn.model_selection import RandomizedSearchCV\n",
    "\n",
    "param_distribs = {\n",
    "    \"n_hidden\": [0, 1, 2, 3],\n",
    "    \"n_neurons\": np.arange(1, 100),\n",
    "    \"learning_rate\": reciprocal(3e-4, 3e-2),\n",
    "}\n",
    "\n",
    "rnd_search_cv = RandomizedSearchCV(keras_reg, param_distribs, n_iter=10, cv=3, verbose=2)\n",
    "rnd_search_cv.fit(X_train_transf, y_train_log_transf, epochs=100,\n",
    "                  validation_data=(X_val_transf, y_val_log_transf),\n",
    "                  callbacks=[keras.callbacks.EarlyStopping(patience=10)])"
   ]
  },
  {
   "cell_type": "code",
   "execution_count": null,
   "metadata": {},
   "outputs": [],
   "source": [
    "rnd_search_cv.best_params_"
   ]
  },
  {
   "cell_type": "code",
   "execution_count": null,
   "metadata": {},
   "outputs": [],
   "source": [
    "rnd_search_cv.best_score_"
   ]
  },
  {
   "cell_type": "code",
   "execution_count": null,
   "metadata": {},
   "outputs": [],
   "source": [
    "rnd_search_cv.best_estimator_"
   ]
  },
  {
   "cell_type": "code",
   "execution_count": null,
   "metadata": {},
   "outputs": [],
   "source": [
    "rnd_search_cv.score(X_val_transf, y_val_log_transf)"
   ]
  },
  {
   "cell_type": "code",
   "execution_count": null,
   "metadata": {},
   "outputs": [],
   "source": [
    "model = rnd_search_cv.best_estimator_.model\n",
    "model"
   ]
  },
  {
   "cell_type": "code",
   "execution_count": null,
   "metadata": {},
   "outputs": [],
   "source": [
    "model.evaluate(X_val_transf, y_val_log_transf)"
   ]
  },
  {
   "cell_type": "code",
   "execution_count": null,
   "metadata": {},
   "outputs": [],
   "source": [
    "from sklearn.preprocessing import StandardScaler\n",
    "from sklearn import metrics\n",
    "\n",
    "print('Performance on train')\n",
    "y_train_predict_log_transf = model.predict(X_train_transf)\n",
    "scaler = StandardScaler()\n",
    "y_train_log_transf_xxx = scaler.fit_transform(y_train)\n",
    "y_train_predict_log  = scaler.inverse_transform(y_train_predict_log_transf)\n",
    "y_train_predict  = y_train_predict_log.copy()\n",
    "print('RMSLE on Train set: ', np.sqrt(metrics.mean_squared_log_error(y_train, y_train_predict)))\n",
    "print('MAE on Train set: ', metrics.mean_absolute_error(np.exp(y_train), np.exp(y_train_predict)))\n",
    "\n",
    "\n",
    "print('Performance on val')\n",
    "y_val_predict_log_transf = model.predict(X_val_transf)\n",
    "scaler = StandardScaler()\n",
    "y_val_log_transf_xxx = scaler.fit_transform(y_val)\n",
    "y_val_predict_log  = scaler.inverse_transform(y_val_predict_log_transf)\n",
    "y_val_predict  = y_val_predict_log.copy()\n",
    "print('RMSLE on val set: ', np.sqrt(metrics.mean_squared_log_error(y_val, y_val_predict)))\n",
    "print('MAE on val set: ', metrics.mean_absolute_error(np.exp(y_val), np.exp(y_val_predict)))\n"
   ]
  },
  {
   "cell_type": "markdown",
   "metadata": {
    "ExecuteTime": {
     "end_time": "2019-12-09T19:21:58.229680Z",
     "start_time": "2019-12-09T19:21:58.226278Z"
    }
   },
   "source": [
    "## Submission to Kaggle"
   ]
  },
  {
   "cell_type": "code",
   "execution_count": null,
   "metadata": {},
   "outputs": [],
   "source": [
    "X_train = X_train_full_v3.copy()\n",
    "y_train = y_train_full_v3.copy()\n",
    "\n",
    "X_test_id = X_test_id_v3.copy()\n",
    "X_test_id = pd.DataFrame(X_test_id)\n",
    "X_test = X_test_v3.copy()\n",
    "\n",
    "print(X_train.shape)\n",
    "print(y_train.shape)\n",
    "print (X_test.shape)"
   ]
  },
  {
   "cell_type": "code",
   "execution_count": null,
   "metadata": {},
   "outputs": [],
   "source": [
    "import numpy as np\n",
    "import keras\n",
    "from tensorflow.keras.models import Sequential\n",
    "from tensorflow.keras.layers import Input\n",
    "from tensorflow.keras.layers import Dense\n",
    "from keras import regularizers\n",
    "\n",
    "#to generate the same number every time you need to pass the same seed value every time\n",
    "#Make results reproducible -> fix seed of TensorFlow's random number generator\n",
    "keras.backend.clear_session()\n",
    "from numpy import random as np_random\n",
    "np_random.seed(42)\n",
    "from tensorflow import random as tf_random\n",
    "tf_random.set_seed(42)\n",
    "\n",
    "\n",
    "from sklearn.preprocessing import StandardScaler\n",
    "\n",
    "\n",
    "scaler = StandardScaler()\n",
    "X_train_transf = scaler.fit_transform(X_train)\n",
    "y_train_log = y_train.copy()\n",
    "y_train_log_transf = scaler.fit_transform(y_train_log)\n",
    "\n",
    "X_val_transf = scaler.fit_transform(X_val)\n",
    "y_val_log = y_val.copy()\n",
    "y_val_log_transf = scaler.fit_transform(y_val_log)\n",
    "\n",
    "\n",
    "model = Sequential([\n",
    "                    Input(shape=X_train.shape[1:]),\n",
    "                    Dense(1)\n",
    "                  ])\n",
    "model.add(Dense(1))\n",
    "\n",
    "from tensorflow.keras.optimizers import SGD\n",
    "loss ='mean_squared_logarithmic_error'\n",
    "LEARNING_RATE = 0.01\n",
    "model.compile(loss=loss, optimizer=SGD(lr=LEARNING_RATE))\n",
    "history = model.fit(X_train_transf, \n",
    "                    y_train_log_transf, \n",
    "                    validation_data=(X_val_transf, y_val_log_transf), \n",
    "                    epochs=200, \n",
    "                    batch_size=X_train.shape[0], \n",
    "                    verbose=0)\n",
    "\n",
    "\n",
    "import pandas as pd\n",
    "import numpy as np\n",
    "\n",
    "pd.DataFrame(history.history).plot(figsize=(8, 5))\n",
    "plt.grid(True)\n",
    "plt.title('Model performance throughout training')\n",
    "plt.ylim(0,0.5)\n",
    "plt.ylabel('Loss')\n",
    "plt.xlabel('epoch')\n",
    "plt.show()\n",
    "\n",
    "print('Loss metrics on the model')\n",
    "meanValLoss = np.mean(np.sqrt(history.history['val_loss']))\n",
    "minValLoss = np.min(np.sqrt(history.history['val_loss']))\n",
    "print('Mean on Val loss',meanValLoss )\n",
    "print('Min on Val loss',minValLoss )\n",
    "print()\n",
    "\n",
    "from sklearn.preprocessing import StandardScaler\n",
    "from sklearn import metrics\n",
    "\n",
    "print('Performance on train')\n",
    "y_train_predict_log_transf = model.predict(X_train_transf)\n",
    "scaler = StandardScaler()\n",
    "y_train_log_transf_xxx = scaler.fit_transform(y_train)\n",
    "y_train_predict_log  = scaler.inverse_transform(y_train_predict_log_transf)\n",
    "y_train_predict  = y_train_predict_log.copy()\n",
    "print('RMSLE on Train set: ', np.sqrt(metrics.mean_squared_log_error(np.exp(y_train), np.exp(y_train_predict))))\n",
    "print('MAE on Train set: ', metrics.mean_absolute_error(np.exp(y_train), np.exp(y_train_predict)))\n",
    "\n",
    "\n",
    "print('Performance on val')\n",
    "y_val_predict_log_transf = model.predict(X_val_transf)\n",
    "scaler = StandardScaler()\n",
    "y_val_log_transf_xxx = scaler.fit_transform(y_val)\n",
    "y_val_predict_log  = scaler.inverse_transform(y_val_predict_log_transf)\n",
    "y_val_predict  = y_val_predict_log.copy()\n",
    "print('RMSLE on val set: ', np.sqrt(metrics.mean_squared_log_error(np.exp(y_val), np.exp(y_val_predict))))\n",
    "print('MAE on val set: ', metrics.mean_absolute_error(np.exp(y_val), np.exp(y_val_predict)))\n",
    "\n"
   ]
  },
  {
   "cell_type": "code",
   "execution_count": null,
   "metadata": {
    "ExecuteTime": {
     "end_time": "2019-12-10T00:01:31.457058Z",
     "start_time": "2019-12-10T00:01:31.441561Z"
    }
   },
   "outputs": [],
   "source": [
    "pd.DataFrame(y_train).head(5)\n",
    "pd.DataFrame(y_train_log).head(5)\n",
    "pd.DataFrame(y_train_log_transf).head(5)\n"
   ]
  },
  {
   "cell_type": "code",
   "execution_count": null,
   "metadata": {
    "ExecuteTime": {
     "end_time": "2019-12-10T00:01:34.964351Z",
     "start_time": "2019-12-10T00:01:34.954629Z"
    }
   },
   "outputs": [],
   "source": [
    "#pd.DataFrame(y_predict).head(5)\n",
    "#pd.DataFrame(y_train_predict_log_transf).head(10)\n",
    "pd.DataFrame(scaler.inverse_transform(y_train_predict_log_transf)).head(10)\n",
    "#pd.DataFrame(np.exp(scaler.inverse_transform(y_train_predict_log_transf))).head(10)\n"
   ]
  },
  {
   "cell_type": "code",
   "execution_count": null,
   "metadata": {
    "ExecuteTime": {
     "end_time": "2019-12-10T00:01:38.395699Z",
     "start_time": "2019-12-10T00:01:38.283072Z"
    }
   },
   "outputs": [],
   "source": [
    "from sklearn.preprocessing import StandardScaler\n",
    "scaler = StandardScaler()\n",
    "X_test_transf = scaler.fit_transform(X_test)\n",
    "y_test_predict_log_transf = model.predict(X_test_transf)\n",
    "pd.DataFrame(y_test_predict_log_transf).head(10)"
   ]
  },
  {
   "cell_type": "code",
   "execution_count": null,
   "metadata": {
    "ExecuteTime": {
     "end_time": "2019-12-10T00:01:41.498947Z",
     "start_time": "2019-12-10T00:01:41.481595Z"
    }
   },
   "outputs": [],
   "source": [
    "#y_test_transf_xxx = scaler.fit_transform(y_train)\n",
    "scaler = StandardScaler()\n",
    "y_train_log_transf_xxx = scaler.fit_transform(y_train)\n",
    "y_test_predic_log  = scaler.inverse_transform(y_test_predict_log_transf)\n",
    "pd.DataFrame(y_test_predic_log).head(10)\n",
    "y_test_predic  = np.exp(y_test_predic_log)\n",
    "pd.DataFrame(y_test_predic).head(5)"
   ]
  },
  {
   "cell_type": "code",
   "execution_count": null,
   "metadata": {
    "ExecuteTime": {
     "end_time": "2019-12-10T00:01:44.138463Z",
     "start_time": "2019-12-10T00:01:44.121836Z"
    }
   },
   "outputs": [],
   "source": [
    "X_test_id = pd.DataFrame(X_test_id)\n",
    "y_test_predic = pd.DataFrame(y_test_predic)\n",
    "df_sub = X_test_id.join(y_test_predic)\n",
    "print(df_sub.shape)\n",
    "col_names_subm = df_sub.columns.values\n",
    "col_names_subm[1] = 'SalePrice'\n",
    "df_sub.columns = col_names_subm\n",
    "\n",
    "df_sub.head(10)"
   ]
  },
  {
   "cell_type": "code",
   "execution_count": null,
   "metadata": {
    "ExecuteTime": {
     "end_time": "2019-12-10T00:01:48.383099Z",
     "start_time": "2019-12-10T00:01:48.353927Z"
    }
   },
   "outputs": [],
   "source": [
    "df_sub.to_csv('hp_all_nn1.csv', index=False)"
   ]
  },
  {
   "cell_type": "code",
   "execution_count": null,
   "metadata": {
    "ExecuteTime": {
     "end_time": "2019-12-10T00:01:56.426749Z",
     "start_time": "2019-12-10T00:01:50.569707Z"
    }
   },
   "outputs": [],
   "source": [
    "import kaggle\n",
    "submission_file = \"hp_all_nn1.csv\"\n",
    "kaggle.api.competition_submit(submission_file, \"all_nn1\", \"house-prices-advanced-regression-techniques\")"
   ]
  }
 ],
 "metadata": {
  "kernelspec": {
   "display_name": "Python 3",
   "language": "python",
   "name": "python3"
  },
  "language_info": {
   "codemirror_mode": {
    "name": "ipython",
    "version": 3
   },
   "file_extension": ".py",
   "mimetype": "text/x-python",
   "name": "python",
   "nbconvert_exporter": "python",
   "pygments_lexer": "ipython3",
   "version": "3.7.5"
  },
  "toc": {
   "base_numbering": 1,
   "nav_menu": {},
   "number_sections": true,
   "sideBar": true,
   "skip_h1_title": false,
   "title_cell": "Table of Contents",
   "title_sidebar": "Contents",
   "toc_cell": true,
   "toc_position": {
    "height": "calc(100% - 180px)",
    "left": "10px",
    "top": "150px",
    "width": "274px"
   },
   "toc_section_display": true,
   "toc_window_display": true
  }
 },
 "nbformat": 4,
 "nbformat_minor": 2
}
