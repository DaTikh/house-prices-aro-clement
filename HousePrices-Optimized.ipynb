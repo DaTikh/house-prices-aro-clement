{
 "cells": [
  {
   "cell_type": "markdown",
   "metadata": {
    "toc": true
   },
   "source": [
    "<h1>Table of Contents<span class=\"tocSkip\"></span></h1>\n",
    "<div class=\"toc\"><ul class=\"toc-item\"><li><span><a href=\"#The-Datasets\" data-toc-modified-id=\"The-Datasets-1\"><span class=\"toc-item-num\">1&nbsp;&nbsp;</span>The Datasets</a></span><ul class=\"toc-item\"><li><span><a href=\"#Train-full\" data-toc-modified-id=\"Train-full-1.1\"><span class=\"toc-item-num\">1.1&nbsp;&nbsp;</span>Train full</a></span><ul class=\"toc-item\"><li><span><a href=\"#Train-full-report-:-import-from-pandas_profiling\" data-toc-modified-id=\"Train-full-report-:-import-from-pandas_profiling-1.1.1\"><span class=\"toc-item-num\">1.1.1&nbsp;&nbsp;</span>Train full report : import from pandas_profiling</a></span></li></ul></li><li><span><a href=\"#Test\" data-toc-modified-id=\"Test-1.2\"><span class=\"toc-item-num\">1.2&nbsp;&nbsp;</span>Test</a></span><ul class=\"toc-item\"><li><span><a href=\"#Test-report-:-import-from-pandas_profiling\" data-toc-modified-id=\"Test-report-:-import-from-pandas_profiling-1.2.1\"><span class=\"toc-item-num\">1.2.1&nbsp;&nbsp;</span>Test report : import from pandas_profiling</a></span></li></ul></li></ul></li><li><span><a href=\"#Dataset-Adjusted-:-v3\" data-toc-modified-id=\"Dataset-Adjusted-:-v3-2\"><span class=\"toc-item-num\">2&nbsp;&nbsp;</span>Dataset Adjusted : v3</a></span><ul class=\"toc-item\"><li><span><a href=\"#Train-full-v3\" data-toc-modified-id=\"Train-full-v3-2.1\"><span class=\"toc-item-num\">2.1&nbsp;&nbsp;</span>Train full v3</a></span></li><li><span><a href=\"#Outliers\" data-toc-modified-id=\"Outliers-2.2\"><span class=\"toc-item-num\">2.2&nbsp;&nbsp;</span>Outliers</a></span></li><li><span><a href=\"#Transformation-log\" data-toc-modified-id=\"Transformation-log-2.3\"><span class=\"toc-item-num\">2.3&nbsp;&nbsp;</span>Transformation log</a></span></li><li><span><a href=\"#Filling-missing-values\" data-toc-modified-id=\"Filling-missing-values-2.4\"><span class=\"toc-item-num\">2.4&nbsp;&nbsp;</span>Filling missing values</a></span></li><li><span><a href=\"#Categorical-values\" data-toc-modified-id=\"Categorical-values-2.5\"><span class=\"toc-item-num\">2.5&nbsp;&nbsp;</span>Categorical values</a></span></li><li><span><a href=\"#Recap\" data-toc-modified-id=\"Recap-2.6\"><span class=\"toc-item-num\">2.6&nbsp;&nbsp;</span>Recap</a></span></li><li><span><a href=\"#Checking-data-for-learning\" data-toc-modified-id=\"Checking-data-for-learning-2.7\"><span class=\"toc-item-num\">2.7&nbsp;&nbsp;</span>Checking data for learning</a></span></li></ul></li><li><span><a href=\"#Dataset-for-Learning\" data-toc-modified-id=\"Dataset-for-Learning-3\"><span class=\"toc-item-num\">3&nbsp;&nbsp;</span>Dataset for Learning</a></span><ul class=\"toc-item\"><li><span><a href=\"#Train-full-&amp;-Test\" data-toc-modified-id=\"Train-full-&amp;-Test-3.1\"><span class=\"toc-item-num\">3.1&nbsp;&nbsp;</span>Train full &amp; Test</a></span></li><li><span><a href=\"#Train-full-splitted\" data-toc-modified-id=\"Train-full-splitted-3.2\"><span class=\"toc-item-num\">3.2&nbsp;&nbsp;</span>Train full splitted</a></span></li><li><span><a href=\"#Save-datasets\" data-toc-modified-id=\"Save-datasets-3.3\"><span class=\"toc-item-num\">3.3&nbsp;&nbsp;</span>Save datasets</a></span></li></ul></li><li><span><a href=\"#XGBoost-Standard\" data-toc-modified-id=\"XGBoost-Standard-4\"><span class=\"toc-item-num\">4&nbsp;&nbsp;</span>XGBoost Standard</a></span><ul class=\"toc-item\"><li><span><a href=\"#Learning\" data-toc-modified-id=\"Learning-4.1\"><span class=\"toc-item-num\">4.1&nbsp;&nbsp;</span>Learning</a></span></li></ul></li><li><span><a href=\"#XGBoost-Optimized\" data-toc-modified-id=\"XGBoost-Optimized-5\"><span class=\"toc-item-num\">5&nbsp;&nbsp;</span>XGBoost Optimized</a></span><ul class=\"toc-item\"><li><span><a href=\"#Learning\" data-toc-modified-id=\"Learning-5.1\"><span class=\"toc-item-num\">5.1&nbsp;&nbsp;</span>Learning</a></span></li></ul></li><li><span><a href=\"#XGBoost-Optimized-In-Pipeline\" data-toc-modified-id=\"XGBoost-Optimized-In-Pipeline-6\"><span class=\"toc-item-num\">6&nbsp;&nbsp;</span>XGBoost Optimized In Pipeline</a></span><ul class=\"toc-item\"><li><span><a href=\"#Dataset\" data-toc-modified-id=\"Dataset-6.1\"><span class=\"toc-item-num\">6.1&nbsp;&nbsp;</span>Dataset</a></span></li><li><span><a href=\"#Model-optimized\" data-toc-modified-id=\"Model-optimized-6.2\"><span class=\"toc-item-num\">6.2&nbsp;&nbsp;</span>Model optimized</a></span></li><li><span><a href=\"#Save-model\" data-toc-modified-id=\"Save-model-6.3\"><span class=\"toc-item-num\">6.3&nbsp;&nbsp;</span>Save model</a></span></li></ul></li><li><span><a href=\"#XGBoost-Optimized-with-an-Isolation-Forest\" data-toc-modified-id=\"XGBoost-Optimized-with-an-Isolation-Forest-7\"><span class=\"toc-item-num\">7&nbsp;&nbsp;</span>XGBoost Optimized with an Isolation Forest</a></span><ul class=\"toc-item\"><li><span><a href=\"#Dataset\" data-toc-modified-id=\"Dataset-7.1\"><span class=\"toc-item-num\">7.1&nbsp;&nbsp;</span>Dataset</a></span></li><li><span><a href=\"#Isolation-forest-method\" data-toc-modified-id=\"Isolation-forest-method-7.2\"><span class=\"toc-item-num\">7.2&nbsp;&nbsp;</span>Isolation forest method</a></span></li><li><span><a href=\"#Model-optimized\" data-toc-modified-id=\"Model-optimized-7.3\"><span class=\"toc-item-num\">7.3&nbsp;&nbsp;</span>Model optimized</a></span></li></ul></li><li><span><a href=\"#XGBoost-with-a-PCA\" data-toc-modified-id=\"XGBoost-with-a-PCA-8\"><span class=\"toc-item-num\">8&nbsp;&nbsp;</span>XGBoost with a PCA</a></span><ul class=\"toc-item\"><li><span><a href=\"#Learning\" data-toc-modified-id=\"Learning-8.1\"><span class=\"toc-item-num\">8.1&nbsp;&nbsp;</span>Learning</a></span></li></ul></li><li><span><a href=\"#XGBoost-Optimized-v2\" data-toc-modified-id=\"XGBoost-Optimized-v2-9\"><span class=\"toc-item-num\">9&nbsp;&nbsp;</span>XGBoost Optimized v2</a></span><ul class=\"toc-item\"><li><span><a href=\"#Dataset\" data-toc-modified-id=\"Dataset-9.1\"><span class=\"toc-item-num\">9.1&nbsp;&nbsp;</span>Dataset</a></span></li><li><span><a href=\"#Model-Optimized\" data-toc-modified-id=\"Model-Optimized-9.2\"><span class=\"toc-item-num\">9.2&nbsp;&nbsp;</span>Model Optimized</a></span></li></ul></li><li><span><a href=\"#Lasso-Model\" data-toc-modified-id=\"Lasso-Model-10\"><span class=\"toc-item-num\">10&nbsp;&nbsp;</span>Lasso Model</a></span><ul class=\"toc-item\"><li><span><a href=\"#Dataset\" data-toc-modified-id=\"Dataset-10.1\"><span class=\"toc-item-num\">10.1&nbsp;&nbsp;</span>Dataset</a></span></li><li><span><a href=\"#Model-Optimized\" data-toc-modified-id=\"Model-Optimized-10.2\"><span class=\"toc-item-num\">10.2&nbsp;&nbsp;</span>Model Optimized</a></span></li></ul></li><li><span><a href=\"#Ridge-Model\" data-toc-modified-id=\"Ridge-Model-11\"><span class=\"toc-item-num\">11&nbsp;&nbsp;</span>Ridge Model</a></span><ul class=\"toc-item\"><li><span><a href=\"#Dataset\" data-toc-modified-id=\"Dataset-11.1\"><span class=\"toc-item-num\">11.1&nbsp;&nbsp;</span>Dataset</a></span></li><li><span><a href=\"#Model-optimized\" data-toc-modified-id=\"Model-optimized-11.2\"><span class=\"toc-item-num\">11.2&nbsp;&nbsp;</span>Model optimized</a></span></li></ul></li><li><span><a href=\"#ElasticNet-Model\" data-toc-modified-id=\"ElasticNet-Model-12\"><span class=\"toc-item-num\">12&nbsp;&nbsp;</span>ElasticNet Model</a></span><ul class=\"toc-item\"><li><span><a href=\"#Dataset\" data-toc-modified-id=\"Dataset-12.1\"><span class=\"toc-item-num\">12.1&nbsp;&nbsp;</span>Dataset</a></span></li><li><span><a href=\"#Model-Optimized\" data-toc-modified-id=\"Model-Optimized-12.2\"><span class=\"toc-item-num\">12.2&nbsp;&nbsp;</span>Model Optimized</a></span></li></ul></li><li><span><a href=\"#SVR-Model\" data-toc-modified-id=\"SVR-Model-13\"><span class=\"toc-item-num\">13&nbsp;&nbsp;</span>SVR Model</a></span><ul class=\"toc-item\"><li><span><a href=\"#Dataset\" data-toc-modified-id=\"Dataset-13.1\"><span class=\"toc-item-num\">13.1&nbsp;&nbsp;</span>Dataset</a></span></li><li><span><a href=\"#Model-Optimized\" data-toc-modified-id=\"Model-Optimized-13.2\"><span class=\"toc-item-num\">13.2&nbsp;&nbsp;</span>Model Optimized</a></span></li></ul></li><li><span><a href=\"#Stacking-Regressor-Model\" data-toc-modified-id=\"Stacking-Regressor-Model-14\"><span class=\"toc-item-num\">14&nbsp;&nbsp;</span>Stacking Regressor Model</a></span><ul class=\"toc-item\"><li><span><a href=\"#Dataset\" data-toc-modified-id=\"Dataset-14.1\"><span class=\"toc-item-num\">14.1&nbsp;&nbsp;</span>Dataset</a></span></li><li><span><a href=\"#Model\" data-toc-modified-id=\"Model-14.2\"><span class=\"toc-item-num\">14.2&nbsp;&nbsp;</span>Model</a></span></li></ul></li><li><span><a href=\"#Neural-Networks-model\" data-toc-modified-id=\"Neural-Networks-model-15\"><span class=\"toc-item-num\">15&nbsp;&nbsp;</span>Neural Networks model</a></span><ul class=\"toc-item\"><li><span><a href=\"#Experience-1\" data-toc-modified-id=\"Experience-1-15.1\"><span class=\"toc-item-num\">15.1&nbsp;&nbsp;</span>Experience 1</a></span><ul class=\"toc-item\"><li><span><a href=\"#NN-model-with-no-hidden-layers-as-a-linear-regression\" data-toc-modified-id=\"NN-model-with-no-hidden-layers-as-a-linear-regression-15.1.1\"><span class=\"toc-item-num\">15.1.1&nbsp;&nbsp;</span>NN model with no hidden layers as a linear regression</a></span></li><li><span><a href=\"#The-current-best-NN-model-with-several-Hidden-Layers\" data-toc-modified-id=\"The-current-best-NN-model-with-several-Hidden-Layers-15.1.2\"><span class=\"toc-item-num\">15.1.2&nbsp;&nbsp;</span>The current best NN model with several Hidden Layers</a></span></li></ul></li><li><span><a href=\"#Experience-2\" data-toc-modified-id=\"Experience-2-15.2\"><span class=\"toc-item-num\">15.2&nbsp;&nbsp;</span>Experience 2</a></span><ul class=\"toc-item\"><li><span><a href=\"#dataset\" data-toc-modified-id=\"dataset-15.2.1\"><span class=\"toc-item-num\">15.2.1&nbsp;&nbsp;</span>dataset</a></span></li><li><span><a href=\"#NN-Model\" data-toc-modified-id=\"NN-Model-15.2.2\"><span class=\"toc-item-num\">15.2.2&nbsp;&nbsp;</span>NN Model</a></span></li></ul></li><li><span><a href=\"#Experience-3\" data-toc-modified-id=\"Experience-3-15.3\"><span class=\"toc-item-num\">15.3&nbsp;&nbsp;</span>Experience 3</a></span><ul class=\"toc-item\"><li><span><a href=\"#Dataset\" data-toc-modified-id=\"Dataset-15.3.1\"><span class=\"toc-item-num\">15.3.1&nbsp;&nbsp;</span>Dataset</a></span></li><li><span><a href=\"#model\" data-toc-modified-id=\"model-15.3.2\"><span class=\"toc-item-num\">15.3.2&nbsp;&nbsp;</span>model</a></span></li></ul></li><li><span><a href=\"#Hyperparameter-Tuning\" data-toc-modified-id=\"Hyperparameter-Tuning-15.4\"><span class=\"toc-item-num\">15.4&nbsp;&nbsp;</span>Hyperparameter Tuning</a></span></li><li><span><a href=\"#Test-Model-with-X_train-full\" data-toc-modified-id=\"Test-Model-with-X_train-full-15.5\"><span class=\"toc-item-num\">15.5&nbsp;&nbsp;</span>Test Model with X_train-full</a></span></li><li><span><a href=\"#Prediction-X_Test-by-NN\" data-toc-modified-id=\"Prediction-X_Test-by-NN-15.6\"><span class=\"toc-item-num\">15.6&nbsp;&nbsp;</span>Prediction X_Test by NN</a></span></li></ul></li><li><span><a href=\"#Blending-models\" data-toc-modified-id=\"Blending-models-16\"><span class=\"toc-item-num\">16&nbsp;&nbsp;</span>Blending models</a></span><ul class=\"toc-item\"><li><span><a href=\"#What-weighting\" data-toc-modified-id=\"What-weighting-16.1\"><span class=\"toc-item-num\">16.1&nbsp;&nbsp;</span>What weighting</a></span></li><li><span><a href=\"#The-predictions\" data-toc-modified-id=\"The-predictions-16.2\"><span class=\"toc-item-num\">16.2&nbsp;&nbsp;</span>The predictions</a></span></li><li><span><a href=\"#The-predictions-weighted\" data-toc-modified-id=\"The-predictions-weighted-16.3\"><span class=\"toc-item-num\">16.3&nbsp;&nbsp;</span>The predictions weighted</a></span></li><li><span><a href=\"#The-best-weigthing\" data-toc-modified-id=\"The-best-weigthing-16.4\"><span class=\"toc-item-num\">16.4&nbsp;&nbsp;</span>The best weigthing</a></span></li></ul></li><li><span><a href=\"#Submission-to-Kaggle\" data-toc-modified-id=\"Submission-to-Kaggle-17\"><span class=\"toc-item-num\">17&nbsp;&nbsp;</span>Submission to Kaggle</a></span></li></ul></div>"
   ]
  },
  {
   "cell_type": "code",
   "execution_count": 1,
   "metadata": {
    "ExecuteTime": {
     "end_time": "2019-12-09T23:42:33.987113Z",
     "start_time": "2019-12-09T23:42:33.534071Z"
    }
   },
   "outputs": [],
   "source": [
    "import numpy as np\n",
    "import pandas as pd\n",
    "from pandas import read_csv\n",
    "\n",
    "import matplotlib.pyplot as plt"
   ]
  },
  {
   "cell_type": "code",
   "execution_count": 2,
   "metadata": {},
   "outputs": [],
   "source": [
    "from numpy import random as np_random\n",
    "np_random.seed(42)"
   ]
  },
  {
   "cell_type": "markdown",
   "metadata": {},
   "source": [
    "#  The Datasets"
   ]
  },
  {
   "cell_type": "markdown",
   "metadata": {},
   "source": [
    "## Train full"
   ]
  },
  {
   "cell_type": "code",
   "execution_count": 3,
   "metadata": {
    "ExecuteTime": {
     "end_time": "2019-12-09T23:42:34.044136Z",
     "start_time": "2019-12-09T23:42:33.989540Z"
    }
   },
   "outputs": [],
   "source": [
    "data = read_csv('data/train.csv')"
   ]
  },
  {
   "cell_type": "code",
   "execution_count": 4,
   "metadata": {
    "ExecuteTime": {
     "end_time": "2019-12-09T23:42:34.071741Z",
     "start_time": "2019-12-09T23:42:34.046843Z"
    }
   },
   "outputs": [
    {
     "name": "stdout",
     "output_type": "stream",
     "text": [
      "<class 'pandas.core.frame.DataFrame'>\n",
      "RangeIndex: 1460 entries, 0 to 1459\n",
      "Data columns (total 81 columns):\n",
      "Id               1460 non-null int64\n",
      "MSSubClass       1460 non-null int64\n",
      "MSZoning         1460 non-null object\n",
      "LotFrontage      1201 non-null float64\n",
      "LotArea          1460 non-null int64\n",
      "Street           1460 non-null object\n",
      "Alley            91 non-null object\n",
      "LotShape         1460 non-null object\n",
      "LandContour      1460 non-null object\n",
      "Utilities        1460 non-null object\n",
      "LotConfig        1460 non-null object\n",
      "LandSlope        1460 non-null object\n",
      "Neighborhood     1460 non-null object\n",
      "Condition1       1460 non-null object\n",
      "Condition2       1460 non-null object\n",
      "BldgType         1460 non-null object\n",
      "HouseStyle       1460 non-null object\n",
      "OverallQual      1460 non-null int64\n",
      "OverallCond      1460 non-null int64\n",
      "YearBuilt        1460 non-null int64\n",
      "YearRemodAdd     1460 non-null int64\n",
      "RoofStyle        1460 non-null object\n",
      "RoofMatl         1460 non-null object\n",
      "Exterior1st      1460 non-null object\n",
      "Exterior2nd      1460 non-null object\n",
      "MasVnrType       1452 non-null object\n",
      "MasVnrArea       1452 non-null float64\n",
      "ExterQual        1460 non-null object\n",
      "ExterCond        1460 non-null object\n",
      "Foundation       1460 non-null object\n",
      "BsmtQual         1423 non-null object\n",
      "BsmtCond         1423 non-null object\n",
      "BsmtExposure     1422 non-null object\n",
      "BsmtFinType1     1423 non-null object\n",
      "BsmtFinSF1       1460 non-null int64\n",
      "BsmtFinType2     1422 non-null object\n",
      "BsmtFinSF2       1460 non-null int64\n",
      "BsmtUnfSF        1460 non-null int64\n",
      "TotalBsmtSF      1460 non-null int64\n",
      "Heating          1460 non-null object\n",
      "HeatingQC        1460 non-null object\n",
      "CentralAir       1460 non-null object\n",
      "Electrical       1459 non-null object\n",
      "1stFlrSF         1460 non-null int64\n",
      "2ndFlrSF         1460 non-null int64\n",
      "LowQualFinSF     1460 non-null int64\n",
      "GrLivArea        1460 non-null int64\n",
      "BsmtFullBath     1460 non-null int64\n",
      "BsmtHalfBath     1460 non-null int64\n",
      "FullBath         1460 non-null int64\n",
      "HalfBath         1460 non-null int64\n",
      "BedroomAbvGr     1460 non-null int64\n",
      "KitchenAbvGr     1460 non-null int64\n",
      "KitchenQual      1460 non-null object\n",
      "TotRmsAbvGrd     1460 non-null int64\n",
      "Functional       1460 non-null object\n",
      "Fireplaces       1460 non-null int64\n",
      "FireplaceQu      770 non-null object\n",
      "GarageType       1379 non-null object\n",
      "GarageYrBlt      1379 non-null float64\n",
      "GarageFinish     1379 non-null object\n",
      "GarageCars       1460 non-null int64\n",
      "GarageArea       1460 non-null int64\n",
      "GarageQual       1379 non-null object\n",
      "GarageCond       1379 non-null object\n",
      "PavedDrive       1460 non-null object\n",
      "WoodDeckSF       1460 non-null int64\n",
      "OpenPorchSF      1460 non-null int64\n",
      "EnclosedPorch    1460 non-null int64\n",
      "3SsnPorch        1460 non-null int64\n",
      "ScreenPorch      1460 non-null int64\n",
      "PoolArea         1460 non-null int64\n",
      "PoolQC           7 non-null object\n",
      "Fence            281 non-null object\n",
      "MiscFeature      54 non-null object\n",
      "MiscVal          1460 non-null int64\n",
      "MoSold           1460 non-null int64\n",
      "YrSold           1460 non-null int64\n",
      "SaleType         1460 non-null object\n",
      "SaleCondition    1460 non-null object\n",
      "SalePrice        1460 non-null int64\n",
      "dtypes: float64(3), int64(35), object(43)\n",
      "memory usage: 924.0+ KB\n"
     ]
    }
   ],
   "source": [
    "df_train_full = data.copy()\n",
    "df_train_full.info()"
   ]
  },
  {
   "cell_type": "markdown",
   "metadata": {},
   "source": [
    "### Train full report : import from pandas_profiling"
   ]
  },
  {
   "cell_type": "code",
   "execution_count": null,
   "metadata": {
    "ExecuteTime": {
     "end_time": "2019-12-09T23:42:34.076216Z",
     "start_time": "2019-12-09T23:42:34.073932Z"
    },
    "deletable": false,
    "editable": false,
    "run_control": {
     "frozen": true
    }
   },
   "outputs": [],
   "source": [
    "import pandas_profiling\n",
    "# To diplay report in a html file\n",
    "# To run once and then read the output file when you want\n",
    "ReportFullTrain = df_train_full.profile_report(title='Train full Profiling Report')\n",
    "ReportFullTrain.to_file(output_file=\"HP-train-full-Report.html\")"
   ]
  },
  {
   "cell_type": "markdown",
   "metadata": {},
   "source": [
    "## Test"
   ]
  },
  {
   "cell_type": "code",
   "execution_count": 5,
   "metadata": {
    "ExecuteTime": {
     "end_time": "2019-12-09T23:42:34.158832Z",
     "start_time": "2019-12-09T23:42:34.079438Z"
    }
   },
   "outputs": [
    {
     "name": "stdout",
     "output_type": "stream",
     "text": [
      "<class 'pandas.core.frame.DataFrame'>\n",
      "RangeIndex: 1459 entries, 0 to 1458\n",
      "Data columns (total 80 columns):\n",
      "Id               1459 non-null int64\n",
      "MSSubClass       1459 non-null int64\n",
      "MSZoning         1455 non-null object\n",
      "LotFrontage      1232 non-null float64\n",
      "LotArea          1459 non-null int64\n",
      "Street           1459 non-null object\n",
      "Alley            107 non-null object\n",
      "LotShape         1459 non-null object\n",
      "LandContour      1459 non-null object\n",
      "Utilities        1457 non-null object\n",
      "LotConfig        1459 non-null object\n",
      "LandSlope        1459 non-null object\n",
      "Neighborhood     1459 non-null object\n",
      "Condition1       1459 non-null object\n",
      "Condition2       1459 non-null object\n",
      "BldgType         1459 non-null object\n",
      "HouseStyle       1459 non-null object\n",
      "OverallQual      1459 non-null int64\n",
      "OverallCond      1459 non-null int64\n",
      "YearBuilt        1459 non-null int64\n",
      "YearRemodAdd     1459 non-null int64\n",
      "RoofStyle        1459 non-null object\n",
      "RoofMatl         1459 non-null object\n",
      "Exterior1st      1458 non-null object\n",
      "Exterior2nd      1458 non-null object\n",
      "MasVnrType       1443 non-null object\n",
      "MasVnrArea       1444 non-null float64\n",
      "ExterQual        1459 non-null object\n",
      "ExterCond        1459 non-null object\n",
      "Foundation       1459 non-null object\n",
      "BsmtQual         1415 non-null object\n",
      "BsmtCond         1414 non-null object\n",
      "BsmtExposure     1415 non-null object\n",
      "BsmtFinType1     1417 non-null object\n",
      "BsmtFinSF1       1458 non-null float64\n",
      "BsmtFinType2     1417 non-null object\n",
      "BsmtFinSF2       1458 non-null float64\n",
      "BsmtUnfSF        1458 non-null float64\n",
      "TotalBsmtSF      1458 non-null float64\n",
      "Heating          1459 non-null object\n",
      "HeatingQC        1459 non-null object\n",
      "CentralAir       1459 non-null object\n",
      "Electrical       1459 non-null object\n",
      "1stFlrSF         1459 non-null int64\n",
      "2ndFlrSF         1459 non-null int64\n",
      "LowQualFinSF     1459 non-null int64\n",
      "GrLivArea        1459 non-null int64\n",
      "BsmtFullBath     1457 non-null float64\n",
      "BsmtHalfBath     1457 non-null float64\n",
      "FullBath         1459 non-null int64\n",
      "HalfBath         1459 non-null int64\n",
      "BedroomAbvGr     1459 non-null int64\n",
      "KitchenAbvGr     1459 non-null int64\n",
      "KitchenQual      1458 non-null object\n",
      "TotRmsAbvGrd     1459 non-null int64\n",
      "Functional       1457 non-null object\n",
      "Fireplaces       1459 non-null int64\n",
      "FireplaceQu      729 non-null object\n",
      "GarageType       1383 non-null object\n",
      "GarageYrBlt      1381 non-null float64\n",
      "GarageFinish     1381 non-null object\n",
      "GarageCars       1458 non-null float64\n",
      "GarageArea       1458 non-null float64\n",
      "GarageQual       1381 non-null object\n",
      "GarageCond       1381 non-null object\n",
      "PavedDrive       1459 non-null object\n",
      "WoodDeckSF       1459 non-null int64\n",
      "OpenPorchSF      1459 non-null int64\n",
      "EnclosedPorch    1459 non-null int64\n",
      "3SsnPorch        1459 non-null int64\n",
      "ScreenPorch      1459 non-null int64\n",
      "PoolArea         1459 non-null int64\n",
      "PoolQC           3 non-null object\n",
      "Fence            290 non-null object\n",
      "MiscFeature      51 non-null object\n",
      "MiscVal          1459 non-null int64\n",
      "MoSold           1459 non-null int64\n",
      "YrSold           1459 non-null int64\n",
      "SaleType         1458 non-null object\n",
      "SaleCondition    1459 non-null object\n",
      "dtypes: float64(11), int64(26), object(43)\n",
      "memory usage: 912.0+ KB\n"
     ]
    }
   ],
   "source": [
    "data = read_csv('data/test.csv')\n",
    "df_test = data.copy()\n",
    "df_test.info()"
   ]
  },
  {
   "cell_type": "markdown",
   "metadata": {},
   "source": [
    "### Test report : import from pandas_profiling"
   ]
  },
  {
   "cell_type": "code",
   "execution_count": null,
   "metadata": {
    "ExecuteTime": {
     "end_time": "2019-12-09T23:42:34.163367Z",
     "start_time": "2019-12-09T23:42:34.160911Z"
    },
    "deletable": false,
    "editable": false,
    "run_control": {
     "frozen": true
    }
   },
   "outputs": [],
   "source": [
    "import pandas_profiling\n",
    "# To diplay report in a html file\n",
    "# To run once and then read the output file when you want\n",
    "ReportTest = df_test.profile_report(title='Test Profiling Report')\n",
    "ReportTest.to_file(output_file=\"HP-Test-Report.html\")"
   ]
  },
  {
   "cell_type": "markdown",
   "metadata": {},
   "source": [
    "# Dataset Adjusted : v3"
   ]
  },
  {
   "cell_type": "markdown",
   "metadata": {},
   "source": [
    "## Train full v3"
   ]
  },
  {
   "cell_type": "code",
   "execution_count": 6,
   "metadata": {},
   "outputs": [],
   "source": [
    "X_train_full =df_train_full.copy()"
   ]
  },
  {
   "cell_type": "code",
   "execution_count": 7,
   "metadata": {},
   "outputs": [],
   "source": [
    "X_train_numeric=X_train_full.select_dtypes(include=[np.number]) #selecting the data asociate with the numerical variables\n",
    "X_train_categorical=X_train_full.select_dtypes(exclude=[np.number]) #selecting the data asociate with the categorical variables"
   ]
  },
  {
   "cell_type": "code",
   "execution_count": 8,
   "metadata": {},
   "outputs": [
    {
     "data": {
      "text/plain": [
       "<matplotlib.axes._subplots.AxesSubplot at 0x7fb1fbdf1080>"
      ]
     },
     "execution_count": 8,
     "metadata": {},
     "output_type": "execute_result"
    },
    {
     "data": {
      "image/png": "[encoded data removed]",
      "text/plain": [
       "<Figure size 432x288 with 1 Axes>"
      ]
     },
     "metadata": {
      "needs_background": "light"
     },
     "output_type": "display_data"
    }
   ],
   "source": [
    "y_train_v3 = X_train_full['SalePrice'].copy()\n",
    "y_train_v3.hist()"
   ]
  },
  {
   "cell_type": "code",
   "execution_count": 9,
   "metadata": {},
   "outputs": [],
   "source": [
    "X_train_v3 = X_train_full.drop(['Id','SalePrice'], axis =1)"
   ]
  },
  {
   "cell_type": "code",
   "execution_count": 10,
   "metadata": {},
   "outputs": [
    {
     "name": "stdout",
     "output_type": "stream",
     "text": [
      "Index(['MSSubClass', 'MSZoning', 'LotFrontage', 'LotArea', 'Street', 'Alley',\n",
      "       'LotShape', 'LandContour', 'Utilities', 'LotConfig', 'LandSlope',\n",
      "       'Neighborhood', 'Condition1', 'Condition2', 'BldgType', 'HouseStyle',\n",
      "       'OverallQual', 'OverallCond', 'YearBuilt', 'YearRemodAdd', 'RoofStyle',\n",
      "       'RoofMatl', 'Exterior1st', 'Exterior2nd', 'MasVnrType', 'MasVnrArea',\n",
      "       'ExterQual', 'ExterCond', 'Foundation', 'BsmtQual', 'BsmtCond',\n",
      "       'BsmtExposure', 'BsmtFinType1', 'BsmtFinSF1', 'BsmtFinType2',\n",
      "       'BsmtFinSF2', 'BsmtUnfSF', 'TotalBsmtSF', 'Heating', 'HeatingQC',\n",
      "       'CentralAir', 'Electrical', '1stFlrSF', '2ndFlrSF', 'LowQualFinSF',\n",
      "       'GrLivArea', 'BsmtFullBath', 'BsmtHalfBath', 'FullBath', 'HalfBath',\n",
      "       'BedroomAbvGr', 'KitchenAbvGr', 'KitchenQual', 'TotRmsAbvGrd',\n",
      "       'Functional', 'Fireplaces', 'FireplaceQu', 'GarageType', 'GarageYrBlt',\n",
      "       'GarageFinish', 'GarageCars', 'GarageArea', 'GarageQual', 'GarageCond',\n",
      "       'PavedDrive', 'WoodDeckSF', 'OpenPorchSF', 'EnclosedPorch', '3SsnPorch',\n",
      "       'ScreenPorch', 'PoolArea', 'PoolQC', 'Fence', 'MiscFeature', 'MiscVal',\n",
      "       'MoSold', 'YrSold', 'SaleType', 'SaleCondition'],\n",
      "      dtype='object')\n"
     ]
    }
   ],
   "source": [
    "X_train_v3_num = X_train_v3.select_dtypes(include=[np.number])\n",
    "num_columns=X_train_v3.columns\n",
    "print(num_columns)"
   ]
  },
  {
   "cell_type": "code",
   "execution_count": 11,
   "metadata": {},
   "outputs": [],
   "source": [
    "# high skewness\n",
    "def select_skew_index(df):\n",
    "    numeric = df.select_dtypes(include=[np.number])\n",
    "    num_columns = numeric.columns\n",
    "    skew_features = df[num_columns].skew(axis = 0, skipna = True)\n",
    "    high_skewness = skew_features[skew_features > 0.5]\n",
    "    skew_index = high_skewness.index\n",
    "    return skew_index"
   ]
  },
  {
   "cell_type": "code",
   "execution_count": 12,
   "metadata": {},
   "outputs": [],
   "source": [
    "skew_index = select_skew_index(X_train_v3)"
   ]
  },
  {
   "cell_type": "code",
   "execution_count": 13,
   "metadata": {
    "scrolled": true
   },
   "outputs": [
    {
     "data": {
      "text/plain": [
       "array([[<matplotlib.axes._subplots.AxesSubplot object at 0x7fb1fb5f3390>,\n",
       "        <matplotlib.axes._subplots.AxesSubplot object at 0x7fb1fb57ae48>,\n",
       "        <matplotlib.axes._subplots.AxesSubplot object at 0x7fb1fb5293c8>,\n",
       "        <matplotlib.axes._subplots.AxesSubplot object at 0x7fb1fb4cf908>,\n",
       "        <matplotlib.axes._subplots.AxesSubplot object at 0x7fb1fb4f5e80>],\n",
       "       [<matplotlib.axes._subplots.AxesSubplot object at 0x7fb1fb4a7438>,\n",
       "        <matplotlib.axes._subplots.AxesSubplot object at 0x7fb1fb44f9b0>,\n",
       "        <matplotlib.axes._subplots.AxesSubplot object at 0x7fb1fb478f60>,\n",
       "        <matplotlib.axes._subplots.AxesSubplot object at 0x7fb1fb478f98>,\n",
       "        <matplotlib.axes._subplots.AxesSubplot object at 0x7fb1fb3d1a58>],\n",
       "       [<matplotlib.axes._subplots.AxesSubplot object at 0x7fb1fb3f9fd0>,\n",
       "        <matplotlib.axes._subplots.AxesSubplot object at 0x7fb1fb3aa550>,\n",
       "        <matplotlib.axes._subplots.AxesSubplot object at 0x7fb1fb350ac8>,\n",
       "        <matplotlib.axes._subplots.AxesSubplot object at 0x7fb1fb382080>,\n",
       "        <matplotlib.axes._subplots.AxesSubplot object at 0x7fb1fb32a5f8>],\n",
       "       [<matplotlib.axes._subplots.AxesSubplot object at 0x7fb1fb2d3b70>,\n",
       "        <matplotlib.axes._subplots.AxesSubplot object at 0x7fb1fb304128>,\n",
       "        <matplotlib.axes._subplots.AxesSubplot object at 0x7fb1fb2ad6a0>,\n",
       "        <matplotlib.axes._subplots.AxesSubplot object at 0x7fb1fb255c18>,\n",
       "        <matplotlib.axes._subplots.AxesSubplot object at 0x7fb1fb2861d0>],\n",
       "       [<matplotlib.axes._subplots.AxesSubplot object at 0x7fb1fb22c748>,\n",
       "        <matplotlib.axes._subplots.AxesSubplot object at 0x7fb1fb1d5b70>,\n",
       "        <matplotlib.axes._subplots.AxesSubplot object at 0x7fb1fb207128>,\n",
       "        <matplotlib.axes._subplots.AxesSubplot object at 0x7fb1fb1ae6a0>,\n",
       "        <matplotlib.axes._subplots.AxesSubplot object at 0x7fb1fb158c18>],\n",
       "       [<matplotlib.axes._subplots.AxesSubplot object at 0x7fb1fb1891d0>,\n",
       "        <matplotlib.axes._subplots.AxesSubplot object at 0x7fb1fb12f748>,\n",
       "        <matplotlib.axes._subplots.AxesSubplot object at 0x7fb1fb0d7cc0>,\n",
       "        <matplotlib.axes._subplots.AxesSubplot object at 0x7fb1fb109278>,\n",
       "        <matplotlib.axes._subplots.AxesSubplot object at 0x7fb1fb0ae7f0>]],\n",
       "      dtype=object)"
      ]
     },
     "execution_count": 13,
     "metadata": {},
     "output_type": "execute_result"
    },
    {
     "data": {
      "image/png": "[encoded data removed]",
      "text/plain": [
       "<Figure size 1080x1080 with 30 Axes>"
      ]
     },
     "metadata": {
      "needs_background": "light"
     },
     "output_type": "display_data"
    }
   ],
   "source": [
    "X_train_v3[skew_index].hist(figsize=(15,15))"
   ]
  },
  {
   "cell_type": "code",
   "execution_count": 14,
   "metadata": {},
   "outputs": [
    {
     "data": {
      "text/plain": [
       "LotFrontage       17.452867\n",
       "LotArea          203.243271\n",
       "MasVnrArea        10.082417\n",
       "BsmtFinSF1        11.118236\n",
       "BsmtFinSF2        20.113338\n",
       "TotalBsmtSF       13.250483\n",
       "1stFlrSF           5.745841\n",
       "LowQualFinSF      83.234817\n",
       "GrLivArea          4.895121\n",
       "BsmtHalfBath      16.396642\n",
       "KitchenAbvGr      21.532404\n",
       "OpenPorchSF        8.490336\n",
       "EnclosedPorch     10.430766\n",
       "3SsnPorch        123.662379\n",
       "ScreenPorch       18.439068\n",
       "PoolArea         223.268499\n",
       "MiscVal          701.003342\n",
       "dtype: float64"
      ]
     },
     "execution_count": 14,
     "metadata": {},
     "output_type": "execute_result"
    }
   ],
   "source": [
    "#Kutosis\n",
    "kurt_features = X_train_v3[num_columns].kurtosis(axis = 0, skipna = True)\n",
    "high_kurt = kurt_features[kurt_features > 3]\n",
    "kurt_index = high_kurt.index\n",
    "high_kurt"
   ]
  },
  {
   "cell_type": "markdown",
   "metadata": {},
   "source": [
    "## Outliers"
   ]
  },
  {
   "cell_type": "code",
   "execution_count": 15,
   "metadata": {
    "scrolled": true
   },
   "outputs": [
    {
     "data": {
      "image/png": "[encoded data removed]",
      "text/plain": [
       "<Figure size 1080x1440 with 17 Axes>"
      ]
     },
     "metadata": {
      "needs_background": "light"
     },
     "output_type": "display_data"
    }
   ],
   "source": [
    "#outliers\n",
    "fig=plt.figure(figsize=(15,20))\n",
    "for i in range(1,18):\n",
    "    ax=fig.add_subplot(6,3,i)\n",
    "    ax.scatter(x = X_train_v3[kurt_index[i-1]], y=y_train_v3)\n",
    "    ax.set_xlabel(kurt_index[i-1])"
   ]
  },
  {
   "cell_type": "code",
   "execution_count": 16,
   "metadata": {},
   "outputs": [
    {
     "data": {
      "text/plain": [
       "Int64Index([1298], dtype='int64')"
      ]
     },
     "execution_count": 16,
     "metadata": {},
     "output_type": "execute_result"
    }
   ],
   "source": [
    "X_train_v3[X_train_v3['BsmtFinSF1']>5000].index"
   ]
  },
  {
   "cell_type": "code",
   "execution_count": 17,
   "metadata": {},
   "outputs": [
    {
     "data": {
      "text/plain": [
       "Int64Index([1298], dtype='int64')"
      ]
     },
     "execution_count": 17,
     "metadata": {},
     "output_type": "execute_result"
    }
   ],
   "source": [
    "X_train_v3[X_train_v3['TotalBsmtSF']>6000].index"
   ]
  },
  {
   "cell_type": "code",
   "execution_count": 18,
   "metadata": {},
   "outputs": [
    {
     "data": {
      "text/plain": [
       "Int64Index([1298], dtype='int64')"
      ]
     },
     "execution_count": 18,
     "metadata": {},
     "output_type": "execute_result"
    }
   ],
   "source": [
    "X_train_v3[X_train_v3['GrLivArea']>5000].index"
   ]
  },
  {
   "cell_type": "code",
   "execution_count": 19,
   "metadata": {},
   "outputs": [
    {
     "data": {
      "text/plain": [
       "Int64Index([934, 1298], dtype='int64')"
      ]
     },
     "execution_count": 19,
     "metadata": {},
     "output_type": "execute_result"
    }
   ],
   "source": [
    "X_train_v3[X_train_v3['LotFrontage']>300].index"
   ]
  },
  {
   "cell_type": "code",
   "execution_count": 20,
   "metadata": {},
   "outputs": [
    {
     "data": {
      "text/plain": [
       "Int64Index([346, 705, 1230], dtype='int64')"
      ]
     },
     "execution_count": 20,
     "metadata": {},
     "output_type": "execute_result"
    }
   ],
   "source": [
    "X_train_v3[X_train_v3['MiscVal']>3000].index"
   ]
  },
  {
   "cell_type": "code",
   "execution_count": 21,
   "metadata": {},
   "outputs": [
    {
     "data": {
      "text/plain": [
       "(1460, 79)"
      ]
     },
     "execution_count": 21,
     "metadata": {},
     "output_type": "execute_result"
    }
   ],
   "source": [
    "X_train_v3.shape"
   ]
  },
  {
   "cell_type": "code",
   "execution_count": 22,
   "metadata": {},
   "outputs": [],
   "source": [
    "x_train_v3=X_train_v3.drop(X_train_v3.index[1298])\n",
    "y_train_v3=y_train_v3.drop(y_train_v3.index[1298])"
   ]
  },
  {
   "cell_type": "code",
   "execution_count": 23,
   "metadata": {},
   "outputs": [
    {
     "data": {
      "text/plain": [
       "(1459, 79)"
      ]
     },
     "execution_count": 23,
     "metadata": {},
     "output_type": "execute_result"
    }
   ],
   "source": [
    "x_train_v3.shape"
   ]
  },
  {
   "cell_type": "markdown",
   "metadata": {},
   "source": [
    "## Transformation log"
   ]
  },
  {
   "cell_type": "code",
   "execution_count": 24,
   "metadata": {},
   "outputs": [
    {
     "data": {
      "text/plain": [
       "(<matplotlib.axes._subplots.AxesSubplot at 0x7fb1fab67978>,\n",
       " <matplotlib.axes._subplots.AxesSubplot at 0x7fb1fab67978>)"
      ]
     },
     "execution_count": 24,
     "metadata": {},
     "output_type": "execute_result"
    },
    {
     "data": {
      "image/png": "[encoded data removed]",
      "text/plain": [
       "<Figure size 432x288 with 2 Axes>"
      ]
     },
     "metadata": {
      "needs_background": "light"
     },
     "output_type": "display_data"
    }
   ],
   "source": [
    "y_train_v3_log =np.log1p(y_train_v3)\n",
    "plt.subplot(1,2,1), y_train_v3.hist()\n",
    "plt.subplot(1,2,2), y_train_v3_log.hist()"
   ]
  },
  {
   "cell_type": "code",
   "execution_count": 25,
   "metadata": {},
   "outputs": [],
   "source": [
    "def correct_skew(df,skew_index):\n",
    "    for i in skew_index:\n",
    "        df[i] = np.log1p(df[i])"
   ]
  },
  {
   "cell_type": "code",
   "execution_count": 26,
   "metadata": {},
   "outputs": [],
   "source": [
    "correct_skew(X_train_v3,skew_index)"
   ]
  },
  {
   "cell_type": "code",
   "execution_count": 27,
   "metadata": {},
   "outputs": [
    {
     "data": {
      "text/plain": [
       "array([[<matplotlib.axes._subplots.AxesSubplot object at 0x7fb1f8a920f0>,\n",
       "        <matplotlib.axes._subplots.AxesSubplot object at 0x7fb1f8a64a58>,\n",
       "        <matplotlib.axes._subplots.AxesSubplot object at 0x7fb1f8a0bfd0>,\n",
       "        <matplotlib.axes._subplots.AxesSubplot object at 0x7fb1f89bb588>,\n",
       "        <matplotlib.axes._subplots.AxesSubplot object at 0x7fb1f89e0b00>],\n",
       "       [<matplotlib.axes._subplots.AxesSubplot object at 0x7fb1f89920b8>,\n",
       "        <matplotlib.axes._subplots.AxesSubplot object at 0x7fb1f8938630>,\n",
       "        <matplotlib.axes._subplots.AxesSubplot object at 0x7fb1f8960be0>,\n",
       "        <matplotlib.axes._subplots.AxesSubplot object at 0x7fb1f8960c18>,\n",
       "        <matplotlib.axes._subplots.AxesSubplot object at 0x7fb1f88bc6d8>],\n",
       "       [<matplotlib.axes._subplots.AxesSubplot object at 0x7fb1f88e3c50>,\n",
       "        <matplotlib.axes._subplots.AxesSubplot object at 0x7fb1f8894208>,\n",
       "        <matplotlib.axes._subplots.AxesSubplot object at 0x7fb1f883b780>,\n",
       "        <matplotlib.axes._subplots.AxesSubplot object at 0x7fb1f8863cf8>,\n",
       "        <matplotlib.axes._subplots.AxesSubplot object at 0x7fb1f88152b0>],\n",
       "       [<matplotlib.axes._subplots.AxesSubplot object at 0x7fb1f87bc828>,\n",
       "        <matplotlib.axes._subplots.AxesSubplot object at 0x7fb1f87e5da0>,\n",
       "        <matplotlib.axes._subplots.AxesSubplot object at 0x7fb1f8795358>,\n",
       "        <matplotlib.axes._subplots.AxesSubplot object at 0x7fb1f873b8d0>,\n",
       "        <matplotlib.axes._subplots.AxesSubplot object at 0x7fb1f8765e48>],\n",
       "       [<matplotlib.axes._subplots.AxesSubplot object at 0x7fb1f8716400>,\n",
       "        <matplotlib.axes._subplots.AxesSubplot object at 0x7fb1f86be978>,\n",
       "        <matplotlib.axes._subplots.AxesSubplot object at 0x7fb1f86e7ef0>,\n",
       "        <matplotlib.axes._subplots.AxesSubplot object at 0x7fb1f86994a8>,\n",
       "        <matplotlib.axes._subplots.AxesSubplot object at 0x7fb1f863ea20>],\n",
       "       [<matplotlib.axes._subplots.AxesSubplot object at 0x7fb1f8666f98>,\n",
       "        <matplotlib.axes._subplots.AxesSubplot object at 0x7fb1f8618550>,\n",
       "        <matplotlib.axes._subplots.AxesSubplot object at 0x7fb1f85c0ac8>,\n",
       "        <matplotlib.axes._subplots.AxesSubplot object at 0x7fb1f8572080>,\n",
       "        <matplotlib.axes._subplots.AxesSubplot object at 0x7fb1f85995f8>]],\n",
       "      dtype=object)"
      ]
     },
     "execution_count": 27,
     "metadata": {},
     "output_type": "execute_result"
    },
    {
     "data": {
      "image/png": "[encoded data removed]",
      "text/plain": [
       "<Figure size 1080x1080 with 30 Axes>"
      ]
     },
     "metadata": {
      "needs_background": "light"
     },
     "output_type": "display_data"
    }
   ],
   "source": [
    "X_train_v3[skew_index].hist(figsize=(15,15))"
   ]
  },
  {
   "cell_type": "markdown",
   "metadata": {},
   "source": [
    "## Filling missing values"
   ]
  },
  {
   "cell_type": "code",
   "execution_count": 28,
   "metadata": {},
   "outputs": [
    {
     "data": {
      "text/plain": [
       "PoolQC          1453\n",
       "MiscFeature     1406\n",
       "Alley           1369\n",
       "Fence           1179\n",
       "FireplaceQu      690\n",
       "LotFrontage      259\n",
       "GarageCond        81\n",
       "GarageType        81\n",
       "GarageYrBlt       81\n",
       "GarageFinish      81\n",
       "GarageQual        81\n",
       "BsmtExposure      38\n",
       "BsmtFinType2      38\n",
       "BsmtFinType1      37\n",
       "BsmtCond          37\n",
       "BsmtQual          37\n",
       "MasVnrArea         8\n",
       "MasVnrType         8\n",
       "Electrical         1\n",
       "LotConfig          0\n",
       "LandSlope          0\n",
       "MSZoning           0\n",
       "Foundation         0\n",
       "ExterCond          0\n",
       "ExterQual          0\n",
       "dtype: int64"
      ]
     },
     "execution_count": 28,
     "metadata": {},
     "output_type": "execute_result"
    }
   ],
   "source": [
    "X_train_v3.isnull().sum().sort_values(ascending=False)[0:25]"
   ]
  },
  {
   "cell_type": "code",
   "execution_count": 29,
   "metadata": {},
   "outputs": [],
   "source": [
    "def fill_miss(df):\n",
    "    Nvalues=['FireplaceQu','GarageFinish','BsmtCond','Alley','BsmtExposure','GarageCond','PoolQC','BsmtQual',\n",
    "             'MiscFeature','MasVnrType','BsmtFinType1','GarageType','Fence','GarageQual','BsmtFinType2']\n",
    "    GarBsmt=['GarageYrBlt','GarageCars','GarageArea','BsmtFinSF1','BsmtFinSF2','BsmtUnfSF','TotalBsmtSF',\n",
    "'BsmtFullBath','BsmtHalfBath']\n",
    "    df_cat=df.select_dtypes(exclude=[np.number])\n",
    "    stats_df=df_cat.describe() \n",
    "    for i in df.columns:\n",
    "        if(i in Nvalues):\n",
    "            df[i].replace(np.nan,\"None\", inplace=True )\n",
    "        elif(i in GarBsmt):\n",
    "            df[i].replace(np.nan,0, inplace=True )\n",
    "        \n",
    "    for i in df_cat.columns:\n",
    "        top = stats_df[i].iloc[2]\n",
    "        if(df[i].isnull().sum()!=0):\n",
    "            df[i].replace(np.nan,top, inplace=True )\n",
    "            \n",
    "    df.interpolate(inplace=True)"
   ]
  },
  {
   "cell_type": "code",
   "execution_count": 30,
   "metadata": {},
   "outputs": [
    {
     "data": {
      "text/plain": [
       "MSSubClass       0\n",
       "MSZoning         0\n",
       "LotFrontage      0\n",
       "LotArea          0\n",
       "Street           0\n",
       "Alley            0\n",
       "LotShape         0\n",
       "LandContour      0\n",
       "Utilities        0\n",
       "LotConfig        0\n",
       "LandSlope        0\n",
       "Neighborhood     0\n",
       "Condition1       0\n",
       "Condition2       0\n",
       "BldgType         0\n",
       "HouseStyle       0\n",
       "OverallQual      0\n",
       "OverallCond      0\n",
       "YearBuilt        0\n",
       "YearRemodAdd     0\n",
       "RoofStyle        0\n",
       "RoofMatl         0\n",
       "Exterior1st      0\n",
       "Exterior2nd      0\n",
       "MasVnrType       0\n",
       "MasVnrArea       0\n",
       "ExterQual        0\n",
       "ExterCond        0\n",
       "Foundation       0\n",
       "BsmtQual         0\n",
       "                ..\n",
       "HalfBath         0\n",
       "BedroomAbvGr     0\n",
       "KitchenAbvGr     0\n",
       "KitchenQual      0\n",
       "TotRmsAbvGrd     0\n",
       "Functional       0\n",
       "Fireplaces       0\n",
       "FireplaceQu      0\n",
       "GarageType       0\n",
       "GarageYrBlt      0\n",
       "GarageFinish     0\n",
       "GarageCars       0\n",
       "GarageArea       0\n",
       "GarageQual       0\n",
       "GarageCond       0\n",
       "PavedDrive       0\n",
       "WoodDeckSF       0\n",
       "OpenPorchSF      0\n",
       "EnclosedPorch    0\n",
       "3SsnPorch        0\n",
       "ScreenPorch      0\n",
       "PoolArea         0\n",
       "PoolQC           0\n",
       "Fence            0\n",
       "MiscFeature      0\n",
       "MiscVal          0\n",
       "MoSold           0\n",
       "YrSold           0\n",
       "SaleType         0\n",
       "SaleCondition    0\n",
       "Length: 79, dtype: int64"
      ]
     },
     "execution_count": 30,
     "metadata": {},
     "output_type": "execute_result"
    }
   ],
   "source": [
    "fill_miss(X_train_v3)\n",
    "X_train_v3.isnull().sum()"
   ]
  },
  {
   "cell_type": "markdown",
   "metadata": {},
   "source": [
    "## Categorical values"
   ]
  },
  {
   "cell_type": "code",
   "execution_count": 31,
   "metadata": {},
   "outputs": [],
   "source": [
    "def uniq_cat(df):\n",
    "    categoric=df.select_dtypes(exclude=[np.number])\n",
    "    cat_col=categoric.columns\n",
    "    high_val=[]\n",
    "    for i in cat_col:\n",
    "        for j in range(df[i].unique().shape[0]):\n",
    "            if ((df[i].value_counts()[j])/1459 > 0.99):\n",
    "                 high_val.append(i) \n",
    "    return high_val"
   ]
  },
  {
   "cell_type": "code",
   "execution_count": 32,
   "metadata": {},
   "outputs": [
    {
     "data": {
      "text/plain": [
       "['Street', 'Utilities', 'Condition2', 'PoolQC']"
      ]
     },
     "execution_count": 32,
     "metadata": {},
     "output_type": "execute_result"
    }
   ],
   "source": [
    "uniq_cat(X_train_v3)"
   ]
  },
  {
   "cell_type": "code",
   "execution_count": 33,
   "metadata": {},
   "outputs": [],
   "source": [
    "X_train_v3 = X_train_v3.drop(['Utilities', 'Street', 'PoolQC',], axis=1)"
   ]
  },
  {
   "cell_type": "code",
   "execution_count": 34,
   "metadata": {},
   "outputs": [],
   "source": [
    "def filling_ordinal(df):\n",
    "    feat=['ExterQual','ExterCond','BsmtQual','BsmtCond','KitchenQual','HeatingQC','KitchenQual'\n",
    "          ,'HeatingQC','GarageQual','GarageCond']\n",
    "    for x in feat:  \n",
    "        df[x][df[x] == 'Ex'] = 5\n",
    "        df[x][df[x] == 'Gd'] = 4\n",
    "        df[x][df[x] == 'TA'] = 3\n",
    "        df[x][df[x] == 'Fa'] = 2\n",
    "        df[x][df[x] == 'Po'] = 1\n",
    "        df[x][df[x] == 'None'] = 0\n",
    "        \n",
    "    df['LandSlope'][df['LandSlope'] == 'Sev'] = 3\n",
    "    df['LandSlope'][df['LandSlope'] == 'Mod'] = 2\n",
    "    df['LandSlope'][df['LandSlope'] == 'Gtl'] = 1\n",
    "    \n",
    "    df['BsmtExposure'][df['BsmtExposure'] == 'Gd'] = 4\n",
    "    df['BsmtExposure'][df['BsmtExposure'] == 'Av'] = 3\n",
    "    df['BsmtExposure'][df['BsmtExposure'] == 'Mn'] = 2\n",
    "    df['BsmtExposure'][df['BsmtExposure'] == 'No'] = 1\n",
    "    df['BsmtExposure'][df['BsmtExposure'] == 'None'] = 0\n",
    "    \n",
    "    feat1=['BsmtFinType1','BsmtFinType2']\n",
    "    \n",
    "    for x in feat1:\n",
    "        df[x][df[x] == 'GLQ'] = 6\n",
    "        df[x][df[x] == 'ALQ'] = 5\n",
    "        df[x][df[x] == 'BLQ'] = 4\n",
    "        df[x][df[x] == 'Rec'] = 3\n",
    "        df[x][df[x] == 'LwQ'] = 2\n",
    "        df[x][df[x] == 'Unf'] = 1\n",
    "        df[x][df[x] == 'None'] = 0\n",
    "        \n",
    "    df['CentralAir'][df['CentralAir'] == 'Y'] = 1\n",
    "    df['CentralAir'][df['CentralAir'] == 'N'] = 0\n",
    "    "
   ]
  },
  {
   "cell_type": "code",
   "execution_count": 35,
   "metadata": {},
   "outputs": [
    {
     "name": "stderr",
     "output_type": "stream",
     "text": [
      "/opt/conda/lib/python3.7/site-packages/ipykernel_launcher.py:5: SettingWithCopyWarning: \n",
      "A value is trying to be set on a copy of a slice from a DataFrame\n",
      "\n",
      "See the caveats in the documentation: http://pandas.pydata.org/pandas-docs/stable/indexing.html#indexing-view-versus-copy\n",
      "  \"\"\"\n",
      "/opt/conda/lib/python3.7/site-packages/ipykernel_launcher.py:6: SettingWithCopyWarning: \n",
      "A value is trying to be set on a copy of a slice from a DataFrame\n",
      "\n",
      "See the caveats in the documentation: http://pandas.pydata.org/pandas-docs/stable/indexing.html#indexing-view-versus-copy\n",
      "  \n",
      "/opt/conda/lib/python3.7/site-packages/ipykernel_launcher.py:7: SettingWithCopyWarning: \n",
      "A value is trying to be set on a copy of a slice from a DataFrame\n",
      "\n",
      "See the caveats in the documentation: http://pandas.pydata.org/pandas-docs/stable/indexing.html#indexing-view-versus-copy\n",
      "  import sys\n",
      "/opt/conda/lib/python3.7/site-packages/ipykernel_launcher.py:8: SettingWithCopyWarning: \n",
      "A value is trying to be set on a copy of a slice from a DataFrame\n",
      "\n",
      "See the caveats in the documentation: http://pandas.pydata.org/pandas-docs/stable/indexing.html#indexing-view-versus-copy\n",
      "  \n",
      "/opt/conda/lib/python3.7/site-packages/ipykernel_launcher.py:9: SettingWithCopyWarning: \n",
      "A value is trying to be set on a copy of a slice from a DataFrame\n",
      "\n",
      "See the caveats in the documentation: http://pandas.pydata.org/pandas-docs/stable/indexing.html#indexing-view-versus-copy\n",
      "  if __name__ == '__main__':\n",
      "/opt/conda/lib/python3.7/site-packages/ipykernel_launcher.py:10: SettingWithCopyWarning: \n",
      "A value is trying to be set on a copy of a slice from a DataFrame\n",
      "\n",
      "See the caveats in the documentation: http://pandas.pydata.org/pandas-docs/stable/indexing.html#indexing-view-versus-copy\n",
      "  # Remove the CWD from sys.path while we load stuff.\n",
      "/opt/conda/lib/python3.7/site-packages/ipykernel_launcher.py:12: SettingWithCopyWarning: \n",
      "A value is trying to be set on a copy of a slice from a DataFrame\n",
      "\n",
      "See the caveats in the documentation: http://pandas.pydata.org/pandas-docs/stable/indexing.html#indexing-view-versus-copy\n",
      "  if sys.path[0] == '':\n",
      "/opt/conda/lib/python3.7/site-packages/ipykernel_launcher.py:13: SettingWithCopyWarning: \n",
      "A value is trying to be set on a copy of a slice from a DataFrame\n",
      "\n",
      "See the caveats in the documentation: http://pandas.pydata.org/pandas-docs/stable/indexing.html#indexing-view-versus-copy\n",
      "  del sys.path[0]\n",
      "/opt/conda/lib/python3.7/site-packages/ipykernel_launcher.py:14: SettingWithCopyWarning: \n",
      "A value is trying to be set on a copy of a slice from a DataFrame\n",
      "\n",
      "See the caveats in the documentation: http://pandas.pydata.org/pandas-docs/stable/indexing.html#indexing-view-versus-copy\n",
      "  \n",
      "/opt/conda/lib/python3.7/site-packages/ipykernel_launcher.py:16: SettingWithCopyWarning: \n",
      "A value is trying to be set on a copy of a slice from a DataFrame\n",
      "\n",
      "See the caveats in the documentation: http://pandas.pydata.org/pandas-docs/stable/indexing.html#indexing-view-versus-copy\n",
      "  app.launch_new_instance()\n",
      "/opt/conda/lib/python3.7/site-packages/ipykernel_launcher.py:17: SettingWithCopyWarning: \n",
      "A value is trying to be set on a copy of a slice from a DataFrame\n",
      "\n",
      "See the caveats in the documentation: http://pandas.pydata.org/pandas-docs/stable/indexing.html#indexing-view-versus-copy\n",
      "/opt/conda/lib/python3.7/site-packages/ipykernel_launcher.py:18: SettingWithCopyWarning: \n",
      "A value is trying to be set on a copy of a slice from a DataFrame\n",
      "\n",
      "See the caveats in the documentation: http://pandas.pydata.org/pandas-docs/stable/indexing.html#indexing-view-versus-copy\n",
      "/opt/conda/lib/python3.7/site-packages/ipykernel_launcher.py:19: SettingWithCopyWarning: \n",
      "A value is trying to be set on a copy of a slice from a DataFrame\n",
      "\n",
      "See the caveats in the documentation: http://pandas.pydata.org/pandas-docs/stable/indexing.html#indexing-view-versus-copy\n",
      "/opt/conda/lib/python3.7/site-packages/ipykernel_launcher.py:20: SettingWithCopyWarning: \n",
      "A value is trying to be set on a copy of a slice from a DataFrame\n",
      "\n",
      "See the caveats in the documentation: http://pandas.pydata.org/pandas-docs/stable/indexing.html#indexing-view-versus-copy\n",
      "/opt/conda/lib/python3.7/site-packages/ipykernel_launcher.py:25: SettingWithCopyWarning: \n",
      "A value is trying to be set on a copy of a slice from a DataFrame\n",
      "\n",
      "See the caveats in the documentation: http://pandas.pydata.org/pandas-docs/stable/indexing.html#indexing-view-versus-copy\n",
      "/opt/conda/lib/python3.7/site-packages/ipykernel_launcher.py:26: SettingWithCopyWarning: \n",
      "A value is trying to be set on a copy of a slice from a DataFrame\n",
      "\n",
      "See the caveats in the documentation: http://pandas.pydata.org/pandas-docs/stable/indexing.html#indexing-view-versus-copy\n",
      "/opt/conda/lib/python3.7/site-packages/ipykernel_launcher.py:27: SettingWithCopyWarning: \n",
      "A value is trying to be set on a copy of a slice from a DataFrame\n",
      "\n",
      "See the caveats in the documentation: http://pandas.pydata.org/pandas-docs/stable/indexing.html#indexing-view-versus-copy\n",
      "/opt/conda/lib/python3.7/site-packages/ipykernel_launcher.py:28: SettingWithCopyWarning: \n",
      "A value is trying to be set on a copy of a slice from a DataFrame\n",
      "\n",
      "See the caveats in the documentation: http://pandas.pydata.org/pandas-docs/stable/indexing.html#indexing-view-versus-copy\n",
      "/opt/conda/lib/python3.7/site-packages/ipykernel_launcher.py:29: SettingWithCopyWarning: \n",
      "A value is trying to be set on a copy of a slice from a DataFrame\n",
      "\n",
      "See the caveats in the documentation: http://pandas.pydata.org/pandas-docs/stable/indexing.html#indexing-view-versus-copy\n",
      "/opt/conda/lib/python3.7/site-packages/ipykernel_launcher.py:30: SettingWithCopyWarning: \n",
      "A value is trying to be set on a copy of a slice from a DataFrame\n",
      "\n",
      "See the caveats in the documentation: http://pandas.pydata.org/pandas-docs/stable/indexing.html#indexing-view-versus-copy\n",
      "/opt/conda/lib/python3.7/site-packages/ipykernel_launcher.py:31: SettingWithCopyWarning: \n",
      "A value is trying to be set on a copy of a slice from a DataFrame\n",
      "\n",
      "See the caveats in the documentation: http://pandas.pydata.org/pandas-docs/stable/indexing.html#indexing-view-versus-copy\n",
      "/opt/conda/lib/python3.7/site-packages/ipykernel_launcher.py:33: SettingWithCopyWarning: \n",
      "A value is trying to be set on a copy of a slice from a DataFrame\n",
      "\n",
      "See the caveats in the documentation: http://pandas.pydata.org/pandas-docs/stable/indexing.html#indexing-view-versus-copy\n",
      "/opt/conda/lib/python3.7/site-packages/ipykernel_launcher.py:34: SettingWithCopyWarning: \n",
      "A value is trying to be set on a copy of a slice from a DataFrame\n",
      "\n",
      "See the caveats in the documentation: http://pandas.pydata.org/pandas-docs/stable/indexing.html#indexing-view-versus-copy\n"
     ]
    }
   ],
   "source": [
    "filling_ordinal(X_train_v3)"
   ]
  },
  {
   "cell_type": "code",
   "execution_count": 36,
   "metadata": {},
   "outputs": [],
   "source": [
    "def feat_ing(X):\n",
    "    X['TotalBath']=X['BsmtFullBath']+ (1/2)*X['BsmtHalfBath']+X['FullBath']+ (1/2)*X['HalfBath']\n",
    "    X['TotalSF']=X['TotalBsmtSF']+X['1stFlrSF']+X['2ndFlrSF']"
   ]
  },
  {
   "cell_type": "code",
   "execution_count": 37,
   "metadata": {},
   "outputs": [],
   "source": [
    "feat_ing(X_train_v3)"
   ]
  },
  {
   "cell_type": "code",
   "execution_count": 38,
   "metadata": {},
   "outputs": [],
   "source": [
    "X=pd.get_dummies(X_train_v3)"
   ]
  },
  {
   "cell_type": "markdown",
   "metadata": {},
   "source": [
    "## Recap"
   ]
  },
  {
   "cell_type": "code",
   "execution_count": 39,
   "metadata": {},
   "outputs": [],
   "source": [
    "def data_transf(rtrain,rtest):\n",
    "    y=rtrain['SalePrice']\n",
    "    testId=rtest['Id']\n",
    "    rtrain.drop(['Id','SalePrice'],axis=1,inplace=True)\n",
    "    rtest.drop(['Id'],axis=1,inplace=True)\n",
    "    \n",
    "    # selecting the indexes of the skew features\n",
    "    skew_index=select_skew_index(rtrain)\n",
    "    \n",
    "    # Eliminate the outier\n",
    "    rtrain=rtrain.drop(rtrain.index[1298])\n",
    "    y=y.drop(rtrain.index[1298])\n",
    "    \n",
    "    # Drop the columns in the test data with all values equal to na\n",
    "    rtest=rtest.dropna(axis=1,how='all')\n",
    "    \n",
    "    # preparing features and target values\n",
    "    y=np.log1p(y)\n",
    "\n",
    "    #Correct the skewness\n",
    "    #correct_skew(rtrain,skew_index)\n",
    "    #correct_skew(rtest,skew_index)\n",
    "    \n",
    "    #Filling missing values\n",
    "    fill_miss(rtrain)\n",
    "    fill_miss(rtest)\n",
    "        \n",
    "    # Correcting categorical values that are ordinal\n",
    "    filling_ordinal(rtrain)\n",
    "    filling_ordinal(rtest)\n",
    "    \n",
    "    #Feature ingeneering\n",
    "    feat_ing(rtrain)\n",
    "    feat_ing(rtest)\n",
    "    \n",
    "    #One hot encoding\n",
    "    rtrain=pd.get_dummies(rtrain)\n",
    "    rtest=pd.get_dummies(rtest)\n",
    "    \n",
    "    # Update the training set\n",
    "    rtrain=rtrain[rtest.columns]\n",
    "    \n",
    "    \n",
    "    return(rtrain,rtest,y,testId)"
   ]
  },
  {
   "cell_type": "code",
   "execution_count": 40,
   "metadata": {},
   "outputs": [
    {
     "name": "stderr",
     "output_type": "stream",
     "text": [
      "/opt/conda/lib/python3.7/site-packages/ipykernel_launcher.py:5: SettingWithCopyWarning: \n",
      "A value is trying to be set on a copy of a slice from a DataFrame\n",
      "\n",
      "See the caveats in the documentation: http://pandas.pydata.org/pandas-docs/stable/indexing.html#indexing-view-versus-copy\n",
      "  \"\"\"\n",
      "/opt/conda/lib/python3.7/site-packages/ipykernel_launcher.py:6: SettingWithCopyWarning: \n",
      "A value is trying to be set on a copy of a slice from a DataFrame\n",
      "\n",
      "See the caveats in the documentation: http://pandas.pydata.org/pandas-docs/stable/indexing.html#indexing-view-versus-copy\n",
      "  \n",
      "/opt/conda/lib/python3.7/site-packages/ipykernel_launcher.py:7: SettingWithCopyWarning: \n",
      "A value is trying to be set on a copy of a slice from a DataFrame\n",
      "\n",
      "See the caveats in the documentation: http://pandas.pydata.org/pandas-docs/stable/indexing.html#indexing-view-versus-copy\n",
      "  import sys\n",
      "/opt/conda/lib/python3.7/site-packages/ipykernel_launcher.py:8: SettingWithCopyWarning: \n",
      "A value is trying to be set on a copy of a slice from a DataFrame\n",
      "\n",
      "See the caveats in the documentation: http://pandas.pydata.org/pandas-docs/stable/indexing.html#indexing-view-versus-copy\n",
      "  \n",
      "/opt/conda/lib/python3.7/site-packages/ipykernel_launcher.py:9: SettingWithCopyWarning: \n",
      "A value is trying to be set on a copy of a slice from a DataFrame\n",
      "\n",
      "See the caveats in the documentation: http://pandas.pydata.org/pandas-docs/stable/indexing.html#indexing-view-versus-copy\n",
      "  if __name__ == '__main__':\n",
      "/opt/conda/lib/python3.7/site-packages/ipykernel_launcher.py:10: SettingWithCopyWarning: \n",
      "A value is trying to be set on a copy of a slice from a DataFrame\n",
      "\n",
      "See the caveats in the documentation: http://pandas.pydata.org/pandas-docs/stable/indexing.html#indexing-view-versus-copy\n",
      "  # Remove the CWD from sys.path while we load stuff.\n",
      "/opt/conda/lib/python3.7/site-packages/ipykernel_launcher.py:12: SettingWithCopyWarning: \n",
      "A value is trying to be set on a copy of a slice from a DataFrame\n",
      "\n",
      "See the caveats in the documentation: http://pandas.pydata.org/pandas-docs/stable/indexing.html#indexing-view-versus-copy\n",
      "  if sys.path[0] == '':\n",
      "/opt/conda/lib/python3.7/site-packages/ipykernel_launcher.py:13: SettingWithCopyWarning: \n",
      "A value is trying to be set on a copy of a slice from a DataFrame\n",
      "\n",
      "See the caveats in the documentation: http://pandas.pydata.org/pandas-docs/stable/indexing.html#indexing-view-versus-copy\n",
      "  del sys.path[0]\n",
      "/opt/conda/lib/python3.7/site-packages/ipykernel_launcher.py:14: SettingWithCopyWarning: \n",
      "A value is trying to be set on a copy of a slice from a DataFrame\n",
      "\n",
      "See the caveats in the documentation: http://pandas.pydata.org/pandas-docs/stable/indexing.html#indexing-view-versus-copy\n",
      "  \n",
      "/opt/conda/lib/python3.7/site-packages/ipykernel_launcher.py:16: SettingWithCopyWarning: \n",
      "A value is trying to be set on a copy of a slice from a DataFrame\n",
      "\n",
      "See the caveats in the documentation: http://pandas.pydata.org/pandas-docs/stable/indexing.html#indexing-view-versus-copy\n",
      "  app.launch_new_instance()\n",
      "/opt/conda/lib/python3.7/site-packages/ipykernel_launcher.py:17: SettingWithCopyWarning: \n",
      "A value is trying to be set on a copy of a slice from a DataFrame\n",
      "\n",
      "See the caveats in the documentation: http://pandas.pydata.org/pandas-docs/stable/indexing.html#indexing-view-versus-copy\n",
      "/opt/conda/lib/python3.7/site-packages/ipykernel_launcher.py:18: SettingWithCopyWarning: \n",
      "A value is trying to be set on a copy of a slice from a DataFrame\n",
      "\n",
      "See the caveats in the documentation: http://pandas.pydata.org/pandas-docs/stable/indexing.html#indexing-view-versus-copy\n",
      "/opt/conda/lib/python3.7/site-packages/ipykernel_launcher.py:19: SettingWithCopyWarning: \n",
      "A value is trying to be set on a copy of a slice from a DataFrame\n",
      "\n",
      "See the caveats in the documentation: http://pandas.pydata.org/pandas-docs/stable/indexing.html#indexing-view-versus-copy\n",
      "/opt/conda/lib/python3.7/site-packages/ipykernel_launcher.py:20: SettingWithCopyWarning: \n",
      "A value is trying to be set on a copy of a slice from a DataFrame\n",
      "\n",
      "See the caveats in the documentation: http://pandas.pydata.org/pandas-docs/stable/indexing.html#indexing-view-versus-copy\n",
      "/opt/conda/lib/python3.7/site-packages/ipykernel_launcher.py:25: SettingWithCopyWarning: \n",
      "A value is trying to be set on a copy of a slice from a DataFrame\n",
      "\n",
      "See the caveats in the documentation: http://pandas.pydata.org/pandas-docs/stable/indexing.html#indexing-view-versus-copy\n",
      "/opt/conda/lib/python3.7/site-packages/ipykernel_launcher.py:26: SettingWithCopyWarning: \n",
      "A value is trying to be set on a copy of a slice from a DataFrame\n",
      "\n",
      "See the caveats in the documentation: http://pandas.pydata.org/pandas-docs/stable/indexing.html#indexing-view-versus-copy\n",
      "/opt/conda/lib/python3.7/site-packages/ipykernel_launcher.py:27: SettingWithCopyWarning: \n",
      "A value is trying to be set on a copy of a slice from a DataFrame\n",
      "\n",
      "See the caveats in the documentation: http://pandas.pydata.org/pandas-docs/stable/indexing.html#indexing-view-versus-copy\n",
      "/opt/conda/lib/python3.7/site-packages/ipykernel_launcher.py:28: SettingWithCopyWarning: \n",
      "A value is trying to be set on a copy of a slice from a DataFrame\n",
      "\n",
      "See the caveats in the documentation: http://pandas.pydata.org/pandas-docs/stable/indexing.html#indexing-view-versus-copy\n",
      "/opt/conda/lib/python3.7/site-packages/ipykernel_launcher.py:29: SettingWithCopyWarning: \n",
      "A value is trying to be set on a copy of a slice from a DataFrame\n",
      "\n",
      "See the caveats in the documentation: http://pandas.pydata.org/pandas-docs/stable/indexing.html#indexing-view-versus-copy\n",
      "/opt/conda/lib/python3.7/site-packages/ipykernel_launcher.py:30: SettingWithCopyWarning: \n",
      "A value is trying to be set on a copy of a slice from a DataFrame\n",
      "\n",
      "See the caveats in the documentation: http://pandas.pydata.org/pandas-docs/stable/indexing.html#indexing-view-versus-copy\n",
      "/opt/conda/lib/python3.7/site-packages/ipykernel_launcher.py:31: SettingWithCopyWarning: \n",
      "A value is trying to be set on a copy of a slice from a DataFrame\n",
      "\n",
      "See the caveats in the documentation: http://pandas.pydata.org/pandas-docs/stable/indexing.html#indexing-view-versus-copy\n",
      "/opt/conda/lib/python3.7/site-packages/ipykernel_launcher.py:33: SettingWithCopyWarning: \n",
      "A value is trying to be set on a copy of a slice from a DataFrame\n",
      "\n",
      "See the caveats in the documentation: http://pandas.pydata.org/pandas-docs/stable/indexing.html#indexing-view-versus-copy\n",
      "/opt/conda/lib/python3.7/site-packages/ipykernel_launcher.py:34: SettingWithCopyWarning: \n",
      "A value is trying to be set on a copy of a slice from a DataFrame\n",
      "\n",
      "See the caveats in the documentation: http://pandas.pydata.org/pandas-docs/stable/indexing.html#indexing-view-versus-copy\n"
     ]
    }
   ],
   "source": [
    "X_train_v3,X_test_v3,y_train_v3,X_test_Id=data_transf(df_train_full,df_test)"
   ]
  },
  {
   "cell_type": "markdown",
   "metadata": {},
   "source": [
    "## Checking data for learning"
   ]
  },
  {
   "cell_type": "code",
   "execution_count": 41,
   "metadata": {
    "ExecuteTime": {
     "end_time": "2019-12-09T23:42:35.396485Z",
     "start_time": "2019-12-09T23:42:35.386290Z"
    }
   },
   "outputs": [
    {
     "name": "stdout",
     "output_type": "stream",
     "text": [
      "**Train full**\n",
      "(1459, 286)\n",
      "(1459,)\n",
      "\n",
      "**Test**\n",
      "(1459, 286)\n",
      "(1459,)\n"
     ]
    }
   ],
   "source": [
    "# Train Full\n",
    "print('**Train full**')\n",
    "print(X_train_v3.shape)\n",
    "print(y_train_v3.shape)\n",
    "print()\n",
    "\n",
    "# Test\n",
    "print('**Test**')\n",
    "print(X_test_v3.shape)\n",
    "print(X_test_Id.shape)\n"
   ]
  },
  {
   "cell_type": "markdown",
   "metadata": {},
   "source": [
    "# Dataset for Learning"
   ]
  },
  {
   "cell_type": "markdown",
   "metadata": {},
   "source": [
    "## Train full & Test"
   ]
  },
  {
   "cell_type": "code",
   "execution_count": 42,
   "metadata": {},
   "outputs": [
    {
     "name": "stdout",
     "output_type": "stream",
     "text": [
      "Train full\n",
      "(1459, 286)\n",
      "(1459, 1)\n",
      "Test\n",
      "(1459, 286)\n",
      "Test Id\n",
      "(1459, 1)\n"
     ]
    }
   ],
   "source": [
    "X_train_full_v3 = X_train_v3.copy()\n",
    "\n",
    "y_train_full_v3 = y_train_v3.copy()\n",
    "y_train_full_v3 = pd.DataFrame(y_train_full_v3)\n",
    "\n",
    "X_test_id_v3 = X_test_Id.copy()\n",
    "X_test_id_v3 = pd.DataFrame(X_test_id_v3)\n",
    "X_test_v3 = X_test_v3.copy()\n",
    "\n",
    "\n",
    "print('Train full')\n",
    "print(X_train_full_v3.shape)\n",
    "print(y_train_full_v3.shape)\n",
    "print('Test')\n",
    "print (X_test_v3.shape)\n",
    "print('Test Id')\n",
    "print (X_test_id_v3.shape)"
   ]
  },
  {
   "cell_type": "markdown",
   "metadata": {},
   "source": [
    "## Train full splitted"
   ]
  },
  {
   "cell_type": "code",
   "execution_count": 43,
   "metadata": {},
   "outputs": [
    {
     "name": "stdout",
     "output_type": "stream",
     "text": [
      "train\n",
      "(1167, 286)\n",
      "(1167, 1)\n",
      "val\n",
      "(292, 286)\n",
      "(292, 1)\n"
     ]
    }
   ],
   "source": [
    "from sklearn.model_selection import train_test_split\n",
    "\n",
    "#Split\n",
    "val_size = 0.2\n",
    "X_train_full_for_split = X_train_full_v3.copy()\n",
    "y_train_full_for_split = y_train_full_v3.copy()\n",
    "X_train_v3, X_val_v3, y_train_v3, y_val_v3 = train_test_split(X_train_full_for_split, y_train_full_for_split, test_size = val_size)\n",
    "\n",
    "\n",
    "print('train')\n",
    "print(X_train_v3.shape)\n",
    "print(y_train_v3.shape)\n",
    "print('val')\n",
    "print (X_val_v3.shape)\n",
    "print (y_val_v3.shape)"
   ]
  },
  {
   "cell_type": "markdown",
   "metadata": {},
   "source": [
    "## Save datasets"
   ]
  },
  {
   "cell_type": "code",
   "execution_count": 44,
   "metadata": {},
   "outputs": [],
   "source": [
    "hp_train_full_v3_sv = X_train_full_v3.join (y_train_full_v3)\n",
    "hp_train_full_v3_sv.to_csv('hp_train_full_v3.csv')"
   ]
  },
  {
   "cell_type": "markdown",
   "metadata": {},
   "source": [
    "# XGBoost Standard"
   ]
  },
  {
   "cell_type": "markdown",
   "metadata": {},
   "source": [
    "[more on XGBoost paramerts](https://www.analyticsvidhya.com/blog/2016/03/complete-guide-parameter-tuning-xgboost-with-codes-python/)  \n",
    "XGBoost default parameters :  \n",
    "xgbReg_model = xgb.XGBRegressor(base_score=0.5, \n",
    "                                booster='gbtree', \n",
    "                                colsample_bylevel=1,\n",
    "                                colsample_bynode=1, \n",
    "                                colsample_bytree=1, \n",
    "                                gamma=0,\n",
    "                                importance_type='gain', \n",
    "                                learning_rate=0.1, \n",
    "                                max_delta_step=0,\n",
    "                                max_depth=3, \n",
    "                                min_child_weight=1, \n",
    "                                missing=None, \n",
    "                                n_estimators=100,\n",
    "                                n_jobs=1, \n",
    "                                nthread=None, \n",
    "                                objective='reg:linear', \n",
    "                                random_state=0,\n",
    "                                reg_alpha=0, \n",
    "                                reg_lambda=1, \n",
    "                                scale_pos_weight=1, \n",
    "                                seed=None,\n",
    "                                silent=None, \n",
    "                                subsample=1, \n",
    "                                verbosity=1))\n",
    "\n",
    "\n"
   ]
  },
  {
   "cell_type": "markdown",
   "metadata": {},
   "source": [
    "## Learning"
   ]
  },
  {
   "cell_type": "code",
   "execution_count": null,
   "metadata": {
    "deletable": false,
    "editable": false,
    "run_control": {
     "frozen": true
    }
   },
   "outputs": [],
   "source": [
    "X_train = X_train_v3.copy()\n",
    "y_train = y_train_v3.copy()\n",
    "\n",
    "X_val = X_val_v3.copy()\n",
    "y_val = y_val_v3.copy()"
   ]
  },
  {
   "cell_type": "code",
   "execution_count": null,
   "metadata": {
    "ExecuteTime": {
     "end_time": "2019-12-09T15:35:31.701708Z",
     "start_time": "2019-12-09T15:35:31.541310Z"
    },
    "deletable": false,
    "editable": false,
    "run_control": {
     "frozen": true
    }
   },
   "outputs": [],
   "source": [
    "import xgboost as xgb\n",
    "\n",
    "\n",
    "xgbReg_model = xgb.XGBRegressor()\n",
    "xgbReg_model.fit(X_train,y_train) \n",
    "\n",
    "y_train_pred = xgbReg_model.predict(X_train)\n",
    "y_val_pred = xgbReg_model.predict(X_val)\n",
    "\n",
    "import numpy as np\n",
    "from sklearn import metrics\n",
    "print()\n",
    "print('XGBOOST')\n",
    "print ('Results on train')\n",
    "print('RMSLE : ', np.sqrt(metrics.mean_squared_log_error(y_train, y_train_pred)))\n",
    "print('MAE : ', metrics.mean_absolute_error(np.exp(y_train), np.exp(y_train_pred)))\n",
    "print()\n",
    "\n",
    "print ('Results on val')\n",
    "print('RMSLE : ', np.sqrt(metrics.mean_squared_log_error(y_val, y_val_pred)))\n",
    "print('MAE : ', metrics.mean_absolute_error(np.exp(y_val), np.exp(y_val_pred)))\n",
    "print()"
   ]
  },
  {
   "cell_type": "markdown",
   "metadata": {},
   "source": [
    "# XGBoost Optimized"
   ]
  },
  {
   "cell_type": "markdown",
   "metadata": {},
   "source": [
    "## Learning"
   ]
  },
  {
   "cell_type": "code",
   "execution_count": null,
   "metadata": {
    "ExecuteTime": {
     "end_time": "2019-12-09T15:35:31.714637Z",
     "start_time": "2019-12-09T15:35:29.570Z"
    },
    "deletable": false,
    "editable": false,
    "run_control": {
     "frozen": true
    }
   },
   "outputs": [],
   "source": [
    "X_train = X_train_v3.copy()\n",
    "y_train = y_train_v3.copy()\n",
    "\n",
    "X_val = X_val_v3.copy()\n",
    "y_val = y_val_v3.copy()"
   ]
  },
  {
   "cell_type": "code",
   "execution_count": null,
   "metadata": {
    "ExecuteTime": {
     "end_time": "2019-12-09T15:35:31.716019Z",
     "start_time": "2019-12-09T15:35:29.574Z"
    },
    "deletable": false,
    "editable": false,
    "run_control": {
     "frozen": true
    }
   },
   "outputs": [],
   "source": [
    "import xgboost as xgb\n",
    "\n",
    "\n",
    "from sklearn.model_selection import GridSearchCV\n",
    "param_grid = [{'n_estimators': [200,500,800,1000],\n",
    "               'max_depth': [5,8,10],\n",
    "               'learning_rate':[0.1,0.3,0.6],\n",
    "              }]\n",
    "my_learn = xgb.XGBRegressor()\n",
    "grid_search = GridSearchCV(my_learn,param_grid, cv=5, scoring ='neg_mean_squared_error', return_train_score=True)\n",
    "\n",
    "grid_search.fit(X_train,y_train)\n"
   ]
  },
  {
   "cell_type": "code",
   "execution_count": null,
   "metadata": {
    "ExecuteTime": {
     "end_time": "2019-12-09T15:35:31.717361Z",
     "start_time": "2019-12-09T15:35:29.578Z"
    },
    "deletable": false,
    "editable": false,
    "run_control": {
     "frozen": true
    }
   },
   "outputs": [],
   "source": [
    "grid_search.best_params_"
   ]
  },
  {
   "cell_type": "code",
   "execution_count": null,
   "metadata": {
    "ExecuteTime": {
     "end_time": "2019-12-09T15:35:31.719452Z",
     "start_time": "2019-12-09T15:35:29.584Z"
    },
    "deletable": false,
    "editable": false,
    "run_control": {
     "frozen": true
    }
   },
   "outputs": [],
   "source": [
    "import numpy as np\n",
    "from sklearn import metrics\n",
    "print()\n",
    "print('XGBOOST')\n",
    "print ('Results on train')\n",
    "y_predict = grid_search.predict(X_train)\n",
    "print('RMSLE : ', np.sqrt(metrics.mean_squared_log_error(y_train, y_predict)))\n",
    "print('MAE : ', metrics.mean_absolute_error(y_train, y_predict))\n",
    "print()\n",
    "\n",
    "\n",
    "print ('Results on val')\n",
    "y_predict_val = grid_search.predict(X_val)\n",
    "print('RMSLE : ', np.sqrt(metrics.mean_squared_log_error(y_val, y_predict_val)))\n",
    "print('MAE : ', metrics.mean_absolute_error(y_val, y_predict_val))\n"
   ]
  },
  {
   "cell_type": "markdown",
   "metadata": {},
   "source": [
    "# XGBoost Optimized In Pipeline"
   ]
  },
  {
   "cell_type": "markdown",
   "metadata": {},
   "source": [
    "## Dataset"
   ]
  },
  {
   "cell_type": "code",
   "execution_count": null,
   "metadata": {
    "deletable": false,
    "editable": false,
    "run_control": {
     "frozen": true
    }
   },
   "outputs": [],
   "source": [
    "X_train = X_train_full_v3.copy()\n",
    "y_train = y_train_full_v3.copy()\n",
    "\n",
    "X_test_id = X_test_id_v3.copy()\n",
    "X_test_id = pd.DataFrame(X_test_id)\n",
    "X_test = X_test_v3.copy()"
   ]
  },
  {
   "cell_type": "markdown",
   "metadata": {},
   "source": [
    "##  Model optimized"
   ]
  },
  {
   "cell_type": "code",
   "execution_count": null,
   "metadata": {
    "deletable": false,
    "editable": false,
    "run_control": {
     "frozen": true
    }
   },
   "outputs": [],
   "source": [
    "#CV optimisation\n",
    "from sklearn.model_selection import ShuffleSplit\n",
    "cv = ShuffleSplit(n_splits=5, test_size=0.2, random_state=42)\n",
    "\n",
    "#Pipeline\n",
    "from sklearn.pipeline import Pipeline\n",
    "from sklearn.preprocessing import StandardScaler\n",
    "from sklearn.model_selection import GridSearchCV\n",
    "import xgboost as xgb\n",
    "\n",
    "pipe = Pipeline([('scalar', StandardScaler()),\n",
    "                 ('XGBoost', xgb.XGBRegressor())])\n",
    "\n",
    "param_grid = {'XGBoost__n_estimators': [500],\n",
    "              'XGBoost__max_depth': [5],\n",
    "              'XGBoost__learning_rate':[0.1],\n",
    "              'XGBoost__min_child_weight' : [ 5],\n",
    "              'XGBoost__gamma'            : [0.0],\n",
    "              'XGBoost__colsample_bytree' : [0.5] \n",
    "#              'XGBoost__reg_alpha':[1.1],\n",
    "#              'XGBoost__reg_lambda':[0.8],\n",
    "#              'XGBoost__subsample': [0.4],\n",
    "#              'XGBoost__eta':[0.1]\n",
    "              }\n",
    "\n",
    "grid_search = GridSearchCV(pipe, param_grid, cv=cv, scoring = 'neg_mean_squared_error').fit(X_train, y_train)"
   ]
  },
  {
   "cell_type": "code",
   "execution_count": null,
   "metadata": {
    "deletable": false,
    "editable": false,
    "run_control": {
     "frozen": true
    }
   },
   "outputs": [],
   "source": [
    "grid_search.best_params_"
   ]
  },
  {
   "cell_type": "code",
   "execution_count": null,
   "metadata": {
    "deletable": false,
    "editable": false,
    "run_control": {
     "frozen": true
    }
   },
   "outputs": [],
   "source": [
    "y_predict = grid_search.predict(X_train)"
   ]
  },
  {
   "cell_type": "code",
   "execution_count": null,
   "metadata": {
    "deletable": false,
    "editable": false,
    "run_control": {
     "frozen": true
    }
   },
   "outputs": [],
   "source": [
    "import numpy as np\n",
    "from sklearn import metrics\n",
    "print()\n",
    "print('XGBOOST')\n",
    "print ('Results on train full')\n",
    "print('RMSLE : ', np.sqrt(metrics.mean_squared_log_error(y_train, y_predict)))\n",
    "print('MAE : ', metrics.mean_absolute_error(np.exp(y_train), np.exp(y_predict)))\n",
    "print()\n"
   ]
  },
  {
   "cell_type": "markdown",
   "metadata": {},
   "source": [
    "This best score \"0.12216\" is obtain from theses parameters :  \n",
    "    {'XGBoost__colsample_bytree': 0.5,  \n",
    "    'XGBoost__gamma': 0.0,  \n",
    "    'XGBoost__learning_rate': 0.1,  \n",
    "    'XGBoost__max_depth': 5,  \n",
    "    'XGBoost__min_child_weight': 5,  \n",
    "    'XGBoost__n_estimators': 500}\n",
    "and the model is saved by pickle"
   ]
  },
  {
   "cell_type": "markdown",
   "metadata": {},
   "source": [
    "## Save model"
   ]
  },
  {
   "cell_type": "code",
   "execution_count": null,
   "metadata": {
    "deletable": false,
    "editable": false,
    "run_control": {
     "frozen": true
    }
   },
   "outputs": [],
   "source": [
    "# save the model to disk\n",
    "import pickle\n",
    "filename = 'Model-XGBoostOpti-pipe.sav'\n",
    "pickle.dump(grid_search, open(filename, 'wb'))\n",
    "# load the model from disk\n",
    "#loaded_model = pickle.load(open(filename, 'rb'))\n",
    "#result = loaded_model.score(X_test, Y_test)\n",
    "#print(result)"
   ]
  },
  {
   "cell_type": "markdown",
   "metadata": {},
   "source": [
    "# XGBoost Optimized with an Isolation Forest "
   ]
  },
  {
   "cell_type": "markdown",
   "metadata": {},
   "source": [
    "## Dataset"
   ]
  },
  {
   "cell_type": "code",
   "execution_count": null,
   "metadata": {
    "deletable": false,
    "editable": false,
    "run_control": {
     "frozen": true
    }
   },
   "outputs": [],
   "source": [
    "X_train = X_train_full_v3.copy()\n",
    "y_train = y_train_full_v3.copy()\n",
    "\n",
    "X_test_id = X_test_id_v3.copy()\n",
    "X_test_id = pd.DataFrame(X_test_id)\n",
    "X_test = X_test_v3.copy()"
   ]
  },
  {
   "cell_type": "markdown",
   "metadata": {},
   "source": [
    "## Isolation forest method"
   ]
  },
  {
   "cell_type": "code",
   "execution_count": null,
   "metadata": {
    "deletable": false,
    "editable": false,
    "run_control": {
     "frozen": true
    }
   },
   "outputs": [],
   "source": [
    "#Run isolation forest before launching the model\n",
    "from sklearn.ensemble import IsolationForest\n",
    "import pandas as pd\n",
    "\n",
    "\n",
    "def outlier_prediction(x_train, y_train):\n",
    "        x_train = pd.DataFrame(x_train)\n",
    "        y_train = pd.DataFrame(y_train)\n",
    "        # The prediction returns 1 if sample point is inlier. If outlier prediction returns -1\n",
    "        rng = np.random.RandomState(42)\n",
    "        clf_all_features = IsolationForest(max_samples=100, random_state=rng)\n",
    "        clf_all_features.fit(x_train)\n",
    "\n",
    "        # Predict if a particular sample is an outlier using all features for higher dimensional data set.\n",
    "        y_pred_train = clf_all_features.predict(x_train)\n",
    "        y_pred_train = pd.DataFrame(y_pred_train)\n",
    "        \n",
    "        # Exclude suggested outlier samples for improvement of prediction power/score\n",
    "        #outlier_map_out_train = np.array(map(lambda x: x == 1, y_pred_train))\n",
    "        x_train_modified = x_train.join(y_pred_train)\n",
    "        y_train_modified = y_train.join(y_pred_train) \n",
    "        x_train_modified = x_train_modified[x_train_modified[0] == 1 ]\n",
    "        y_train_modified = y_train_modified[y_train_modified[0] == 1 ]\n",
    "        x_train_modified = x_train_modified.drop([0], axis =1)\n",
    "        y_train_modified = y_train_modified.drop([0], axis =1)\n",
    "        return x_train_modified, y_train_modified \n",
    "    \n",
    "X_train_byIf, y_train_byIf = outlier_prediction(X_train, y_train)\n",
    "\n",
    "print(X_train.shape)\n",
    "print(X_train_byIf.shape)\n",
    "print(y_train.shape)\n",
    "print(y_train_byIf.shape)\n"
   ]
  },
  {
   "cell_type": "code",
   "execution_count": null,
   "metadata": {
    "deletable": false,
    "editable": false,
    "run_control": {
     "frozen": true
    }
   },
   "outputs": [],
   "source": [
    "X_train = X_train_byIf.copy()\n",
    "y_train = y_train_byIf.copy()"
   ]
  },
  {
   "cell_type": "markdown",
   "metadata": {},
   "source": [
    "## Model optimized"
   ]
  },
  {
   "cell_type": "code",
   "execution_count": null,
   "metadata": {
    "deletable": false,
    "editable": false,
    "run_control": {
     "frozen": true
    }
   },
   "outputs": [],
   "source": [
    "#CV optimisation\n",
    "from sklearn.model_selection import ShuffleSplit\n",
    "cv = ShuffleSplit(n_splits=5, test_size=0.2, random_state=42)\n",
    "\n",
    "#Pipeline\n",
    "from sklearn.pipeline import Pipeline\n",
    "from sklearn.preprocessing import StandardScaler\n",
    "from sklearn.model_selection import GridSearchCV\n",
    "import xgboost as xgb\n",
    "\n",
    "pipe = Pipeline([('scalar', StandardScaler()),\n",
    "                 ('XGBoost', xgb.XGBRegressor())])\n",
    "\n",
    "param_grid = {'XGBoost__n_estimators': [300],\n",
    "              'XGBoost__max_depth': [3],\n",
    "              'XGBoost__learning_rate':[0.1],\n",
    "              'XGBoost__min_child_weight' : [3],\n",
    "              'XGBoost__gamma'            : [0.0],\n",
    "              'XGBoost__colsample_bytree' : [0.5], \n",
    "              'XGBoost__eta':[0.1]\n",
    "#              'XGBoost__reg_alpha':[1.1],\n",
    "#              'XGBoost__reg_lambda':[1],\n",
    "#              'XGBoost__subsample': [0.6],\n",
    "              }\n",
    "\n",
    "grid_search = GridSearchCV(pipe, param_grid, cv=cv, scoring = 'neg_mean_squared_error').fit(X_train, y_train)"
   ]
  },
  {
   "cell_type": "code",
   "execution_count": null,
   "metadata": {
    "deletable": false,
    "editable": false,
    "run_control": {
     "frozen": true
    }
   },
   "outputs": [],
   "source": [
    "grid_search.best_params_"
   ]
  },
  {
   "cell_type": "code",
   "execution_count": null,
   "metadata": {
    "deletable": false,
    "editable": false,
    "run_control": {
     "frozen": true
    }
   },
   "outputs": [],
   "source": [
    "y_predict = grid_search.predict(X_train)"
   ]
  },
  {
   "cell_type": "code",
   "execution_count": null,
   "metadata": {
    "deletable": false,
    "editable": false,
    "run_control": {
     "frozen": true
    }
   },
   "outputs": [],
   "source": [
    "import numpy as np\n",
    "from sklearn import metrics\n",
    "print()\n",
    "print('XGBOOST')\n",
    "print ('Results on train full')\n",
    "print('RMSLE : ', np.sqrt(metrics.mean_squared_log_error(y_train, y_predict)))\n",
    "print('MAE : ', metrics.mean_absolute_error(np.exp(y_train), np.exp(y_predict)))\n",
    "print()\n"
   ]
  },
  {
   "cell_type": "markdown",
   "metadata": {},
   "source": [
    "# XGBoost with a PCA"
   ]
  },
  {
   "cell_type": "markdown",
   "metadata": {},
   "source": [
    "## Learning"
   ]
  },
  {
   "cell_type": "code",
   "execution_count": null,
   "metadata": {
    "deletable": false,
    "editable": false,
    "run_control": {
     "frozen": true
    }
   },
   "outputs": [],
   "source": [
    "X_train = X_train_v3.copy()\n",
    "y_train = y_train_v3.copy()\n",
    "X_val = X_val_v3.copy()\n",
    "y_val = y_val_v3.copy()\n",
    "\n",
    "print(X_train.shape)\n",
    "print(y_train.shape)\n",
    "print(X_val.shape)\n",
    "print(y_val.shape)"
   ]
  },
  {
   "cell_type": "code",
   "execution_count": null,
   "metadata": {
    "deletable": false,
    "editable": false,
    "run_control": {
     "frozen": true
    }
   },
   "outputs": [],
   "source": [
    "#Instantiate model -full\n",
    "from sklearn.decomposition import PCA\n",
    "pca_model = PCA()\n",
    "#inputs = X_train_pca.iloc[:,1:]\n",
    "\n",
    "pca_model.fit(X_train)\n",
    "\n",
    "cumsum = np.cumsum(pca_model.explained_variance_ratio_)\n",
    "nb_dim95 = np.argmax(cumsum >= 0.95) + 1\n",
    "print(\"Dimension number\", X_train.shape[1]-1)\n",
    "print(\"PC1, contribution of variance :\", pca_model.explained_variance_ratio_[0])\n",
    "print(\"PC2, contribution of variance :\", pca_model.explained_variance_ratio_[1])\n",
    "print(\"PC3, contribution of variance :\", pca_model.explained_variance_ratio_[2])\n",
    "print(\"Dimension number, explaining 95% of variance :\", nb_dim95)\n",
    "\n"
   ]
  },
  {
   "cell_type": "code",
   "execution_count": null,
   "metadata": {
    "deletable": false,
    "editable": false,
    "run_control": {
     "frozen": true
    }
   },
   "outputs": [],
   "source": [
    "plt.plot(np.cumsum(pca_model.explained_variance_ratio_))\n",
    "plt.xlabel('number of components')\n",
    "plt.ylabel('cumulative explained variance');"
   ]
  },
  {
   "cell_type": "code",
   "execution_count": null,
   "metadata": {
    "deletable": false,
    "editable": false,
    "run_control": {
     "frozen": true
    }
   },
   "outputs": [],
   "source": [
    "nb_dim95 = 100"
   ]
  },
  {
   "cell_type": "code",
   "execution_count": null,
   "metadata": {
    "deletable": false,
    "editable": false,
    "run_control": {
     "frozen": true
    }
   },
   "outputs": [],
   "source": [
    "pca_dims = PCA(n_components=nb_dim95)\n",
    "X_train_pca = pca_dims.fit_transform(X_train)\n",
    "X_val_pca = pca_dims.fit_transform(X_val)"
   ]
  },
  {
   "cell_type": "code",
   "execution_count": null,
   "metadata": {
    "deletable": false,
    "editable": false,
    "run_control": {
     "frozen": true
    }
   },
   "outputs": [],
   "source": [
    "#model\n",
    "import xgboost as xgb\n",
    "model_pca = xgb.XGBRegressor()\n",
    "model_pca.fit(X_train_pca,y_train)"
   ]
  },
  {
   "cell_type": "code",
   "execution_count": null,
   "metadata": {
    "deletable": false,
    "editable": false,
    "run_control": {
     "frozen": true
    }
   },
   "outputs": [],
   "source": [
    "#Evaluation on train\n",
    "import numpy as np\n",
    "from sklearn import metrics\n",
    "\n",
    "y_train_pca_pred = model_pca.predict(X_train_pca)\n",
    "y_val_pca_pred = model_pca.predict(X_val_pca)\n",
    "\n",
    "print ('Results on train')\n",
    "print('RMSLE : ', np.sqrt(metrics.mean_squared_log_error(y_train, y_train_pca_pred)))\n",
    "print('MAE : ', metrics.mean_absolute_error(np.exp(y_train), np.exp(y_train_pca_pred)))\n",
    "print()\n",
    "\n",
    "print ('Results on val')\n",
    "print('RMSLE : ', np.sqrt(metrics.mean_squared_log_error(y_val, y_val_pca_pred)))\n",
    "print('MAE : ', metrics.mean_absolute_error(np.exp(y_val), np.exp(y_val_pca_pred)))\n",
    "print()"
   ]
  },
  {
   "cell_type": "markdown",
   "metadata": {},
   "source": [
    "# XGBoost Optimized v2"
   ]
  },
  {
   "cell_type": "markdown",
   "metadata": {},
   "source": [
    "[Document Scikit learn of Lasso Model](https://scikit-learn.org/stable/modules/generated/sklearn.linear_model.Lasso.html) "
   ]
  },
  {
   "cell_type": "markdown",
   "metadata": {},
   "source": [
    "## Dataset"
   ]
  },
  {
   "cell_type": "code",
   "execution_count": 45,
   "metadata": {},
   "outputs": [],
   "source": [
    "X_train = X_train_full_v3.copy()\n",
    "y_train = y_train_full_v3.copy()\n",
    "\n",
    "X_test_id = X_test_id_v3.copy()\n",
    "X_test_id = pd.DataFrame(X_test_id)\n",
    "X_test = X_test_v3.copy()"
   ]
  },
  {
   "cell_type": "markdown",
   "metadata": {},
   "source": [
    "## Model Optimized"
   ]
  },
  {
   "cell_type": "code",
   "execution_count": 46,
   "metadata": {},
   "outputs": [
    {
     "name": "stderr",
     "output_type": "stream",
     "text": [
      "/opt/conda/lib/python3.7/site-packages/sklearn/preprocessing/data.py:645: DataConversionWarning: Data with input dtype uint8, int64, float64 were all converted to float64 by StandardScaler.\n",
      "  return self.partial_fit(X, y)\n",
      "/opt/conda/lib/python3.7/site-packages/sklearn/base.py:467: DataConversionWarning: Data with input dtype uint8, int64, float64 were all converted to float64 by StandardScaler.\n",
      "  return self.fit(X, y, **fit_params).transform(X)\n"
     ]
    },
    {
     "name": "stdout",
     "output_type": "stream",
     "text": [
      "[06:57:47] WARNING: /home/conda/feedstock_root/build_artifacts/xgboost_1572314959925/work/src/objective/regression_obj.cu:152: reg:linear is now deprecated in favor of reg:squarederror.\n"
     ]
    },
    {
     "name": "stderr",
     "output_type": "stream",
     "text": [
      "/opt/conda/lib/python3.7/site-packages/sklearn/pipeline.py:331: DataConversionWarning: Data with input dtype uint8, int64, float64 were all converted to float64 by StandardScaler.\n",
      "  Xt = transform.transform(Xt)\n",
      "/opt/conda/lib/python3.7/site-packages/sklearn/pipeline.py:331: DataConversionWarning: Data with input dtype uint8, int64, float64 were all converted to float64 by StandardScaler.\n",
      "  Xt = transform.transform(Xt)\n",
      "/opt/conda/lib/python3.7/site-packages/sklearn/preprocessing/data.py:645: DataConversionWarning: Data with input dtype uint8, int64, float64 were all converted to float64 by StandardScaler.\n",
      "  return self.partial_fit(X, y)\n",
      "/opt/conda/lib/python3.7/site-packages/sklearn/base.py:467: DataConversionWarning: Data with input dtype uint8, int64, float64 were all converted to float64 by StandardScaler.\n",
      "  return self.fit(X, y, **fit_params).transform(X)\n"
     ]
    },
    {
     "name": "stdout",
     "output_type": "stream",
     "text": [
      "[06:58:05] WARNING: /home/conda/feedstock_root/build_artifacts/xgboost_1572314959925/work/src/objective/regression_obj.cu:152: reg:linear is now deprecated in favor of reg:squarederror.\n"
     ]
    },
    {
     "name": "stderr",
     "output_type": "stream",
     "text": [
      "/opt/conda/lib/python3.7/site-packages/sklearn/pipeline.py:331: DataConversionWarning: Data with input dtype uint8, int64, float64 were all converted to float64 by StandardScaler.\n",
      "  Xt = transform.transform(Xt)\n",
      "/opt/conda/lib/python3.7/site-packages/sklearn/pipeline.py:331: DataConversionWarning: Data with input dtype uint8, int64, float64 were all converted to float64 by StandardScaler.\n",
      "  Xt = transform.transform(Xt)\n",
      "/opt/conda/lib/python3.7/site-packages/sklearn/preprocessing/data.py:645: DataConversionWarning: Data with input dtype uint8, int64, float64 were all converted to float64 by StandardScaler.\n",
      "  return self.partial_fit(X, y)\n",
      "/opt/conda/lib/python3.7/site-packages/sklearn/base.py:467: DataConversionWarning: Data with input dtype uint8, int64, float64 were all converted to float64 by StandardScaler.\n",
      "  return self.fit(X, y, **fit_params).transform(X)\n"
     ]
    },
    {
     "name": "stdout",
     "output_type": "stream",
     "text": [
      "[06:58:24] WARNING: /home/conda/feedstock_root/build_artifacts/xgboost_1572314959925/work/src/objective/regression_obj.cu:152: reg:linear is now deprecated in favor of reg:squarederror.\n"
     ]
    },
    {
     "name": "stderr",
     "output_type": "stream",
     "text": [
      "/opt/conda/lib/python3.7/site-packages/sklearn/pipeline.py:331: DataConversionWarning: Data with input dtype uint8, int64, float64 were all converted to float64 by StandardScaler.\n",
      "  Xt = transform.transform(Xt)\n",
      "/opt/conda/lib/python3.7/site-packages/sklearn/pipeline.py:331: DataConversionWarning: Data with input dtype uint8, int64, float64 were all converted to float64 by StandardScaler.\n",
      "  Xt = transform.transform(Xt)\n",
      "/opt/conda/lib/python3.7/site-packages/sklearn/preprocessing/data.py:645: DataConversionWarning: Data with input dtype uint8, int64, float64 were all converted to float64 by StandardScaler.\n",
      "  return self.partial_fit(X, y)\n",
      "/opt/conda/lib/python3.7/site-packages/sklearn/base.py:467: DataConversionWarning: Data with input dtype uint8, int64, float64 were all converted to float64 by StandardScaler.\n",
      "  return self.fit(X, y, **fit_params).transform(X)\n"
     ]
    },
    {
     "name": "stdout",
     "output_type": "stream",
     "text": [
      "[06:58:42] WARNING: /home/conda/feedstock_root/build_artifacts/xgboost_1572314959925/work/src/objective/regression_obj.cu:152: reg:linear is now deprecated in favor of reg:squarederror.\n"
     ]
    },
    {
     "name": "stderr",
     "output_type": "stream",
     "text": [
      "/opt/conda/lib/python3.7/site-packages/sklearn/pipeline.py:331: DataConversionWarning: Data with input dtype uint8, int64, float64 were all converted to float64 by StandardScaler.\n",
      "  Xt = transform.transform(Xt)\n",
      "/opt/conda/lib/python3.7/site-packages/sklearn/pipeline.py:331: DataConversionWarning: Data with input dtype uint8, int64, float64 were all converted to float64 by StandardScaler.\n",
      "  Xt = transform.transform(Xt)\n",
      "/opt/conda/lib/python3.7/site-packages/sklearn/preprocessing/data.py:645: DataConversionWarning: Data with input dtype uint8, int64, float64 were all converted to float64 by StandardScaler.\n",
      "  return self.partial_fit(X, y)\n",
      "/opt/conda/lib/python3.7/site-packages/sklearn/base.py:467: DataConversionWarning: Data with input dtype uint8, int64, float64 were all converted to float64 by StandardScaler.\n",
      "  return self.fit(X, y, **fit_params).transform(X)\n"
     ]
    },
    {
     "name": "stdout",
     "output_type": "stream",
     "text": [
      "[06:59:00] WARNING: /home/conda/feedstock_root/build_artifacts/xgboost_1572314959925/work/src/objective/regression_obj.cu:152: reg:linear is now deprecated in favor of reg:squarederror.\n"
     ]
    },
    {
     "name": "stderr",
     "output_type": "stream",
     "text": [
      "/opt/conda/lib/python3.7/site-packages/sklearn/pipeline.py:331: DataConversionWarning: Data with input dtype uint8, int64, float64 were all converted to float64 by StandardScaler.\n",
      "  Xt = transform.transform(Xt)\n",
      "/opt/conda/lib/python3.7/site-packages/sklearn/pipeline.py:331: DataConversionWarning: Data with input dtype uint8, int64, float64 were all converted to float64 by StandardScaler.\n",
      "  Xt = transform.transform(Xt)\n",
      "/opt/conda/lib/python3.7/site-packages/sklearn/preprocessing/data.py:645: DataConversionWarning: Data with input dtype uint8, int64, float64 were all converted to float64 by StandardScaler.\n",
      "  return self.partial_fit(X, y)\n",
      "/opt/conda/lib/python3.7/site-packages/sklearn/base.py:467: DataConversionWarning: Data with input dtype uint8, int64, float64 were all converted to float64 by StandardScaler.\n",
      "  return self.fit(X, y, **fit_params).transform(X)\n"
     ]
    },
    {
     "name": "stdout",
     "output_type": "stream",
     "text": [
      "[06:59:18] WARNING: /home/conda/feedstock_root/build_artifacts/xgboost_1572314959925/work/src/objective/regression_obj.cu:152: reg:linear is now deprecated in favor of reg:squarederror.\n",
      "\n",
      "The best parameters {'XGBoost__colsample_bytree': 0.5, 'XGBoost__gamma': 0.0, 'XGBoost__learning_rate': 0.1, 'XGBoost__max_depth': 4, 'XGBoost__min_child_weight': 3, 'XGBoost__n_estimators': 5000}\n",
      "The best score -0.015582062326681776\n",
      "The rmse score 0.12482813115112225\n"
     ]
    }
   ],
   "source": [
    "#XGboost Regressor\n",
    "\n",
    "#Pipeline\n",
    "from sklearn.pipeline import Pipeline\n",
    "from sklearn.preprocessing import StandardScaler\n",
    "from sklearn.model_selection import GridSearchCV\n",
    "import xgboost as xgb\n",
    "\n",
    "pipe = Pipeline([('scalar', StandardScaler()),\n",
    "                 ('XGBoost', xgb.XGBRegressor())])\n",
    "\n",
    "param_grid = {'XGBoost__n_estimators': [5000],\n",
    "              'XGBoost__max_depth': [4],\n",
    "              'XGBoost__learning_rate':[0.1],\n",
    "              'XGBoost__min_child_weight' : [3],\n",
    "              'XGBoost__gamma'            : [0.0],\n",
    "              'XGBoost__colsample_bytree' : [0.5], \n",
    "                 }\n",
    "\n",
    "grid_search_xgboost = GridSearchCV(pipe, param_grid, cv=5, scoring = 'neg_mean_squared_error').fit(X_train, y_train)\n",
    "\n",
    "print()\n",
    "print('The best parameters', grid_search_xgboost.best_params_)\n",
    "print('The best score',grid_search_xgboost.best_score_)\n",
    "score_xgboost = (-1*grid_search_xgboost.best_score_)**(0.5)\n",
    "print('The rmse score',score_xgboost)"
   ]
  },
  {
   "cell_type": "markdown",
   "metadata": {},
   "source": [
    "# Lasso Model"
   ]
  },
  {
   "cell_type": "markdown",
   "metadata": {},
   "source": [
    "## Dataset"
   ]
  },
  {
   "cell_type": "code",
   "execution_count": 47,
   "metadata": {},
   "outputs": [],
   "source": [
    "X_train = X_train_full_v3.copy()\n",
    "y_train = y_train_full_v3.copy()\n",
    "\n",
    "X_test_id = X_test_id_v3.copy()\n",
    "X_test_id = pd.DataFrame(X_test_id)\n",
    "X_test = X_test_v3.copy()"
   ]
  },
  {
   "cell_type": "markdown",
   "metadata": {},
   "source": [
    "## Model Optimized"
   ]
  },
  {
   "cell_type": "code",
   "execution_count": 48,
   "metadata": {},
   "outputs": [
    {
     "name": "stdout",
     "output_type": "stream",
     "text": [
      "\n",
      "The best parameters {'alpha': 0.0009, 'max_iter': 1000000, 'tol': 1e-05}\n",
      "The best score -0.015100220799752217\n",
      "The rmse score 0.12288295569261108\n"
     ]
    }
   ],
   "source": [
    "# Lasso Regression\n",
    "from sklearn.linear_model import Lasso\n",
    "from sklearn.model_selection import GridSearchCV\n",
    "\n",
    "\n",
    "\n",
    "\n",
    "parameters= {'alpha':[0.0009],\n",
    "             'max_iter':[1000000], \n",
    "             'tol': [0.00001]\n",
    "            }\n",
    "lasso=Lasso()\n",
    "grid_search_lasso=GridSearchCV(lasso, param_grid=parameters, scoring='neg_mean_squared_error', cv=15)\n",
    "grid_search_lasso.fit(X_train,y_train)\n",
    "\n",
    "print()\n",
    "print('The best parameters', grid_search_lasso.best_params_)\n",
    "print('The best score',grid_search_lasso.best_score_)\n",
    "score_lasso = (-1*grid_search_lasso.best_score_)**(0.5)\n",
    "print('The rmse score',score_lasso)"
   ]
  },
  {
   "cell_type": "markdown",
   "metadata": {},
   "source": [
    "# Ridge Model"
   ]
  },
  {
   "cell_type": "markdown",
   "metadata": {},
   "source": [
    "formula"
   ]
  },
  {
   "cell_type": "markdown",
   "metadata": {},
   "source": [
    "## Dataset"
   ]
  },
  {
   "cell_type": "code",
   "execution_count": 49,
   "metadata": {},
   "outputs": [],
   "source": [
    "X_train = X_train_full_v3.copy()\n",
    "y_train = y_train_full_v3.copy()\n",
    "\n",
    "X_test_id = X_test_id_v3.copy()\n",
    "X_test_id = pd.DataFrame(X_test_id)\n",
    "X_test = X_test_v3.copy()"
   ]
  },
  {
   "cell_type": "markdown",
   "metadata": {},
   "source": [
    "## Model optimized"
   ]
  },
  {
   "cell_type": "code",
   "execution_count": 50,
   "metadata": {},
   "outputs": [
    {
     "name": "stderr",
     "output_type": "stream",
     "text": [
      "/opt/conda/lib/python3.7/site-packages/sklearn/preprocessing/data.py:645: DataConversionWarning: Data with input dtype uint8, int64, float64 were all converted to float64 by StandardScaler.\n",
      "  return self.partial_fit(X, y)\n",
      "/opt/conda/lib/python3.7/site-packages/sklearn/base.py:467: DataConversionWarning: Data with input dtype uint8, int64, float64 were all converted to float64 by StandardScaler.\n",
      "  return self.fit(X, y, **fit_params).transform(X)\n",
      "/opt/conda/lib/python3.7/site-packages/sklearn/pipeline.py:331: DataConversionWarning: Data with input dtype uint8, int64, float64 were all converted to float64 by StandardScaler.\n",
      "  Xt = transform.transform(Xt)\n",
      "/opt/conda/lib/python3.7/site-packages/sklearn/pipeline.py:331: DataConversionWarning: Data with input dtype uint8, int64, float64 were all converted to float64 by StandardScaler.\n",
      "  Xt = transform.transform(Xt)\n",
      "/opt/conda/lib/python3.7/site-packages/sklearn/preprocessing/data.py:645: DataConversionWarning: Data with input dtype uint8, int64, float64 were all converted to float64 by StandardScaler.\n",
      "  return self.partial_fit(X, y)\n",
      "/opt/conda/lib/python3.7/site-packages/sklearn/base.py:467: DataConversionWarning: Data with input dtype uint8, int64, float64 were all converted to float64 by StandardScaler.\n",
      "  return self.fit(X, y, **fit_params).transform(X)\n",
      "/opt/conda/lib/python3.7/site-packages/sklearn/pipeline.py:331: DataConversionWarning: Data with input dtype uint8, int64, float64 were all converted to float64 by StandardScaler.\n",
      "  Xt = transform.transform(Xt)\n",
      "/opt/conda/lib/python3.7/site-packages/sklearn/pipeline.py:331: DataConversionWarning: Data with input dtype uint8, int64, float64 were all converted to float64 by StandardScaler.\n",
      "  Xt = transform.transform(Xt)\n",
      "/opt/conda/lib/python3.7/site-packages/sklearn/preprocessing/data.py:645: DataConversionWarning: Data with input dtype uint8, int64, float64 were all converted to float64 by StandardScaler.\n",
      "  return self.partial_fit(X, y)\n",
      "/opt/conda/lib/python3.7/site-packages/sklearn/base.py:467: DataConversionWarning: Data with input dtype uint8, int64, float64 were all converted to float64 by StandardScaler.\n",
      "  return self.fit(X, y, **fit_params).transform(X)\n",
      "/opt/conda/lib/python3.7/site-packages/sklearn/pipeline.py:331: DataConversionWarning: Data with input dtype uint8, int64, float64 were all converted to float64 by StandardScaler.\n",
      "  Xt = transform.transform(Xt)\n",
      "/opt/conda/lib/python3.7/site-packages/sklearn/pipeline.py:331: DataConversionWarning: Data with input dtype uint8, int64, float64 were all converted to float64 by StandardScaler.\n",
      "  Xt = transform.transform(Xt)\n",
      "/opt/conda/lib/python3.7/site-packages/sklearn/preprocessing/data.py:645: DataConversionWarning: Data with input dtype uint8, int64, float64 were all converted to float64 by StandardScaler.\n",
      "  return self.partial_fit(X, y)\n",
      "/opt/conda/lib/python3.7/site-packages/sklearn/base.py:467: DataConversionWarning: Data with input dtype uint8, int64, float64 were all converted to float64 by StandardScaler.\n",
      "  return self.fit(X, y, **fit_params).transform(X)\n",
      "/opt/conda/lib/python3.7/site-packages/sklearn/pipeline.py:331: DataConversionWarning: Data with input dtype uint8, int64, float64 were all converted to float64 by StandardScaler.\n",
      "  Xt = transform.transform(Xt)\n",
      "/opt/conda/lib/python3.7/site-packages/sklearn/pipeline.py:331: DataConversionWarning: Data with input dtype uint8, int64, float64 were all converted to float64 by StandardScaler.\n",
      "  Xt = transform.transform(Xt)\n",
      "/opt/conda/lib/python3.7/site-packages/sklearn/preprocessing/data.py:645: DataConversionWarning: Data with input dtype uint8, int64, float64 were all converted to float64 by StandardScaler.\n",
      "  return self.partial_fit(X, y)\n",
      "/opt/conda/lib/python3.7/site-packages/sklearn/base.py:467: DataConversionWarning: Data with input dtype uint8, int64, float64 were all converted to float64 by StandardScaler.\n",
      "  return self.fit(X, y, **fit_params).transform(X)\n",
      "/opt/conda/lib/python3.7/site-packages/sklearn/pipeline.py:331: DataConversionWarning: Data with input dtype uint8, int64, float64 were all converted to float64 by StandardScaler.\n",
      "  Xt = transform.transform(Xt)\n",
      "/opt/conda/lib/python3.7/site-packages/sklearn/pipeline.py:331: DataConversionWarning: Data with input dtype uint8, int64, float64 were all converted to float64 by StandardScaler.\n",
      "  Xt = transform.transform(Xt)\n",
      "/opt/conda/lib/python3.7/site-packages/sklearn/preprocessing/data.py:645: DataConversionWarning: Data with input dtype uint8, int64, float64 were all converted to float64 by StandardScaler.\n",
      "  return self.partial_fit(X, y)\n",
      "/opt/conda/lib/python3.7/site-packages/sklearn/base.py:467: DataConversionWarning: Data with input dtype uint8, int64, float64 were all converted to float64 by StandardScaler.\n",
      "  return self.fit(X, y, **fit_params).transform(X)\n",
      "/opt/conda/lib/python3.7/site-packages/sklearn/pipeline.py:331: DataConversionWarning: Data with input dtype uint8, int64, float64 were all converted to float64 by StandardScaler.\n",
      "  Xt = transform.transform(Xt)\n",
      "/opt/conda/lib/python3.7/site-packages/sklearn/pipeline.py:331: DataConversionWarning: Data with input dtype uint8, int64, float64 were all converted to float64 by StandardScaler.\n",
      "  Xt = transform.transform(Xt)\n",
      "/opt/conda/lib/python3.7/site-packages/sklearn/preprocessing/data.py:645: DataConversionWarning: Data with input dtype uint8, int64, float64 were all converted to float64 by StandardScaler.\n",
      "  return self.partial_fit(X, y)\n",
      "/opt/conda/lib/python3.7/site-packages/sklearn/base.py:467: DataConversionWarning: Data with input dtype uint8, int64, float64 were all converted to float64 by StandardScaler.\n",
      "  return self.fit(X, y, **fit_params).transform(X)\n",
      "/opt/conda/lib/python3.7/site-packages/sklearn/pipeline.py:331: DataConversionWarning: Data with input dtype uint8, int64, float64 were all converted to float64 by StandardScaler.\n",
      "  Xt = transform.transform(Xt)\n",
      "/opt/conda/lib/python3.7/site-packages/sklearn/pipeline.py:331: DataConversionWarning: Data with input dtype uint8, int64, float64 were all converted to float64 by StandardScaler.\n",
      "  Xt = transform.transform(Xt)\n",
      "/opt/conda/lib/python3.7/site-packages/sklearn/preprocessing/data.py:645: DataConversionWarning: Data with input dtype uint8, int64, float64 were all converted to float64 by StandardScaler.\n",
      "  return self.partial_fit(X, y)\n",
      "/opt/conda/lib/python3.7/site-packages/sklearn/base.py:467: DataConversionWarning: Data with input dtype uint8, int64, float64 were all converted to float64 by StandardScaler.\n",
      "  return self.fit(X, y, **fit_params).transform(X)\n",
      "/opt/conda/lib/python3.7/site-packages/sklearn/pipeline.py:331: DataConversionWarning: Data with input dtype uint8, int64, float64 were all converted to float64 by StandardScaler.\n",
      "  Xt = transform.transform(Xt)\n",
      "/opt/conda/lib/python3.7/site-packages/sklearn/pipeline.py:331: DataConversionWarning: Data with input dtype uint8, int64, float64 were all converted to float64 by StandardScaler.\n",
      "  Xt = transform.transform(Xt)\n",
      "/opt/conda/lib/python3.7/site-packages/sklearn/preprocessing/data.py:645: DataConversionWarning: Data with input dtype uint8, int64, float64 were all converted to float64 by StandardScaler.\n",
      "  return self.partial_fit(X, y)\n",
      "/opt/conda/lib/python3.7/site-packages/sklearn/base.py:467: DataConversionWarning: Data with input dtype uint8, int64, float64 were all converted to float64 by StandardScaler.\n",
      "  return self.fit(X, y, **fit_params).transform(X)\n",
      "/opt/conda/lib/python3.7/site-packages/sklearn/pipeline.py:331: DataConversionWarning: Data with input dtype uint8, int64, float64 were all converted to float64 by StandardScaler.\n",
      "  Xt = transform.transform(Xt)\n",
      "/opt/conda/lib/python3.7/site-packages/sklearn/pipeline.py:331: DataConversionWarning: Data with input dtype uint8, int64, float64 were all converted to float64 by StandardScaler.\n",
      "  Xt = transform.transform(Xt)\n",
      "/opt/conda/lib/python3.7/site-packages/sklearn/preprocessing/data.py:645: DataConversionWarning: Data with input dtype uint8, int64, float64 were all converted to float64 by StandardScaler.\n",
      "  return self.partial_fit(X, y)\n",
      "/opt/conda/lib/python3.7/site-packages/sklearn/base.py:467: DataConversionWarning: Data with input dtype uint8, int64, float64 were all converted to float64 by StandardScaler.\n",
      "  return self.fit(X, y, **fit_params).transform(X)\n",
      "/opt/conda/lib/python3.7/site-packages/sklearn/pipeline.py:331: DataConversionWarning: Data with input dtype uint8, int64, float64 were all converted to float64 by StandardScaler.\n",
      "  Xt = transform.transform(Xt)\n",
      "/opt/conda/lib/python3.7/site-packages/sklearn/pipeline.py:331: DataConversionWarning: Data with input dtype uint8, int64, float64 were all converted to float64 by StandardScaler.\n",
      "  Xt = transform.transform(Xt)\n",
      "/opt/conda/lib/python3.7/site-packages/sklearn/preprocessing/data.py:645: DataConversionWarning: Data with input dtype uint8, int64, float64 were all converted to float64 by StandardScaler.\n",
      "  return self.partial_fit(X, y)\n",
      "/opt/conda/lib/python3.7/site-packages/sklearn/base.py:467: DataConversionWarning: Data with input dtype uint8, int64, float64 were all converted to float64 by StandardScaler.\n",
      "  return self.fit(X, y, **fit_params).transform(X)\n",
      "/opt/conda/lib/python3.7/site-packages/sklearn/pipeline.py:331: DataConversionWarning: Data with input dtype uint8, int64, float64 were all converted to float64 by StandardScaler.\n",
      "  Xt = transform.transform(Xt)\n",
      "/opt/conda/lib/python3.7/site-packages/sklearn/pipeline.py:331: DataConversionWarning: Data with input dtype uint8, int64, float64 were all converted to float64 by StandardScaler.\n",
      "  Xt = transform.transform(Xt)\n",
      "/opt/conda/lib/python3.7/site-packages/sklearn/preprocessing/data.py:645: DataConversionWarning: Data with input dtype uint8, int64, float64 were all converted to float64 by StandardScaler.\n",
      "  return self.partial_fit(X, y)\n",
      "/opt/conda/lib/python3.7/site-packages/sklearn/base.py:467: DataConversionWarning: Data with input dtype uint8, int64, float64 were all converted to float64 by StandardScaler.\n",
      "  return self.fit(X, y, **fit_params).transform(X)\n",
      "/opt/conda/lib/python3.7/site-packages/sklearn/pipeline.py:331: DataConversionWarning: Data with input dtype uint8, int64, float64 were all converted to float64 by StandardScaler.\n",
      "  Xt = transform.transform(Xt)\n",
      "/opt/conda/lib/python3.7/site-packages/sklearn/pipeline.py:331: DataConversionWarning: Data with input dtype uint8, int64, float64 were all converted to float64 by StandardScaler.\n",
      "  Xt = transform.transform(Xt)\n",
      "/opt/conda/lib/python3.7/site-packages/sklearn/preprocessing/data.py:645: DataConversionWarning: Data with input dtype uint8, int64, float64 were all converted to float64 by StandardScaler.\n",
      "  return self.partial_fit(X, y)\n",
      "/opt/conda/lib/python3.7/site-packages/sklearn/base.py:467: DataConversionWarning: Data with input dtype uint8, int64, float64 were all converted to float64 by StandardScaler.\n",
      "  return self.fit(X, y, **fit_params).transform(X)\n",
      "/opt/conda/lib/python3.7/site-packages/sklearn/pipeline.py:331: DataConversionWarning: Data with input dtype uint8, int64, float64 were all converted to float64 by StandardScaler.\n",
      "  Xt = transform.transform(Xt)\n",
      "/opt/conda/lib/python3.7/site-packages/sklearn/pipeline.py:331: DataConversionWarning: Data with input dtype uint8, int64, float64 were all converted to float64 by StandardScaler.\n",
      "  Xt = transform.transform(Xt)\n",
      "/opt/conda/lib/python3.7/site-packages/sklearn/preprocessing/data.py:645: DataConversionWarning: Data with input dtype uint8, int64, float64 were all converted to float64 by StandardScaler.\n",
      "  return self.partial_fit(X, y)\n",
      "/opt/conda/lib/python3.7/site-packages/sklearn/base.py:467: DataConversionWarning: Data with input dtype uint8, int64, float64 were all converted to float64 by StandardScaler.\n",
      "  return self.fit(X, y, **fit_params).transform(X)\n",
      "/opt/conda/lib/python3.7/site-packages/sklearn/pipeline.py:331: DataConversionWarning: Data with input dtype uint8, int64, float64 were all converted to float64 by StandardScaler.\n",
      "  Xt = transform.transform(Xt)\n",
      "/opt/conda/lib/python3.7/site-packages/sklearn/pipeline.py:331: DataConversionWarning: Data with input dtype uint8, int64, float64 were all converted to float64 by StandardScaler.\n",
      "  Xt = transform.transform(Xt)\n"
     ]
    },
    {
     "name": "stdout",
     "output_type": "stream",
     "text": [
      "\n",
      "The best parameters {'ridge__alpha': 0.5}\n",
      "The best score -0.016368538810693452\n",
      "The rmse score 0.12793959047415093\n"
     ]
    },
    {
     "name": "stderr",
     "output_type": "stream",
     "text": [
      "/opt/conda/lib/python3.7/site-packages/sklearn/preprocessing/data.py:645: DataConversionWarning: Data with input dtype uint8, int64, float64 were all converted to float64 by StandardScaler.\n",
      "  return self.partial_fit(X, y)\n",
      "/opt/conda/lib/python3.7/site-packages/sklearn/base.py:467: DataConversionWarning: Data with input dtype uint8, int64, float64 were all converted to float64 by StandardScaler.\n",
      "  return self.fit(X, y, **fit_params).transform(X)\n",
      "/opt/conda/lib/python3.7/site-packages/sklearn/pipeline.py:331: DataConversionWarning: Data with input dtype uint8, int64, float64 were all converted to float64 by StandardScaler.\n",
      "  Xt = transform.transform(Xt)\n",
      "/opt/conda/lib/python3.7/site-packages/sklearn/pipeline.py:331: DataConversionWarning: Data with input dtype uint8, int64, float64 were all converted to float64 by StandardScaler.\n",
      "  Xt = transform.transform(Xt)\n",
      "/opt/conda/lib/python3.7/site-packages/sklearn/preprocessing/data.py:645: DataConversionWarning: Data with input dtype uint8, int64, float64 were all converted to float64 by StandardScaler.\n",
      "  return self.partial_fit(X, y)\n",
      "/opt/conda/lib/python3.7/site-packages/sklearn/base.py:467: DataConversionWarning: Data with input dtype uint8, int64, float64 were all converted to float64 by StandardScaler.\n",
      "  return self.fit(X, y, **fit_params).transform(X)\n"
     ]
    }
   ],
   "source": [
    "#ridge Regressor\n",
    "\n",
    "#Pipeline\n",
    "from sklearn.pipeline import Pipeline\n",
    "from sklearn.preprocessing import StandardScaler\n",
    "from sklearn.model_selection import GridSearchCV\n",
    "from sklearn.linear_model import Ridge\n",
    "pipe = Pipeline([\n",
    "               ('scalar', StandardScaler()),\n",
    "                 ('ridge', Ridge(normalize=True))\n",
    "                ])\n",
    "\n",
    "param_grid = {'ridge__alpha': [0.4,0.5,0.7]\n",
    "             }\n",
    "\n",
    "grid_search_ridge = GridSearchCV(pipe, param_grid, cv=5, scoring = 'neg_mean_squared_error').fit(X_train, y_train)\n",
    "\n",
    "print()\n",
    "print('The best parameters', grid_search_ridge.best_params_)\n",
    "print('The best score',grid_search_ridge.best_score_)\n",
    "score_ridge = (-1*grid_search_ridge.best_score_)**(0.5)\n",
    "print('The rmse score',score_ridge)\n"
   ]
  },
  {
   "cell_type": "markdown",
   "metadata": {},
   "source": [
    "score Kaggle : 0.13343"
   ]
  },
  {
   "cell_type": "markdown",
   "metadata": {},
   "source": [
    "# ElasticNet Model"
   ]
  },
  {
   "cell_type": "markdown",
   "metadata": {},
   "source": [
    "model"
   ]
  },
  {
   "cell_type": "markdown",
   "metadata": {},
   "source": [
    "## Dataset"
   ]
  },
  {
   "cell_type": "code",
   "execution_count": 51,
   "metadata": {},
   "outputs": [],
   "source": [
    "X_train = X_train_full_v3.copy()\n",
    "y_train = y_train_full_v3.copy()\n",
    "\n",
    "X_test_id = X_test_id_v3.copy()\n",
    "X_test_id = pd.DataFrame(X_test_id)\n",
    "X_test = X_test_v3.copy()"
   ]
  },
  {
   "cell_type": "markdown",
   "metadata": {},
   "source": [
    "## Model Optimized"
   ]
  },
  {
   "cell_type": "code",
   "execution_count": 52,
   "metadata": {},
   "outputs": [
    {
     "name": "stderr",
     "output_type": "stream",
     "text": [
      "/opt/conda/lib/python3.7/site-packages/sklearn/preprocessing/data.py:645: DataConversionWarning: Data with input dtype uint8, int64, float64 were all converted to float64 by StandardScaler.\n",
      "  return self.partial_fit(X, y)\n",
      "/opt/conda/lib/python3.7/site-packages/sklearn/base.py:467: DataConversionWarning: Data with input dtype uint8, int64, float64 were all converted to float64 by StandardScaler.\n",
      "  return self.fit(X, y, **fit_params).transform(X)\n",
      "/opt/conda/lib/python3.7/site-packages/sklearn/pipeline.py:331: DataConversionWarning: Data with input dtype uint8, int64, float64 were all converted to float64 by StandardScaler.\n",
      "  Xt = transform.transform(Xt)\n",
      "/opt/conda/lib/python3.7/site-packages/sklearn/pipeline.py:331: DataConversionWarning: Data with input dtype uint8, int64, float64 were all converted to float64 by StandardScaler.\n",
      "  Xt = transform.transform(Xt)\n",
      "/opt/conda/lib/python3.7/site-packages/sklearn/preprocessing/data.py:645: DataConversionWarning: Data with input dtype uint8, int64, float64 were all converted to float64 by StandardScaler.\n",
      "  return self.partial_fit(X, y)\n",
      "/opt/conda/lib/python3.7/site-packages/sklearn/base.py:467: DataConversionWarning: Data with input dtype uint8, int64, float64 were all converted to float64 by StandardScaler.\n",
      "  return self.fit(X, y, **fit_params).transform(X)\n",
      "/opt/conda/lib/python3.7/site-packages/sklearn/pipeline.py:331: DataConversionWarning: Data with input dtype uint8, int64, float64 were all converted to float64 by StandardScaler.\n",
      "  Xt = transform.transform(Xt)\n",
      "/opt/conda/lib/python3.7/site-packages/sklearn/pipeline.py:331: DataConversionWarning: Data with input dtype uint8, int64, float64 were all converted to float64 by StandardScaler.\n",
      "  Xt = transform.transform(Xt)\n",
      "/opt/conda/lib/python3.7/site-packages/sklearn/preprocessing/data.py:645: DataConversionWarning: Data with input dtype uint8, int64, float64 were all converted to float64 by StandardScaler.\n",
      "  return self.partial_fit(X, y)\n",
      "/opt/conda/lib/python3.7/site-packages/sklearn/base.py:467: DataConversionWarning: Data with input dtype uint8, int64, float64 were all converted to float64 by StandardScaler.\n",
      "  return self.fit(X, y, **fit_params).transform(X)\n",
      "/opt/conda/lib/python3.7/site-packages/sklearn/pipeline.py:331: DataConversionWarning: Data with input dtype uint8, int64, float64 were all converted to float64 by StandardScaler.\n",
      "  Xt = transform.transform(Xt)\n",
      "/opt/conda/lib/python3.7/site-packages/sklearn/pipeline.py:331: DataConversionWarning: Data with input dtype uint8, int64, float64 were all converted to float64 by StandardScaler.\n",
      "  Xt = transform.transform(Xt)\n",
      "/opt/conda/lib/python3.7/site-packages/sklearn/preprocessing/data.py:645: DataConversionWarning: Data with input dtype uint8, int64, float64 were all converted to float64 by StandardScaler.\n",
      "  return self.partial_fit(X, y)\n",
      "/opt/conda/lib/python3.7/site-packages/sklearn/base.py:467: DataConversionWarning: Data with input dtype uint8, int64, float64 were all converted to float64 by StandardScaler.\n",
      "  return self.fit(X, y, **fit_params).transform(X)\n",
      "/opt/conda/lib/python3.7/site-packages/sklearn/pipeline.py:331: DataConversionWarning: Data with input dtype uint8, int64, float64 were all converted to float64 by StandardScaler.\n",
      "  Xt = transform.transform(Xt)\n",
      "/opt/conda/lib/python3.7/site-packages/sklearn/pipeline.py:331: DataConversionWarning: Data with input dtype uint8, int64, float64 were all converted to float64 by StandardScaler.\n",
      "  Xt = transform.transform(Xt)\n",
      "/opt/conda/lib/python3.7/site-packages/sklearn/preprocessing/data.py:645: DataConversionWarning: Data with input dtype uint8, int64, float64 were all converted to float64 by StandardScaler.\n",
      "  return self.partial_fit(X, y)\n",
      "/opt/conda/lib/python3.7/site-packages/sklearn/base.py:467: DataConversionWarning: Data with input dtype uint8, int64, float64 were all converted to float64 by StandardScaler.\n",
      "  return self.fit(X, y, **fit_params).transform(X)\n",
      "/opt/conda/lib/python3.7/site-packages/sklearn/pipeline.py:331: DataConversionWarning: Data with input dtype uint8, int64, float64 were all converted to float64 by StandardScaler.\n",
      "  Xt = transform.transform(Xt)\n",
      "/opt/conda/lib/python3.7/site-packages/sklearn/pipeline.py:331: DataConversionWarning: Data with input dtype uint8, int64, float64 were all converted to float64 by StandardScaler.\n",
      "  Xt = transform.transform(Xt)\n",
      "/opt/conda/lib/python3.7/site-packages/sklearn/preprocessing/data.py:645: DataConversionWarning: Data with input dtype uint8, int64, float64 were all converted to float64 by StandardScaler.\n",
      "  return self.partial_fit(X, y)\n",
      "/opt/conda/lib/python3.7/site-packages/sklearn/base.py:467: DataConversionWarning: Data with input dtype uint8, int64, float64 were all converted to float64 by StandardScaler.\n",
      "  return self.fit(X, y, **fit_params).transform(X)\n"
     ]
    },
    {
     "name": "stdout",
     "output_type": "stream",
     "text": [
      "\n",
      "The best parameters {'elasticNet__alpha': 0.0002, 'elasticNet__l1_ratio': 0.6}\n",
      "The best score -0.015835781008036454\n",
      "The rmse score 0.12584029961835141\n"
     ]
    }
   ],
   "source": [
    "#Ridge Regressor\n",
    "\n",
    "#Pipeline\n",
    "from sklearn.pipeline import Pipeline\n",
    "from sklearn.preprocessing import StandardScaler\n",
    "from sklearn.model_selection import GridSearchCV\n",
    "from sklearn.linear_model import ElasticNet\n",
    "pipe = Pipeline([('scalar', StandardScaler()),\n",
    "                 ('elasticNet', ElasticNet(normalize=True))\n",
    "                ])\n",
    "\n",
    "param_grid = {'elasticNet__alpha': [0.0002],\n",
    "            'elasticNet__l1_ratio' :[0.6]\n",
    "             }\n",
    "\n",
    "#e_l1ratio = [0.8, 0.85, 0.9, 0.95, 0.99, 1]\n",
    "grid_search_elasticNet = GridSearchCV(pipe, param_grid, cv=5, scoring = 'neg_mean_squared_error').fit(X_train, y_train)\n",
    "\n",
    "print()\n",
    "print('The best parameters', grid_search_elasticNet.best_params_)\n",
    "print('The best score',grid_search_elasticNet.best_score_)\n",
    "score_elastic = (-1*grid_search_elasticNet.best_score_)**(0.5)\n",
    "print('The rmse score',score_elastic)"
   ]
  },
  {
   "cell_type": "markdown",
   "metadata": {},
   "source": [
    "score Kaggle : 0.12887"
   ]
  },
  {
   "cell_type": "markdown",
   "metadata": {},
   "source": [
    "# SVR Model "
   ]
  },
  {
   "cell_type": "markdown",
   "metadata": {},
   "source": [
    "class sklearn.svm.SVR(kernel='rbf', degree=3, gamma='scale', coef0=0.0, tol=0.001, C=1.0, epsilon=0.1, shrinking=True, cache_size=200, verbose=False, max_iter=-1"
   ]
  },
  {
   "cell_type": "markdown",
   "metadata": {},
   "source": [
    "## Dataset"
   ]
  },
  {
   "cell_type": "code",
   "execution_count": 53,
   "metadata": {},
   "outputs": [],
   "source": [
    "X_train = X_train_full_v3.copy()\n",
    "y_train = y_train_full_v3.copy()\n",
    "\n",
    "X_test_id = X_test_id_v3.copy()\n",
    "X_test_id = pd.DataFrame(X_test_id)\n",
    "X_test = X_test_v3.copy()"
   ]
  },
  {
   "cell_type": "markdown",
   "metadata": {},
   "source": [
    "## Model Optimized"
   ]
  },
  {
   "cell_type": "code",
   "execution_count": 54,
   "metadata": {},
   "outputs": [
    {
     "name": "stderr",
     "output_type": "stream",
     "text": [
      "/opt/conda/lib/python3.7/site-packages/sklearn/preprocessing/data.py:645: DataConversionWarning: Data with input dtype uint8, int64, float64 were all converted to float64 by StandardScaler.\n",
      "  return self.partial_fit(X, y)\n",
      "/opt/conda/lib/python3.7/site-packages/sklearn/base.py:467: DataConversionWarning: Data with input dtype uint8, int64, float64 were all converted to float64 by StandardScaler.\n",
      "  return self.fit(X, y, **fit_params).transform(X)\n",
      "/opt/conda/lib/python3.7/site-packages/sklearn/utils/validation.py:761: DataConversionWarning: A column-vector y was passed when a 1d array was expected. Please change the shape of y to (n_samples, ), for example using ravel().\n",
      "  y = column_or_1d(y, warn=True)\n",
      "/opt/conda/lib/python3.7/site-packages/sklearn/pipeline.py:331: DataConversionWarning: Data with input dtype uint8, int64, float64 were all converted to float64 by StandardScaler.\n",
      "  Xt = transform.transform(Xt)\n",
      "/opt/conda/lib/python3.7/site-packages/sklearn/pipeline.py:331: DataConversionWarning: Data with input dtype uint8, int64, float64 were all converted to float64 by StandardScaler.\n",
      "  Xt = transform.transform(Xt)\n",
      "/opt/conda/lib/python3.7/site-packages/sklearn/preprocessing/data.py:645: DataConversionWarning: Data with input dtype uint8, int64, float64 were all converted to float64 by StandardScaler.\n",
      "  return self.partial_fit(X, y)\n",
      "/opt/conda/lib/python3.7/site-packages/sklearn/base.py:467: DataConversionWarning: Data with input dtype uint8, int64, float64 were all converted to float64 by StandardScaler.\n",
      "  return self.fit(X, y, **fit_params).transform(X)\n",
      "/opt/conda/lib/python3.7/site-packages/sklearn/utils/validation.py:761: DataConversionWarning: A column-vector y was passed when a 1d array was expected. Please change the shape of y to (n_samples, ), for example using ravel().\n",
      "  y = column_or_1d(y, warn=True)\n",
      "/opt/conda/lib/python3.7/site-packages/sklearn/pipeline.py:331: DataConversionWarning: Data with input dtype uint8, int64, float64 were all converted to float64 by StandardScaler.\n",
      "  Xt = transform.transform(Xt)\n",
      "/opt/conda/lib/python3.7/site-packages/sklearn/pipeline.py:331: DataConversionWarning: Data with input dtype uint8, int64, float64 were all converted to float64 by StandardScaler.\n",
      "  Xt = transform.transform(Xt)\n",
      "/opt/conda/lib/python3.7/site-packages/sklearn/preprocessing/data.py:645: DataConversionWarning: Data with input dtype uint8, int64, float64 were all converted to float64 by StandardScaler.\n",
      "  return self.partial_fit(X, y)\n",
      "/opt/conda/lib/python3.7/site-packages/sklearn/base.py:467: DataConversionWarning: Data with input dtype uint8, int64, float64 were all converted to float64 by StandardScaler.\n",
      "  return self.fit(X, y, **fit_params).transform(X)\n",
      "/opt/conda/lib/python3.7/site-packages/sklearn/utils/validation.py:761: DataConversionWarning: A column-vector y was passed when a 1d array was expected. Please change the shape of y to (n_samples, ), for example using ravel().\n",
      "  y = column_or_1d(y, warn=True)\n",
      "/opt/conda/lib/python3.7/site-packages/sklearn/pipeline.py:331: DataConversionWarning: Data with input dtype uint8, int64, float64 were all converted to float64 by StandardScaler.\n",
      "  Xt = transform.transform(Xt)\n",
      "/opt/conda/lib/python3.7/site-packages/sklearn/pipeline.py:331: DataConversionWarning: Data with input dtype uint8, int64, float64 were all converted to float64 by StandardScaler.\n",
      "  Xt = transform.transform(Xt)\n",
      "/opt/conda/lib/python3.7/site-packages/sklearn/preprocessing/data.py:645: DataConversionWarning: Data with input dtype uint8, int64, float64 were all converted to float64 by StandardScaler.\n",
      "  return self.partial_fit(X, y)\n",
      "/opt/conda/lib/python3.7/site-packages/sklearn/base.py:467: DataConversionWarning: Data with input dtype uint8, int64, float64 were all converted to float64 by StandardScaler.\n",
      "  return self.fit(X, y, **fit_params).transform(X)\n",
      "/opt/conda/lib/python3.7/site-packages/sklearn/utils/validation.py:761: DataConversionWarning: A column-vector y was passed when a 1d array was expected. Please change the shape of y to (n_samples, ), for example using ravel().\n",
      "  y = column_or_1d(y, warn=True)\n",
      "/opt/conda/lib/python3.7/site-packages/sklearn/pipeline.py:331: DataConversionWarning: Data with input dtype uint8, int64, float64 were all converted to float64 by StandardScaler.\n",
      "  Xt = transform.transform(Xt)\n",
      "/opt/conda/lib/python3.7/site-packages/sklearn/pipeline.py:331: DataConversionWarning: Data with input dtype uint8, int64, float64 were all converted to float64 by StandardScaler.\n",
      "  Xt = transform.transform(Xt)\n",
      "/opt/conda/lib/python3.7/site-packages/sklearn/preprocessing/data.py:645: DataConversionWarning: Data with input dtype uint8, int64, float64 were all converted to float64 by StandardScaler.\n",
      "  return self.partial_fit(X, y)\n",
      "/opt/conda/lib/python3.7/site-packages/sklearn/base.py:467: DataConversionWarning: Data with input dtype uint8, int64, float64 were all converted to float64 by StandardScaler.\n",
      "  return self.fit(X, y, **fit_params).transform(X)\n",
      "/opt/conda/lib/python3.7/site-packages/sklearn/utils/validation.py:761: DataConversionWarning: A column-vector y was passed when a 1d array was expected. Please change the shape of y to (n_samples, ), for example using ravel().\n",
      "  y = column_or_1d(y, warn=True)\n",
      "/opt/conda/lib/python3.7/site-packages/sklearn/pipeline.py:331: DataConversionWarning: Data with input dtype uint8, int64, float64 were all converted to float64 by StandardScaler.\n",
      "  Xt = transform.transform(Xt)\n",
      "/opt/conda/lib/python3.7/site-packages/sklearn/pipeline.py:331: DataConversionWarning: Data with input dtype uint8, int64, float64 were all converted to float64 by StandardScaler.\n",
      "  Xt = transform.transform(Xt)\n",
      "/opt/conda/lib/python3.7/site-packages/sklearn/preprocessing/data.py:645: DataConversionWarning: Data with input dtype uint8, int64, float64 were all converted to float64 by StandardScaler.\n",
      "  return self.partial_fit(X, y)\n",
      "/opt/conda/lib/python3.7/site-packages/sklearn/base.py:467: DataConversionWarning: Data with input dtype uint8, int64, float64 were all converted to float64 by StandardScaler.\n",
      "  return self.fit(X, y, **fit_params).transform(X)\n",
      "/opt/conda/lib/python3.7/site-packages/sklearn/utils/validation.py:761: DataConversionWarning: A column-vector y was passed when a 1d array was expected. Please change the shape of y to (n_samples, ), for example using ravel().\n",
      "  y = column_or_1d(y, warn=True)\n"
     ]
    },
    {
     "name": "stdout",
     "output_type": "stream",
     "text": [
      "\n",
      "The best parameters {'svr__C': 20, 'svr__epsilon': 0.008, 'svr__gamma': 0.0003}\n",
      "The best score -0.01619103224562662\n",
      "The rmse score 0.12724398707061416\n"
     ]
    }
   ],
   "source": [
    "#SVR Regressor\n",
    "\n",
    "#Pipeline\n",
    "from sklearn.pipeline import Pipeline\n",
    "from sklearn.preprocessing import StandardScaler\n",
    "from sklearn.model_selection import GridSearchCV\n",
    "from sklearn.svm import SVR\n",
    "pipe = Pipeline([('scalar', StandardScaler()),\n",
    "                 ('svr', SVR())\n",
    "                ])\n",
    "\n",
    "param_grid = {'svr__C': [20],\n",
    "              'svr__epsilon': [0.008],\n",
    "              'svr__gamma': [0.0003]\n",
    "             }\n",
    "\n",
    "\n",
    "#C= 20, epsilon= 0.008, gamma=0.0003\n",
    "\n",
    "grid_search_svr = GridSearchCV(pipe, param_grid, cv=5, scoring = 'neg_mean_squared_error').fit(X_train, y_train)\n",
    "\n",
    "print()\n",
    "print('The best parameters', grid_search_svr.best_params_)\n",
    "print('The best score',grid_search_svr.best_score_)\n",
    "score_svr = (-1*grid_search_svr.best_score_)**(0.5)\n",
    "print('The rmse score',score_svr)"
   ]
  },
  {
   "cell_type": "markdown",
   "metadata": {},
   "source": [
    "score Kaggle:  0.13314"
   ]
  },
  {
   "cell_type": "markdown",
   "metadata": {},
   "source": [
    "# Stacking Regressor Model"
   ]
  },
  {
   "cell_type": "markdown",
   "metadata": {},
   "source": [
    "[document of the model](http://rasbt.github.io/mlxtend/user_guide/regressor/StackingCVRegressor/)"
   ]
  },
  {
   "cell_type": "code",
   "execution_count": null,
   "metadata": {
    "deletable": false,
    "editable": false,
    "run_control": {
     "frozen": true
    }
   },
   "outputs": [],
   "source": [
    "from IPython.display import Image\n",
    "Image(\"stacking_cv_regressor_overview.PNG\")"
   ]
  },
  {
   "cell_type": "markdown",
   "metadata": {},
   "source": [
    "## Dataset"
   ]
  },
  {
   "cell_type": "code",
   "execution_count": 55,
   "metadata": {},
   "outputs": [],
   "source": [
    "X_train = X_train_full_v3.copy()\n",
    "y_train = y_train_full_v3.copy()\n",
    "\n",
    "X_test_id = X_test_id_v3.copy()\n",
    "X_test_id = pd.DataFrame(X_test_id)\n",
    "X_test = X_test_v3.copy()"
   ]
  },
  {
   "cell_type": "markdown",
   "metadata": {},
   "source": [
    "## Model"
   ]
  },
  {
   "cell_type": "code",
   "execution_count": 56,
   "metadata": {
    "scrolled": true
   },
   "outputs": [
    {
     "name": "stderr",
     "output_type": "stream",
     "text": [
      "/opt/conda/lib/python3.7/site-packages/sklearn/preprocessing/data.py:645: DataConversionWarning: Data with input dtype uint8, int64, float64 were all converted to float64 by StandardScaler.\n",
      "  return self.partial_fit(X, y)\n",
      "/opt/conda/lib/python3.7/site-packages/sklearn/base.py:467: DataConversionWarning: Data with input dtype uint8, int64, float64 were all converted to float64 by StandardScaler.\n",
      "  return self.fit(X, y, **fit_params).transform(X)\n",
      "/opt/conda/lib/python3.7/site-packages/sklearn/utils/validation.py:761: DataConversionWarning: A column-vector y was passed when a 1d array was expected. Please change the shape of y to (n_samples, ), for example using ravel().\n",
      "  y = column_or_1d(y, warn=True)\n"
     ]
    },
    {
     "name": "stdout",
     "output_type": "stream",
     "text": [
      "[07:02:35] WARNING: /home/conda/feedstock_root/build_artifacts/xgboost_1572314959925/work/src/objective/regression_obj.cu:152: reg:linear is now deprecated in favor of reg:squarederror.\n",
      "[07:02:49] WARNING: /home/conda/feedstock_root/build_artifacts/xgboost_1572314959925/work/src/objective/regression_obj.cu:152: reg:linear is now deprecated in favor of reg:squarederror.\n",
      "[07:03:03] WARNING: /home/conda/feedstock_root/build_artifacts/xgboost_1572314959925/work/src/objective/regression_obj.cu:152: reg:linear is now deprecated in favor of reg:squarederror.\n",
      "[07:03:18] WARNING: /home/conda/feedstock_root/build_artifacts/xgboost_1572314959925/work/src/objective/regression_obj.cu:152: reg:linear is now deprecated in favor of reg:squarederror.\n",
      "[07:03:32] WARNING: /home/conda/feedstock_root/build_artifacts/xgboost_1572314959925/work/src/objective/regression_obj.cu:152: reg:linear is now deprecated in favor of reg:squarederror.\n",
      "[07:03:47] WARNING: /home/conda/feedstock_root/build_artifacts/xgboost_1572314959925/work/src/objective/regression_obj.cu:152: reg:linear is now deprecated in favor of reg:squarederror.\n"
     ]
    },
    {
     "name": "stderr",
     "output_type": "stream",
     "text": [
      "/opt/conda/lib/python3.7/site-packages/sklearn/pipeline.py:331: DataConversionWarning: Data with input dtype uint8, int64, float64 were all converted to float64 by StandardScaler.\n",
      "  Xt = transform.transform(Xt)\n",
      "/opt/conda/lib/python3.7/site-packages/sklearn/pipeline.py:331: DataConversionWarning: Data with input dtype uint8, int64, float64 were all converted to float64 by StandardScaler.\n",
      "  Xt = transform.transform(Xt)\n",
      "/opt/conda/lib/python3.7/site-packages/sklearn/preprocessing/data.py:645: DataConversionWarning: Data with input dtype uint8, int64, float64 were all converted to float64 by StandardScaler.\n",
      "  return self.partial_fit(X, y)\n",
      "/opt/conda/lib/python3.7/site-packages/sklearn/base.py:467: DataConversionWarning: Data with input dtype uint8, int64, float64 were all converted to float64 by StandardScaler.\n",
      "  return self.fit(X, y, **fit_params).transform(X)\n",
      "/opt/conda/lib/python3.7/site-packages/sklearn/utils/validation.py:761: DataConversionWarning: A column-vector y was passed when a 1d array was expected. Please change the shape of y to (n_samples, ), for example using ravel().\n",
      "  y = column_or_1d(y, warn=True)\n"
     ]
    },
    {
     "name": "stdout",
     "output_type": "stream",
     "text": [
      "[07:04:32] WARNING: /home/conda/feedstock_root/build_artifacts/xgboost_1572314959925/work/src/objective/regression_obj.cu:152: reg:linear is now deprecated in favor of reg:squarederror.\n",
      "[07:04:47] WARNING: /home/conda/feedstock_root/build_artifacts/xgboost_1572314959925/work/src/objective/regression_obj.cu:152: reg:linear is now deprecated in favor of reg:squarederror.\n",
      "[07:05:01] WARNING: /home/conda/feedstock_root/build_artifacts/xgboost_1572314959925/work/src/objective/regression_obj.cu:152: reg:linear is now deprecated in favor of reg:squarederror.\n",
      "[07:05:16] WARNING: /home/conda/feedstock_root/build_artifacts/xgboost_1572314959925/work/src/objective/regression_obj.cu:152: reg:linear is now deprecated in favor of reg:squarederror.\n",
      "[07:05:31] WARNING: /home/conda/feedstock_root/build_artifacts/xgboost_1572314959925/work/src/objective/regression_obj.cu:152: reg:linear is now deprecated in favor of reg:squarederror.\n",
      "[07:05:45] WARNING: /home/conda/feedstock_root/build_artifacts/xgboost_1572314959925/work/src/objective/regression_obj.cu:152: reg:linear is now deprecated in favor of reg:squarederror.\n"
     ]
    },
    {
     "name": "stderr",
     "output_type": "stream",
     "text": [
      "/opt/conda/lib/python3.7/site-packages/sklearn/pipeline.py:331: DataConversionWarning: Data with input dtype uint8, int64, float64 were all converted to float64 by StandardScaler.\n",
      "  Xt = transform.transform(Xt)\n",
      "/opt/conda/lib/python3.7/site-packages/sklearn/pipeline.py:331: DataConversionWarning: Data with input dtype uint8, int64, float64 were all converted to float64 by StandardScaler.\n",
      "  Xt = transform.transform(Xt)\n",
      "/opt/conda/lib/python3.7/site-packages/sklearn/preprocessing/data.py:645: DataConversionWarning: Data with input dtype uint8, int64, float64 were all converted to float64 by StandardScaler.\n",
      "  return self.partial_fit(X, y)\n",
      "/opt/conda/lib/python3.7/site-packages/sklearn/base.py:467: DataConversionWarning: Data with input dtype uint8, int64, float64 were all converted to float64 by StandardScaler.\n",
      "  return self.fit(X, y, **fit_params).transform(X)\n",
      "/opt/conda/lib/python3.7/site-packages/sklearn/utils/validation.py:761: DataConversionWarning: A column-vector y was passed when a 1d array was expected. Please change the shape of y to (n_samples, ), for example using ravel().\n",
      "  y = column_or_1d(y, warn=True)\n"
     ]
    },
    {
     "name": "stdout",
     "output_type": "stream",
     "text": [
      "[07:06:29] WARNING: /home/conda/feedstock_root/build_artifacts/xgboost_1572314959925/work/src/objective/regression_obj.cu:152: reg:linear is now deprecated in favor of reg:squarederror.\n",
      "[07:06:43] WARNING: /home/conda/feedstock_root/build_artifacts/xgboost_1572314959925/work/src/objective/regression_obj.cu:152: reg:linear is now deprecated in favor of reg:squarederror.\n",
      "[07:06:59] WARNING: /home/conda/feedstock_root/build_artifacts/xgboost_1572314959925/work/src/objective/regression_obj.cu:152: reg:linear is now deprecated in favor of reg:squarederror.\n",
      "[07:07:13] WARNING: /home/conda/feedstock_root/build_artifacts/xgboost_1572314959925/work/src/objective/regression_obj.cu:152: reg:linear is now deprecated in favor of reg:squarederror.\n",
      "[07:07:28] WARNING: /home/conda/feedstock_root/build_artifacts/xgboost_1572314959925/work/src/objective/regression_obj.cu:152: reg:linear is now deprecated in favor of reg:squarederror.\n",
      "[07:07:43] WARNING: /home/conda/feedstock_root/build_artifacts/xgboost_1572314959925/work/src/objective/regression_obj.cu:152: reg:linear is now deprecated in favor of reg:squarederror.\n"
     ]
    },
    {
     "name": "stderr",
     "output_type": "stream",
     "text": [
      "/opt/conda/lib/python3.7/site-packages/sklearn/pipeline.py:331: DataConversionWarning: Data with input dtype uint8, int64, float64 were all converted to float64 by StandardScaler.\n",
      "  Xt = transform.transform(Xt)\n",
      "/opt/conda/lib/python3.7/site-packages/sklearn/pipeline.py:331: DataConversionWarning: Data with input dtype uint8, int64, float64 were all converted to float64 by StandardScaler.\n",
      "  Xt = transform.transform(Xt)\n",
      "/opt/conda/lib/python3.7/site-packages/sklearn/preprocessing/data.py:645: DataConversionWarning: Data with input dtype uint8, int64, float64 were all converted to float64 by StandardScaler.\n",
      "  return self.partial_fit(X, y)\n",
      "/opt/conda/lib/python3.7/site-packages/sklearn/base.py:467: DataConversionWarning: Data with input dtype uint8, int64, float64 were all converted to float64 by StandardScaler.\n",
      "  return self.fit(X, y, **fit_params).transform(X)\n",
      "/opt/conda/lib/python3.7/site-packages/sklearn/utils/validation.py:761: DataConversionWarning: A column-vector y was passed when a 1d array was expected. Please change the shape of y to (n_samples, ), for example using ravel().\n",
      "  y = column_or_1d(y, warn=True)\n"
     ]
    },
    {
     "name": "stdout",
     "output_type": "stream",
     "text": [
      "[07:08:26] WARNING: /home/conda/feedstock_root/build_artifacts/xgboost_1572314959925/work/src/objective/regression_obj.cu:152: reg:linear is now deprecated in favor of reg:squarederror.\n",
      "[07:08:41] WARNING: /home/conda/feedstock_root/build_artifacts/xgboost_1572314959925/work/src/objective/regression_obj.cu:152: reg:linear is now deprecated in favor of reg:squarederror.\n",
      "[07:08:55] WARNING: /home/conda/feedstock_root/build_artifacts/xgboost_1572314959925/work/src/objective/regression_obj.cu:152: reg:linear is now deprecated in favor of reg:squarederror.\n",
      "[07:09:09] WARNING: /home/conda/feedstock_root/build_artifacts/xgboost_1572314959925/work/src/objective/regression_obj.cu:152: reg:linear is now deprecated in favor of reg:squarederror.\n",
      "[07:09:24] WARNING: /home/conda/feedstock_root/build_artifacts/xgboost_1572314959925/work/src/objective/regression_obj.cu:152: reg:linear is now deprecated in favor of reg:squarederror.\n",
      "[07:09:39] WARNING: /home/conda/feedstock_root/build_artifacts/xgboost_1572314959925/work/src/objective/regression_obj.cu:152: reg:linear is now deprecated in favor of reg:squarederror.\n"
     ]
    },
    {
     "name": "stderr",
     "output_type": "stream",
     "text": [
      "/opt/conda/lib/python3.7/site-packages/sklearn/pipeline.py:331: DataConversionWarning: Data with input dtype uint8, int64, float64 were all converted to float64 by StandardScaler.\n",
      "  Xt = transform.transform(Xt)\n",
      "/opt/conda/lib/python3.7/site-packages/sklearn/pipeline.py:331: DataConversionWarning: Data with input dtype uint8, int64, float64 were all converted to float64 by StandardScaler.\n",
      "  Xt = transform.transform(Xt)\n",
      "/opt/conda/lib/python3.7/site-packages/sklearn/preprocessing/data.py:645: DataConversionWarning: Data with input dtype uint8, int64, float64 were all converted to float64 by StandardScaler.\n",
      "  return self.partial_fit(X, y)\n",
      "/opt/conda/lib/python3.7/site-packages/sklearn/base.py:467: DataConversionWarning: Data with input dtype uint8, int64, float64 were all converted to float64 by StandardScaler.\n",
      "  return self.fit(X, y, **fit_params).transform(X)\n",
      "/opt/conda/lib/python3.7/site-packages/sklearn/utils/validation.py:761: DataConversionWarning: A column-vector y was passed when a 1d array was expected. Please change the shape of y to (n_samples, ), for example using ravel().\n",
      "  y = column_or_1d(y, warn=True)\n"
     ]
    },
    {
     "name": "stdout",
     "output_type": "stream",
     "text": [
      "[07:10:23] WARNING: /home/conda/feedstock_root/build_artifacts/xgboost_1572314959925/work/src/objective/regression_obj.cu:152: reg:linear is now deprecated in favor of reg:squarederror.\n",
      "[07:10:37] WARNING: /home/conda/feedstock_root/build_artifacts/xgboost_1572314959925/work/src/objective/regression_obj.cu:152: reg:linear is now deprecated in favor of reg:squarederror.\n",
      "[07:10:52] WARNING: /home/conda/feedstock_root/build_artifacts/xgboost_1572314959925/work/src/objective/regression_obj.cu:152: reg:linear is now deprecated in favor of reg:squarederror.\n",
      "[07:11:07] WARNING: /home/conda/feedstock_root/build_artifacts/xgboost_1572314959925/work/src/objective/regression_obj.cu:152: reg:linear is now deprecated in favor of reg:squarederror.\n",
      "[07:11:22] WARNING: /home/conda/feedstock_root/build_artifacts/xgboost_1572314959925/work/src/objective/regression_obj.cu:152: reg:linear is now deprecated in favor of reg:squarederror.\n",
      "[07:11:37] WARNING: /home/conda/feedstock_root/build_artifacts/xgboost_1572314959925/work/src/objective/regression_obj.cu:152: reg:linear is now deprecated in favor of reg:squarederror.\n"
     ]
    },
    {
     "name": "stderr",
     "output_type": "stream",
     "text": [
      "/opt/conda/lib/python3.7/site-packages/sklearn/pipeline.py:331: DataConversionWarning: Data with input dtype uint8, int64, float64 were all converted to float64 by StandardScaler.\n",
      "  Xt = transform.transform(Xt)\n",
      "/opt/conda/lib/python3.7/site-packages/sklearn/pipeline.py:331: DataConversionWarning: Data with input dtype uint8, int64, float64 were all converted to float64 by StandardScaler.\n",
      "  Xt = transform.transform(Xt)\n",
      "/opt/conda/lib/python3.7/site-packages/sklearn/preprocessing/data.py:645: DataConversionWarning: Data with input dtype uint8, int64, float64 were all converted to float64 by StandardScaler.\n",
      "  return self.partial_fit(X, y)\n",
      "/opt/conda/lib/python3.7/site-packages/sklearn/base.py:467: DataConversionWarning: Data with input dtype uint8, int64, float64 were all converted to float64 by StandardScaler.\n",
      "  return self.fit(X, y, **fit_params).transform(X)\n",
      "/opt/conda/lib/python3.7/site-packages/sklearn/utils/validation.py:761: DataConversionWarning: A column-vector y was passed when a 1d array was expected. Please change the shape of y to (n_samples, ), for example using ravel().\n",
      "  y = column_or_1d(y, warn=True)\n"
     ]
    },
    {
     "name": "stdout",
     "output_type": "stream",
     "text": [
      "[07:12:30] WARNING: /home/conda/feedstock_root/build_artifacts/xgboost_1572314959925/work/src/objective/regression_obj.cu:152: reg:linear is now deprecated in favor of reg:squarederror.\n",
      "[07:12:49] WARNING: /home/conda/feedstock_root/build_artifacts/xgboost_1572314959925/work/src/objective/regression_obj.cu:152: reg:linear is now deprecated in favor of reg:squarederror.\n",
      "[07:13:07] WARNING: /home/conda/feedstock_root/build_artifacts/xgboost_1572314959925/work/src/objective/regression_obj.cu:152: reg:linear is now deprecated in favor of reg:squarederror.\n",
      "[07:13:26] WARNING: /home/conda/feedstock_root/build_artifacts/xgboost_1572314959925/work/src/objective/regression_obj.cu:152: reg:linear is now deprecated in favor of reg:squarederror.\n",
      "[07:13:45] WARNING: /home/conda/feedstock_root/build_artifacts/xgboost_1572314959925/work/src/objective/regression_obj.cu:152: reg:linear is now deprecated in favor of reg:squarederror.\n",
      "[07:14:04] WARNING: /home/conda/feedstock_root/build_artifacts/xgboost_1572314959925/work/src/objective/regression_obj.cu:152: reg:linear is now deprecated in favor of reg:squarederror.\n",
      "\n",
      "The best parameters {}\n",
      "The best score -0.015093037551933995\n",
      "The rmse score 0.12285372420864576\n"
     ]
    }
   ],
   "source": [
    "#stacking Regressor\n",
    "\n",
    "#Pipeline\n",
    "from sklearn.pipeline import Pipeline\n",
    "from sklearn.preprocessing import StandardScaler\n",
    "from sklearn.model_selection import GridSearchCV\n",
    "#from sklearn.ensemble import StackingRegressor\n",
    "from mlxtend.regressor import StackingCVRegressor\n",
    "\n",
    "estimators =[grid_search_lasso, \n",
    "             grid_search_ridge, \n",
    "             grid_search_elasticNet, \n",
    "             grid_search_svr\n",
    "            ]\n",
    "\n",
    "\n",
    "stack_model = StackingCVRegressor(regressors=estimators,\n",
    "                                meta_regressor=grid_search_xgboost,\n",
    "                               use_features_in_secondary=True)\n",
    "     \n",
    "\n",
    "pipe = Pipeline([('scalar', StandardScaler()),\n",
    "                 ('stack', stack_model)\n",
    "                ])\n",
    "\n",
    "param_grid = {}\n",
    "\n",
    "\n",
    "grid_search_stack = GridSearchCV(pipe, param_grid, cv=5, scoring = 'neg_mean_squared_error').fit(X_train, y_train)\n",
    "\n",
    "print()\n",
    "print('The best parameters', grid_search_stack.best_params_)\n",
    "print('The best score',grid_search_stack.best_score_)\n",
    "score_stack = (-1*grid_search_stack.best_score_)**(0.5)\n",
    "print('The rmse score',score_stack)"
   ]
  },
  {
   "cell_type": "markdown",
   "metadata": {},
   "source": [
    "score kaggle 1 : 0.12360\n",
    "\n"
   ]
  },
  {
   "cell_type": "markdown",
   "metadata": {},
   "source": [
    "# Neural Networks model"
   ]
  },
  {
   "cell_type": "markdown",
   "metadata": {},
   "source": [
    "Read more on [Keras](https://keras.io/models/sequential/) "
   ]
  },
  {
   "cell_type": "markdown",
   "metadata": {},
   "source": [
    "## Experience 1"
   ]
  },
  {
   "cell_type": "markdown",
   "metadata": {},
   "source": [
    "### NN model with no hidden layers as a linear regression "
   ]
  },
  {
   "cell_type": "code",
   "execution_count": null,
   "metadata": {
    "deletable": false,
    "editable": false,
    "run_control": {
     "frozen": true
    }
   },
   "outputs": [],
   "source": [
    "X_train = X_train_v3.copy()\n",
    "y_train = y_train_v3.copy()\n",
    "\n",
    "X_val = X_val_v3.copy()\n",
    "y_val = y_val_v3.copy()"
   ]
  },
  {
   "cell_type": "code",
   "execution_count": null,
   "metadata": {
    "ExecuteTime": {
     "end_time": "2019-12-10T06:56:30.730300Z",
     "start_time": "2019-12-10T06:56:26.153643Z"
    },
    "cell_style": "center",
    "deletable": false,
    "editable": false,
    "run_control": {
     "frozen": true
    }
   },
   "outputs": [],
   "source": [
    "import numpy as np\n",
    "import keras\n",
    "from tensorflow.keras.models import Sequential\n",
    "from tensorflow.keras.layers import Input\n",
    "from tensorflow.keras.layers import Dense\n",
    "from keras import regularizers\n",
    "\n",
    "#to generate the same number every time you need to pass the same seed value every time\n",
    "#Make results reproducible -> fix seed of TensorFlow's random number generator\n",
    "keras.backend.clear_session()\n",
    "from numpy import random as np_random\n",
    "np_random.seed(42)\n",
    "from tensorflow import random as tf_random\n",
    "tf_random.set_seed(42)\n",
    "\n",
    "\n",
    "from sklearn.preprocessing import StandardScaler\n",
    "scaler = StandardScaler()\n",
    "X_train_transf = scaler.fit_transform(X_train)\n",
    "y_train_log = y_train.copy()\n",
    "y_train_log_transf = scaler.fit_transform(y_train_log)\n",
    "\n",
    "X_val_transf = scaler.fit_transform(X_val)\n",
    "y_val_log = y_val.copy()\n",
    "y_val_log_transf = scaler.fit_transform(y_val_log)\n",
    "\n",
    "#The model\n",
    "n_input = X_train.shape[1]\n",
    "model = Sequential()\n",
    "model.add (Dense(1,input_dim=n_input,\n",
    "                 activation = 'linear',\n",
    "                 kernel_regularizer=regularizers.l1(0.1)))\n",
    "\n",
    "#compile\n",
    "from tensorflow.keras.optimizers import SGD\n",
    "loss ='mean_squared_error'\n",
    "LEARNING_RATE = 0.01\n",
    "model.compile(loss=loss, optimizer=SGD(lr=LEARNING_RATE))\n",
    "\n",
    "#fit\n",
    "eph = 500\n",
    "bch = (X_train.shape[0])//3\n",
    "history = model.fit(X_train_transf, \n",
    "                    y_train_log_transf, \n",
    "                    validation_data=(X_val_transf, y_val_log_transf), \n",
    "                    epochs=eph, \n",
    "                    batch_size=bch, \n",
    "                    verbose=0)\n",
    "\n",
    "import pandas as pd\n",
    "import numpy as np\n",
    "\n",
    "pd.DataFrame(history.history).plot(figsize=(8, 5))\n",
    "plt.grid(True)\n",
    "plt.title('Model performance throughout training')\n",
    "#plt.ylim(0,1)\n",
    "plt.ylabel('Loss')\n",
    "plt.xlabel('epoch')\n",
    "plt.show()\n",
    "\n",
    "print('Loss metrics on the model')\n",
    "meanValLoss = np.mean(np.sqrt(history.history['val_loss']))\n",
    "minValLoss = np.min(np.sqrt(history.history['val_loss']))\n",
    "print('Mean on Val loss',meanValLoss )\n",
    "print('Min on Val loss',minValLoss )\n",
    "print()\n",
    "\n",
    "from sklearn.preprocessing import StandardScaler\n",
    "from sklearn import metrics\n",
    "\n",
    "print('Performance on train')\n",
    "y_train_predict_log_transf = model.predict(X_train_transf)\n",
    "scaler = StandardScaler()\n",
    "y_train_log_transf_xxx = scaler.fit_transform(y_train)\n",
    "y_train_predict_log  = scaler.inverse_transform(y_train_predict_log_transf)\n",
    "y_train_predict  = y_train_predict_log.copy()\n",
    "print('RMSLE on Train set: ', np.sqrt(metrics.mean_squared_log_error(y_train, y_train_predict)))\n",
    "print('RMSE on Train set: ', np.sqrt(metrics.mean_squared_error(y_train, y_train_predict)))\n",
    "print('MAE on Train set: ', metrics.mean_absolute_error(np.exp(y_train), np.exp(y_train_predict)))\n",
    "\n",
    "\n",
    "print('Performance on val')\n",
    "y_val_predict_log_transf = model.predict(X_val_transf)\n",
    "scaler = StandardScaler()\n",
    "y_val_log_transf_xxx = scaler.fit_transform(y_val)\n",
    "y_val_predict_log  = scaler.inverse_transform(y_val_predict_log_transf)\n",
    "y_val_predict  = y_val_predict_log.copy()\n",
    "print('RMSLE on val set: ', np.sqrt(metrics.mean_squared_log_error(y_val, y_val_predict)))\n",
    "print('RMSE on val set: ', np.sqrt(metrics.mean_squared_error(y_val, y_val_predict)))\n",
    "print('MAE on val set: ', metrics.mean_absolute_error(np.exp(y_val), np.exp(y_val_predict)))\n",
    "\n"
   ]
  },
  {
   "cell_type": "code",
   "execution_count": null,
   "metadata": {
    "cell_style": "center",
    "deletable": false,
    "editable": false,
    "run_control": {
     "frozen": true
    }
   },
   "outputs": [],
   "source": [
    "#https://stackoverflow.com/questions/47188756/keras-plot-model-tells-me-to-install-pydot/47209738#47209738\n",
    "import tensorflow as tf\n",
    "tf.keras.utils.plot_model(model, \"my_model.png\", show_shapes=True)"
   ]
  },
  {
   "cell_type": "code",
   "execution_count": null,
   "metadata": {
    "cell_style": "center",
    "deletable": false,
    "editable": false,
    "run_control": {
     "frozen": true
    }
   },
   "outputs": [],
   "source": [
    "print(model.summary())"
   ]
  },
  {
   "cell_type": "markdown",
   "metadata": {
    "cell_style": "center"
   },
   "source": [
    "### The current best NN model with several Hidden Layers"
   ]
  },
  {
   "cell_type": "code",
   "execution_count": 57,
   "metadata": {},
   "outputs": [],
   "source": [
    "X_train = X_train_v3.copy()\n",
    "y_train = y_train_v3.copy()\n",
    "\n",
    "X_val = X_val_v3.copy()\n",
    "y_val = y_val_v3.copy()"
   ]
  },
  {
   "cell_type": "code",
   "execution_count": 58,
   "metadata": {
    "ExecuteTime": {
     "end_time": "2019-12-10T07:01:52.541482Z",
     "start_time": "2019-12-10T07:01:44.427288Z"
    },
    "scrolled": true
   },
   "outputs": [
    {
     "name": "stderr",
     "output_type": "stream",
     "text": [
      "Using TensorFlow backend.\n",
      "/opt/conda/lib/python3.7/site-packages/sklearn/preprocessing/data.py:645: DataConversionWarning: Data with input dtype uint8, int64, float64 were all converted to float64 by StandardScaler.\n",
      "  return self.partial_fit(X, y)\n",
      "/opt/conda/lib/python3.7/site-packages/sklearn/base.py:464: DataConversionWarning: Data with input dtype uint8, int64, float64 were all converted to float64 by StandardScaler.\n",
      "  return self.fit(X, **fit_params).transform(X)\n",
      "/opt/conda/lib/python3.7/site-packages/sklearn/preprocessing/data.py:645: DataConversionWarning: Data with input dtype uint8, int64, float64 were all converted to float64 by StandardScaler.\n",
      "  return self.partial_fit(X, y)\n",
      "/opt/conda/lib/python3.7/site-packages/sklearn/base.py:464: DataConversionWarning: Data with input dtype uint8, int64, float64 were all converted to float64 by StandardScaler.\n",
      "  return self.fit(X, **fit_params).transform(X)\n"
     ]
    },
    {
     "data": {
      "image/png": "[encoded data removed]",
      "text/plain": [
       "<Figure size 576x360 with 1 Axes>"
      ]
     },
     "metadata": {
      "needs_background": "light"
     },
     "output_type": "display_data"
    },
    {
     "name": "stdout",
     "output_type": "stream",
     "text": [
      "Loss metrics on the model\n",
      "Mean on Val loss 2.4036713374238072\n",
      "Min on Val loss 0.8193645995154336\n",
      "\n",
      "Performance on train\n",
      "RMSLE on Train set:  0.008082982719879717\n",
      "RMSE on Train set:  0.10410874323527303\n",
      "MAE on Train set:  12638.844064642246\n",
      "Performance on val\n",
      "RMSLE on val set:  0.009587573469380065\n",
      "RMSE on val set:  0.1215423221747373\n",
      "MAE on val set:  13865.00436108733\n"
     ]
    }
   ],
   "source": [
    "\n",
    "import numpy as np\n",
    "import keras\n",
    "from tensorflow.keras.models import Sequential\n",
    "from tensorflow.keras.layers import Input\n",
    "from tensorflow.keras.layers import Dense\n",
    "from keras import regularizers\n",
    "\n",
    "#to generate the same number every time you need to pass the same seed value every time\n",
    "#Make results reproducible -> fix seed of TensorFlow's random number generator\n",
    "keras.backend.clear_session()\n",
    "from numpy import random as np_random\n",
    "np_random.seed(42)\n",
    "from tensorflow import random as tf_random\n",
    "tf_random.set_seed(42)\n",
    "\n",
    "\n",
    "from sklearn.preprocessing import StandardScaler\n",
    "scaler = StandardScaler()\n",
    "X_train_transf = scaler.fit_transform(X_train)\n",
    "y_train_log = y_train.copy()\n",
    "y_train_log_transf = scaler.fit_transform(y_train_log)\n",
    "\n",
    "X_val_transf = scaler.fit_transform(X_val)\n",
    "y_val_log = y_val.copy()\n",
    "y_val_log_transf = scaler.fit_transform(y_val_log)\n",
    "\n",
    "n_input = X_train.shape[1]\n",
    "\n",
    "#The model\n",
    "model_NN_wiHL = Sequential()\n",
    "model_NN_wiHL.add (Dense(n_input*2,input_dim=n_input,\n",
    "                         activation = 'linear',\n",
    "                         kernel_regularizer=regularizers.l1(0.02)))\n",
    "model_NN_wiHL.add (Dense(n_input//2,\n",
    "                         kernel_regularizer=regularizers.l1(0.02)))\n",
    "model_NN_wiHL.add (Dense(1))\n",
    "\n",
    "#Compile\n",
    "from tensorflow.keras.optimizers import SGD\n",
    "loss ='mean_squared_error'\n",
    "LEARNING_RATE = 0.01\n",
    "model_NN_wiHL.compile(loss=loss, optimizer=SGD(lr=LEARNING_RATE))\n",
    "\n",
    "#fit\n",
    "eph = 600\n",
    "bch = (X_train.shape[0])//3\n",
    "history = model_NN_wiHL.fit(X_train_transf, \n",
    "                    y_train_log_transf, \n",
    "                    validation_data=(X_val_transf, y_val_log_transf), \n",
    "                    epochs=eph, \n",
    "                    batch_size=bch, \n",
    "                    verbose=0)\n",
    "\n",
    "#score\n",
    "import pandas as pd\n",
    "import numpy as np\n",
    "\n",
    "pd.DataFrame(history.history).plot(figsize=(8, 5))\n",
    "plt.grid(True)\n",
    "plt.title('Model performance throughout training')\n",
    "#plt.ylim(0,1)\n",
    "plt.ylabel('Loss')\n",
    "plt.xlabel('epoch')\n",
    "plt.show()\n",
    "\n",
    "print('Loss metrics on the model')\n",
    "meanValLoss = np.mean(np.sqrt(history.history['val_loss']))\n",
    "minValLoss = np.min(np.sqrt(history.history['val_loss']))\n",
    "print('Mean on Val loss',meanValLoss )\n",
    "print('Min on Val loss',minValLoss )\n",
    "print()\n",
    "\n",
    "from sklearn.preprocessing import StandardScaler\n",
    "from sklearn import metrics\n",
    "\n",
    "print('Performance on train')\n",
    "y_train_predict_log_transf = model_NN_wiHL.predict(X_train_transf)\n",
    "scaler = StandardScaler()\n",
    "y_train_log_transf_xxx = scaler.fit_transform(y_train)\n",
    "y_train_predict_log  = scaler.inverse_transform(y_train_predict_log_transf)\n",
    "y_train_predict  = y_train_predict_log.copy()\n",
    "print('RMSLE on Train set: ', np.sqrt(metrics.mean_squared_log_error(y_train, y_train_predict)))\n",
    "print('RMSE on Train set: ', np.sqrt(metrics.mean_squared_error(y_train, y_train_predict)))\n",
    "print('MAE on Train set: ', metrics.mean_absolute_error(np.exp(y_train), np.exp(y_train_predict)))\n",
    "\n",
    "\n",
    "print('Performance on val')\n",
    "y_val_predict_log_transf = model_NN_wiHL.predict(X_val_transf)\n",
    "scaler = StandardScaler()\n",
    "y_val_log_transf_xxx = scaler.fit_transform(y_val)\n",
    "y_val_predict_log  = scaler.inverse_transform(y_val_predict_log_transf)\n",
    "y_val_predict  = y_val_predict_log.copy()\n",
    "print('RMSLE on val set: ', np.sqrt(metrics.mean_squared_log_error(y_val, y_val_predict)))\n",
    "print('RMSE on val set: ', np.sqrt(metrics.mean_squared_error(y_val, y_val_predict)))\n",
    "print('MAE on val set: ', metrics.mean_absolute_error(np.exp(y_val), np.exp(y_val_predict)))\n",
    "\n",
    "score_model_NN_wiHL = np.sqrt(metrics.mean_squared_error(y_val, y_val_predict))\n"
   ]
  },
  {
   "cell_type": "markdown",
   "metadata": {},
   "source": [
    "Performance on train  \n",
    "RMSE on Train set:  0.10418594037975625  \n",
    "Performance on val  \n",
    "RMSE on val set:  0.121476948041681 \n",
    "  \n",
    "**score Kaggle : 0.12968 "
   ]
  },
  {
   "cell_type": "code",
   "execution_count": 59,
   "metadata": {},
   "outputs": [
    {
     "name": "stdout",
     "output_type": "stream",
     "text": [
      "Failed to import pydot. You must install pydot and graphviz for `pydotprint` to work.\n"
     ]
    }
   ],
   "source": [
    "import tensorflow as tf\n",
    "tf.keras.utils.plot_model(model_NN_wiHL, \"my_model.png\", show_shapes=True)"
   ]
  },
  {
   "cell_type": "markdown",
   "metadata": {},
   "source": [
    "## Experience 2"
   ]
  },
  {
   "cell_type": "markdown",
   "metadata": {},
   "source": [
    "### dataset"
   ]
  },
  {
   "cell_type": "code",
   "execution_count": null,
   "metadata": {
    "deletable": false,
    "editable": false,
    "run_control": {
     "frozen": true
    }
   },
   "outputs": [],
   "source": [
    "X_train = X_train_v3.copy()\n",
    "y_train = y_train_v3.copy()\n",
    "\n",
    "X_val = X_val_v3.copy()\n",
    "y_val = y_val_v3.copy()"
   ]
  },
  {
   "cell_type": "markdown",
   "metadata": {},
   "source": [
    "### NN Model"
   ]
  },
  {
   "cell_type": "code",
   "execution_count": null,
   "metadata": {
    "deletable": false,
    "editable": false,
    "run_control": {
     "frozen": true
    }
   },
   "outputs": [],
   "source": [
    "\n",
    "import numpy as np\n",
    "import keras\n",
    "from tensorflow.keras.models import Sequential\n",
    "from tensorflow.keras.layers import Input\n",
    "from tensorflow.keras.layers import Dense\n",
    "from keras import regularizers\n",
    "from tensorflow.keras.initializers import glorot_normal\n",
    "from tensorflow.keras.layers import Dropout\n",
    "\n",
    "from keras.regularizers import l1, l2\n",
    "\n",
    "#to generate the same number every time you need to pass the same seed value every time\n",
    "#Make results reproducible -> fix seed of TensorFlow's random number generator\n",
    "keras.backend.clear_session()\n",
    "from numpy import random as np_random\n",
    "np_random.seed(42)\n",
    "from tensorflow import random as tf_random\n",
    "tf_random.set_seed(42)\n",
    "\n",
    "\n",
    "from sklearn.preprocessing import StandardScaler\n",
    "scaler = StandardScaler()\n",
    "X_train_transf = scaler.fit_transform(X_train)\n",
    "y_train_log = y_train.copy()\n",
    "y_train_log_transf = scaler.fit_transform(y_train_log)\n",
    "\n",
    "X_val_transf = scaler.fit_transform(X_val)\n",
    "y_val_log = y_val.copy()\n",
    "y_val_log_transf = scaler.fit_transform(y_val_log)\n",
    "\n",
    "n_input = X_train.shape[1]"
   ]
  },
  {
   "cell_type": "code",
   "execution_count": null,
   "metadata": {
    "deletable": false,
    "editable": false,
    "run_control": {
     "frozen": true
    }
   },
   "outputs": [],
   "source": [
    "#The model\n",
    "\n",
    "\n",
    "dp_sim = pd.DataFrame({'param': [0], \n",
    "                        'rmse_train': [0],\n",
    "                        'rmse_val':[0],\n",
    "                        })\n",
    "\n",
    "param_simul =[0.1]\n",
    "\n",
    "from tqdm import tqdm\n",
    "for p in tqdm(param_simul): \n",
    "    model_NN_wiHL = Sequential()\n",
    "    model_NN_wiHL.add (Dense(n_input*9,input_dim=n_input,\n",
    "                         activation = 'linear',\n",
    "                         kernel_initializer =glorot_normal(), \n",
    "                         activity_regularizer=l1(0.1),\n",
    "                         bias_regularizer=l2(0.3)\n",
    "                        ))\n",
    "\n",
    "\n",
    "    #model_NN_wiHL.add(Dropout(0.5))\n",
    "    model_NN_wiHL.add (Dense(n_input,\n",
    "                         activation = 'linear',\n",
    "                         activity_regularizer=l1(0.1),\n",
    "                         bias_regularizer=l2(1.6)\n",
    "                        ))\n",
    "\n",
    "    #model_NN_wiHL.add(Dropout(0.5))\n",
    "    model_NN_wiHL.add (Dense(n_input//2,\n",
    "                         activation = 'linear',\n",
    "                         activity_regularizer=l1(0.1),\n",
    "                         bias_regularizer=l2(1.6)\n",
    "                        ))\n",
    "\n",
    "    #model_NN_wiHL.add(Dropout(0.5))\n",
    "    model_NN_wiHL.add (Dense(n_input//2,\n",
    "                         activation = 'linear',\n",
    "                         activity_regularizer=l1(0.1),\n",
    "                         bias_regularizer=l2(1.6)\n",
    "                        ))\n",
    "\n",
    "    \n",
    "    #model_NN_wiHL.add(Dropout(0.5))\n",
    " #   model_NN_wiHL.add (Dense(n_input//3,\n",
    " #                        activation = 'linear',\n",
    " #                        activity_regularizer=l1(0.1),\n",
    " #                        bias_regularizer=l2(1.6)\n",
    " #                       ))\n",
    "\n",
    "    \n",
    "    \n",
    "    #model_NN_wiHL.add(Dropout(0.1))\n",
    "    model_NN_wiHL.add (Dense(1,\n",
    "                  activation ='linear'))\n",
    "   \n",
    "\n",
    "\n",
    "\n",
    "\n",
    "\n",
    "    \n",
    "    #Compile\n",
    "    from tensorflow.keras.optimizers import SGD\n",
    "    loss ='mse'\n",
    "    LEARNING_RATE = 0.01\n",
    "    model_NN_wiHL.compile(loss=loss,\n",
    "                      optimizer=SGD(lr=LEARNING_RATE))\n",
    "\n",
    "    #fit\n",
    "    eph = 5000\n",
    "    bch = (X_train.shape[0])//3\n",
    "    history = model_NN_wiHL.fit(X_train_transf, \n",
    "                    y_train_log_transf, \n",
    "                    validation_split = 0.2, \n",
    "                    epochs=eph, \n",
    "                    batch_size=bch,\n",
    "                    initial_epoch = 2000,\n",
    "                    verbose=0)\n",
    "\n",
    "    #prediction\n",
    "    y_train_predict_log_transf = model_NN_wiHL.predict(X_train_transf)\n",
    "    y_train_predict  = scaler.inverse_transform(y_train_predict_log_transf)\n",
    "    rmse_train = np.sqrt(metrics.mean_squared_error(y_train, y_train_predict))\n",
    "\n",
    "    y_val_predict_log_transf = model_NN_wiHL.predict(X_val_transf)\n",
    "    y_val_predict  = scaler.inverse_transform(y_val_predict_log_transf)\n",
    "    rmse_val = np.sqrt(metrics.mean_squared_error(y_val, y_val_predict))\n",
    "    \n",
    "    #Store\n",
    "    dp_sim = dp_sim.append({'param': p,\n",
    "                            'rmse_train': rmse_train ,\n",
    "                            'rmse_val':rmse_val,\n",
    "                            }, ignore_index = True)\n",
    "\n",
    "dp_sim = dp_sim.drop([0])\n",
    "print(dp_sim)\n",
    "pd.DataFrame(dp_sim).plot(x='param')"
   ]
  },
  {
   "cell_type": "code",
   "execution_count": null,
   "metadata": {
    "deletable": false,
    "editable": false,
    "run_control": {
     "frozen": true
    }
   },
   "outputs": [],
   "source": [
    "#score\n",
    "import pandas as pd\n",
    "import numpy as np\n",
    "\n",
    "pd.DataFrame(history.history).plot(figsize=(8, 5))\n",
    "plt.grid(True)\n",
    "plt.title('Model performance throughout training')\n",
    "#plt.ylim(0,1)\n",
    "plt.ylabel('Loss')\n",
    "plt.xlabel('epoch')\n",
    "plt.show()\n",
    "\n",
    "print('Loss metrics on the model')\n",
    "meanValLoss = np.mean(np.sqrt(history.history['val_loss']))\n",
    "minValLoss = np.min(np.sqrt(history.history['val_loss']))\n",
    "print('Mean on Val loss',meanValLoss )\n",
    "print('Min on Val loss',minValLoss )\n",
    "print()\n",
    "\n",
    "from sklearn.preprocessing import StandardScaler\n",
    "from sklearn import metrics\n",
    "\n",
    "print('Performance on train')\n",
    "y_train_predict_log_transf = model_NN_wiHL.predict(X_train_transf)\n",
    "y_train_predict_log  = scaler.inverse_transform(y_train_predict_log_transf)\n",
    "y_train_predict  = y_train_predict_log.copy()\n",
    "print('RMSLE on Train set: ', np.sqrt(metrics.mean_squared_log_error(y_train, y_train_predict)))\n",
    "print('RMSE on Train set: ', np.sqrt(metrics.mean_squared_error(y_train, y_train_predict)))\n",
    "print('MAE on Train set: ', metrics.mean_absolute_error(np.exp(y_train), np.exp(y_train_predict)))\n",
    "\n",
    "\n",
    "print('Performance on val')\n",
    "y_val_predict_log_transf = model_NN_wiHL.predict(X_val_transf)\n",
    "y_val_predict_log  = scaler.inverse_transform(y_val_predict_log_transf)\n",
    "y_val_predict  = y_val_predict_log.copy()\n",
    "print('RMSLE on val set: ', np.sqrt(metrics.mean_squared_log_error(y_val, y_val_predict)))\n",
    "print('RMSE on val set: ', np.sqrt(metrics.mean_squared_error(y_val, y_val_predict)))\n",
    "print('MAE on val set: ', metrics.mean_absolute_error(np.exp(y_val), np.exp(y_val_predict)))\n",
    "\n",
    "score_model_NN_wiHL = np.sqrt(metrics.mean_squared_error(y_val, y_val_predict))\n",
    "\n"
   ]
  },
  {
   "cell_type": "markdown",
   "metadata": {},
   "source": [
    "## Experience 3"
   ]
  },
  {
   "cell_type": "markdown",
   "metadata": {},
   "source": [
    "### Dataset"
   ]
  },
  {
   "cell_type": "code",
   "execution_count": null,
   "metadata": {
    "deletable": false,
    "editable": false,
    "run_control": {
     "frozen": true
    }
   },
   "outputs": [],
   "source": [
    "def clean(rtrain,rtest):\n",
    "    y=rtrain['SalePrice']\n",
    "    testId=rtest['Id']\n",
    "    rtrain.drop(['Id','SalePrice'],axis=1,inplace=True)\n",
    "    rtest.drop(['Id'],axis=1,inplace=True)\n",
    "    \n",
    "    # selecting the indexes of the skew features\n",
    "    skew_index=select_skew_index(rtrain)\n",
    "    \n",
    "    # Eliminate the outier\n",
    "    rtrain=rtrain.drop(rtrain.index[1298])\n",
    "    y=y.drop(rtrain.index[1298])\n",
    "    \n",
    "    # Drop the columns in the test data with all values equal to na\n",
    "    rtest=rtest.dropna(axis=1,how='all')\n",
    "    \n",
    "    # preparing features and target values\n",
    "    y=np.log1p(y)\n",
    "\n",
    "    #Correct the skewness\n",
    "    correct_skew(rtrain,skew_index)\n",
    "    correct_skew(rtest,skew_index)\n",
    "    \n",
    "    #Filling missing values\n",
    "    fill_miss(rtrain)\n",
    "    fill_miss(rtest)\n",
    "        \n",
    "    # Correcting categorical values that are ordinal\n",
    "    filling_ordinal(rtrain)\n",
    "    filling_ordinal(rtest)\n",
    "    \n",
    "    #Feature ingeneering\n",
    "    feat_ing(rtrain)\n",
    "    feat_ing(rtest)\n",
    "    \n",
    "    #One hot encoding\n",
    "    rtrain=pd.get_dummies(rtrain)\n",
    "    rtest=pd.get_dummies(rtest)\n",
    "    \n",
    "    # Update the training set\n",
    "    rtrain=rtrain[rtest.columns]\n",
    "    \n",
    "    \n",
    "    return(rtrain,rtest,y,testId)"
   ]
  },
  {
   "cell_type": "code",
   "execution_count": null,
   "metadata": {
    "deletable": false,
    "editable": false,
    "run_control": {
     "frozen": true
    }
   },
   "outputs": [],
   "source": [
    "data.head(5)"
   ]
  },
  {
   "cell_type": "code",
   "execution_count": null,
   "metadata": {
    "deletable": false,
    "editable": false,
    "run_control": {
     "frozen": true
    }
   },
   "outputs": [],
   "source": [
    "X_train_full_v3_nn,X_test_nn,y_train_full_v3_nn,X_test_Id_nn=clean(df_train_full_nn,df_test)"
   ]
  },
  {
   "cell_type": "code",
   "execution_count": null,
   "metadata": {
    "deletable": false,
    "editable": false,
    "run_control": {
     "frozen": true
    }
   },
   "outputs": [],
   "source": [
    "from sklearn.model_selection import train_test_split\n",
    "val_size = 0.2\n",
    "X_train_v3_nn, X_val_v3_nn, y_train_v3_nn, y_val_v3_nn = train_test_split(X_train_full_v3_nn, y_train_full_v3_nn, test_size = val_size)"
   ]
  },
  {
   "cell_type": "markdown",
   "metadata": {},
   "source": [
    "### model \n"
   ]
  },
  {
   "cell_type": "code",
   "execution_count": null,
   "metadata": {
    "deletable": false,
    "editable": false,
    "run_control": {
     "frozen": true
    }
   },
   "outputs": [],
   "source": [
    "import numpy as np\n",
    "import keras\n",
    "from tensorflow.keras.models import Sequential\n",
    "from tensorflow.keras.layers import Input\n",
    "from tensorflow.keras.layers import Dense\n",
    "from keras import regularizers\n",
    "\n",
    "#to generate the same number every time you need to pass the same seed value every time\n",
    "#Make results reproducible -> fix seed of TensorFlow's random number generator\n",
    "keras.backend.clear_session()\n",
    "from numpy import random as np_random\n",
    "np_random.seed(42)\n",
    "from tensorflow import random as tf_random\n",
    "tf_random.set_seed(42)\n",
    "\n",
    "\n",
    "from sklearn.preprocessing import StandardScaler\n",
    "scaler = StandardScaler()\n",
    "X_train_transf = scaler.fit_transform(X_train)\n",
    "y_train_log = y_train.copy()\n",
    "y_train_log_transf = scaler.fit_transform(y_train_log)\n",
    "\n",
    "X_val_transf = scaler.fit_transform(X_val)\n",
    "y_val_log = y_val.copy()\n",
    "y_val_log_transf = scaler.fit_transform(y_val_log)\n",
    "\n",
    "n_input = X_train.shape[1]\n",
    "\n",
    "#The model\n",
    "model_NN_wiHL = Sequential()\n",
    "model_NN_wiHL.add (Dense(n_input*2,input_dim=n_input,\n",
    "                         activation = 'linear',\n",
    "                         kernel_regularizer=regularizers.l1(0.02)))\n",
    "model_NN_wiHL.add (Dense(n_input//2,\n",
    "                         kernel_regularizer=regularizers.l1(0.02)))\n",
    "model_NN_wiHL.add (Dense(1))\n",
    "\n",
    "#Compile\n",
    "from tensorflow.keras.optimizers import SGD\n",
    "loss ='mean_squared_error'\n",
    "LEARNING_RATE = 0.01\n",
    "model_NN_wiHL.compile(loss=loss, optimizer=SGD(lr=LEARNING_RATE))\n",
    "\n",
    "#fit\n",
    "eph = 600\n",
    "bch = (X_train.shape[0])//3\n",
    "history = model_NN_wiHL.fit(X_train_transf, \n",
    "                    y_train_log_transf, \n",
    "                    validation_data=(X_val_transf, y_val_log_transf), \n",
    "                    epochs=eph, \n",
    "                    batch_size=bch, \n",
    "                    verbose=0)\n",
    "\n",
    "#score\n",
    "import pandas as pd\n",
    "import numpy as np\n",
    "\n",
    "pd.DataFrame(history.history).plot(figsize=(8, 5))\n",
    "plt.grid(True)\n",
    "plt.title('Model performance throughout training')\n",
    "#plt.ylim(0,1)\n",
    "plt.ylabel('Loss')\n",
    "plt.xlabel('epoch')\n",
    "plt.show()\n",
    "\n",
    "print('Loss metrics on the model')\n",
    "meanValLoss = np.mean(np.sqrt(history.history['val_loss']))\n",
    "minValLoss = np.min(np.sqrt(history.history['val_loss']))\n",
    "print('Mean on Val loss',meanValLoss )\n",
    "print('Min on Val loss',minValLoss )\n",
    "print()\n",
    "\n",
    "from sklearn.preprocessing import StandardScaler\n",
    "from sklearn import metrics\n",
    "\n",
    "print('Performance on train')\n",
    "y_train_predict_log_transf = model_NN_wiHL.predict(X_train_transf)\n",
    "scaler = StandardScaler()\n",
    "y_train_log_transf_xxx = scaler.fit_transform(y_train)\n",
    "y_train_predict_log  = scaler.inverse_transform(y_train_predict_log_transf)\n",
    "y_train_predict  = y_train_predict_log.copy()\n",
    "print('RMSLE on Train set: ', np.sqrt(metrics.mean_squared_log_error(y_train, y_train_predict)))\n",
    "print('RMSE on Train set: ', np.sqrt(metrics.mean_squared_error(y_train, y_train_predict)))\n",
    "print('MAE on Train set: ', metrics.mean_absolute_error(np.exp(y_train), np.exp(y_train_predict)))\n",
    "\n",
    "\n",
    "print('Performance on val')\n",
    "y_val_predict_log_transf = model_NN_wiHL.predict(X_val_transf)\n",
    "scaler = StandardScaler()\n",
    "y_val_log_transf_xxx = scaler.fit_transform(y_val)\n",
    "y_val_predict_log  = scaler.inverse_transform(y_val_predict_log_transf)\n",
    "y_val_predict  = y_val_predict_log.copy()\n",
    "print('RMSLE on val set: ', np.sqrt(metrics.mean_squared_log_error(y_val, y_val_predict)))\n",
    "print('RMSE on val set: ', np.sqrt(metrics.mean_squared_error(y_val, y_val_predict)))\n",
    "print('MAE on val set: ', metrics.mean_absolute_error(np.exp(y_val), np.exp(y_val_predict)))\n",
    "\n",
    "score_model_NN_wiHL = np.sqrt(metrics.mean_squared_error(y_val, y_val_predict))\n",
    "\n"
   ]
  },
  {
   "cell_type": "markdown",
   "metadata": {},
   "source": [
    "## Hyperparameter Tuning"
   ]
  },
  {
   "cell_type": "code",
   "execution_count": null,
   "metadata": {
    "deletable": false,
    "editable": false,
    "run_control": {
     "frozen": true
    }
   },
   "outputs": [],
   "source": [
    "X_train = X_train_v3.copy()\n",
    "y_train = y_train_v3.copy()\n",
    "\n",
    "X_val = X_val_v3.copy()\n",
    "y_val = y_val_v3.copy()\n",
    "\n",
    "print(X_train.shape)"
   ]
  },
  {
   "cell_type": "code",
   "execution_count": null,
   "metadata": {
    "deletable": false,
    "editable": false,
    "run_control": {
     "frozen": true
    }
   },
   "outputs": [],
   "source": [
    "from sklearn.preprocessing import StandardScaler\n",
    "scaler = StandardScaler()\n",
    "X_train_transf = scaler.fit_transform(X_train)\n",
    "y_train_log = y_train.copy()\n",
    "y_train_log_transf = scaler.fit_transform(y_train_log)\n",
    "\n",
    "X_val_transf = scaler.fit_transform(X_val)\n",
    "y_val_log = y_val.copy()\n",
    "y_val_log_transf = scaler.fit_transform(y_val_log)"
   ]
  },
  {
   "cell_type": "code",
   "execution_count": null,
   "metadata": {
    "deletable": false,
    "editable": false,
    "run_control": {
     "frozen": true
    }
   },
   "outputs": [],
   "source": [
    "# Hyperparameter Tuning\n",
    "import keras\n",
    "keras.backend.clear_session()\n",
    "from numpy import random as np_random\n",
    "np_random.seed(42)\n",
    "from tensorflow import random as tf_random\n",
    "tf_random.set_seed(42)\n",
    "\n",
    "def build_model(n_hidden=1, n_neurons=30, learning_rate=3e-3, input_shape= [X_train.shape[1]]):\n",
    "    model = keras.models.Sequential()\n",
    "    model.add(keras.layers.InputLayer(input_shape=input_shape))\n",
    "    for layer in range(n_hidden):\n",
    "        model.add(keras.layers.Dense(n_neurons, activation=\"relu\"))\n",
    "    model.add(keras.layers.Dense(1))\n",
    "    optimizer = keras.optimizers.SGD(lr=learning_rate)\n",
    "    model.compile(loss=\"mse\", optimizer=optimizer)\n",
    "    return model"
   ]
  },
  {
   "cell_type": "code",
   "execution_count": null,
   "metadata": {
    "deletable": false,
    "editable": false,
    "run_control": {
     "frozen": true
    }
   },
   "outputs": [],
   "source": [
    "keras_reg = keras.wrappers.scikit_learn.KerasRegressor(build_model)"
   ]
  },
  {
   "cell_type": "code",
   "execution_count": null,
   "metadata": {
    "deletable": false,
    "editable": false,
    "run_control": {
     "frozen": true
    }
   },
   "outputs": [],
   "source": [
    "keras_reg.fit(X_train_transf, y_train_log_transf, \n",
    "              epochs=100, \n",
    "              validation_data=(X_val_transf, y_val_log_transf),\n",
    "              callbacks=[keras.callbacks.EarlyStopping(patience=10)])"
   ]
  },
  {
   "cell_type": "code",
   "execution_count": null,
   "metadata": {
    "deletable": false,
    "editable": false,
    "run_control": {
     "frozen": true
    }
   },
   "outputs": [],
   "source": [
    "mse_test = keras_reg.score(X_val_transf, y_val_log_transf)"
   ]
  },
  {
   "cell_type": "code",
   "execution_count": null,
   "metadata": {
    "deletable": false,
    "editable": false,
    "run_control": {
     "frozen": true
    }
   },
   "outputs": [],
   "source": [
    "from scipy.stats import reciprocal\n",
    "from sklearn.model_selection import RandomizedSearchCV\n",
    "\n",
    "param_distribs = {\n",
    "    \"n_hidden\": [0, 1, 2, 3],\n",
    "    \"n_neurons\": np.arange(1, 100),\n",
    "    \"learning_rate\": reciprocal(3e-4, 3e-2),\n",
    "}\n",
    "\n",
    "rnd_search_cv = RandomizedSearchCV(keras_reg, param_distribs, n_iter=10, cv=3, verbose=2)\n",
    "rnd_search_cv.fit(X_train_transf, y_train_log_transf, epochs=100,\n",
    "                  validation_data=(X_val_transf, y_val_log_transf),\n",
    "                  callbacks=[keras.callbacks.EarlyStopping(patience=10)])"
   ]
  },
  {
   "cell_type": "code",
   "execution_count": null,
   "metadata": {
    "deletable": false,
    "editable": false,
    "run_control": {
     "frozen": true
    }
   },
   "outputs": [],
   "source": [
    "rnd_search_cv.best_params_"
   ]
  },
  {
   "cell_type": "code",
   "execution_count": null,
   "metadata": {
    "deletable": false,
    "editable": false,
    "run_control": {
     "frozen": true
    }
   },
   "outputs": [],
   "source": [
    "rnd_search_cv.best_score_"
   ]
  },
  {
   "cell_type": "code",
   "execution_count": null,
   "metadata": {
    "deletable": false,
    "editable": false,
    "run_control": {
     "frozen": true
    }
   },
   "outputs": [],
   "source": [
    "rnd_search_cv.best_estimator_"
   ]
  },
  {
   "cell_type": "code",
   "execution_count": null,
   "metadata": {
    "deletable": false,
    "editable": false,
    "run_control": {
     "frozen": true
    }
   },
   "outputs": [],
   "source": [
    "rnd_search_cv.score(X_val_transf, y_val_log_transf)"
   ]
  },
  {
   "cell_type": "code",
   "execution_count": null,
   "metadata": {
    "deletable": false,
    "editable": false,
    "run_control": {
     "frozen": true
    }
   },
   "outputs": [],
   "source": [
    "model = rnd_search_cv.best_estimator_.model\n",
    "model"
   ]
  },
  {
   "cell_type": "code",
   "execution_count": null,
   "metadata": {
    "deletable": false,
    "editable": false,
    "run_control": {
     "frozen": true
    }
   },
   "outputs": [],
   "source": [
    "model.evaluate(X_val_transf, y_val_log_transf)"
   ]
  },
  {
   "cell_type": "code",
   "execution_count": null,
   "metadata": {
    "deletable": false,
    "editable": false,
    "run_control": {
     "frozen": true
    }
   },
   "outputs": [],
   "source": [
    "from sklearn.preprocessing import StandardScaler\n",
    "from sklearn import metrics\n",
    "\n",
    "print('Performance on train')\n",
    "y_train_predict_log_transf = model.predict(X_train_transf)\n",
    "scaler = StandardScaler()\n",
    "y_train_log_transf_xxx = scaler.fit_transform(y_train)\n",
    "y_train_predict_log  = scaler.inverse_transform(y_train_predict_log_transf)\n",
    "y_train_predict  = y_train_predict_log.copy()\n",
    "print('RMSLE on Train set: ', np.sqrt(metrics.mean_squared_log_error(y_train, y_train_predict)))\n",
    "print('MAE on Train set: ', metrics.mean_absolute_error(np.exp(y_train), np.exp(y_train_predict)))\n",
    "\n",
    "\n",
    "print('Performance on val')\n",
    "y_val_predict_log_transf = model.predict(X_val_transf)\n",
    "scaler = StandardScaler()\n",
    "y_val_log_transf_xxx = scaler.fit_transform(y_val)\n",
    "y_val_predict_log  = scaler.inverse_transform(y_val_predict_log_transf)\n",
    "y_val_predict  = y_val_predict_log.copy()\n",
    "print('RMSLE on val set: ', np.sqrt(metrics.mean_squared_log_error(y_val, y_val_predict)))\n",
    "print('MAE on val set: ', metrics.mean_absolute_error(np.exp(y_val), np.exp(y_val_predict)))\n"
   ]
  },
  {
   "cell_type": "markdown",
   "metadata": {},
   "source": [
    "## Test Model with X_train-full"
   ]
  },
  {
   "cell_type": "code",
   "execution_count": null,
   "metadata": {
    "deletable": false,
    "editable": false,
    "run_control": {
     "frozen": true
    }
   },
   "outputs": [],
   "source": [
    "X_train = X_train_full_v3.copy()\n",
    "y_train = y_train_full_v3.copy()"
   ]
  },
  {
   "cell_type": "code",
   "execution_count": null,
   "metadata": {
    "deletable": false,
    "editable": false,
    "run_control": {
     "frozen": true
    }
   },
   "outputs": [],
   "source": [
    "\n",
    "import numpy as np\n",
    "import keras\n",
    "from tensorflow.keras.models import Sequential\n",
    "from tensorflow.keras.layers import Input\n",
    "from tensorflow.keras.layers import Dense\n",
    "from keras import regularizers\n",
    "\n",
    "#to generate the same number every time you need to pass the same seed value every time\n",
    "#Make results reproducible -> fix seed of TensorFlow's random number generator\n",
    "keras.backend.clear_session()\n",
    "from numpy import random as np_random\n",
    "np_random.seed(42)\n",
    "from tensorflow import random as tf_random\n",
    "tf_random.set_seed(42)\n",
    "\n",
    "\n",
    "from sklearn.preprocessing import StandardScaler\n",
    "scaler = StandardScaler()\n",
    "X_train_transf = scaler.fit_transform(X_train)\n",
    "y_train_log = y_train.copy()\n",
    "y_train_log_transf = scaler.fit_transform(y_train_log)\n",
    "\n",
    "X_val_transf = scaler.fit_transform(X_val)\n",
    "y_val_log = y_val.copy()\n",
    "y_val_log_transf = scaler.fit_transform(y_val_log)\n",
    "\n",
    "n_input = X_train.shape[1]\n",
    "\n",
    "#The model\n",
    "model_NN_wiHL = Sequential()\n",
    "model_NN_wiHL.add (Dense(n_input//2,input_dim=n_input,activation = 'linear',kernel_regularizer=regularizers.l1(0.03)))\n",
    "model_NN_wiHL.add (Dense(n_input//3,kernel_regularizer=regularizers.l1(0.03)))\n",
    "model_NN_wiHL.add (Dense(1))\n",
    "\n",
    "#Compile\n",
    "from tensorflow.keras.optimizers import SGD\n",
    "loss ='mean_squared_error'\n",
    "LEARNING_RATE = 0.01\n",
    "model_NN_wiHL.compile(loss=loss, optimizer=SGD(lr=LEARNING_RATE))\n",
    "\n",
    "#fit\n",
    "eph = 1000\n",
    "bch = (X_train.shape[0])//3\n",
    "history = model_NN_wiHL.fit(X_train_transf, \n",
    "                    y_train_log_transf, \n",
    "                    epochs=eph, \n",
    "                    batch_size=bch, \n",
    "                    verbose=0)\n",
    "\n",
    "#score\n",
    "import pandas as pd\n",
    "import numpy as np\n",
    "\n",
    "pd.DataFrame(history.history).plot(figsize=(8, 5))\n",
    "plt.grid(True)\n",
    "plt.title('Model performance throughout training')\n",
    "#plt.ylim(0,1)\n",
    "plt.ylabel('Loss')\n",
    "plt.xlabel('epoch')\n",
    "plt.show()\n",
    "\n",
    "\n",
    "from sklearn.preprocessing import StandardScaler\n",
    "from sklearn import metrics\n",
    "\n",
    "print('Performance on train')\n",
    "y_train_predict_log_transf = model_NN_wiHL.predict(X_train_transf)\n",
    "scaler = StandardScaler()\n",
    "y_train_log_transf_xxx = scaler.fit_transform(y_train)\n",
    "y_train_predict_log  = scaler.inverse_transform(y_train_predict_log_transf)\n",
    "y_train_predict  = y_train_predict_log.copy()\n",
    "print('RMSLE on Train set: ', np.sqrt(metrics.mean_squared_log_error(y_train, y_train_predict)))\n",
    "print('RMSE on Train set: ', np.sqrt(metrics.mean_squared_error(y_train, y_train_predict)))\n",
    "print('MAE on Train set: ', metrics.mean_absolute_error(np.exp(y_train), np.exp(y_train_predict)))"
   ]
  },
  {
   "cell_type": "markdown",
   "metadata": {
    "ExecuteTime": {
     "end_time": "2019-12-09T19:21:58.229680Z",
     "start_time": "2019-12-09T19:21:58.226278Z"
    }
   },
   "source": [
    "## Prediction X_Test by NN"
   ]
  },
  {
   "cell_type": "code",
   "execution_count": 60,
   "metadata": {},
   "outputs": [],
   "source": [
    "\n",
    "X_test_id = X_test_id_v3.copy()\n",
    "X_test_id = pd.DataFrame(X_test_id)\n",
    "X_test = X_test_v3.copy()"
   ]
  },
  {
   "cell_type": "code",
   "execution_count": 61,
   "metadata": {},
   "outputs": [],
   "source": [
    "model = model_NN_wiHL"
   ]
  },
  {
   "cell_type": "code",
   "execution_count": 62,
   "metadata": {
    "ExecuteTime": {
     "end_time": "2019-12-10T00:01:38.395699Z",
     "start_time": "2019-12-10T00:01:38.283072Z"
    }
   },
   "outputs": [
    {
     "name": "stderr",
     "output_type": "stream",
     "text": [
      "/opt/conda/lib/python3.7/site-packages/sklearn/preprocessing/data.py:645: DataConversionWarning: Data with input dtype uint8, int64, float64 were all converted to float64 by StandardScaler.\n",
      "  return self.partial_fit(X, y)\n",
      "/opt/conda/lib/python3.7/site-packages/sklearn/base.py:464: DataConversionWarning: Data with input dtype uint8, int64, float64 were all converted to float64 by StandardScaler.\n",
      "  return self.fit(X, **fit_params).transform(X)\n"
     ]
    }
   ],
   "source": [
    "from sklearn.preprocessing import StandardScaler\n",
    "scaler = StandardScaler()\n",
    "X_test_transf = scaler.fit_transform(X_test)\n",
    "y_test_predict_log_transf = model.predict(X_test_transf)\n",
    "y_train_log_transf_xxx = scaler.fit_transform(y_train)\n",
    "y_test_predict_log  = scaler.inverse_transform(y_test_predict_log_transf)"
   ]
  },
  {
   "cell_type": "code",
   "execution_count": 63,
   "metadata": {},
   "outputs": [],
   "source": [
    "y_test_predict_nn1 = y_test_predict_log.copy() "
   ]
  },
  {
   "cell_type": "markdown",
   "metadata": {},
   "source": [
    "# Blending models"
   ]
  },
  {
   "cell_type": "markdown",
   "metadata": {},
   "source": [
    "## What weighting"
   ]
  },
  {
   "cell_type": "code",
   "execution_count": 64,
   "metadata": {},
   "outputs": [
    {
     "name": "stdout",
     "output_type": "stream",
     "text": [
      "Score XGboost : 0.12482813115112225\n",
      "Score Lasso : 0.12288295569261108\n",
      "Score Ridge : 0.12793959047415093\n",
      "Score ElasticNet : 0.12584029961835141\n",
      "Score svr : 0.12724398707061416\n",
      "Score Stacking models : 0.12285372420864576\n",
      "Score NN with Hidden Layers : 0.1215423221747373\n"
     ]
    }
   ],
   "source": [
    "print( 'Score XGboost :', score_xgboost)\n",
    "print( 'Score Lasso :', score_lasso)\n",
    "print( 'Score Ridge :', score_ridge)\n",
    "print( 'Score ElasticNet :', score_elastic)\n",
    "print( 'Score svr :', score_svr)\n",
    "print( 'Score Stacking models :', score_stack)\n",
    "print( 'Score NN with Hidden Layers :', score_model_NN_wiHL)"
   ]
  },
  {
   "cell_type": "markdown",
   "metadata": {},
   "source": [
    "Reference on IOS environment:  \n",
    "Score XGboost : 0.12437975165651888  \n",
    "Score Lasso : 0.12288295569261061  \n",
    "Score ridge : 0.1279395904741509  \n",
    "Score ElasticNet : 0.12584029961835144  \n",
    "Score svr : 0.1272439646485563  \n",
    "Score Stacking models : 0.12446524052049646  \n",
    "Score NN with Hidden Layers : 0.121476948041681"
   ]
  },
  {
   "cell_type": "markdown",
   "metadata": {},
   "source": [
    "## The predictions"
   ]
  },
  {
   "cell_type": "code",
   "execution_count": 65,
   "metadata": {},
   "outputs": [
    {
     "name": "stderr",
     "output_type": "stream",
     "text": [
      "/opt/conda/lib/python3.7/site-packages/sklearn/pipeline.py:331: DataConversionWarning: Data with input dtype uint8, int64, float64 were all converted to float64 by StandardScaler.\n",
      "  Xt = transform.transform(Xt)\n",
      "/opt/conda/lib/python3.7/site-packages/sklearn/pipeline.py:331: DataConversionWarning: Data with input dtype uint8, int64, float64 were all converted to float64 by StandardScaler.\n",
      "  Xt = transform.transform(Xt)\n",
      "/opt/conda/lib/python3.7/site-packages/sklearn/pipeline.py:331: DataConversionWarning: Data with input dtype uint8, int64, float64 were all converted to float64 by StandardScaler.\n",
      "  Xt = transform.transform(Xt)\n",
      "/opt/conda/lib/python3.7/site-packages/sklearn/pipeline.py:331: DataConversionWarning: Data with input dtype uint8, int64, float64 were all converted to float64 by StandardScaler.\n",
      "  Xt = transform.transform(Xt)\n",
      "/opt/conda/lib/python3.7/site-packages/sklearn/pipeline.py:331: DataConversionWarning: Data with input dtype uint8, int64, float64 were all converted to float64 by StandardScaler.\n",
      "  Xt = transform.transform(Xt)\n"
     ]
    }
   ],
   "source": [
    "y_test_predict_xgboost = grid_search_xgboost.predict(X_test)\n",
    "y_test_predict_lasso = grid_search_lasso.predict(X_test)\n",
    "y_test_predict_ridge = grid_search_ridge.predict(X_test)\n",
    "y_test_predict_elasticNet = grid_search_elasticNet.predict(X_test)\n",
    "y_test_predict_svr = grid_search_svr.predict(X_test)\n",
    "y_test_predict_stack = grid_search_stack.predict(X_test)"
   ]
  },
  {
   "cell_type": "code",
   "execution_count": 66,
   "metadata": {},
   "outputs": [],
   "source": [
    "y_test_predict_xgboost = pd.DataFrame(y_test_predict_xgboost)\n",
    "y_test_predict_lasso = pd.DataFrame(y_test_predict_lasso)\n",
    "y_test_predict_ridge = pd.DataFrame(y_test_predict_ridge)\n",
    "y_test_predict_elasticNet = pd.DataFrame(y_test_predict_elasticNet)\n",
    "y_test_predict_svr = pd.DataFrame(y_test_predict_svr)\n",
    "y_test_predict_stack = pd.DataFrame(y_test_predict_stack)"
   ]
  },
  {
   "cell_type": "code",
   "execution_count": 67,
   "metadata": {},
   "outputs": [],
   "source": [
    "y_test_predict_nn1 = pd.DataFrame(y_test_predict_nn1)"
   ]
  },
  {
   "cell_type": "markdown",
   "metadata": {},
   "source": [
    "## The predictions weighted "
   ]
  },
  {
   "cell_type": "code",
   "execution_count": null,
   "metadata": {
    "deletable": false,
    "editable": false,
    "run_control": {
     "frozen": true
    }
   },
   "outputs": [],
   "source": [
    "y_test_predict_blend = (0.3*y_test_predict_xgboost)+\\\n",
    "                         (0.3*y_test_predict_lasso)+\\\n",
    "                         (0.01*y_test_predict_ridge)+\\\n",
    "                         (0.04*y_test_predict_elasticNet)+\\\n",
    "                         (0.01*y_test_predict_svr)+\\\n",
    "                         (0.3*y_test_predict_stack)+\\\n",
    "                         (0.04*y_test_predict_nn1)"
   ]
  },
  {
   "cell_type": "markdown",
   "metadata": {},
   "source": [
    "## The best weigthing"
   ]
  },
  {
   "cell_type": "code",
   "execution_count": 68,
   "metadata": {},
   "outputs": [],
   "source": [
    "y_test_predict_blend = (0.29*y_test_predict_xgboost)+\\\n",
    "                         (0.3*y_test_predict_lasso)+\\\n",
    "                         (0.01*y_test_predict_ridge)+\\\n",
    "                         (0.04*y_test_predict_elasticNet)+\\\n",
    "                         (0.01*y_test_predict_svr)+\\\n",
    "                         (0.3*y_test_predict_stack)+\\\n",
    "                         (0.05*y_test_predict_nn1)"
   ]
  },
  {
   "cell_type": "markdown",
   "metadata": {},
   "source": [
    "```\n",
    "macOS ANACONDA environement :\n",
    "Id\tSalePrice\n",
    "0\t1461\t126327.298611\n",
    "1\t1462\t153818.843588\n",
    "2\t1463\t186440.479528\n",
    "3\t1464\t199565.697523\n",
    "4\t1465\t185091.219016\n",
    "\n",
    "\n",
    "Score kaggle : 0.11732\n",
    "```"
   ]
  },
  {
   "cell_type": "markdown",
   "metadata": {},
   "source": [
    "```\n",
    "WINDOWS ANACONDA environment :\n",
    " \tId \tSalePrice\n",
    "0 \t1461 \t123229.546074\n",
    "1 \t1462 \t154504.125538\n",
    "2 \t1463 \t181768.519492\n",
    "3 \t1464 \t198921.721257\n",
    "4 \t1465 \t186854.423852\n",
    "\n",
    "Score Kaggle : 0.11860\n",
    "```"
   ]
  },
  {
   "cell_type": "markdown",
   "metadata": {},
   "source": [
    "```\n",
    "WINDOWS DOCKER environment :\n",
    "      Id \tSalePrice\n",
    "0 \t1461 \t122540.778708\n",
    "1 \t1462 \t153797.176387\n",
    "2 \t1463 \t187232.372993\n",
    "3 \t1464 \t197201.756179\n",
    "4 \t1465 \t184485.630430\n",
    "\n",
    "Score Kaggle : 0.11704\n",
    "```"
   ]
  },
  {
   "cell_type": "markdown",
   "metadata": {},
   "source": [
    "# Submission to Kaggle"
   ]
  },
  {
   "cell_type": "code",
   "execution_count": 69,
   "metadata": {},
   "outputs": [],
   "source": [
    "# select y_test_predict from model \n",
    "y_test_predict = y_test_predict_blend"
   ]
  },
  {
   "cell_type": "code",
   "execution_count": 70,
   "metadata": {},
   "outputs": [
    {
     "name": "stdout",
     "output_type": "stream",
     "text": [
      "(1459, 2)\n"
     ]
    },
    {
     "data": {
      "text/html": [
       "<div>\n",
       "<style scoped>\n",
       "    .dataframe tbody tr th:only-of-type {\n",
       "        vertical-align: middle;\n",
       "    }\n",
       "\n",
       "    .dataframe tbody tr th {\n",
       "        vertical-align: top;\n",
       "    }\n",
       "\n",
       "    .dataframe thead th {\n",
       "        text-align: right;\n",
       "    }\n",
       "</style>\n",
       "<table border=\"1\" class=\"dataframe\">\n",
       "  <thead>\n",
       "    <tr style=\"text-align: right;\">\n",
       "      <th></th>\n",
       "      <th>Id</th>\n",
       "      <th>SalePrice</th>\n",
       "    </tr>\n",
       "  </thead>\n",
       "  <tbody>\n",
       "    <tr>\n",
       "      <th>0</th>\n",
       "      <td>1461</td>\n",
       "      <td>122540.778708</td>\n",
       "    </tr>\n",
       "    <tr>\n",
       "      <th>1</th>\n",
       "      <td>1462</td>\n",
       "      <td>153797.176387</td>\n",
       "    </tr>\n",
       "    <tr>\n",
       "      <th>2</th>\n",
       "      <td>1463</td>\n",
       "      <td>187232.372993</td>\n",
       "    </tr>\n",
       "    <tr>\n",
       "      <th>3</th>\n",
       "      <td>1464</td>\n",
       "      <td>197201.756179</td>\n",
       "    </tr>\n",
       "    <tr>\n",
       "      <th>4</th>\n",
       "      <td>1465</td>\n",
       "      <td>184485.630430</td>\n",
       "    </tr>\n",
       "  </tbody>\n",
       "</table>\n",
       "</div>"
      ],
      "text/plain": [
       "     Id      SalePrice\n",
       "0  1461  122540.778708\n",
       "1  1462  153797.176387\n",
       "2  1463  187232.372993\n",
       "3  1464  197201.756179\n",
       "4  1465  184485.630430"
      ]
     },
     "execution_count": 70,
     "metadata": {},
     "output_type": "execute_result"
    }
   ],
   "source": [
    "X_test_id = pd.DataFrame(X_test_id)\n",
    "y_test_predict = pd.DataFrame(y_test_predict)\n",
    "y_test_predict = np.exp(y_test_predict)\n",
    "df_sub = X_test_id.join(y_test_predict)\n",
    "print(df_sub.shape)\n",
    "col_names_subm = df_sub.columns.values\n",
    "col_names_subm[1] = 'SalePrice'\n",
    "df_sub.columns = col_names_subm\n",
    "df_sub.head(5)"
   ]
  },
  {
   "cell_type": "code",
   "execution_count": 73,
   "metadata": {},
   "outputs": [],
   "source": [
    "df_sub.to_csv('hp_all_blendModel3.csv', index=False)"
   ]
  },
  {
   "cell_type": "code",
   "execution_count": 74,
   "metadata": {},
   "outputs": [
    {
     "name": "stderr",
     "output_type": "stream",
     "text": [
      "2020-01-18 07:17:28,419 WARNING Retrying (Retry(total=2, connect=None, read=None, redirect=None, status=None)) after connection broken by 'NewConnectionError('<urllib3.connection.VerifiedHTTPSConnection object at 0x7fb1e3a41320>: Failed to establish a new connection: [Errno 111] Connection refused')': /api/v1/competitions/house-prices-advanced-regression-techniques/submissions/url/34477/1579331825\n",
      "100%|██████████| 33.7k/33.7k [00:06<00:00, 5.45kB/s]\n"
     ]
    },
    {
     "data": {
      "text/plain": [
       "Successfully submitted to House Prices: Advanced Regression Techniques"
      ]
     },
     "execution_count": 74,
     "metadata": {},
     "output_type": "execute_result"
    }
   ],
   "source": [
    "import kaggle\n",
    "submission_file = \"hp_all_blendModel3.csv\"\n",
    "kaggle.api.competition_submit(submission_file, \"BlendingModel1\", \"house-prices-advanced-regression-techniques\")"
   ]
  }
 ],
 "metadata": {
  "celltoolbar": "Aucun(e)",
  "kernelspec": {
   "display_name": "Python 3",
   "language": "python",
   "name": "python3"
  },
  "language_info": {
   "codemirror_mode": {
    "name": "ipython",
    "version": 3
   },
   "file_extension": ".py",
   "mimetype": "text/x-python",
   "name": "python",
   "nbconvert_exporter": "python",
   "pygments_lexer": "ipython3",
   "version": "3.7.3"
  },
  "toc": {
   "base_numbering": 1,
   "nav_menu": {},
   "number_sections": true,
   "sideBar": true,
   "skip_h1_title": false,
   "title_cell": "Table of Contents",
   "title_sidebar": "Contents",
   "toc_cell": true,
   "toc_position": {
    "height": "580px",
    "left": "54px",
    "top": "110.533px",
    "width": "309.4px"
   },
   "toc_section_display": true,
   "toc_window_display": true
  },
  "varInspector": {
   "cols": {
    "lenName": 16,
    "lenType": 16,
    "lenVar": 40
   },
   "kernels_config": {
    "python": {
     "delete_cmd_postfix": "",
     "delete_cmd_prefix": "del ",
     "library": "var_list.py",
     "varRefreshCmd": "print(var_dic_list())"
    },
    "r": {
     "delete_cmd_postfix": ") ",
     "delete_cmd_prefix": "rm(",
     "library": "var_list.r",
     "varRefreshCmd": "cat(var_dic_list()) "
    }
   },
   "types_to_exclude": [
    "module",
    "function",
    "builtin_function_or_method",
    "instance",
    "_Feature"
   ],
   "window_display": false
  }
 },
 "nbformat": 4,
 "nbformat_minor": 2
}
