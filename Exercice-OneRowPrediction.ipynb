{
 "cells": [
  {
   "cell_type": "code",
   "execution_count": 37,
   "metadata": {},
   "outputs": [],
   "source": [
    "from bigml.api import BigML\n",
    "from pandas import read_csv\n",
    "\n",
    "api = BigML(project='project/5d94a3e85a213962e2000304')\n",
    "\n",
    "df = read_csv('Dataset/OneRow.csv')"
   ]
  },
  {
   "cell_type": "code",
   "execution_count": 38,
   "metadata": {},
   "outputs": [],
   "source": [
    "df = df.fillna(0) \n",
    "df['MonthlyPerPerson'] = df['MonthlyIncome'] / ( df['NumberOfDependents'] + 1 )\n",
    "df.loc[df.age > 80, 'isOld'] = '1' \n",
    "df.loc[df.age <= 80, 'isOld'] = '0'\n",
    "df['Monthlydebt'] = df['DebtRatio'] *  df['MonthlyIncome']\n",
    "df['LatePayment'] = df['NumberOfTime30-59DaysPastDueNotWorse'] + df['NumberOfTimes90DaysLate'] + df['NumberOfTime60-89DaysPastDueNotWorse']\n",
    "df['NumberOfCredits'] = df['NumberRealEstateLoansOrLines'] + df['NumberOfOpenCreditLinesAndLoans']\n",
    "\n",
    "df.to_csv('Dataset/OneRowUpdate.csv', index = False)"
   ]
  },
  {
   "cell_type": "code",
   "execution_count": 39,
   "metadata": {},
   "outputs": [
    {
     "data": {
      "text/plain": [
       "True"
      ]
     },
     "execution_count": 39,
     "metadata": {},
     "output_type": "execute_result"
    }
   ],
   "source": [
    "df = read_csv('Dataset/OneRowUpdate.csv')\n",
    "df = df.fillna(0) \n",
    "api = BigML(project='project/5d94a3e85a213962e2000304')\n",
    "\n",
    "source = api.create_source('Dataset/OneRowUpdate.csv')\n",
    "api.ok(source)\n",
    "\n",
    "# CREATION DU DATASET TRAIN\n",
    "\n",
    "origin_dataset = api.create_dataset(source)\n",
    "api.ok(origin_dataset)"
   ]
  },
  {
   "cell_type": "code",
   "execution_count": 40,
   "metadata": {},
   "outputs": [],
   "source": [
    "ensemble = api.get_ensemble('ensemble/5dc039a75299631c82010e2d', {\"\" : \"SeriousDlqin2yrs\"})\n",
    "\n",
    "evaluation = api.create_evaluation(ensemble, origin_dataset)"
   ]
  },
  {
   "cell_type": "code",
   "execution_count": 44,
   "metadata": {},
   "outputs": [
    {
     "data": {
      "text/plain": [
       "'BatchPrediction/OneRowUpdate_prediction.csv'"
      ]
     },
     "execution_count": 44,
     "metadata": {},
     "output_type": "execute_result"
    }
   ],
   "source": [
    "batch_prediction = api.create_batch_prediction(ensemble, origin_dataset,{\"all_fields\": True,\n",
    "                                                      \"header\": True,\n",
    "                                                      \"confidence\": True, \n",
    "                                                      \"probabilities\":True})\n",
    "\n",
    "api.ok(batch_prediction)\n",
    "\n",
    "# FICHIER CSV\n",
    "\n",
    "api.download_batch_prediction(batch_prediction, filename='BatchPrediction/OneRowUpdate_prediction.csv')"
   ]
  },
  {
   "cell_type": "code",
   "execution_count": null,
   "metadata": {},
   "outputs": [],
   "source": []
  }
 ],
 "metadata": {
  "kernelspec": {
   "display_name": "Python 3",
   "language": "python",
   "name": "python3"
  },
  "language_info": {
   "codemirror_mode": {
    "name": "ipython",
    "version": 3
   },
   "file_extension": ".py",
   "mimetype": "text/x-python",
   "name": "python",
   "nbconvert_exporter": "python",
   "pygments_lexer": "ipython3",
   "version": "3.7.3"
  }
 },
 "nbformat": 4,
 "nbformat_minor": 2
}
