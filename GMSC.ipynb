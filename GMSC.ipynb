{
 "cells": [
  {
   "cell_type": "markdown",
   "metadata": {},
   "source": [
    "# Give Me Some Credits"
   ]
  },
  {
   "cell_type": "markdown",
   "metadata": {},
   "source": [
    "### Traitement du fichier Train"
   ]
  },
  {
   "cell_type": "markdown",
   "metadata": {},
   "source": [
    "* Import et modification du Dataset d'entrainement"
   ]
  },
  {
   "cell_type": "code",
   "execution_count": 1,
   "metadata": {},
   "outputs": [],
   "source": [
    "# IMPORT DU FICHIER BASE\n",
    "\n",
    "from bigml.api import BigML\n",
    "from pandas import read_csv\n",
    "df = read_csv('https://oml-data.s3.amazonaws.com/kaggle-give-me-credit-train.csv')\n",
    "\n",
    "# MODIFICATION DU DATASET\n",
    "\n",
    "df = df.fillna(0) \n",
    "df['MonthlyPerPerson'] = df['MonthlyIncome'] / ( df['NumberOfDependents'] + 1 )\n",
    "df.loc[df.age > 80, 'isOld'] = '1' \n",
    "df.loc[df.age <= 80, 'isOld'] = '0'\n",
    "df['Monthlydebt'] = df['DebtRatio'] *  df['MonthlyIncome']\n",
    "df['LatePayment'] = df['NumberOfTime30-59DaysPastDueNotWorse'] + df['NumberOfTimes90DaysLate'] + df['NumberOfTime60-89DaysPastDueNotWorse']\n",
    "df['NumberOfCredits'] = df['NumberRealEstateLoansOrLines'] + df['NumberOfOpenCreditLinesAndLoans']\n",
    "\n",
    "df.to_csv('GMSC.csv')\n"
   ]
  },
  {
   "cell_type": "markdown",
   "metadata": {},
   "source": [
    "* Création du fichier source et du dataset modifié"
   ]
  },
  {
   "cell_type": "code",
   "execution_count": 5,
   "metadata": {},
   "outputs": [
    {
     "data": {
      "text/plain": [
       "True"
      ]
     },
     "execution_count": 5,
     "metadata": {},
     "output_type": "execute_result"
    }
   ],
   "source": [
    "# CREATION DE LA SOURCE\n",
    "\n",
    "api = BigML(project='project/5d94a3e85a213962e2000304')\n",
    "source = api.create_source('GMSC.csv')\n",
    "api.ok(source)\n",
    "\n",
    "# CREATION DU DATASET TRAIN\n",
    "\n",
    "origin_dataset = api.create_dataset(source)\n",
    "api.ok(origin_dataset)"
   ]
  },
  {
   "cell_type": "markdown",
   "metadata": {},
   "source": [
    "* Split 80/20% du Dataset (Train & Validation)"
   ]
  },
  {
   "cell_type": "code",
   "execution_count": null,
   "metadata": {},
   "outputs": [],
   "source": [
    "# SPLIT\n",
    "\n",
    "train_dataset = api.create_dataset(\n",
    "    origin_dataset, {\"name\": \"GMSC-Training\",\n",
    "                     \"sample_rate\": 0.8, \"seed\": \"my seed\"})\n",
    "test_dataset = api.create_dataset(\n",
    "    origin_dataset, {\"name\": \"GMSC-Test\",\n",
    "                     \"sample_rate\": 0.8, \"seed\": \"my seed\",\n",
    "                     \"out_of_bag\": True})"
   ]
  },
  {
   "cell_type": "markdown",
   "metadata": {},
   "source": [
    "* Création du Model (Ensemble)"
   ]
  },
  {
   "cell_type": "code",
   "execution_count": null,
   "metadata": {},
   "outputs": [],
   "source": [
    "# MODELE\n",
    "\n",
    "ensemble = api.create_ensemble(train_dataset , {\"objective_field\" : \"SeriousDlqin2yrs\"})\n",
    "\n",
    "evaluation = api.create_evaluation(ensemble, test_dataset)"
   ]
  },
  {
   "cell_type": "markdown",
   "metadata": {},
   "source": [
    "* \"Batch\" predition et enregistrement du CSV"
   ]
  },
  {
   "cell_type": "code",
   "execution_count": null,
   "metadata": {},
   "outputs": [],
   "source": [
    "# BATCH PREDICTION \n",
    "batch_prediction = api.create_batch_prediction(ensemble, test_dataset,{\"all_fields\": True,\n",
    "                                                                        \"header\": True,\n",
    "                                                                      \"confidence\": True,\n",
    "                                                                      \"probabilities\":True})\n",
    "api.ok(batch_prediction)\n",
    "\n",
    "# FICHIER CSV\n",
    "\n",
    "api.download_batch_prediction(batch_prediction, filename='BatchPrediction/GMSC_Prediction_Ensemble.csv')"
   ]
  },
  {
   "cell_type": "markdown",
   "metadata": {},
   "source": [
    "### Traitement du fichier Test"
   ]
  },
  {
   "cell_type": "markdown",
   "metadata": {},
   "source": [
    "* Import et modification du Dataset Test"
   ]
  },
  {
   "cell_type": "code",
   "execution_count": null,
   "metadata": {},
   "outputs": [],
   "source": [
    "# IMPORT DU FICHIER BASE\n",
    "\n",
    "df2 = read_csv('https://oml-data.s3.amazonaws.com/kaggle-give-me-credit-test.csv')\n",
    "\n",
    "# MODIFICATION DU DATASET\n",
    "\n",
    "df2 = df2.fillna(0) \n",
    "df2['MonthlyPerPerson'] = df2['MonthlyIncome'] / ( df2['NumberOfDependents'] + 1 )\n",
    "df2.loc[df2.age > 80, 'isOld'] = '1' \n",
    "df2.loc[df2.age <= 80, 'isOld'] = '0'\n",
    "df2['Monthlydebt'] = df2['DebtRatio'] *  df2['MonthlyIncome']\n",
    "df2['LatePayment'] = df2['NumberOfTime30-59DaysPastDueNotWorse'] + df2['NumberOfTimes90DaysLate'] + df2['NumberOfTime60-89DaysPastDueNotWorse']\n",
    "df2['NumberOfCredits'] = df2['NumberRealEstateLoansOrLines'] + df2['NumberOfOpenCreditLinesAndLoans']\n",
    "\n",
    "df2.to_csv('KaggleGMSC.csv')"
   ]
  },
  {
   "cell_type": "markdown",
   "metadata": {},
   "source": [
    "* Création de la source et du Dataset modifié"
   ]
  },
  {
   "cell_type": "code",
   "execution_count": null,
   "metadata": {},
   "outputs": [],
   "source": [
    "# SOURCE\n",
    "\n",
    "api = BigML(project='project/5d94a3e85a213962e2000304')\n",
    "source = api.create_source('KaggleGMSC.csv')\n",
    "api.ok(source)\n",
    "\n",
    "# DATASET\n",
    "\n",
    "kaggle_dataset = api.create_dataset(source)\n",
    "api.ok(kaggle_dataset)"
   ]
  },
  {
   "cell_type": "markdown",
   "metadata": {},
   "source": [
    "* Confrontation Ensemble et Dataset Test"
   ]
  },
  {
   "cell_type": "code",
   "execution_count": null,
   "metadata": {},
   "outputs": [],
   "source": [
    "# BATCH PREDICTION\n",
    "\n",
    "kaggle_test = api.create_batch_prediction(ensemble, kaggle_dataset,{\"all_fields\": True,\n",
    "                                                                    \"header\": True,\n",
    "                                                                    \"confidence\": True, \n",
    "                                                                    \"probabilities\":True})\n",
    "api.ok(kaggle_test)"
   ]
  },
  {
   "cell_type": "code",
   "execution_count": null,
   "metadata": {},
   "outputs": [],
   "source": [
    "# FICHIER CSV\n",
    "\n",
    "api.download_batch_prediction(kaggle_test, filename='BatchPrediction/EnvoiKaggle.csv')"
   ]
  },
  {
   "cell_type": "markdown",
   "metadata": {},
   "source": [
    "### Préparation à l'envoi sur Kaggle"
   ]
  },
  {
   "cell_type": "markdown",
   "metadata": {},
   "source": [
    "* Import du fichier"
   ]
  },
  {
   "cell_type": "code",
   "execution_count": null,
   "metadata": {},
   "outputs": [],
   "source": [
    "# IMPORT DU FICHIER\n",
    "prediction = read_csv('BatchPrediction/EnvoiKaggle.csv', index_col=False)"
   ]
  },
  {
   "cell_type": "markdown",
   "metadata": {},
   "source": [
    "* Préparation d'un dataframe pour l'export"
   ]
  },
  {
   "cell_type": "code",
   "execution_count": null,
   "metadata": {},
   "outputs": [],
   "source": [
    "# MODIFICATION AVEC COLONES ID ET PROBABILITY\n",
    "\n",
    "from pandas import DataFrame\n",
    "kaggle_prediction=DataFrame()\n",
    "kaggle_prediction['Id']=prediction['Unnamed: 0']\n",
    "kaggle_prediction['Probability']=prediction['1 probability']"
   ]
  },
  {
   "cell_type": "markdown",
   "metadata": {},
   "source": [
    "### Envoi à Kaggle"
   ]
  },
  {
   "cell_type": "code",
   "execution_count": null,
   "metadata": {},
   "outputs": [],
   "source": [
    "# EXPORT\n",
    "\n",
    "import kaggle\n",
    "kaggle_prediction_file=\"kaggle_prediction.csv\"\n",
    "kaggle_prediction.to_csv(kaggle_prediction_file, index=False)\n",
    "kaggle.api.competition_submit(kaggle_prediction_file, \"BigML ensemble\", \"GiveMeSomeCredit\")"
   ]
  },
  {
   "cell_type": "markdown",
   "metadata": {},
   "source": [
    "## Quelques interprétations des résultats"
   ]
  },
  {
   "cell_type": "markdown",
   "metadata": {},
   "source": [
    "* Définition de la colonne probabilité en fonction du seuil"
   ]
  },
  {
   "cell_type": "code",
   "execution_count": 100,
   "metadata": {},
   "outputs": [],
   "source": [
    "df = read_csv('BatchPrediction/GMSC_Prediction_Ensemble.csv')\n",
    "df.columns.values[-2] = \"prob\"\n",
    "seuil = 0.5\n",
    "df.loc[df.prob >= seuil, 'predict'] = 0\n",
    "df.loc[df.prob < seuil, 'predict'] = 1"
   ]
  },
  {
   "cell_type": "markdown",
   "metadata": {},
   "source": [
    "* Création de la Matrice de confusion "
   ]
  },
  {
   "cell_type": "code",
   "execution_count": 101,
   "metadata": {},
   "outputs": [],
   "source": [
    "df.loc[(df.predict==0) & (df.SeriousDlqin2yrs==0), 'confusion'] = \"TN\"\n",
    "df.loc[(df.predict==0) & (df.SeriousDlqin2yrs==1), 'confusion'] = \"FN\"\n",
    "df.loc[(df.predict==1) & (df.SeriousDlqin2yrs==0), 'confusion'] = \"FP\"\n",
    "df.loc[(df.predict==1) & (df.SeriousDlqin2yrs==1), 'confusion'] = \"TP\""
   ]
  },
  {
   "cell_type": "markdown",
   "metadata": {},
   "source": [
    "* Décompte des valeurs de confusion"
   ]
  },
  {
   "cell_type": "code",
   "execution_count": 102,
   "metadata": {},
   "outputs": [
    {
     "name": "stdout",
     "output_type": "stream",
     "text": [
      "TP: 334 TN: 27746 FP: 239 FN: 1681\n"
     ]
    }
   ],
   "source": [
    "err = list(df.confusion.values)\n",
    "TP = err.count('TP')\n",
    "TN = err.count('TN')\n",
    "FP = err.count('FP')\n",
    "FN = err.count('FN')\n",
    "\n",
    "print(\"TP:\",TP, \"TN:\",TN, \"FP:\", FP, \"FN:\",FN)"
   ]
  },
  {
   "cell_type": "code",
   "execution_count": 92,
   "metadata": {},
   "outputs": [],
   "source": [
    "#eval = api.get_evaluation(evaluation)\n",
    "#print(eval[\"object\"][\"result\"][\"model\"][\"confusion_matrix\"])"
   ]
  },
  {
   "cell_type": "markdown",
   "metadata": {},
   "source": [
    "* Création de la colonne des 100 erreurs les plus importantes"
   ]
  },
  {
   "cell_type": "code",
   "execution_count": 99,
   "metadata": {},
   "outputs": [],
   "source": [
    "df['errMAJ'] = 1 - (abs(df['SeriousDlqin2yrs'] - df['prob']))\n",
    "df.sort_values(by='errMAJ', ascending=False).head(100)"
   ]
  },
  {
   "cell_type": "markdown",
   "metadata": {},
   "source": [
    "* Calculs sur la Matrice de gain"
   ]
  },
  {
   "cell_type": "code",
   "execution_count": 74,
   "metadata": {},
   "outputs": [
    {
     "name": "stdout",
     "output_type": "stream",
     "text": [
      "Vous avez empoché: 9551000 $\n"
     ]
    }
   ],
   "source": [
    "#AVEC SEUIL = 0.5\n",
    "gain = (TP * 0) + (TN * 500) - (FP * 500) - (FN * 2500)\n",
    "print(\"Vous avez empoché:\", gain,\"$\")"
   ]
  }
 ],
 "metadata": {
  "kernelspec": {
   "display_name": "Python 3",
   "language": "python",
   "name": "python3"
  }
 },
 "nbformat": 4,
 "nbformat_minor": 2
}
